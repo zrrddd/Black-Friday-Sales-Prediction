{
 "cells": [
  {
   "cell_type": "code",
   "execution_count": 2,
   "id": "926ae43c",
   "metadata": {},
   "outputs": [],
   "source": [
    "# Author: Ruidi Zhao\n",
    "# Time: 05/28/2021\n",
    "# Data Source: https://datahack.analyticsvidhya.com/contest/black-friday/#LeaderBoard"
   ]
  },
  {
   "cell_type": "code",
   "execution_count": 3,
   "id": "5e9fb6a8",
   "metadata": {},
   "outputs": [],
   "source": [
    "# Import packages\n",
    "import pandas as pd\n",
    "import numpy as np\n",
    "import matplotlib.pyplot as plt\n",
    "import altair as alt\n",
    "import seaborn as sns\n",
    "import warnings\n",
    "warnings.filterwarnings('ignore')"
   ]
  },
  {
   "cell_type": "markdown",
   "id": "2ca58a61",
   "metadata": {},
   "source": [
    "# Read Data"
   ]
  },
  {
   "cell_type": "code",
   "execution_count": 53,
   "id": "a3d115c8",
   "metadata": {},
   "outputs": [],
   "source": [
    "train = pd.read_csv(\"train.csv\")\n",
    "test = pd.read_csv(\"test.csv\")"
   ]
  },
  {
   "cell_type": "code",
   "execution_count": 128,
   "id": "940a78cf",
   "metadata": {},
   "outputs": [
    {
     "name": "stdout",
     "output_type": "stream",
     "text": [
      "(412551, 16)\n"
     ]
    },
    {
     "data": {
      "text/html": [
       "<div>\n",
       "<style scoped>\n",
       "    .dataframe tbody tr th:only-of-type {\n",
       "        vertical-align: middle;\n",
       "    }\n",
       "\n",
       "    .dataframe tbody tr th {\n",
       "        vertical-align: top;\n",
       "    }\n",
       "\n",
       "    .dataframe thead th {\n",
       "        text-align: right;\n",
       "    }\n",
       "</style>\n",
       "<table border=\"1\" class=\"dataframe\">\n",
       "  <thead>\n",
       "    <tr style=\"text-align: right;\">\n",
       "      <th></th>\n",
       "      <th>User_ID</th>\n",
       "      <th>Product_ID</th>\n",
       "      <th>Gender</th>\n",
       "      <th>Age</th>\n",
       "      <th>Occupation</th>\n",
       "      <th>City_Category</th>\n",
       "      <th>Stay_In_Current_City_Years</th>\n",
       "      <th>Marital_Status</th>\n",
       "      <th>Product_Category_1</th>\n",
       "      <th>Product_Category_2</th>\n",
       "      <th>Product_Category_3</th>\n",
       "      <th>Purchase</th>\n",
       "      <th>Median_Product_Purchase</th>\n",
       "      <th>Median_User_Purchase</th>\n",
       "      <th>has_cat_3</th>\n",
       "      <th>has_cat_2</th>\n",
       "    </tr>\n",
       "  </thead>\n",
       "  <tbody>\n",
       "    <tr>\n",
       "      <th>25152</th>\n",
       "      <td>1003864</td>\n",
       "      <td>P00159442</td>\n",
       "      <td>M</td>\n",
       "      <td>51-55</td>\n",
       "      <td>20</td>\n",
       "      <td>C</td>\n",
       "      <td>0</td>\n",
       "      <td>1</td>\n",
       "      <td>5</td>\n",
       "      <td>8.0</td>\n",
       "      <td>NaN</td>\n",
       "      <td>7027</td>\n",
       "      <td>6870.0</td>\n",
       "      <td>9889.5</td>\n",
       "      <td>True</td>\n",
       "      <td>False</td>\n",
       "    </tr>\n",
       "    <tr>\n",
       "      <th>381800</th>\n",
       "      <td>1004725</td>\n",
       "      <td>P00071242</td>\n",
       "      <td>M</td>\n",
       "      <td>36-45</td>\n",
       "      <td>5</td>\n",
       "      <td>A</td>\n",
       "      <td>2</td>\n",
       "      <td>0</td>\n",
       "      <td>1</td>\n",
       "      <td>15.0</td>\n",
       "      <td>16.0</td>\n",
       "      <td>11563</td>\n",
       "      <td>11764.0</td>\n",
       "      <td>8068.0</td>\n",
       "      <td>False</td>\n",
       "      <td>False</td>\n",
       "    </tr>\n",
       "    <tr>\n",
       "      <th>433582</th>\n",
       "      <td>1000774</td>\n",
       "      <td>P00127442</td>\n",
       "      <td>M</td>\n",
       "      <td>18-25</td>\n",
       "      <td>4</td>\n",
       "      <td>A</td>\n",
       "      <td>4+</td>\n",
       "      <td>0</td>\n",
       "      <td>1</td>\n",
       "      <td>2.0</td>\n",
       "      <td>15.0</td>\n",
       "      <td>11466</td>\n",
       "      <td>15201.0</td>\n",
       "      <td>8039.0</td>\n",
       "      <td>False</td>\n",
       "      <td>False</td>\n",
       "    </tr>\n",
       "    <tr>\n",
       "      <th>126732</th>\n",
       "      <td>1001542</td>\n",
       "      <td>P00005942</td>\n",
       "      <td>M</td>\n",
       "      <td>18-25</td>\n",
       "      <td>17</td>\n",
       "      <td>C</td>\n",
       "      <td>4+</td>\n",
       "      <td>0</td>\n",
       "      <td>2</td>\n",
       "      <td>4.0</td>\n",
       "      <td>9.0</td>\n",
       "      <td>6616</td>\n",
       "      <td>9974.0</td>\n",
       "      <td>11374.0</td>\n",
       "      <td>False</td>\n",
       "      <td>False</td>\n",
       "    </tr>\n",
       "    <tr>\n",
       "      <th>455644</th>\n",
       "      <td>1004112</td>\n",
       "      <td>P00152742</td>\n",
       "      <td>M</td>\n",
       "      <td>46-50</td>\n",
       "      <td>18</td>\n",
       "      <td>B</td>\n",
       "      <td>3</td>\n",
       "      <td>1</td>\n",
       "      <td>5</td>\n",
       "      <td>NaN</td>\n",
       "      <td>NaN</td>\n",
       "      <td>7171</td>\n",
       "      <td>6995.5</td>\n",
       "      <td>8653.0</td>\n",
       "      <td>True</td>\n",
       "      <td>True</td>\n",
       "    </tr>\n",
       "  </tbody>\n",
       "</table>\n",
       "</div>"
      ],
      "text/plain": [
       "        User_ID Product_ID Gender    Age  Occupation City_Category  \\\n",
       "25152   1003864  P00159442      M  51-55          20             C   \n",
       "381800  1004725  P00071242      M  36-45           5             A   \n",
       "433582  1000774  P00127442      M  18-25           4             A   \n",
       "126732  1001542  P00005942      M  18-25          17             C   \n",
       "455644  1004112  P00152742      M  46-50          18             B   \n",
       "\n",
       "       Stay_In_Current_City_Years  Marital_Status  Product_Category_1  \\\n",
       "25152                           0               1                   5   \n",
       "381800                          2               0                   1   \n",
       "433582                         4+               0                   1   \n",
       "126732                         4+               0                   2   \n",
       "455644                          3               1                   5   \n",
       "\n",
       "        Product_Category_2  Product_Category_3  Purchase  \\\n",
       "25152                  8.0                 NaN      7027   \n",
       "381800                15.0                16.0     11563   \n",
       "433582                 2.0                15.0     11466   \n",
       "126732                 4.0                 9.0      6616   \n",
       "455644                 NaN                 NaN      7171   \n",
       "\n",
       "        Median_Product_Purchase  Median_User_Purchase  has_cat_3  has_cat_2  \n",
       "25152                    6870.0                9889.5       True      False  \n",
       "381800                  11764.0                8068.0      False      False  \n",
       "433582                  15201.0                8039.0      False      False  \n",
       "126732                   9974.0               11374.0      False      False  \n",
       "455644                   6995.5                8653.0       True       True  "
      ]
     },
     "execution_count": 128,
     "metadata": {},
     "output_type": "execute_result"
    }
   ],
   "source": [
    "print(train.shape)\n",
    "train.head()"
   ]
  },
  {
   "cell_type": "code",
   "execution_count": 5,
   "id": "decef92e",
   "metadata": {},
   "outputs": [
    {
     "name": "stdout",
     "output_type": "stream",
     "text": [
      "(233599, 11)\n"
     ]
    },
    {
     "data": {
      "text/html": [
       "<div>\n",
       "<style scoped>\n",
       "    .dataframe tbody tr th:only-of-type {\n",
       "        vertical-align: middle;\n",
       "    }\n",
       "\n",
       "    .dataframe tbody tr th {\n",
       "        vertical-align: top;\n",
       "    }\n",
       "\n",
       "    .dataframe thead th {\n",
       "        text-align: right;\n",
       "    }\n",
       "</style>\n",
       "<table border=\"1\" class=\"dataframe\">\n",
       "  <thead>\n",
       "    <tr style=\"text-align: right;\">\n",
       "      <th></th>\n",
       "      <th>User_ID</th>\n",
       "      <th>Product_ID</th>\n",
       "      <th>Gender</th>\n",
       "      <th>Age</th>\n",
       "      <th>Occupation</th>\n",
       "      <th>City_Category</th>\n",
       "      <th>Stay_In_Current_City_Years</th>\n",
       "      <th>Marital_Status</th>\n",
       "      <th>Product_Category_1</th>\n",
       "      <th>Product_Category_2</th>\n",
       "      <th>Product_Category_3</th>\n",
       "    </tr>\n",
       "  </thead>\n",
       "  <tbody>\n",
       "    <tr>\n",
       "      <th>0</th>\n",
       "      <td>1000004</td>\n",
       "      <td>P00128942</td>\n",
       "      <td>M</td>\n",
       "      <td>46-50</td>\n",
       "      <td>7</td>\n",
       "      <td>B</td>\n",
       "      <td>2</td>\n",
       "      <td>1</td>\n",
       "      <td>1</td>\n",
       "      <td>11.0</td>\n",
       "      <td>NaN</td>\n",
       "    </tr>\n",
       "    <tr>\n",
       "      <th>1</th>\n",
       "      <td>1000009</td>\n",
       "      <td>P00113442</td>\n",
       "      <td>M</td>\n",
       "      <td>26-35</td>\n",
       "      <td>17</td>\n",
       "      <td>C</td>\n",
       "      <td>0</td>\n",
       "      <td>0</td>\n",
       "      <td>3</td>\n",
       "      <td>5.0</td>\n",
       "      <td>NaN</td>\n",
       "    </tr>\n",
       "    <tr>\n",
       "      <th>2</th>\n",
       "      <td>1000010</td>\n",
       "      <td>P00288442</td>\n",
       "      <td>F</td>\n",
       "      <td>36-45</td>\n",
       "      <td>1</td>\n",
       "      <td>B</td>\n",
       "      <td>4+</td>\n",
       "      <td>1</td>\n",
       "      <td>5</td>\n",
       "      <td>14.0</td>\n",
       "      <td>NaN</td>\n",
       "    </tr>\n",
       "    <tr>\n",
       "      <th>3</th>\n",
       "      <td>1000010</td>\n",
       "      <td>P00145342</td>\n",
       "      <td>F</td>\n",
       "      <td>36-45</td>\n",
       "      <td>1</td>\n",
       "      <td>B</td>\n",
       "      <td>4+</td>\n",
       "      <td>1</td>\n",
       "      <td>4</td>\n",
       "      <td>9.0</td>\n",
       "      <td>NaN</td>\n",
       "    </tr>\n",
       "    <tr>\n",
       "      <th>4</th>\n",
       "      <td>1000011</td>\n",
       "      <td>P00053842</td>\n",
       "      <td>F</td>\n",
       "      <td>26-35</td>\n",
       "      <td>1</td>\n",
       "      <td>C</td>\n",
       "      <td>1</td>\n",
       "      <td>0</td>\n",
       "      <td>4</td>\n",
       "      <td>5.0</td>\n",
       "      <td>12.0</td>\n",
       "    </tr>\n",
       "  </tbody>\n",
       "</table>\n",
       "</div>"
      ],
      "text/plain": [
       "   User_ID Product_ID Gender    Age  Occupation City_Category  \\\n",
       "0  1000004  P00128942      M  46-50           7             B   \n",
       "1  1000009  P00113442      M  26-35          17             C   \n",
       "2  1000010  P00288442      F  36-45           1             B   \n",
       "3  1000010  P00145342      F  36-45           1             B   \n",
       "4  1000011  P00053842      F  26-35           1             C   \n",
       "\n",
       "  Stay_In_Current_City_Years  Marital_Status  Product_Category_1  \\\n",
       "0                          2               1                   1   \n",
       "1                          0               0                   3   \n",
       "2                         4+               1                   5   \n",
       "3                         4+               1                   4   \n",
       "4                          1               0                   4   \n",
       "\n",
       "   Product_Category_2  Product_Category_3  \n",
       "0                11.0                 NaN  \n",
       "1                 5.0                 NaN  \n",
       "2                14.0                 NaN  \n",
       "3                 9.0                 NaN  \n",
       "4                 5.0                12.0  "
      ]
     },
     "execution_count": 5,
     "metadata": {},
     "output_type": "execute_result"
    }
   ],
   "source": [
    "print(test.shape)\n",
    "test.head()\n",
    "# Need to predict `Purchase`"
   ]
  },
  {
   "cell_type": "markdown",
   "id": "247e3f02",
   "metadata": {},
   "source": [
    "# Exploratory Data Analysis"
   ]
  },
  {
   "cell_type": "code",
   "execution_count": 54,
   "id": "cba46ba6",
   "metadata": {},
   "outputs": [],
   "source": [
    "data = train.copy()"
   ]
  },
  {
   "cell_type": "code",
   "execution_count": 7,
   "id": "2acf67f0",
   "metadata": {},
   "outputs": [
    {
     "name": "stdout",
     "output_type": "stream",
     "text": [
      "<class 'pandas.core.frame.DataFrame'>\n",
      "RangeIndex: 550068 entries, 0 to 550067\n",
      "Data columns (total 12 columns):\n",
      " #   Column                      Non-Null Count   Dtype  \n",
      "---  ------                      --------------   -----  \n",
      " 0   User_ID                     550068 non-null  int64  \n",
      " 1   Product_ID                  550068 non-null  object \n",
      " 2   Gender                      550068 non-null  object \n",
      " 3   Age                         550068 non-null  object \n",
      " 4   Occupation                  550068 non-null  int64  \n",
      " 5   City_Category               550068 non-null  object \n",
      " 6   Stay_In_Current_City_Years  550068 non-null  object \n",
      " 7   Marital_Status              550068 non-null  int64  \n",
      " 8   Product_Category_1          550068 non-null  int64  \n",
      " 9   Product_Category_2          376430 non-null  float64\n",
      " 10  Product_Category_3          166821 non-null  float64\n",
      " 11  Purchase                    550068 non-null  int64  \n",
      "dtypes: float64(2), int64(5), object(5)\n",
      "memory usage: 50.4+ MB\n"
     ]
    }
   ],
   "source": [
    "data.info()"
   ]
  },
  {
   "cell_type": "markdown",
   "id": "2d91d4bc",
   "metadata": {},
   "source": [
    "### `User_ID`"
   ]
  },
  {
   "cell_type": "code",
   "execution_count": 8,
   "id": "5a85a5c4",
   "metadata": {},
   "outputs": [
    {
     "data": {
      "text/plain": [
       "5891"
      ]
     },
     "execution_count": 8,
     "metadata": {},
     "output_type": "execute_result"
    }
   ],
   "source": [
    "data['User_ID'].nunique()"
   ]
  },
  {
   "cell_type": "code",
   "execution_count": 9,
   "id": "56ab0f64",
   "metadata": {},
   "outputs": [
    {
     "data": {
      "text/plain": [
       "array([1000001, 1000002, 1000003, ..., 1004113, 1005391, 1001529])"
      ]
     },
     "execution_count": 9,
     "metadata": {},
     "output_type": "execute_result"
    }
   ],
   "source": [
    "data['User_ID'].unique()"
   ]
  },
  {
   "cell_type": "markdown",
   "id": "3c8d3914",
   "metadata": {},
   "source": [
    "### `Product_ID`"
   ]
  },
  {
   "cell_type": "code",
   "execution_count": 10,
   "id": "4d71b9b1",
   "metadata": {},
   "outputs": [
    {
     "data": {
      "text/plain": [
       "3631"
      ]
     },
     "execution_count": 10,
     "metadata": {},
     "output_type": "execute_result"
    }
   ],
   "source": [
    "data['Product_ID'].nunique()"
   ]
  },
  {
   "cell_type": "code",
   "execution_count": 11,
   "id": "27eb8505",
   "metadata": {},
   "outputs": [
    {
     "data": {
      "text/plain": [
       "array(['P00069042', 'P00248942', 'P00087842', ..., 'P00370293',\n",
       "       'P00371644', 'P00370853'], dtype=object)"
      ]
     },
     "execution_count": 11,
     "metadata": {},
     "output_type": "execute_result"
    }
   ],
   "source": [
    "data['Product_ID'].unique()"
   ]
  },
  {
   "cell_type": "code",
   "execution_count": 61,
   "id": "62b56471",
   "metadata": {},
   "outputs": [
    {
     "data": {
      "text/html": [
       "<div>\n",
       "<style scoped>\n",
       "    .dataframe tbody tr th:only-of-type {\n",
       "        vertical-align: middle;\n",
       "    }\n",
       "\n",
       "    .dataframe tbody tr th {\n",
       "        vertical-align: top;\n",
       "    }\n",
       "\n",
       "    .dataframe thead th {\n",
       "        text-align: right;\n",
       "    }\n",
       "</style>\n",
       "<table border=\"1\" class=\"dataframe\">\n",
       "  <thead>\n",
       "    <tr style=\"text-align: right;\">\n",
       "      <th></th>\n",
       "      <th>Product_ID</th>\n",
       "      <th>Purchase</th>\n",
       "    </tr>\n",
       "    <tr>\n",
       "      <th>Product_ID</th>\n",
       "      <th></th>\n",
       "      <th></th>\n",
       "    </tr>\n",
       "  </thead>\n",
       "  <tbody>\n",
       "    <tr>\n",
       "      <th>P00000142</th>\n",
       "      <td>1152</td>\n",
       "      <td>11143.642361</td>\n",
       "    </tr>\n",
       "    <tr>\n",
       "      <th>P00000242</th>\n",
       "      <td>376</td>\n",
       "      <td>10551.851064</td>\n",
       "    </tr>\n",
       "    <tr>\n",
       "      <th>P00000342</th>\n",
       "      <td>244</td>\n",
       "      <td>5313.422131</td>\n",
       "    </tr>\n",
       "    <tr>\n",
       "      <th>P00000442</th>\n",
       "      <td>92</td>\n",
       "      <td>4795.358696</td>\n",
       "    </tr>\n",
       "    <tr>\n",
       "      <th>P00000542</th>\n",
       "      <td>149</td>\n",
       "      <td>5417.530201</td>\n",
       "    </tr>\n",
       "  </tbody>\n",
       "</table>\n",
       "</div>"
      ],
      "text/plain": [
       "            Product_ID      Purchase\n",
       "Product_ID                          \n",
       "P00000142         1152  11143.642361\n",
       "P00000242          376  10551.851064\n",
       "P00000342          244   5313.422131\n",
       "P00000442           92   4795.358696\n",
       "P00000542          149   5417.530201"
      ]
     },
     "execution_count": 61,
     "metadata": {},
     "output_type": "execute_result"
    }
   ],
   "source": [
    "df = data.groupby(['Product_ID']).agg({\n",
    "    'Product_ID':'count',\n",
    "    'Purchase': 'mean'\n",
    "})\n",
    "df.head()"
   ]
  },
  {
   "cell_type": "code",
   "execution_count": 65,
   "id": "a1a70d45",
   "metadata": {},
   "outputs": [
    {
     "data": {
      "text/html": [
       "<div>\n",
       "<style scoped>\n",
       "    .dataframe tbody tr th:only-of-type {\n",
       "        vertical-align: middle;\n",
       "    }\n",
       "\n",
       "    .dataframe tbody tr th {\n",
       "        vertical-align: top;\n",
       "    }\n",
       "\n",
       "    .dataframe thead th {\n",
       "        text-align: right;\n",
       "    }\n",
       "</style>\n",
       "<table border=\"1\" class=\"dataframe\">\n",
       "  <thead>\n",
       "    <tr style=\"text-align: right;\">\n",
       "      <th></th>\n",
       "      <th>Product_ID</th>\n",
       "      <th>Purchase</th>\n",
       "    </tr>\n",
       "  </thead>\n",
       "  <tbody>\n",
       "    <tr>\n",
       "      <th>Product_ID</th>\n",
       "      <td>1.00000</td>\n",
       "      <td>0.25528</td>\n",
       "    </tr>\n",
       "    <tr>\n",
       "      <th>Purchase</th>\n",
       "      <td>0.25528</td>\n",
       "      <td>1.00000</td>\n",
       "    </tr>\n",
       "  </tbody>\n",
       "</table>\n",
       "</div>"
      ],
      "text/plain": [
       "            Product_ID  Purchase\n",
       "Product_ID     1.00000   0.25528\n",
       "Purchase       0.25528   1.00000"
      ]
     },
     "execution_count": 65,
     "metadata": {},
     "output_type": "execute_result"
    }
   ],
   "source": [
    "df.corr()"
   ]
  },
  {
   "cell_type": "code",
   "execution_count": 64,
   "id": "58849880",
   "metadata": {},
   "outputs": [
    {
     "data": {
      "text/html": [
       "\n",
       "<div id=\"altair-viz-fdf956ddd6164e51a3a91fd13f704202\"></div>\n",
       "<script type=\"text/javascript\">\n",
       "  (function(spec, embedOpt){\n",
       "    let outputDiv = document.currentScript.previousElementSibling;\n",
       "    if (outputDiv.id !== \"altair-viz-fdf956ddd6164e51a3a91fd13f704202\") {\n",
       "      outputDiv = document.getElementById(\"altair-viz-fdf956ddd6164e51a3a91fd13f704202\");\n",
       "    }\n",
       "    const paths = {\n",
       "      \"vega\": \"https://cdn.jsdelivr.net/npm//vega@5?noext\",\n",
       "      \"vega-lib\": \"https://cdn.jsdelivr.net/npm//vega-lib?noext\",\n",
       "      \"vega-lite\": \"https://cdn.jsdelivr.net/npm//vega-lite@4.8.1?noext\",\n",
       "      \"vega-embed\": \"https://cdn.jsdelivr.net/npm//vega-embed@6?noext\",\n",
       "    };\n",
       "\n",
       "    function loadScript(lib) {\n",
       "      return new Promise(function(resolve, reject) {\n",
       "        var s = document.createElement('script');\n",
       "        s.src = paths[lib];\n",
       "        s.async = true;\n",
       "        s.onload = () => resolve(paths[lib]);\n",
       "        s.onerror = () => reject(`Error loading script: ${paths[lib]}`);\n",
       "        document.getElementsByTagName(\"head\")[0].appendChild(s);\n",
       "      });\n",
       "    }\n",
       "\n",
       "    function showError(err) {\n",
       "      outputDiv.innerHTML = `<div class=\"error\" style=\"color:red;\">${err}</div>`;\n",
       "      throw err;\n",
       "    }\n",
       "\n",
       "    function displayChart(vegaEmbed) {\n",
       "      vegaEmbed(outputDiv, spec, embedOpt)\n",
       "        .catch(err => showError(`Javascript Error: ${err.message}<br>This usually means there's a typo in your chart specification. See the javascript console for the full traceback.`));\n",
       "    }\n",
       "\n",
       "    if(typeof define === \"function\" && define.amd) {\n",
       "      requirejs.config({paths});\n",
       "      require([\"vega-embed\"], displayChart, err => showError(`Error loading script: ${err.message}`));\n",
       "    } else if (typeof vegaEmbed === \"function\") {\n",
       "      displayChart(vegaEmbed);\n",
       "    } else {\n",
       "      loadScript(\"vega\")\n",
       "        .then(() => loadScript(\"vega-lite\"))\n",
       "        .then(() => loadScript(\"vega-embed\"))\n",
       "        .catch(showError)\n",
       "        .then(() => displayChart(vegaEmbed));\n",
       "    }\n",
       "  })({\"config\": {\"view\": {\"continuousWidth\": 400, \"continuousHeight\": 300}}, \"data\": {\"name\": \"data-8ff5f91421ca49245bf1b9d80cf7944a\"}, \"mark\": \"circle\", \"encoding\": {\"x\": {\"type\": \"quantitative\", \"field\": \"Product_ID\"}, \"y\": {\"type\": \"quantitative\", \"field\": \"Purchase\"}}, \"$schema\": \"https://vega.github.io/schema/vega-lite/v4.8.1.json\", \"datasets\": {\"data-8ff5f91421ca49245bf1b9d80cf7944a\": [{\"Product_ID\": 1152, \"Purchase\": 11143.642361111111}, {\"Product_ID\": 376, \"Purchase\": 10551.851063829787}, {\"Product_ID\": 244, \"Purchase\": 5313.422131147541}, {\"Product_ID\": 92, \"Purchase\": 4795.358695652174}, {\"Product_ID\": 149, \"Purchase\": 5417.5302013422815}, {\"Product_ID\": 512, \"Purchase\": 14913.23828125}, {\"Product_ID\": 241, \"Purchase\": 6031.390041493776}, {\"Product_ID\": 36, \"Purchase\": 10008.722222222223}, {\"Product_ID\": 55, \"Purchase\": 10565.90909090909}, {\"Product_ID\": 503, \"Purchase\": 13762.186878727634}, {\"Product_ID\": 578, \"Purchase\": 6685.0}, {\"Product_ID\": 100, \"Purchase\": 4281.94}, {\"Product_ID\": 62, \"Purchase\": 8579.629032258064}, {\"Product_ID\": 85, \"Purchase\": 7350.717647058824}, {\"Product_ID\": 69, \"Purchase\": 9279.898550724638}, {\"Product_ID\": 354, \"Purchase\": 7554.677966101695}, {\"Product_ID\": 461, \"Purchase\": 8000.459869848156}, {\"Product_ID\": 76, \"Purchase\": 14420.315789473685}, {\"Product_ID\": 211, \"Purchase\": 4315.071090047393}, {\"Product_ID\": 93, \"Purchase\": 9567.0}, {\"Product_ID\": 735, \"Purchase\": 14182.530612244898}, {\"Product_ID\": 198, \"Purchase\": 13548.919191919193}, {\"Product_ID\": 67, \"Purchase\": 11834.925373134329}, {\"Product_ID\": 330, \"Purchase\": 6369.754545454545}, {\"Product_ID\": 539, \"Purchase\": 7315.311688311688}, {\"Product_ID\": 63, \"Purchase\": 6915.0}, {\"Product_ID\": 40, \"Purchase\": 5965.5}, {\"Product_ID\": 84, \"Purchase\": 14896.595238095239}, {\"Product_ID\": 224, \"Purchase\": 13137.4375}, {\"Product_ID\": 37, \"Purchase\": 7529.648648648648}, {\"Product_ID\": 87, \"Purchase\": 6137.712643678161}, {\"Product_ID\": 844, \"Purchase\": 7787.689573459716}, {\"Product_ID\": 2, \"Purchase\": 9784.5}, {\"Product_ID\": 968, \"Purchase\": 2721.3956611570247}, {\"Product_ID\": 37, \"Purchase\": 7143.2972972972975}, {\"Product_ID\": 512, \"Purchase\": 7804.251953125}, {\"Product_ID\": 4, \"Purchase\": 14417.25}, {\"Product_ID\": 16, \"Purchase\": 4465.625}, {\"Product_ID\": 749, \"Purchase\": 6381.664886515354}, {\"Product_ID\": 13, \"Purchase\": 8104.0}, {\"Product_ID\": 123, \"Purchase\": 7933.869918699187}, {\"Product_ID\": 113, \"Purchase\": 11237.716814159292}, {\"Product_ID\": 95, \"Purchase\": 6863.021052631579}, {\"Product_ID\": 147, \"Purchase\": 11108.387755102041}, {\"Product_ID\": 279, \"Purchase\": 6143.304659498208}, {\"Product_ID\": 90, \"Purchase\": 6266.2555555555555}, {\"Product_ID\": 597, \"Purchase\": 16703.777219430485}, {\"Product_ID\": 210, \"Purchase\": 8056.1238095238095}, {\"Product_ID\": 19, \"Purchase\": 7260.421052631579}, {\"Product_ID\": 969, \"Purchase\": 18298.47987616099}, {\"Product_ID\": 233, \"Purchase\": 6475.871244635193}, {\"Product_ID\": 4, \"Purchase\": 8952.0}, {\"Product_ID\": 27, \"Purchase\": 1865.148148148148}, {\"Product_ID\": 25, \"Purchase\": 5770.84}, {\"Product_ID\": 4, \"Purchase\": 8351.0}, {\"Product_ID\": 47, \"Purchase\": 6843.191489361702}, {\"Product_ID\": 277, \"Purchase\": 8230.054151624548}, {\"Product_ID\": 5, \"Purchase\": 5582.8}, {\"Product_ID\": 181, \"Purchase\": 10392.585635359115}, {\"Product_ID\": 36, \"Purchase\": 5905.527777777777}, {\"Product_ID\": 293, \"Purchase\": 7352.761092150171}, {\"Product_ID\": 61, \"Purchase\": 5016.393442622951}, {\"Product_ID\": 39, \"Purchase\": 4058.128205128205}, {\"Product_ID\": 89, \"Purchase\": 3604.4606741573034}, {\"Product_ID\": 57, \"Purchase\": 7636.210526315789}, {\"Product_ID\": 2, \"Purchase\": 5937.0}, {\"Product_ID\": 28, \"Purchase\": 6294.035714285715}, {\"Product_ID\": 188, \"Purchase\": 6439.994680851064}, {\"Product_ID\": 498, \"Purchase\": 12380.504016064257}, {\"Product_ID\": 44, \"Purchase\": 7980.431818181818}, {\"Product_ID\": 48, \"Purchase\": 6443.145833333333}, {\"Product_ID\": 125, \"Purchase\": 7419.808}, {\"Product_ID\": 67, \"Purchase\": 6145.731343283582}, {\"Product_ID\": 5, \"Purchase\": 3264.6}, {\"Product_ID\": 79, \"Purchase\": 12310.987341772152}, {\"Product_ID\": 18, \"Purchase\": 15955.0}, {\"Product_ID\": 31, \"Purchase\": 6476.612903225807}, {\"Product_ID\": 65, \"Purchase\": 5514.661538461539}, {\"Product_ID\": 28, \"Purchase\": 7838.428571428572}, {\"Product_ID\": 89, \"Purchase\": 12868.61797752809}, {\"Product_ID\": 51, \"Purchase\": 7947.0}, {\"Product_ID\": 19, \"Purchase\": 7077.0526315789475}, {\"Product_ID\": 15, \"Purchase\": 5480.8}, {\"Product_ID\": 114, \"Purchase\": 6699.1140350877195}, {\"Product_ID\": 127, \"Purchase\": 10852.653543307086}, {\"Product_ID\": 47, \"Purchase\": 1577.6170212765958}, {\"Product_ID\": 108, \"Purchase\": 5253.472222222223}, {\"Product_ID\": 109, \"Purchase\": 11922.651376146789}, {\"Product_ID\": 1, \"Purchase\": 9815.0}, {\"Product_ID\": 44, \"Purchase\": 4870.772727272727}, {\"Product_ID\": 47, \"Purchase\": 3922.2978723404253}, {\"Product_ID\": 112, \"Purchase\": 7421.017857142857}, {\"Product_ID\": 351, \"Purchase\": 11293.894586894587}, {\"Product_ID\": 7, \"Purchase\": 6258.857142857143}, {\"Product_ID\": 28, \"Purchase\": 7320.035714285715}, {\"Product_ID\": 3, \"Purchase\": 8179.666666666667}, {\"Product_ID\": 26, \"Purchase\": 14288.884615384615}, {\"Product_ID\": 26, \"Purchase\": 3356.423076923077}, {\"Product_ID\": 21, \"Purchase\": 13402.190476190477}, {\"Product_ID\": 350, \"Purchase\": 6348.305714285714}, {\"Product_ID\": 208, \"Purchase\": 6515.447115384615}, {\"Product_ID\": 8, \"Purchase\": 6580.625}, {\"Product_ID\": 140, \"Purchase\": 10234.685714285713}, {\"Product_ID\": 4, \"Purchase\": 15725.5}, {\"Product_ID\": 1350, \"Purchase\": 16417.891111111112}, {\"Product_ID\": 675, \"Purchase\": 8291.48}, {\"Product_ID\": 305, \"Purchase\": 13355.70819672131}, {\"Product_ID\": 32, \"Purchase\": 6010.125}, {\"Product_ID\": 6, \"Purchase\": 5681.833333333333}, {\"Product_ID\": 27, \"Purchase\": 16445.185185185186}, {\"Product_ID\": 41, \"Purchase\": 15106.853658536585}, {\"Product_ID\": 36, \"Purchase\": 5347.444444444444}, {\"Product_ID\": 5, \"Purchase\": 5017.4}, {\"Product_ID\": 3, \"Purchase\": 5272.666666666667}, {\"Product_ID\": 20, \"Purchase\": 7793.35}, {\"Product_ID\": 91, \"Purchase\": 4994.945054945055}, {\"Product_ID\": 62, \"Purchase\": 7487.258064516129}, {\"Product_ID\": 5, \"Purchase\": 7596.4}, {\"Product_ID\": 188, \"Purchase\": 6797.452127659574}, {\"Product_ID\": 51, \"Purchase\": 6627.705882352941}, {\"Product_ID\": 1, \"Purchase\": 2118.0}, {\"Product_ID\": 7, \"Purchase\": 17211.14285714286}, {\"Product_ID\": 5, \"Purchase\": 5269.6}, {\"Product_ID\": 9, \"Purchase\": 5824.666666666667}, {\"Product_ID\": 43, \"Purchase\": 10162.581395348838}, {\"Product_ID\": 1, \"Purchase\": 1717.0}, {\"Product_ID\": 71, \"Purchase\": 4855.661971830986}, {\"Product_ID\": 7, \"Purchase\": 12957.0}, {\"Product_ID\": 3, \"Purchase\": 13960.333333333334}, {\"Product_ID\": 1, \"Purchase\": 2277.0}, {\"Product_ID\": 1, \"Purchase\": 15836.0}, {\"Product_ID\": 67, \"Purchase\": 6331.373134328358}, {\"Product_ID\": 357, \"Purchase\": 6267.504201680672}, {\"Product_ID\": 1, \"Purchase\": 2021.0}, {\"Product_ID\": 236, \"Purchase\": 6017.487288135593}, {\"Product_ID\": 194, \"Purchase\": 12739.644329896908}, {\"Product_ID\": 9, \"Purchase\": 11542.111111111111}, {\"Product_ID\": 105, \"Purchase\": 7065.828571428571}, {\"Product_ID\": 10, \"Purchase\": 5624.3}, {\"Product_ID\": 24, \"Purchase\": 15331.583333333334}, {\"Product_ID\": 672, \"Purchase\": 8070.087797619048}, {\"Product_ID\": 319, \"Purchase\": 7131.877742946708}, {\"Product_ID\": 38, \"Purchase\": 4242.763157894737}, {\"Product_ID\": 412, \"Purchase\": 10328.463592233009}, {\"Product_ID\": 94, \"Purchase\": 7480.904255319149}, {\"Product_ID\": 48, \"Purchase\": 6626.104166666667}, {\"Product_ID\": 32, \"Purchase\": 6314.15625}, {\"Product_ID\": 104, \"Purchase\": 4781.028846153846}, {\"Product_ID\": 147, \"Purchase\": 10006.43537414966}, {\"Product_ID\": 58, \"Purchase\": 6228.827586206897}, {\"Product_ID\": 295, \"Purchase\": 8962.983050847457}, {\"Product_ID\": 419, \"Purchase\": 7387.792362768497}, {\"Product_ID\": 241, \"Purchase\": 16826.970954356846}, {\"Product_ID\": 267, \"Purchase\": 13405.722846441948}, {\"Product_ID\": 205, \"Purchase\": 14253.414634146342}, {\"Product_ID\": 447, \"Purchase\": 14332.259507829978}, {\"Product_ID\": 29, \"Purchase\": 4163.6551724137935}, {\"Product_ID\": 2, \"Purchase\": 6950.0}, {\"Product_ID\": 191, \"Purchase\": 11353.675392670157}, {\"Product_ID\": 63, \"Purchase\": 6486.444444444444}, {\"Product_ID\": 159, \"Purchase\": 11847.050314465409}, {\"Product_ID\": 51, \"Purchase\": 6220.0392156862745}, {\"Product_ID\": 266, \"Purchase\": 10191.42857142857}, {\"Product_ID\": 315, \"Purchase\": 9214.444444444445}, {\"Product_ID\": 43, \"Purchase\": 4333.441860465116}, {\"Product_ID\": 128, \"Purchase\": 6908.7578125}, {\"Product_ID\": 129, \"Purchase\": 6986.68992248062}, {\"Product_ID\": 67, \"Purchase\": 3942.0298507462685}, {\"Product_ID\": 11, \"Purchase\": 6272.454545454545}, {\"Product_ID\": 27, \"Purchase\": 4094.777777777778}, {\"Product_ID\": 244, \"Purchase\": 6260.0}, {\"Product_ID\": 51, \"Purchase\": 6529.764705882353}, {\"Product_ID\": 35, \"Purchase\": 6299.742857142857}, {\"Product_ID\": 17, \"Purchase\": 14364.29411764706}, {\"Product_ID\": 13, \"Purchase\": 6691.7692307692305}, {\"Product_ID\": 303, \"Purchase\": 12309.42904290429}, {\"Product_ID\": 110, \"Purchase\": 4921.927272727273}, {\"Product_ID\": 60, \"Purchase\": 5721.55}, {\"Product_ID\": 108, \"Purchase\": 4664.685185185185}, {\"Product_ID\": 9, \"Purchase\": 6429.888888888889}, {\"Product_ID\": 49, \"Purchase\": 16107.65306122449}, {\"Product_ID\": 43, \"Purchase\": 4965.139534883721}, {\"Product_ID\": 2, \"Purchase\": 12653.0}, {\"Product_ID\": 95, \"Purchase\": 4170.0526315789475}, {\"Product_ID\": 120, \"Purchase\": 7443.708333333333}, {\"Product_ID\": 75, \"Purchase\": 4955.44}, {\"Product_ID\": 316, \"Purchase\": 4213.471518987341}, {\"Product_ID\": 9, \"Purchase\": 7123.111111111111}, {\"Product_ID\": 330, \"Purchase\": 13123.506060606062}, {\"Product_ID\": 60, \"Purchase\": 7727.766666666666}, {\"Product_ID\": 5, \"Purchase\": 12444.4}, {\"Product_ID\": 18, \"Purchase\": 5598.222222222223}, {\"Product_ID\": 13, \"Purchase\": 5997.307692307692}, {\"Product_ID\": 113, \"Purchase\": 5538.300884955752}, {\"Product_ID\": 107, \"Purchase\": 11443.364485981308}, {\"Product_ID\": 48, \"Purchase\": 6437.4375}, {\"Product_ID\": 49, \"Purchase\": 15179.836734693878}, {\"Product_ID\": 117, \"Purchase\": 6153.34188034188}, {\"Product_ID\": 358, \"Purchase\": 10193.262569832403}, {\"Product_ID\": 31, \"Purchase\": 4753.193548387097}, {\"Product_ID\": 20, \"Purchase\": 2301.25}, {\"Product_ID\": 22, \"Purchase\": 6957.181818181818}, {\"Product_ID\": 7, \"Purchase\": 4314.714285714285}, {\"Product_ID\": 64, \"Purchase\": 7902.28125}, {\"Product_ID\": 15, \"Purchase\": 8088.533333333334}, {\"Product_ID\": 80, \"Purchase\": 7747.1125}, {\"Product_ID\": 187, \"Purchase\": 5543.641711229947}, {\"Product_ID\": 40, \"Purchase\": 5039.675}, {\"Product_ID\": 113, \"Purchase\": 5414.194690265486}, {\"Product_ID\": 10, \"Purchase\": 7357.1}, {\"Product_ID\": 17, \"Purchase\": 2858.235294117647}, {\"Product_ID\": 180, \"Purchase\": 7069.816666666667}, {\"Product_ID\": 776, \"Purchase\": 6993.514175257732}, {\"Product_ID\": 200, \"Purchase\": 5924.09}, {\"Product_ID\": 140, \"Purchase\": 6270.371428571429}, {\"Product_ID\": 1, \"Purchase\": 8734.0}, {\"Product_ID\": 75, \"Purchase\": 10474.266666666666}, {\"Product_ID\": 10, \"Purchase\": 4252.6}, {\"Product_ID\": 68, \"Purchase\": 7115.794117647059}, {\"Product_ID\": 186, \"Purchase\": 6989.725806451613}, {\"Product_ID\": 370, \"Purchase\": 5649.475675675676}, {\"Product_ID\": 187, \"Purchase\": 7170.967914438503}, {\"Product_ID\": 127, \"Purchase\": 7400.330708661418}, {\"Product_ID\": 89, \"Purchase\": 3883.808988764045}, {\"Product_ID\": 527, \"Purchase\": 6446.80834914611}, {\"Product_ID\": 184, \"Purchase\": 5810.728260869565}, {\"Product_ID\": 155, \"Purchase\": 5217.393548387096}, {\"Product_ID\": 18, \"Purchase\": 9312.555555555555}, {\"Product_ID\": 92, \"Purchase\": 7833.576086956522}, {\"Product_ID\": 20, \"Purchase\": 11316.9}, {\"Product_ID\": 14, \"Purchase\": 2161.8571428571427}, {\"Product_ID\": 46, \"Purchase\": 7069.260869565217}, {\"Product_ID\": 5, \"Purchase\": 3950.8}, {\"Product_ID\": 6, \"Purchase\": 4622.5}, {\"Product_ID\": 6, \"Purchase\": 13073.333333333334}, {\"Product_ID\": 394, \"Purchase\": 17526.477157360405}, {\"Product_ID\": 259, \"Purchase\": 7730.602316602317}, {\"Product_ID\": 79, \"Purchase\": 5062.316455696203}, {\"Product_ID\": 150, \"Purchase\": 7624.833333333333}, {\"Product_ID\": 15, \"Purchase\": 1908.3333333333333}, {\"Product_ID\": 10, \"Purchase\": 13655.4}, {\"Product_ID\": 190, \"Purchase\": 5821.2052631578945}, {\"Product_ID\": 415, \"Purchase\": 7021.546987951807}, {\"Product_ID\": 18, \"Purchase\": 6422.055555555556}, {\"Product_ID\": 41, \"Purchase\": 3684.8048780487807}, {\"Product_ID\": 117, \"Purchase\": 4735.777777777777}, {\"Product_ID\": 56, \"Purchase\": 641.2678571428571}, {\"Product_ID\": 73, \"Purchase\": 8209.17808219178}, {\"Product_ID\": 55, \"Purchase\": 11664.49090909091}, {\"Product_ID\": 1615, \"Purchase\": 17334.46811145511}, {\"Product_ID\": 167, \"Purchase\": 7170.395209580838}, {\"Product_ID\": 98, \"Purchase\": 2744.6428571428573}, {\"Product_ID\": 13, \"Purchase\": 8419.461538461539}, {\"Product_ID\": 2, \"Purchase\": 7818.0}, {\"Product_ID\": 437, \"Purchase\": 7751.897025171625}, {\"Product_ID\": 379, \"Purchase\": 6819.873350923483}, {\"Product_ID\": 74, \"Purchase\": 4918.121621621622}, {\"Product_ID\": 32, \"Purchase\": 6462.40625}, {\"Product_ID\": 28, \"Purchase\": 7020.964285714285}, {\"Product_ID\": 37, \"Purchase\": 6472.648648648648}, {\"Product_ID\": 34, \"Purchase\": 6394.0}, {\"Product_ID\": 210, \"Purchase\": 7445.166666666667}, {\"Product_ID\": 134, \"Purchase\": 5901.574626865671}, {\"Product_ID\": 10, \"Purchase\": 4312.2}, {\"Product_ID\": 38, \"Purchase\": 4678.078947368421}, {\"Product_ID\": 124, \"Purchase\": 4940.258064516129}, {\"Product_ID\": 87, \"Purchase\": 6340.068965517241}, {\"Product_ID\": 22, \"Purchase\": 4840.181818181818}, {\"Product_ID\": 22, \"Purchase\": 7697.636363636364}, {\"Product_ID\": 120, \"Purchase\": 7024.475}, {\"Product_ID\": 134, \"Purchase\": 7268.022388059701}, {\"Product_ID\": 105, \"Purchase\": 6516.066666666667}, {\"Product_ID\": 8, \"Purchase\": 11241.375}, {\"Product_ID\": 1, \"Purchase\": 12128.0}, {\"Product_ID\": 7, \"Purchase\": 4612.571428571428}, {\"Product_ID\": 376, \"Purchase\": 12226.625}, {\"Product_ID\": 91, \"Purchase\": 6106.56043956044}, {\"Product_ID\": 95, \"Purchase\": 16039.189473684211}, {\"Product_ID\": 28, \"Purchase\": 9877.464285714286}, {\"Product_ID\": 418, \"Purchase\": 12757.976076555024}, {\"Product_ID\": 498, \"Purchase\": 16660.39156626506}, {\"Product_ID\": 18, \"Purchase\": 5277.222222222223}, {\"Product_ID\": 12, \"Purchase\": 4427.666666666667}, {\"Product_ID\": 1197, \"Purchase\": 17582.34753550543}, {\"Product_ID\": 14, \"Purchase\": 5278.928571428572}, {\"Product_ID\": 14, \"Purchase\": 6778.5}, {\"Product_ID\": 75, \"Purchase\": 6971.44}, {\"Product_ID\": 369, \"Purchase\": 7452.834688346884}, {\"Product_ID\": 26, \"Purchase\": 6689.615384615385}, {\"Product_ID\": 45, \"Purchase\": 7516.666666666667}, {\"Product_ID\": 218, \"Purchase\": 11677.238532110092}, {\"Product_ID\": 22, \"Purchase\": 5160.681818181818}, {\"Product_ID\": 76, \"Purchase\": 4371.381578947368}, {\"Product_ID\": 187, \"Purchase\": 8458.155080213905}, {\"Product_ID\": 115, \"Purchase\": 8041.373913043478}, {\"Product_ID\": 109, \"Purchase\": 7771.357798165138}, {\"Product_ID\": 26, \"Purchase\": 7099.423076923077}, {\"Product_ID\": 2, \"Purchase\": 6979.5}, {\"Product_ID\": 55, \"Purchase\": 4263.727272727273}, {\"Product_ID\": 29, \"Purchase\": 8439.862068965518}, {\"Product_ID\": 156, \"Purchase\": 7555.974358974359}, {\"Product_ID\": 77, \"Purchase\": 10527.16883116883}, {\"Product_ID\": 592, \"Purchase\": 13689.827702702703}, {\"Product_ID\": 363, \"Purchase\": 2265.8732782369148}, {\"Product_ID\": 1200, \"Purchase\": 9053.14}, {\"Product_ID\": 143, \"Purchase\": 16559.594405594406}, {\"Product_ID\": 19, \"Purchase\": 16135.526315789473}, {\"Product_ID\": 36, \"Purchase\": 7606.722222222223}, {\"Product_ID\": 104, \"Purchase\": 6630.317307692308}, {\"Product_ID\": 16, \"Purchase\": 7133.1875}, {\"Product_ID\": 32, \"Purchase\": 4462.5625}, {\"Product_ID\": 32, \"Purchase\": 8501.625}, {\"Product_ID\": 191, \"Purchase\": 10346.816753926701}, {\"Product_ID\": 82, \"Purchase\": 4676.414634146341}, {\"Product_ID\": 555, \"Purchase\": 13227.457657657658}, {\"Product_ID\": 78, \"Purchase\": 4758.4358974358975}, {\"Product_ID\": 13, \"Purchase\": 6301.076923076923}, {\"Product_ID\": 84, \"Purchase\": 3787.9285714285716}, {\"Product_ID\": 231, \"Purchase\": 6076.233766233766}, {\"Product_ID\": 65, \"Purchase\": 7465.584615384615}, {\"Product_ID\": 21, \"Purchase\": 654.1904761904761}, {\"Product_ID\": 12, \"Purchase\": 5504.416666666667}, {\"Product_ID\": 384, \"Purchase\": 7676.864583333333}, {\"Product_ID\": 118, \"Purchase\": 12358.152542372882}, {\"Product_ID\": 386, \"Purchase\": 6184.60103626943}, {\"Product_ID\": 43, \"Purchase\": 10711.93023255814}, {\"Product_ID\": 17, \"Purchase\": 7537.529411764706}, {\"Product_ID\": 273, \"Purchase\": 6464.399267399267}, {\"Product_ID\": 21, \"Purchase\": 1545.904761904762}, {\"Product_ID\": 412, \"Purchase\": 5455.82281553398}, {\"Product_ID\": 246, \"Purchase\": 6693.065040650406}, {\"Product_ID\": 68, \"Purchase\": 7011.911764705882}, {\"Product_ID\": 27, \"Purchase\": 6601.111111111111}, {\"Product_ID\": 233, \"Purchase\": 6506.824034334764}, {\"Product_ID\": 582, \"Purchase\": 14425.0}, {\"Product_ID\": 276, \"Purchase\": 6772.746376811594}, {\"Product_ID\": 145, \"Purchase\": 6066.875862068966}, {\"Product_ID\": 67, \"Purchase\": 5708.567164179104}, {\"Product_ID\": 399, \"Purchase\": 13449.543859649122}, {\"Product_ID\": 39, \"Purchase\": 6545.282051282052}, {\"Product_ID\": 136, \"Purchase\": 1664.1323529411766}, {\"Product_ID\": 1212, \"Purchase\": 7215.184818481848}, {\"Product_ID\": 682, \"Purchase\": 6646.441348973607}, {\"Product_ID\": 72, \"Purchase\": 6641.694444444444}, {\"Product_ID\": 12, \"Purchase\": 6279.75}, {\"Product_ID\": 65, \"Purchase\": 9535.63076923077}, {\"Product_ID\": 153, \"Purchase\": 6677.59477124183}, {\"Product_ID\": 134, \"Purchase\": 10890.507462686568}, {\"Product_ID\": 34, \"Purchase\": 17039.058823529413}, {\"Product_ID\": 602, \"Purchase\": 10556.52657807309}, {\"Product_ID\": 36, \"Purchase\": 6140.861111111111}, {\"Product_ID\": 135, \"Purchase\": 4294.525925925926}, {\"Product_ID\": 637, \"Purchase\": 5816.494505494506}, {\"Product_ID\": 435, \"Purchase\": 13829.216091954024}, {\"Product_ID\": 26, \"Purchase\": 6658.692307692308}, {\"Product_ID\": 216, \"Purchase\": 4929.615740740741}, {\"Product_ID\": 129, \"Purchase\": 5626.984496124031}, {\"Product_ID\": 223, \"Purchase\": 5559.134529147982}, {\"Product_ID\": 150, \"Purchase\": 15804.373333333333}, {\"Product_ID\": 107, \"Purchase\": 1492.5233644859813}, {\"Product_ID\": 9, \"Purchase\": 6227.777777777777}, {\"Product_ID\": 185, \"Purchase\": 12796.124324324324}, {\"Product_ID\": 884, \"Purchase\": 13817.045248868779}, {\"Product_ID\": 81, \"Purchase\": 5326.197530864198}, {\"Product_ID\": 221, \"Purchase\": 11247.678733031675}, {\"Product_ID\": 753, \"Purchase\": 14186.517928286852}, {\"Product_ID\": 111, \"Purchase\": 6558.522522522522}, {\"Product_ID\": 152, \"Purchase\": 5853.394736842105}, {\"Product_ID\": 152, \"Purchase\": 2528.3552631578946}, {\"Product_ID\": 25, \"Purchase\": 11384.52}, {\"Product_ID\": 5, \"Purchase\": 6709.4}, {\"Product_ID\": 21, \"Purchase\": 5000.238095238095}, {\"Product_ID\": 58, \"Purchase\": 10389.206896551725}, {\"Product_ID\": 47, \"Purchase\": 7161.936170212766}, {\"Product_ID\": 10, \"Purchase\": 7179.9}, {\"Product_ID\": 28, \"Purchase\": 15077.25}, {\"Product_ID\": 25, \"Purchase\": 13783.68}, {\"Product_ID\": 13, \"Purchase\": 9602.307692307691}, {\"Product_ID\": 63, \"Purchase\": 7246.539682539683}, {\"Product_ID\": 14, \"Purchase\": 14732.285714285714}, {\"Product_ID\": 1, \"Purchase\": 8062.0}, {\"Product_ID\": 7, \"Purchase\": 3454.0}, {\"Product_ID\": 1, \"Purchase\": 16895.0}, {\"Product_ID\": 3, \"Purchase\": 13847.333333333334}, {\"Product_ID\": 111, \"Purchase\": 8926.846846846847}, {\"Product_ID\": 7, \"Purchase\": 7457.571428571428}, {\"Product_ID\": 107, \"Purchase\": 4400.813084112149}, {\"Product_ID\": 35, \"Purchase\": 6708.371428571429}, {\"Product_ID\": 22, \"Purchase\": 5990.5}, {\"Product_ID\": 252, \"Purchase\": 5239.841269841269}, {\"Product_ID\": 8, \"Purchase\": 4226.125}, {\"Product_ID\": 167, \"Purchase\": 7132.62874251497}, {\"Product_ID\": 147, \"Purchase\": 4413.115646258503}, {\"Product_ID\": 51, \"Purchase\": 4697.313725490196}, {\"Product_ID\": 94, \"Purchase\": 4448.255319148936}, {\"Product_ID\": 49, \"Purchase\": 2031.6122448979593}, {\"Product_ID\": 115, \"Purchase\": 6058.408695652174}, {\"Product_ID\": 13, \"Purchase\": 5889.461538461538}, {\"Product_ID\": 73, \"Purchase\": 3986.698630136986}, {\"Product_ID\": 175, \"Purchase\": 9767.068571428572}, {\"Product_ID\": 52, \"Purchase\": 11588.115384615385}, {\"Product_ID\": 35, \"Purchase\": 12778.028571428571}, {\"Product_ID\": 127, \"Purchase\": 12265.27559055118}, {\"Product_ID\": 40, \"Purchase\": 4865.35}, {\"Product_ID\": 57, \"Purchase\": 7292.912280701755}, {\"Product_ID\": 155, \"Purchase\": 4675.2193548387095}, {\"Product_ID\": 98, \"Purchase\": 455.5408163265306}, {\"Product_ID\": 140, \"Purchase\": 7886.478571428572}, {\"Product_ID\": 102, \"Purchase\": 4311.401960784314}, {\"Product_ID\": 12, \"Purchase\": 5187.166666666667}, {\"Product_ID\": 188, \"Purchase\": 15280.66489361702}, {\"Product_ID\": 220, \"Purchase\": 4490.454545454545}, {\"Product_ID\": 22, \"Purchase\": 4767.954545454545}, {\"Product_ID\": 388, \"Purchase\": 12133.056701030928}, {\"Product_ID\": 280, \"Purchase\": 4647.575}, {\"Product_ID\": 80, \"Purchase\": 5315.625}, {\"Product_ID\": 31, \"Purchase\": 3635.6129032258063}, {\"Product_ID\": 78, \"Purchase\": 10407.75641025641}, {\"Product_ID\": 504, \"Purchase\": 6667.585317460317}, {\"Product_ID\": 363, \"Purchase\": 6603.033057851239}, {\"Product_ID\": 350, \"Purchase\": 11803.62}, {\"Product_ID\": 12, \"Purchase\": 15507.0}, {\"Product_ID\": 47, \"Purchase\": 4314.595744680851}, {\"Product_ID\": 53, \"Purchase\": 4792.981132075472}, {\"Product_ID\": 132, \"Purchase\": 8330.234848484848}, {\"Product_ID\": 13, \"Purchase\": 4387.692307692308}, {\"Product_ID\": 132, \"Purchase\": 7192.19696969697}, {\"Product_ID\": 38, \"Purchase\": 5945.6578947368425}, {\"Product_ID\": 117, \"Purchase\": 5662.410256410257}, {\"Product_ID\": 52, \"Purchase\": 6540.9807692307695}, {\"Product_ID\": 18, \"Purchase\": 6710.277777777777}, {\"Product_ID\": 37, \"Purchase\": 5663.459459459459}, {\"Product_ID\": 450, \"Purchase\": 7035.457777777778}, {\"Product_ID\": 147, \"Purchase\": 8423.12925170068}, {\"Product_ID\": 59, \"Purchase\": 7824.3050847457625}, {\"Product_ID\": 1111, \"Purchase\": 15877.206120612062}, {\"Product_ID\": 46, \"Purchase\": 6472.434782608696}, {\"Product_ID\": 69, \"Purchase\": 11448.68115942029}, {\"Product_ID\": 20, \"Purchase\": 4551.8}, {\"Product_ID\": 47, \"Purchase\": 6453.191489361702}, {\"Product_ID\": 14, \"Purchase\": 11022.5}, {\"Product_ID\": 26, \"Purchase\": 10792.153846153846}, {\"Product_ID\": 115, \"Purchase\": 10757.417391304349}, {\"Product_ID\": 56, \"Purchase\": 13354.30357142857}, {\"Product_ID\": 304, \"Purchase\": 10930.667763157895}, {\"Product_ID\": 26, \"Purchase\": 5800.7307692307695}, {\"Product_ID\": 205, \"Purchase\": 5709.770731707317}, {\"Product_ID\": 40, \"Purchase\": 5894.375}, {\"Product_ID\": 20, \"Purchase\": 3505.95}, {\"Product_ID\": 328, \"Purchase\": 6347.307926829269}, {\"Product_ID\": 22, \"Purchase\": 5078.636363636364}, {\"Product_ID\": 88, \"Purchase\": 3887.6477272727275}, {\"Product_ID\": 524, \"Purchase\": 14801.961832061068}, {\"Product_ID\": 160, \"Purchase\": 7676.4125}, {\"Product_ID\": 21, \"Purchase\": 4352.571428571428}, {\"Product_ID\": 112, \"Purchase\": 6945.839285714285}, {\"Product_ID\": 10, \"Purchase\": 4449.4}, {\"Product_ID\": 79, \"Purchase\": 10781.60759493671}, {\"Product_ID\": 1438, \"Purchase\": 14709.931849791377}, {\"Product_ID\": 161, \"Purchase\": 6842.627329192546}, {\"Product_ID\": 92, \"Purchase\": 14614.228260869566}, {\"Product_ID\": 46, \"Purchase\": 7306.630434782609}, {\"Product_ID\": 19, \"Purchase\": 9178.894736842105}, {\"Product_ID\": 276, \"Purchase\": 9893.797101449276}, {\"Product_ID\": 30, \"Purchase\": 4791.3}, {\"Product_ID\": 28, \"Purchase\": 4297.785714285715}, {\"Product_ID\": 27, \"Purchase\": 6690.592592592592}, {\"Product_ID\": 55, \"Purchase\": 4451.0}, {\"Product_ID\": 94, \"Purchase\": 14362.382978723404}, {\"Product_ID\": 117, \"Purchase\": 6623.290598290599}, {\"Product_ID\": 200, \"Purchase\": 6438.815}, {\"Product_ID\": 165, \"Purchase\": 13927.472727272727}, {\"Product_ID\": 204, \"Purchase\": 12894.20588235294}, {\"Product_ID\": 26, \"Purchase\": 6942.7307692307695}, {\"Product_ID\": 21, \"Purchase\": 5807.0952380952385}, {\"Product_ID\": 349, \"Purchase\": 7004.005730659026}, {\"Product_ID\": 30, \"Purchase\": 5856.766666666666}, {\"Product_ID\": 27, \"Purchase\": 4634.444444444444}, {\"Product_ID\": 446, \"Purchase\": 6100.470852017937}, {\"Product_ID\": 63, \"Purchase\": 7368.68253968254}, {\"Product_ID\": 87, \"Purchase\": 8056.379310344828}, {\"Product_ID\": 8, \"Purchase\": 7031.75}, {\"Product_ID\": 87, \"Purchase\": 11597.540229885057}, {\"Product_ID\": 36, \"Purchase\": 4585.472222222223}, {\"Product_ID\": 65, \"Purchase\": 7160.830769230769}, {\"Product_ID\": 171, \"Purchase\": 13420.46783625731}, {\"Product_ID\": 315, \"Purchase\": 7773.55873015873}, {\"Product_ID\": 331, \"Purchase\": 7396.389728096677}, {\"Product_ID\": 26, \"Purchase\": 4416.846153846154}, {\"Product_ID\": 80, \"Purchase\": 12991.85}, {\"Product_ID\": 105, \"Purchase\": 4150.609523809524}, {\"Product_ID\": 37, \"Purchase\": 5257.351351351352}, {\"Product_ID\": 184, \"Purchase\": 6251.038043478261}, {\"Product_ID\": 239, \"Purchase\": 7926.94560669456}, {\"Product_ID\": 135, \"Purchase\": 4981.933333333333}, {\"Product_ID\": 213, \"Purchase\": 12287.211267605633}, {\"Product_ID\": 80, \"Purchase\": 4420.4375}, {\"Product_ID\": 104, \"Purchase\": 8466.317307692309}, {\"Product_ID\": 205, \"Purchase\": 5104.214634146341}, {\"Product_ID\": 56, \"Purchase\": 13856.214285714286}, {\"Product_ID\": 41, \"Purchase\": 14691.146341463415}, {\"Product_ID\": 60, \"Purchase\": 7084.85}, {\"Product_ID\": 259, \"Purchase\": 7295.119691119691}, {\"Product_ID\": 13, \"Purchase\": 5686.0}, {\"Product_ID\": 4, \"Purchase\": 4007.25}, {\"Product_ID\": 1249, \"Purchase\": 8956.188951160928}, {\"Product_ID\": 40, \"Purchase\": 4794.45}, {\"Product_ID\": 413, \"Purchase\": 7870.891041162227}, {\"Product_ID\": 1, \"Purchase\": 5843.0}, {\"Product_ID\": 189, \"Purchase\": 2620.7248677248676}, {\"Product_ID\": 217, \"Purchase\": 5521.267281105991}, {\"Product_ID\": 107, \"Purchase\": 10510.383177570093}, {\"Product_ID\": 146, \"Purchase\": 7490.7054794520545}, {\"Product_ID\": 160, \"Purchase\": 7833.7875}, {\"Product_ID\": 30, \"Purchase\": 6208.333333333333}, {\"Product_ID\": 116, \"Purchase\": 5493.396551724138}, {\"Product_ID\": 178, \"Purchase\": 7716.269662921349}, {\"Product_ID\": 547, \"Purchase\": 6615.610603290676}, {\"Product_ID\": 89, \"Purchase\": 9069.561797752809}, {\"Product_ID\": 982, \"Purchase\": 20141.13951120163}, {\"Product_ID\": 114, \"Purchase\": 4915.394736842105}, {\"Product_ID\": 360, \"Purchase\": 5963.641666666666}, {\"Product_ID\": 72, \"Purchase\": 10181.513888888889}, {\"Product_ID\": 1, \"Purchase\": 3937.0}, {\"Product_ID\": 198, \"Purchase\": 7471.232323232323}, {\"Product_ID\": 67, \"Purchase\": 11275.388059701492}, {\"Product_ID\": 70, \"Purchase\": 10067.1}, {\"Product_ID\": 81, \"Purchase\": 16188.32098765432}, {\"Product_ID\": 93, \"Purchase\": 5257.4838709677415}, {\"Product_ID\": 567, \"Purchase\": 2585.5908289241625}, {\"Product_ID\": 293, \"Purchase\": 12692.453924914676}, {\"Product_ID\": 296, \"Purchase\": 3034.8445945945946}, {\"Product_ID\": 12, \"Purchase\": 11805.5}, {\"Product_ID\": 351, \"Purchase\": 15461.313390313391}, {\"Product_ID\": 73, \"Purchase\": 17930.50684931507}, {\"Product_ID\": 1, \"Purchase\": 9941.0}, {\"Product_ID\": 83, \"Purchase\": 10428.289156626506}, {\"Product_ID\": 2, \"Purchase\": 1915.0}, {\"Product_ID\": 4, \"Purchase\": 6869.75}, {\"Product_ID\": 7, \"Purchase\": 13676.285714285714}, {\"Product_ID\": 270, \"Purchase\": 6559.766666666666}, {\"Product_ID\": 11, \"Purchase\": 6554.363636363636}, {\"Product_ID\": 28, \"Purchase\": 4168.5}, {\"Product_ID\": 32, \"Purchase\": 4857.65625}, {\"Product_ID\": 5, \"Purchase\": 6680.2}, {\"Product_ID\": 9, \"Purchase\": 7288.555555555556}, {\"Product_ID\": 15, \"Purchase\": 6998.6}, {\"Product_ID\": 58, \"Purchase\": 2033.0862068965516}, {\"Product_ID\": 10, \"Purchase\": 6260.7}, {\"Product_ID\": 17, \"Purchase\": 7271.882352941177}, {\"Product_ID\": 2, \"Purchase\": 5948.5}, {\"Product_ID\": 14, \"Purchase\": 7109.428571428572}, {\"Product_ID\": 88, \"Purchase\": 5979.420454545455}, {\"Product_ID\": 63, \"Purchase\": 2026.2222222222222}, {\"Product_ID\": 1, \"Purchase\": 5175.0}, {\"Product_ID\": 28, \"Purchase\": 9760.57142857143}, {\"Product_ID\": 1, \"Purchase\": 9790.0}, {\"Product_ID\": 1, \"Purchase\": 8713.0}, {\"Product_ID\": 31, \"Purchase\": 7040.0}, {\"Product_ID\": 70, \"Purchase\": 16436.585714285713}, {\"Product_ID\": 11, \"Purchase\": 6441.818181818182}, {\"Product_ID\": 228, \"Purchase\": 5156.184210526316}, {\"Product_ID\": 359, \"Purchase\": 2231.2924791086352}, {\"Product_ID\": 627, \"Purchase\": 6184.306220095694}, {\"Product_ID\": 730, \"Purchase\": 10309.797260273972}, {\"Product_ID\": 1470, \"Purchase\": 15716.176870748299}, {\"Product_ID\": 823, \"Purchase\": 12778.754556500608}, {\"Product_ID\": 1, \"Purchase\": 4179.0}, {\"Product_ID\": 785, \"Purchase\": 14149.863694267517}, {\"Product_ID\": 1422, \"Purchase\": 8615.073136427567}, {\"Product_ID\": 404, \"Purchase\": 10417.779702970298}, {\"Product_ID\": 594, \"Purchase\": 10527.097643097643}, {\"Product_ID\": 281, \"Purchase\": 10051.284697508896}, {\"Product_ID\": 552, \"Purchase\": 6397.527173913043}, {\"Product_ID\": 4, \"Purchase\": 8316.25}, {\"Product_ID\": 134, \"Purchase\": 3222.589552238806}, {\"Product_ID\": 16, \"Purchase\": 12516.625}, {\"Product_ID\": 20, \"Purchase\": 16777.45}, {\"Product_ID\": 28, \"Purchase\": 5135.964285714285}, {\"Product_ID\": 122, \"Purchase\": 6548.4098360655735}, {\"Product_ID\": 49, \"Purchase\": 3468.1428571428573}, {\"Product_ID\": 1, \"Purchase\": 2256.0}, {\"Product_ID\": 1406, \"Purchase\": 17310.343527738263}, {\"Product_ID\": 28, \"Purchase\": 9832.07142857143}, {\"Product_ID\": 356, \"Purchase\": 13665.648876404495}, {\"Product_ID\": 121, \"Purchase\": 9798.454545454546}, {\"Product_ID\": 43, \"Purchase\": 4250.813953488372}, {\"Product_ID\": 45, \"Purchase\": 6899.066666666667}, {\"Product_ID\": 5, \"Purchase\": 5207.4}, {\"Product_ID\": 31, \"Purchase\": 7861.032258064516}, {\"Product_ID\": 150, \"Purchase\": 8787.233333333334}, {\"Product_ID\": 6, \"Purchase\": 6668.333333333333}, {\"Product_ID\": 5, \"Purchase\": 4667.2}, {\"Product_ID\": 18, \"Purchase\": 4917.5}, {\"Product_ID\": 24, \"Purchase\": 7372.958333333333}, {\"Product_ID\": 1, \"Purchase\": 7488.0}, {\"Product_ID\": 1, \"Purchase\": 15737.0}, {\"Product_ID\": 13, \"Purchase\": 4556.615384615385}, {\"Product_ID\": 68, \"Purchase\": 6896.455882352941}, {\"Product_ID\": 259, \"Purchase\": 7675.521235521235}, {\"Product_ID\": 5, \"Purchase\": 5651.8}, {\"Product_ID\": 44, \"Purchase\": 6166.318181818182}, {\"Product_ID\": 8, \"Purchase\": 11757.375}, {\"Product_ID\": 11, \"Purchase\": 6401.909090909091}, {\"Product_ID\": 42, \"Purchase\": 6474.523809523809}, {\"Product_ID\": 70, \"Purchase\": 4620.714285714285}, {\"Product_ID\": 11, \"Purchase\": 12624.636363636364}, {\"Product_ID\": 41, \"Purchase\": 4732.390243902439}, {\"Product_ID\": 39, \"Purchase\": 5520.974358974359}, {\"Product_ID\": 1, \"Purchase\": 3939.0}, {\"Product_ID\": 1, \"Purchase\": 5436.0}, {\"Product_ID\": 13, \"Purchase\": 6912.2307692307695}, {\"Product_ID\": 258, \"Purchase\": 7075.333333333333}, {\"Product_ID\": 847, \"Purchase\": 13439.881936245572}, {\"Product_ID\": 7, \"Purchase\": 8020.428571428572}, {\"Product_ID\": 50, \"Purchase\": 6662.54}, {\"Product_ID\": 5, \"Purchase\": 498.0}, {\"Product_ID\": 322, \"Purchase\": 12509.22049689441}, {\"Product_ID\": 1, \"Purchase\": 1866.0}, {\"Product_ID\": 20, \"Purchase\": 4559.25}, {\"Product_ID\": 1, \"Purchase\": 5211.0}, {\"Product_ID\": 1, \"Purchase\": 6006.0}, {\"Product_ID\": 12, \"Purchase\": 13333.25}, {\"Product_ID\": 288, \"Purchase\": 9448.944444444445}, {\"Product_ID\": 70, \"Purchase\": 12395.3}, {\"Product_ID\": 163, \"Purchase\": 6023.20245398773}, {\"Product_ID\": 5, \"Purchase\": 6008.2}, {\"Product_ID\": 19, \"Purchase\": 9146.842105263158}, {\"Product_ID\": 1, \"Purchase\": 5897.0}, {\"Product_ID\": 28, \"Purchase\": 8204.5}, {\"Product_ID\": 19, \"Purchase\": 8622.736842105263}, {\"Product_ID\": 12, \"Purchase\": 7318.583333333333}, {\"Product_ID\": 32, \"Purchase\": 8598.1875}, {\"Product_ID\": 270, \"Purchase\": 6632.007407407407}, {\"Product_ID\": 1, \"Purchase\": 4153.0}, {\"Product_ID\": 313, \"Purchase\": 8719.17571884984}, {\"Product_ID\": 214, \"Purchase\": 10032.107476635514}, {\"Product_ID\": 162, \"Purchase\": 8520.938271604939}, {\"Product_ID\": 1, \"Purchase\": 7766.0}, {\"Product_ID\": 37, \"Purchase\": 14938.378378378378}, {\"Product_ID\": 6, \"Purchase\": 17802.166666666668}, {\"Product_ID\": 3, \"Purchase\": 12736.333333333334}, {\"Product_ID\": 1, \"Purchase\": 2139.0}, {\"Product_ID\": 15, \"Purchase\": 7162.4}, {\"Product_ID\": 2, \"Purchase\": 4132.0}, {\"Product_ID\": 114, \"Purchase\": 8796.157894736842}, {\"Product_ID\": 1, \"Purchase\": 4095.0}, {\"Product_ID\": 63, \"Purchase\": 5708.476190476191}, {\"Product_ID\": 53, \"Purchase\": 9452.603773584906}, {\"Product_ID\": 75, \"Purchase\": 10254.613333333333}, {\"Product_ID\": 72, \"Purchase\": 618.6805555555555}, {\"Product_ID\": 3, \"Purchase\": 14010.333333333334}, {\"Product_ID\": 43, \"Purchase\": 5017.209302325581}, {\"Product_ID\": 4, \"Purchase\": 5026.25}, {\"Product_ID\": 76, \"Purchase\": 5937.315789473684}, {\"Product_ID\": 18, \"Purchase\": 7217.055555555556}, {\"Product_ID\": 3, \"Purchase\": 4127.666666666667}, {\"Product_ID\": 22, \"Purchase\": 9508.5}, {\"Product_ID\": 22, \"Purchase\": 6475.181818181818}, {\"Product_ID\": 2, \"Purchase\": 4960.0}, {\"Product_ID\": 148, \"Purchase\": 12843.648648648648}, {\"Product_ID\": 371, \"Purchase\": 6010.638814016173}, {\"Product_ID\": 76, \"Purchase\": 7950.868421052632}, {\"Product_ID\": 29, \"Purchase\": 4058.7241379310344}, {\"Product_ID\": 25, \"Purchase\": 8876.2}, {\"Product_ID\": 1, \"Purchase\": 7882.0}, {\"Product_ID\": 90, \"Purchase\": 2944.011111111111}, {\"Product_ID\": 28, \"Purchase\": 7417.642857142857}, {\"Product_ID\": 16, \"Purchase\": 11098.5}, {\"Product_ID\": 1, \"Purchase\": 7099.0}, {\"Product_ID\": 17, \"Purchase\": 6231.058823529412}, {\"Product_ID\": 135, \"Purchase\": 4763.474074074074}, {\"Product_ID\": 227, \"Purchase\": 11870.863436123347}, {\"Product_ID\": 14, \"Purchase\": 16327.857142857143}, {\"Product_ID\": 228, \"Purchase\": 6128.004385964912}, {\"Product_ID\": 45, \"Purchase\": 4897.711111111111}, {\"Product_ID\": 3, \"Purchase\": 6038.333333333333}, {\"Product_ID\": 128, \"Purchase\": 6611.125}, {\"Product_ID\": 1, \"Purchase\": 3999.0}, {\"Product_ID\": 1, \"Purchase\": 1977.0}, {\"Product_ID\": 28, \"Purchase\": 545.1785714285714}, {\"Product_ID\": 4, \"Purchase\": 10329.25}, {\"Product_ID\": 743, \"Purchase\": 14484.107671601616}, {\"Product_ID\": 1, \"Purchase\": 3565.0}, {\"Product_ID\": 58, \"Purchase\": 6221.603448275862}, {\"Product_ID\": 598, \"Purchase\": 12206.202341137123}, {\"Product_ID\": 156, \"Purchase\": 8461.378205128205}, {\"Product_ID\": 173, \"Purchase\": 11286.127167630058}, {\"Product_ID\": 111, \"Purchase\": 4023.8558558558557}, {\"Product_ID\": 53, \"Purchase\": 4443.169811320755}, {\"Product_ID\": 3, \"Purchase\": 4118.333333333333}, {\"Product_ID\": 379, \"Purchase\": 12276.575197889182}, {\"Product_ID\": 19, \"Purchase\": 18602.842105263157}, {\"Product_ID\": 26, \"Purchase\": 3585.5384615384614}, {\"Product_ID\": 227, \"Purchase\": 12123.198237885463}, {\"Product_ID\": 3, \"Purchase\": 5360.333333333333}, {\"Product_ID\": 737, \"Purchase\": 18951.667571234735}, {\"Product_ID\": 10, \"Purchase\": 6641.7}, {\"Product_ID\": 16, \"Purchase\": 5822.5}, {\"Product_ID\": 7, \"Purchase\": 8799.57142857143}, {\"Product_ID\": 3, \"Purchase\": 2583.0}, {\"Product_ID\": 2, \"Purchase\": 12727.0}, {\"Product_ID\": 1, \"Purchase\": 7884.0}, {\"Product_ID\": 1, \"Purchase\": 7947.0}, {\"Product_ID\": 33, \"Purchase\": 18012.333333333332}, {\"Product_ID\": 20, \"Purchase\": 8654.45}, {\"Product_ID\": 70, \"Purchase\": 8981.657142857142}, {\"Product_ID\": 160, \"Purchase\": 3808.9625}, {\"Product_ID\": 34, \"Purchase\": 6188.941176470588}, {\"Product_ID\": 86, \"Purchase\": 4771.104651162791}, {\"Product_ID\": 69, \"Purchase\": 6785.04347826087}, {\"Product_ID\": 15, \"Purchase\": 6132.733333333334}, {\"Product_ID\": 6, \"Purchase\": 14589.0}, {\"Product_ID\": 6, \"Purchase\": 6985.333333333333}, {\"Product_ID\": 1, \"Purchase\": 7913.0}, {\"Product_ID\": 3, \"Purchase\": 5071.333333333333}, {\"Product_ID\": 2, \"Purchase\": 6072.5}, {\"Product_ID\": 422, \"Purchase\": 8010.42654028436}, {\"Product_ID\": 30, \"Purchase\": 5317.133333333333}, {\"Product_ID\": 936, \"Purchase\": 13604.175213675213}, {\"Product_ID\": 53, \"Purchase\": 6810.8490566037735}, {\"Product_ID\": 80, \"Purchase\": 10710.15}, {\"Product_ID\": 198, \"Purchase\": 8842.828282828283}, {\"Product_ID\": 211, \"Purchase\": 4809.578199052133}, {\"Product_ID\": 415, \"Purchase\": 6089.118072289157}, {\"Product_ID\": 248, \"Purchase\": 12031.233870967742}, {\"Product_ID\": 1, \"Purchase\": 20323.0}, {\"Product_ID\": 517, \"Purchase\": 5325.04835589942}, {\"Product_ID\": 1, \"Purchase\": 7884.0}, {\"Product_ID\": 1, \"Purchase\": 6031.0}, {\"Product_ID\": 1, \"Purchase\": 18456.0}, {\"Product_ID\": 6, \"Purchase\": 4932.833333333333}, {\"Product_ID\": 2, \"Purchase\": 6035.5}, {\"Product_ID\": 110, \"Purchase\": 10794.181818181818}, {\"Product_ID\": 182, \"Purchase\": 5902.802197802198}, {\"Product_ID\": 351, \"Purchase\": 8055.173789173789}, {\"Product_ID\": 63, \"Purchase\": 2099.3333333333335}, {\"Product_ID\": 233, \"Purchase\": 6947.609442060086}, {\"Product_ID\": 34, \"Purchase\": 14257.70588235294}, {\"Product_ID\": 121, \"Purchase\": 5232.793388429752}, {\"Product_ID\": 208, \"Purchase\": 7204.096153846154}, {\"Product_ID\": 31, \"Purchase\": 6340.4838709677415}, {\"Product_ID\": 6, \"Purchase\": 5031.5}, {\"Product_ID\": 16, \"Purchase\": 10670.6875}, {\"Product_ID\": 51, \"Purchase\": 9940.823529411764}, {\"Product_ID\": 71, \"Purchase\": 1120.7887323943662}, {\"Product_ID\": 5, \"Purchase\": 6342.8}, {\"Product_ID\": 28, \"Purchase\": 4438.25}, {\"Product_ID\": 5, \"Purchase\": 8768.6}, {\"Product_ID\": 97, \"Purchase\": 4307.886597938144}, {\"Product_ID\": 2, \"Purchase\": 5044.0}, {\"Product_ID\": 1, \"Purchase\": 4073.0}, {\"Product_ID\": 1, \"Purchase\": 9930.0}, {\"Product_ID\": 13, \"Purchase\": 8560.23076923077}, {\"Product_ID\": 1, \"Purchase\": 2096.0}, {\"Product_ID\": 25, \"Purchase\": 8814.36}, {\"Product_ID\": 75, \"Purchase\": 4262.626666666667}, {\"Product_ID\": 155, \"Purchase\": 5071.561290322581}, {\"Product_ID\": 10, \"Purchase\": 7770.7}, {\"Product_ID\": 316, \"Purchase\": 6897.452531645569}, {\"Product_ID\": 44, \"Purchase\": 3790.409090909091}, {\"Product_ID\": 2, \"Purchase\": 3718.5}, {\"Product_ID\": 59, \"Purchase\": 6291.457627118644}, {\"Product_ID\": 139, \"Purchase\": 10223.489208633093}, {\"Product_ID\": 118, \"Purchase\": 2428.3898305084745}, {\"Product_ID\": 282, \"Purchase\": 6904.351063829788}, {\"Product_ID\": 72, \"Purchase\": 8731.847222222223}, {\"Product_ID\": 24, \"Purchase\": 4871.041666666667}, {\"Product_ID\": 12, \"Purchase\": 5583.083333333333}, {\"Product_ID\": 89, \"Purchase\": 4192.3258426966295}, {\"Product_ID\": 2, \"Purchase\": 6941.0}, {\"Product_ID\": 17, \"Purchase\": 7044.823529411765}, {\"Product_ID\": 5, \"Purchase\": 2940.2}, {\"Product_ID\": 84, \"Purchase\": 6928.297619047619}, {\"Product_ID\": 269, \"Purchase\": 10145.550185873606}, {\"Product_ID\": 18, \"Purchase\": 15037.777777777777}, {\"Product_ID\": 67, \"Purchase\": 6915.79104477612}, {\"Product_ID\": 336, \"Purchase\": 5625.547619047619}, {\"Product_ID\": 2, \"Purchase\": 7081.0}, {\"Product_ID\": 4, \"Purchase\": 8884.75}, {\"Product_ID\": 1203, \"Purchase\": 17564.67664172901}, {\"Product_ID\": 1, \"Purchase\": 8124.0}, {\"Product_ID\": 7, \"Purchase\": 6096.571428571428}, {\"Product_ID\": 150, \"Purchase\": 13757.373333333333}, {\"Product_ID\": 17, \"Purchase\": 7128.176470588235}, {\"Product_ID\": 8, \"Purchase\": 6180.625}, {\"Product_ID\": 9, \"Purchase\": 6468.777777777777}, {\"Product_ID\": 337, \"Purchase\": 15548.091988130564}, {\"Product_ID\": 13, \"Purchase\": 3702.4615384615386}, {\"Product_ID\": 1, \"Purchase\": 5338.0}, {\"Product_ID\": 28, \"Purchase\": 12358.214285714286}, {\"Product_ID\": 25, \"Purchase\": 4082.32}, {\"Product_ID\": 1, \"Purchase\": 6138.0}, {\"Product_ID\": 5, \"Purchase\": 12217.0}, {\"Product_ID\": 28, \"Purchase\": 6364.964285714285}, {\"Product_ID\": 10, \"Purchase\": 12747.7}, {\"Product_ID\": 13, \"Purchase\": 6886.923076923077}, {\"Product_ID\": 137, \"Purchase\": 4221.153284671533}, {\"Product_ID\": 167, \"Purchase\": 9260.191616766468}, {\"Product_ID\": 38, \"Purchase\": 1892.0526315789473}, {\"Product_ID\": 30, \"Purchase\": 5207.766666666666}, {\"Product_ID\": 22, \"Purchase\": 1811.2727272727273}, {\"Product_ID\": 54, \"Purchase\": 11182.833333333334}, {\"Product_ID\": 2, \"Purchase\": 5037.5}, {\"Product_ID\": 25, \"Purchase\": 6152.76}, {\"Product_ID\": 1, \"Purchase\": 11012.0}, {\"Product_ID\": 102, \"Purchase\": 3461.5098039215686}, {\"Product_ID\": 82, \"Purchase\": 6783.195121951219}, {\"Product_ID\": 35, \"Purchase\": 7534.2}, {\"Product_ID\": 1, \"Purchase\": 2248.0}, {\"Product_ID\": 26, \"Purchase\": 6632.7307692307695}, {\"Product_ID\": 49, \"Purchase\": 12006.142857142857}, {\"Product_ID\": 309, \"Purchase\": 7560.223300970873}, {\"Product_ID\": 419, \"Purchase\": 1480.4319809069214}, {\"Product_ID\": 199, \"Purchase\": 1354.4472361809046}, {\"Product_ID\": 102, \"Purchase\": 6226.558823529412}, {\"Product_ID\": 381, \"Purchase\": 7878.6509186351705}, {\"Product_ID\": 497, \"Purchase\": 801.7022132796781}, {\"Product_ID\": 564, \"Purchase\": 845.2393617021277}, {\"Product_ID\": 202, \"Purchase\": 7497.8861386138615}, {\"Product_ID\": 103, \"Purchase\": 777.6699029126214}, {\"Product_ID\": 62, \"Purchase\": 7085.564516129032}, {\"Product_ID\": 741, \"Purchase\": 8641.950067476384}, {\"Product_ID\": 230, \"Purchase\": 7163.439130434783}, {\"Product_ID\": 432, \"Purchase\": 7529.685185185185}, {\"Product_ID\": 177, \"Purchase\": 7326.887005649717}, {\"Product_ID\": 900, \"Purchase\": 8799.335555555555}, {\"Product_ID\": 552, \"Purchase\": 20980.268115942028}, {\"Product_ID\": 341, \"Purchase\": 1455.1407624633432}, {\"Product_ID\": 197, \"Purchase\": 7062.3045685279185}, {\"Product_ID\": 236, \"Purchase\": 7367.122881355932}, {\"Product_ID\": 38, \"Purchase\": 2628.157894736842}, {\"Product_ID\": 96, \"Purchase\": 1381.71875}, {\"Product_ID\": 963, \"Purchase\": 13836.970924195224}, {\"Product_ID\": 624, \"Purchase\": 8001.8108974358975}, {\"Product_ID\": 167, \"Purchase\": 6876.047904191617}, {\"Product_ID\": 273, \"Purchase\": 21256.505494505494}, {\"Product_ID\": 627, \"Purchase\": 8786.511961722488}, {\"Product_ID\": 966, \"Purchase\": 8062.087991718427}, {\"Product_ID\": 5, \"Purchase\": 11733.6}, {\"Product_ID\": 216, \"Purchase\": 8472.180555555555}, {\"Product_ID\": 39, \"Purchase\": 6760.179487179487}, {\"Product_ID\": 227, \"Purchase\": 15500.273127753304}, {\"Product_ID\": 53, \"Purchase\": 15802.207547169812}, {\"Product_ID\": 240, \"Purchase\": 20113.225}, {\"Product_ID\": 111, \"Purchase\": 744.5765765765766}, {\"Product_ID\": 104, \"Purchase\": 14229.596153846154}, {\"Product_ID\": 222, \"Purchase\": 7179.054054054054}, {\"Product_ID\": 171, \"Purchase\": 6401.204678362573}, {\"Product_ID\": 44, \"Purchase\": 6428.068181818182}, {\"Product_ID\": 66, \"Purchase\": 7192.484848484848}, {\"Product_ID\": 21, \"Purchase\": 7233.9047619047615}, {\"Product_ID\": 102, \"Purchase\": 1237.8921568627452}, {\"Product_ID\": 6, \"Purchase\": 5066.166666666667}, {\"Product_ID\": 205, \"Purchase\": 15353.90731707317}, {\"Product_ID\": 48, \"Purchase\": 11636.604166666666}, {\"Product_ID\": 172, \"Purchase\": 17058.587209302324}, {\"Product_ID\": 103, \"Purchase\": 8028.0485436893205}, {\"Product_ID\": 52, \"Purchase\": 7467.807692307692}, {\"Product_ID\": 147, \"Purchase\": 7205.2040816326535}, {\"Product_ID\": 93, \"Purchase\": 6784.268817204301}, {\"Product_ID\": 107, \"Purchase\": 7043.411214953271}, {\"Product_ID\": 74, \"Purchase\": 7397.013513513513}, {\"Product_ID\": 131, \"Purchase\": 8008.366412213741}, {\"Product_ID\": 153, \"Purchase\": 799.9869281045752}, {\"Product_ID\": 209, \"Purchase\": 7448.492822966507}, {\"Product_ID\": 150, \"Purchase\": 11624.206666666667}, {\"Product_ID\": 402, \"Purchase\": 8543.542288557213}, {\"Product_ID\": 201, \"Purchase\": 8315.044776119403}, {\"Product_ID\": 211, \"Purchase\": 7375.450236966824}, {\"Product_ID\": 26, \"Purchase\": 7028.307692307692}, {\"Product_ID\": 20, \"Purchase\": 6568.55}, {\"Product_ID\": 6, \"Purchase\": 5900.5}, {\"Product_ID\": 34, \"Purchase\": 7516.617647058823}, {\"Product_ID\": 9, \"Purchase\": 10980.777777777777}, {\"Product_ID\": 15, \"Purchase\": 6421.133333333333}, {\"Product_ID\": 7, \"Purchase\": 15276.57142857143}, {\"Product_ID\": 33, \"Purchase\": 1244.7575757575758}, {\"Product_ID\": 31, \"Purchase\": 2612.3548387096776}, {\"Product_ID\": 153, \"Purchase\": 16693.57516339869}, {\"Product_ID\": 4, \"Purchase\": 7991.0}, {\"Product_ID\": 8, \"Purchase\": 2226.75}, {\"Product_ID\": 392, \"Purchase\": 5447.676020408163}, {\"Product_ID\": 578, \"Purchase\": 16304.842560553634}, {\"Product_ID\": 21, \"Purchase\": 5818.190476190476}, {\"Product_ID\": 151, \"Purchase\": 7946.701986754967}, {\"Product_ID\": 5, \"Purchase\": 6421.4}, {\"Product_ID\": 45, \"Purchase\": 7879.577777777778}, {\"Product_ID\": 4, \"Purchase\": 6882.75}, {\"Product_ID\": 1, \"Purchase\": 3725.0}, {\"Product_ID\": 29, \"Purchase\": 13878.620689655172}, {\"Product_ID\": 1, \"Purchase\": 405.0}, {\"Product_ID\": 61, \"Purchase\": 7831.065573770492}, {\"Product_ID\": 2, \"Purchase\": 11827.5}, {\"Product_ID\": 2, \"Purchase\": 3977.0}, {\"Product_ID\": 46, \"Purchase\": 7369.478260869565}, {\"Product_ID\": 16, \"Purchase\": 4711.875}, {\"Product_ID\": 2, \"Purchase\": 12582.0}, {\"Product_ID\": 123, \"Purchase\": 11718.536585365853}, {\"Product_ID\": 22, \"Purchase\": 5763.545454545455}, {\"Product_ID\": 44, \"Purchase\": 5909.977272727273}, {\"Product_ID\": 28, \"Purchase\": 10556.5}, {\"Product_ID\": 104, \"Purchase\": 6983.0}, {\"Product_ID\": 10, \"Purchase\": 12553.7}, {\"Product_ID\": 6, \"Purchase\": 6987.333333333333}, {\"Product_ID\": 254, \"Purchase\": 8145.181102362205}, {\"Product_ID\": 137, \"Purchase\": 11328.620437956204}, {\"Product_ID\": 17, \"Purchase\": 6442.235294117647}, {\"Product_ID\": 57, \"Purchase\": 11619.263157894737}, {\"Product_ID\": 156, \"Purchase\": 13525.916666666666}, {\"Product_ID\": 68, \"Purchase\": 6231.088235294118}, {\"Product_ID\": 130, \"Purchase\": 6686.476923076923}, {\"Product_ID\": 19, \"Purchase\": 15629.105263157895}, {\"Product_ID\": 64, \"Purchase\": 17651.078125}, {\"Product_ID\": 2, \"Purchase\": 14902.0}, {\"Product_ID\": 729, \"Purchase\": 12544.858710562414}, {\"Product_ID\": 12, \"Purchase\": 15412.416666666666}, {\"Product_ID\": 428, \"Purchase\": 7015.901869158878}, {\"Product_ID\": 205, \"Purchase\": 6760.141463414634}, {\"Product_ID\": 722, \"Purchase\": 6981.918282548477}, {\"Product_ID\": 513, \"Purchase\": 7066.454191033138}, {\"Product_ID\": 237, \"Purchase\": 6483.9282700421945}, {\"Product_ID\": 71, \"Purchase\": 7264.239436619719}, {\"Product_ID\": 87, \"Purchase\": 6433.586206896552}, {\"Product_ID\": 365, \"Purchase\": 16782.764383561644}, {\"Product_ID\": 67, \"Purchase\": 12408.44776119403}, {\"Product_ID\": 208, \"Purchase\": 782.7788461538462}, {\"Product_ID\": 7, \"Purchase\": 993.2857142857143}, {\"Product_ID\": 396, \"Purchase\": 1151.8838383838383}, {\"Product_ID\": 644, \"Purchase\": 16776.93944099379}, {\"Product_ID\": 616, \"Purchase\": 8087.623376623376}, {\"Product_ID\": 190, \"Purchase\": 4952.9631578947365}, {\"Product_ID\": 410, \"Purchase\": 679.8560975609756}, {\"Product_ID\": 381, \"Purchase\": 6785.847769028871}, {\"Product_ID\": 683, \"Purchase\": 7453.080527086384}, {\"Product_ID\": 305, \"Purchase\": 7770.5934426229505}, {\"Product_ID\": 169, \"Purchase\": 7825.704142011834}, {\"Product_ID\": 1246, \"Purchase\": 2790.890048154093}, {\"Product_ID\": 2, \"Purchase\": 4344.5}, {\"Product_ID\": 103, \"Purchase\": 7865.1067961165045}, {\"Product_ID\": 232, \"Purchase\": 11197.659482758621}, {\"Product_ID\": 571, \"Purchase\": 14343.355516637479}, {\"Product_ID\": 3, \"Purchase\": 9185.666666666666}, {\"Product_ID\": 228, \"Purchase\": 7761.228070175439}, {\"Product_ID\": 281, \"Purchase\": 8443.088967971531}, {\"Product_ID\": 24, \"Purchase\": 3092.375}, {\"Product_ID\": 3, \"Purchase\": 3549.0}, {\"Product_ID\": 50, \"Purchase\": 16955.02}, {\"Product_ID\": 18, \"Purchase\": 13007.555555555555}, {\"Product_ID\": 23, \"Purchase\": 4970.608695652174}, {\"Product_ID\": 20, \"Purchase\": 5410.85}, {\"Product_ID\": 1, \"Purchase\": 1745.0}, {\"Product_ID\": 6, \"Purchase\": 6996.0}, {\"Product_ID\": 8, \"Purchase\": 8163.125}, {\"Product_ID\": 1, \"Purchase\": 6493.0}, {\"Product_ID\": 13, \"Purchase\": 5967.7692307692305}, {\"Product_ID\": 238, \"Purchase\": 7060.878151260505}, {\"Product_ID\": 8, \"Purchase\": 6505.25}, {\"Product_ID\": 21, \"Purchase\": 15009.142857142857}, {\"Product_ID\": 224, \"Purchase\": 7509.96875}, {\"Product_ID\": 209, \"Purchase\": 6607.741626794258}, {\"Product_ID\": 168, \"Purchase\": 4293.244047619048}, {\"Product_ID\": 917, \"Purchase\": 14364.123227917122}, {\"Product_ID\": 98, \"Purchase\": 4425.897959183673}, {\"Product_ID\": 487, \"Purchase\": 13577.047227926078}, {\"Product_ID\": 125, \"Purchase\": 4837.704}, {\"Product_ID\": 108, \"Purchase\": 8599.166666666666}, {\"Product_ID\": 125, \"Purchase\": 8542.08}, {\"Product_ID\": 2, \"Purchase\": 11864.0}, {\"Product_ID\": 221, \"Purchase\": 5664.529411764706}, {\"Product_ID\": 905, \"Purchase\": 7574.624309392265}, {\"Product_ID\": 4, \"Purchase\": 13404.75}, {\"Product_ID\": 1, \"Purchase\": 2229.0}, {\"Product_ID\": 6, \"Purchase\": 13950.166666666666}, {\"Product_ID\": 2, \"Purchase\": 10630.5}, {\"Product_ID\": 151, \"Purchase\": 18113.324503311258}, {\"Product_ID\": 491, \"Purchase\": 12121.285132382893}, {\"Product_ID\": 2, \"Purchase\": 16453.0}, {\"Product_ID\": 81, \"Purchase\": 7745.456790123457}, {\"Product_ID\": 17, \"Purchase\": 9324.235294117647}, {\"Product_ID\": 15, \"Purchase\": 14135.266666666666}, {\"Product_ID\": 4, \"Purchase\": 13089.0}, {\"Product_ID\": 5, \"Purchase\": 19813.8}, {\"Product_ID\": 1, \"Purchase\": 1924.0}, {\"Product_ID\": 48, \"Purchase\": 7602.458333333333}, {\"Product_ID\": 56, \"Purchase\": 6770.875}, {\"Product_ID\": 12, \"Purchase\": 5662.666666666667}, {\"Product_ID\": 1, \"Purchase\": 2050.0}, {\"Product_ID\": 1, \"Purchase\": 2161.0}, {\"Product_ID\": 47, \"Purchase\": 5203.68085106383}, {\"Product_ID\": 10, \"Purchase\": 3393.1}, {\"Product_ID\": 16, \"Purchase\": 14823.375}, {\"Product_ID\": 10, \"Purchase\": 7154.2}, {\"Product_ID\": 237, \"Purchase\": 6511.995780590717}, {\"Product_ID\": 350, \"Purchase\": 7477.745714285715}, {\"Product_ID\": 105, \"Purchase\": 6640.619047619048}, {\"Product_ID\": 2, \"Purchase\": 5385.5}, {\"Product_ID\": 201, \"Purchase\": 6933.850746268657}, {\"Product_ID\": 70, \"Purchase\": 7833.957142857143}, {\"Product_ID\": 78, \"Purchase\": 7568.346153846154}, {\"Product_ID\": 115, \"Purchase\": 8791.0}, {\"Product_ID\": 458, \"Purchase\": 15416.050218340612}, {\"Product_ID\": 23, \"Purchase\": 6735.434782608696}, {\"Product_ID\": 7, \"Purchase\": 10703.57142857143}, {\"Product_ID\": 563, \"Purchase\": 7244.293072824156}, {\"Product_ID\": 47, \"Purchase\": 6555.808510638298}, {\"Product_ID\": 249, \"Purchase\": 7870.116465863453}, {\"Product_ID\": 320, \"Purchase\": 7232.828125}, {\"Product_ID\": 76, \"Purchase\": 7203.1973684210525}, {\"Product_ID\": 357, \"Purchase\": 7025.344537815126}, {\"Product_ID\": 152, \"Purchase\": 17812.70394736842}, {\"Product_ID\": 74, \"Purchase\": 7165.175675675676}, {\"Product_ID\": 121, \"Purchase\": 12501.082644628099}, {\"Product_ID\": 59, \"Purchase\": 16946.677966101695}, {\"Product_ID\": 958, \"Purchase\": 8750.015657620042}, {\"Product_ID\": 106, \"Purchase\": 5882.5}, {\"Product_ID\": 1612, \"Purchase\": 16577.11476426799}, {\"Product_ID\": 1281, \"Purchase\": 16698.455893832943}, {\"Product_ID\": 1360, \"Purchase\": 17382.032352941176}, {\"Product_ID\": 503, \"Purchase\": 17568.610337972168}, {\"Product_ID\": 1015, \"Purchase\": 16088.906403940886}, {\"Product_ID\": 435, \"Purchase\": 15970.602298850576}, {\"Product_ID\": 36, \"Purchase\": 6339.972222222223}, {\"Product_ID\": 323, \"Purchase\": 8599.482972136222}, {\"Product_ID\": 445, \"Purchase\": 14174.460674157302}, {\"Product_ID\": 119, \"Purchase\": 12497.38655462185}, {\"Product_ID\": 689, \"Purchase\": 17320.43831640058}, {\"Product_ID\": 514, \"Purchase\": 8828.498054474709}, {\"Product_ID\": 646, \"Purchase\": 8435.484520123839}, {\"Product_ID\": 91, \"Purchase\": 3099.1428571428573}, {\"Product_ID\": 1562, \"Purchase\": 15503.204865556978}, {\"Product_ID\": 122, \"Purchase\": 7371.0}, {\"Product_ID\": 289, \"Purchase\": 847.9065743944636}, {\"Product_ID\": 923, \"Purchase\": 17266.218851570964}, {\"Product_ID\": 1131, \"Purchase\": 16046.893899204244}, {\"Product_ID\": 509, \"Purchase\": 14651.998035363458}, {\"Product_ID\": 45, \"Purchase\": 12207.888888888889}, {\"Product_ID\": 184, \"Purchase\": 8583.097826086956}, {\"Product_ID\": 122, \"Purchase\": 16042.303278688525}, {\"Product_ID\": 670, \"Purchase\": 6390.746268656716}, {\"Product_ID\": 759, \"Purchase\": 15231.05928853755}, {\"Product_ID\": 933, \"Purchase\": 16828.90139335477}, {\"Product_ID\": 675, \"Purchase\": 16009.254814814814}, {\"Product_ID\": 254, \"Purchase\": 11746.66535433071}, {\"Product_ID\": 212, \"Purchase\": 8530.462264150943}, {\"Product_ID\": 747, \"Purchase\": 8399.053547523426}, {\"Product_ID\": 129, \"Purchase\": 7238.519379844961}, {\"Product_ID\": 136, \"Purchase\": 15548.963235294117}, {\"Product_ID\": 371, \"Purchase\": 8320.361185983827}, {\"Product_ID\": 708, \"Purchase\": 7227.75988700565}, {\"Product_ID\": 403, \"Purchase\": 8087.5533498759305}, {\"Product_ID\": 26, \"Purchase\": 675.1153846153846}, {\"Product_ID\": 542, \"Purchase\": 16538.854243542435}, {\"Product_ID\": 553, \"Purchase\": 7573.605786618445}, {\"Product_ID\": 378, \"Purchase\": 7206.3650793650795}, {\"Product_ID\": 49, \"Purchase\": 7362.714285714285}, {\"Product_ID\": 182, \"Purchase\": 8358.285714285714}, {\"Product_ID\": 199, \"Purchase\": 7009.753768844221}, {\"Product_ID\": 1178, \"Purchase\": 16301.281833616298}, {\"Product_ID\": 34, \"Purchase\": 5908.823529411765}, {\"Product_ID\": 593, \"Purchase\": 16255.099494097807}, {\"Product_ID\": 181, \"Purchase\": 6907.182320441989}, {\"Product_ID\": 372, \"Purchase\": 7247.309139784947}, {\"Product_ID\": 198, \"Purchase\": 8001.813131313132}, {\"Product_ID\": 478, \"Purchase\": 7836.154811715481}, {\"Product_ID\": 717, \"Purchase\": 8404.284518828452}, {\"Product_ID\": 288, \"Purchase\": 17205.65625}, {\"Product_ID\": 405, \"Purchase\": 16430.167901234567}, {\"Product_ID\": 530, \"Purchase\": 8646.975471698113}, {\"Product_ID\": 140, \"Purchase\": 8177.835714285714}, {\"Product_ID\": 642, \"Purchase\": 20463.791277258566}, {\"Product_ID\": 286, \"Purchase\": 8045.737762237763}, {\"Product_ID\": 258, \"Purchase\": 13683.042635658914}, {\"Product_ID\": 24, \"Purchase\": 5795.333333333333}, {\"Product_ID\": 318, \"Purchase\": 7311.808176100629}, {\"Product_ID\": 258, \"Purchase\": 6769.410852713178}, {\"Product_ID\": 606, \"Purchase\": 6199.523102310231}, {\"Product_ID\": 979, \"Purchase\": 13430.779366700715}, {\"Product_ID\": 167, \"Purchase\": 17587.65868263473}, {\"Product_ID\": 298, \"Purchase\": 14786.842281879195}, {\"Product_ID\": 374, \"Purchase\": 14223.70588235294}, {\"Product_ID\": 380, \"Purchase\": 8202.257894736842}, {\"Product_ID\": 135, \"Purchase\": 15385.570370370371}, {\"Product_ID\": 1260, \"Purchase\": 6965.657936507937}, {\"Product_ID\": 550, \"Purchase\": 3170.2090909090907}, {\"Product_ID\": 395, \"Purchase\": 20400.2835443038}, {\"Product_ID\": 161, \"Purchase\": 6989.925465838509}, {\"Product_ID\": 375, \"Purchase\": 7290.861333333333}, {\"Product_ID\": 1364, \"Purchase\": 6976.4926686217}, {\"Product_ID\": 335, \"Purchase\": 7553.170149253731}, {\"Product_ID\": 347, \"Purchase\": 8556.547550432277}, {\"Product_ID\": 82, \"Purchase\": 6904.5}, {\"Product_ID\": 249, \"Purchase\": 12913.321285140562}, {\"Product_ID\": 407, \"Purchase\": 14736.457002457002}, {\"Product_ID\": 495, \"Purchase\": 7481.7252525252525}, {\"Product_ID\": 186, \"Purchase\": 15112.41935483871}, {\"Product_ID\": 643, \"Purchase\": 7424.108864696734}, {\"Product_ID\": 104, \"Purchase\": 6645.221153846154}, {\"Product_ID\": 151, \"Purchase\": 8254.1059602649}, {\"Product_ID\": 110, \"Purchase\": 7093.581818181819}, {\"Product_ID\": 518, \"Purchase\": 10551.660231660231}, {\"Product_ID\": 242, \"Purchase\": 3216.0371900826444}, {\"Product_ID\": 308, \"Purchase\": 20448.756493506495}, {\"Product_ID\": 444, \"Purchase\": 6613.378378378378}, {\"Product_ID\": 138, \"Purchase\": 7072.347826086957}, {\"Product_ID\": 391, \"Purchase\": 15897.20716112532}, {\"Product_ID\": 617, \"Purchase\": 7291.2009724473255}, {\"Product_ID\": 98, \"Purchase\": 16041.265306122448}, {\"Product_ID\": 114, \"Purchase\": 7250.824561403509}, {\"Product_ID\": 902, \"Purchase\": 15970.594235033259}, {\"Product_ID\": 327, \"Purchase\": 6987.128440366972}, {\"Product_ID\": 348, \"Purchase\": 8193.543103448275}, {\"Product_ID\": 629, \"Purchase\": 7244.538950715421}, {\"Product_ID\": 139, \"Purchase\": 7253.618705035971}, {\"Product_ID\": 299, \"Purchase\": 7925.374581939799}, {\"Product_ID\": 244, \"Purchase\": 6392.299180327869}, {\"Product_ID\": 230, \"Purchase\": 7261.417391304348}, {\"Product_ID\": 404, \"Purchase\": 8434.814356435643}, {\"Product_ID\": 176, \"Purchase\": 8420.602272727272}, {\"Product_ID\": 199, \"Purchase\": 16801.768844221104}, {\"Product_ID\": 442, \"Purchase\": 7849.450226244344}, {\"Product_ID\": 170, \"Purchase\": 13236.070588235294}, {\"Product_ID\": 758, \"Purchase\": 16488.402374670186}, {\"Product_ID\": 57, \"Purchase\": 7464.350877192983}, {\"Product_ID\": 80, \"Purchase\": 7216.5}, {\"Product_ID\": 853, \"Purchase\": 7178.317702227432}, {\"Product_ID\": 24, \"Purchase\": 14743.583333333334}, {\"Product_ID\": 4, \"Purchase\": 1815.75}, {\"Product_ID\": 16, \"Purchase\": 6018.625}, {\"Product_ID\": 4, \"Purchase\": 7194.75}, {\"Product_ID\": 2, \"Purchase\": 8279.5}, {\"Product_ID\": 15, \"Purchase\": 5762.466666666666}, {\"Product_ID\": 518, \"Purchase\": 11942.718146718147}, {\"Product_ID\": 290, \"Purchase\": 5536.951724137931}, {\"Product_ID\": 17, \"Purchase\": 2901.176470588235}, {\"Product_ID\": 30, \"Purchase\": 2186.5}, {\"Product_ID\": 12, \"Purchase\": 2883.1666666666665}, {\"Product_ID\": 13, \"Purchase\": 2396.923076923077}, {\"Product_ID\": 26, \"Purchase\": 3061.8076923076924}, {\"Product_ID\": 202, \"Purchase\": 4463.376237623763}, {\"Product_ID\": 12, \"Purchase\": 2572.0833333333335}, {\"Product_ID\": 19, \"Purchase\": 4328.684210526316}, {\"Product_ID\": 61, \"Purchase\": 5168.163934426229}, {\"Product_ID\": 29, \"Purchase\": 4690.275862068966}, {\"Product_ID\": 65, \"Purchase\": 4342.138461538461}, {\"Product_ID\": 405, \"Purchase\": 5796.476543209877}, {\"Product_ID\": 204, \"Purchase\": 4713.014705882353}, {\"Product_ID\": 12, \"Purchase\": 7375.25}, {\"Product_ID\": 27, \"Purchase\": 3254.3333333333335}, {\"Product_ID\": 30, \"Purchase\": 5642.9}, {\"Product_ID\": 345, \"Purchase\": 4990.933333333333}, {\"Product_ID\": 105, \"Purchase\": 5830.27619047619}, {\"Product_ID\": 37, \"Purchase\": 4264.081081081081}, {\"Product_ID\": 151, \"Purchase\": 4364.12582781457}, {\"Product_ID\": 393, \"Purchase\": 15219.040712468193}, {\"Product_ID\": 202, \"Purchase\": 18139.30693069307}, {\"Product_ID\": 314, \"Purchase\": 5381.111464968153}, {\"Product_ID\": 92, \"Purchase\": 4923.239130434783}, {\"Product_ID\": 251, \"Purchase\": 5191.972111553785}, {\"Product_ID\": 132, \"Purchase\": 6242.242424242424}, {\"Product_ID\": 10, \"Purchase\": 5017.0}, {\"Product_ID\": 231, \"Purchase\": 5575.458874458875}, {\"Product_ID\": 18, \"Purchase\": 6506.666666666667}, {\"Product_ID\": 55, \"Purchase\": 12169.636363636364}, {\"Product_ID\": 103, \"Purchase\": 5638.902912621359}, {\"Product_ID\": 151, \"Purchase\": 7699.0066225165565}, {\"Product_ID\": 42, \"Purchase\": 4463.452380952381}, {\"Product_ID\": 725, \"Purchase\": 14527.684137931035}, {\"Product_ID\": 312, \"Purchase\": 7623.589743589743}, {\"Product_ID\": 643, \"Purchase\": 8300.006220839814}, {\"Product_ID\": 134, \"Purchase\": 8480.223880597016}, {\"Product_ID\": 1, \"Purchase\": 9875.0}, {\"Product_ID\": 87, \"Purchase\": 17288.67816091954}, {\"Product_ID\": 48, \"Purchase\": 7754.520833333333}, {\"Product_ID\": 55, \"Purchase\": 5920.836363636364}, {\"Product_ID\": 1, \"Purchase\": 15636.0}, {\"Product_ID\": 29, \"Purchase\": 7761.413793103448}, {\"Product_ID\": 55, \"Purchase\": 6055.927272727273}, {\"Product_ID\": 203, \"Purchase\": 2122.896551724138}, {\"Product_ID\": 3, \"Purchase\": 6582.666666666667}, {\"Product_ID\": 601, \"Purchase\": 13710.317803660566}, {\"Product_ID\": 438, \"Purchase\": 12260.89497716895}, {\"Product_ID\": 536, \"Purchase\": 13367.388059701492}, {\"Product_ID\": 347, \"Purchase\": 10664.78097982709}, {\"Product_ID\": 762, \"Purchase\": 15057.725721784776}, {\"Product_ID\": 495, \"Purchase\": 13046.317171717172}, {\"Product_ID\": 609, \"Purchase\": 14287.093596059114}, {\"Product_ID\": 529, \"Purchase\": 11746.604914933838}, {\"Product_ID\": 306, \"Purchase\": 13337.709150326797}, {\"Product_ID\": 206, \"Purchase\": 11203.922330097088}, {\"Product_ID\": 466, \"Purchase\": 6265.755364806867}, {\"Product_ID\": 174, \"Purchase\": 3482.2758620689656}, {\"Product_ID\": 64, \"Purchase\": 10806.484375}, {\"Product_ID\": 6, \"Purchase\": 5966.833333333333}, {\"Product_ID\": 2, \"Purchase\": 6965.0}, {\"Product_ID\": 245, \"Purchase\": 12806.869387755101}, {\"Product_ID\": 936, \"Purchase\": 15781.11858974359}, {\"Product_ID\": 197, \"Purchase\": 9982.091370558375}, {\"Product_ID\": 121, \"Purchase\": 7588.9586776859505}, {\"Product_ID\": 70, \"Purchase\": 5639.5}, {\"Product_ID\": 566, \"Purchase\": 11361.015901060071}, {\"Product_ID\": 119, \"Purchase\": 6702.142857142857}, {\"Product_ID\": 752, \"Purchase\": 7579.474734042553}, {\"Product_ID\": 773, \"Purchase\": 7039.82276843467}, {\"Product_ID\": 156, \"Purchase\": 5675.858974358975}, {\"Product_ID\": 598, \"Purchase\": 15348.767558528429}, {\"Product_ID\": 38, \"Purchase\": 7023.026315789473}, {\"Product_ID\": 33, \"Purchase\": 12586.151515151516}, {\"Product_ID\": 56, \"Purchase\": 6297.196428571428}, {\"Product_ID\": 80, \"Purchase\": 7168.4875}, {\"Product_ID\": 36, \"Purchase\": 13079.305555555555}, {\"Product_ID\": 253, \"Purchase\": 8184.612648221344}, {\"Product_ID\": 12, \"Purchase\": 6755.166666666667}, {\"Product_ID\": 485, \"Purchase\": 5369.00206185567}, {\"Product_ID\": 549, \"Purchase\": 14784.952641165755}, {\"Product_ID\": 201, \"Purchase\": 5282.064676616916}, {\"Product_ID\": 48, \"Purchase\": 5503.375}, {\"Product_ID\": 210, \"Purchase\": 7723.757142857143}, {\"Product_ID\": 14, \"Purchase\": 7913.428571428572}, {\"Product_ID\": 30, \"Purchase\": 6714.533333333334}, {\"Product_ID\": 87, \"Purchase\": 6548.3448275862065}, {\"Product_ID\": 15, \"Purchase\": 13876.133333333333}, {\"Product_ID\": 151, \"Purchase\": 6596.562913907284}, {\"Product_ID\": 19, \"Purchase\": 5537.263157894737}, {\"Product_ID\": 77, \"Purchase\": 7882.558441558442}, {\"Product_ID\": 4, \"Purchase\": 13387.75}, {\"Product_ID\": 14, \"Purchase\": 12526.214285714286}, {\"Product_ID\": 142, \"Purchase\": 585.5352112676056}, {\"Product_ID\": 7, \"Purchase\": 9280.57142857143}, {\"Product_ID\": 84, \"Purchase\": 5648.571428571428}, {\"Product_ID\": 12, \"Purchase\": 1902.3333333333333}, {\"Product_ID\": 31, \"Purchase\": 10051.290322580646}, {\"Product_ID\": 35, \"Purchase\": 5984.257142857143}, {\"Product_ID\": 170, \"Purchase\": 12922.788235294118}, {\"Product_ID\": 1, \"Purchase\": 4776.0}, {\"Product_ID\": 126, \"Purchase\": 10060.388888888889}, {\"Product_ID\": 62, \"Purchase\": 10721.516129032258}, {\"Product_ID\": 1, \"Purchase\": 7053.0}, {\"Product_ID\": 2, \"Purchase\": 15536.0}, {\"Product_ID\": 4, \"Purchase\": 4927.0}, {\"Product_ID\": 13, \"Purchase\": 6741.461538461538}, {\"Product_ID\": 173, \"Purchase\": 11256.260115606936}, {\"Product_ID\": 22, \"Purchase\": 3817.590909090909}, {\"Product_ID\": 41, \"Purchase\": 5032.292682926829}, {\"Product_ID\": 253, \"Purchase\": 6123.715415019763}, {\"Product_ID\": 37, \"Purchase\": 5873.378378378378}, {\"Product_ID\": 6, \"Purchase\": 5594.833333333333}, {\"Product_ID\": 72, \"Purchase\": 3901.8611111111113}, {\"Product_ID\": 97, \"Purchase\": 7022.2474226804125}, {\"Product_ID\": 25, \"Purchase\": 13140.44}, {\"Product_ID\": 247, \"Purchase\": 7255.534412955466}, {\"Product_ID\": 6, \"Purchase\": 10872.333333333334}, {\"Product_ID\": 81, \"Purchase\": 4467.975308641975}, {\"Product_ID\": 45, \"Purchase\": 5724.2}, {\"Product_ID\": 12, \"Purchase\": 4509.416666666667}, {\"Product_ID\": 28, \"Purchase\": 4140.857142857143}, {\"Product_ID\": 148, \"Purchase\": 5440.871621621622}, {\"Product_ID\": 13, \"Purchase\": 9919.384615384615}, {\"Product_ID\": 216, \"Purchase\": 635.0555555555555}, {\"Product_ID\": 51, \"Purchase\": 1754.450980392157}, {\"Product_ID\": 116, \"Purchase\": 4812.991379310345}, {\"Product_ID\": 15, \"Purchase\": 5284.066666666667}, {\"Product_ID\": 81, \"Purchase\": 618.2962962962963}, {\"Product_ID\": 63, \"Purchase\": 6822.492063492064}, {\"Product_ID\": 410, \"Purchase\": 15407.363414634146}, {\"Product_ID\": 80, \"Purchase\": 4475.6}, {\"Product_ID\": 1, \"Purchase\": 16954.0}, {\"Product_ID\": 2, \"Purchase\": 6915.5}, {\"Product_ID\": 25, \"Purchase\": 12789.04}, {\"Product_ID\": 24, \"Purchase\": 11103.791666666666}, {\"Product_ID\": 87, \"Purchase\": 1604.9195402298851}, {\"Product_ID\": 43, \"Purchase\": 12141.046511627907}, {\"Product_ID\": 287, \"Purchase\": 6072.452961672474}, {\"Product_ID\": 16, \"Purchase\": 11577.125}, {\"Product_ID\": 306, \"Purchase\": 12687.166666666666}, {\"Product_ID\": 136, \"Purchase\": 13320.117647058823}, {\"Product_ID\": 30, \"Purchase\": 5844.9}, {\"Product_ID\": 85, \"Purchase\": 5445.905882352941}, {\"Product_ID\": 65, \"Purchase\": 691.0769230769231}, {\"Product_ID\": 360, \"Purchase\": 6190.702777777778}, {\"Product_ID\": 4, \"Purchase\": 6059.75}, {\"Product_ID\": 89, \"Purchase\": 5849.775280898876}, {\"Product_ID\": 153, \"Purchase\": 11225.254901960785}, {\"Product_ID\": 25, \"Purchase\": 6967.0}, {\"Product_ID\": 17, \"Purchase\": 3585.176470588235}, {\"Product_ID\": 8, \"Purchase\": 12046.375}, {\"Product_ID\": 6, \"Purchase\": 4399.5}, {\"Product_ID\": 27, \"Purchase\": 4708.037037037037}, {\"Product_ID\": 14, \"Purchase\": 5862.642857142857}, {\"Product_ID\": 27, \"Purchase\": 8066.62962962963}, {\"Product_ID\": 81, \"Purchase\": 6417.074074074074}, {\"Product_ID\": 215, \"Purchase\": 9028.651162790698}, {\"Product_ID\": 600, \"Purchase\": 6674.621666666667}, {\"Product_ID\": 9, \"Purchase\": 10683.222222222223}, {\"Product_ID\": 7, \"Purchase\": 11840.0}, {\"Product_ID\": 94, \"Purchase\": 4083.4893617021276}, {\"Product_ID\": 9, \"Purchase\": 6476.444444444444}, {\"Product_ID\": 21, \"Purchase\": 6557.428571428572}, {\"Product_ID\": 18, \"Purchase\": 6487.222222222223}, {\"Product_ID\": 8, \"Purchase\": 7646.875}, {\"Product_ID\": 10, \"Purchase\": 6375.7}, {\"Product_ID\": 421, \"Purchase\": 5421.579572446556}, {\"Product_ID\": 2, \"Purchase\": 7629.5}, {\"Product_ID\": 104, \"Purchase\": 5103.0192307692305}, {\"Product_ID\": 29, \"Purchase\": 6670.413793103448}, {\"Product_ID\": 660, \"Purchase\": 6523.921212121212}, {\"Product_ID\": 193, \"Purchase\": 13418.300518134714}, {\"Product_ID\": 3, \"Purchase\": 7970.333333333333}, {\"Product_ID\": 6, \"Purchase\": 9440.666666666666}, {\"Product_ID\": 4, \"Purchase\": 4609.75}, {\"Product_ID\": 29, \"Purchase\": 10069.103448275862}, {\"Product_ID\": 23, \"Purchase\": 9118.782608695652}, {\"Product_ID\": 45, \"Purchase\": 4347.777777777777}, {\"Product_ID\": 796, \"Purchase\": 14226.08040201005}, {\"Product_ID\": 17, \"Purchase\": 6227.764705882353}, {\"Product_ID\": 3, \"Purchase\": 6605.333333333333}, {\"Product_ID\": 4, \"Purchase\": 5325.0}, {\"Product_ID\": 15, \"Purchase\": 7693.133333333333}, {\"Product_ID\": 3, \"Purchase\": 7360.0}, {\"Product_ID\": 49, \"Purchase\": 6358.34693877551}, {\"Product_ID\": 216, \"Purchase\": 7265.875}, {\"Product_ID\": 3, \"Purchase\": 5564.0}, {\"Product_ID\": 7, \"Purchase\": 4811.142857142857}, {\"Product_ID\": 130, \"Purchase\": 5479.746153846154}, {\"Product_ID\": 129, \"Purchase\": 6207.093023255814}, {\"Product_ID\": 4, \"Purchase\": 8409.25}, {\"Product_ID\": 708, \"Purchase\": 11809.138418079096}, {\"Product_ID\": 38, \"Purchase\": 8177.973684210527}, {\"Product_ID\": 27, \"Purchase\": 6888.037037037037}, {\"Product_ID\": 17, \"Purchase\": 2158.235294117647}, {\"Product_ID\": 1, \"Purchase\": 3964.0}, {\"Product_ID\": 10, \"Purchase\": 5826.9}, {\"Product_ID\": 37, \"Purchase\": 4627.324324324324}, {\"Product_ID\": 18, \"Purchase\": 9853.5}, {\"Product_ID\": 504, \"Purchase\": 12610.313492063493}, {\"Product_ID\": 3, \"Purchase\": 5363.666666666667}, {\"Product_ID\": 70, \"Purchase\": 6896.0}, {\"Product_ID\": 1, \"Purchase\": 4213.0}, {\"Product_ID\": 204, \"Purchase\": 7607.406862745098}, {\"Product_ID\": 1, \"Purchase\": 3431.0}, {\"Product_ID\": 2, \"Purchase\": 5269.5}, {\"Product_ID\": 331, \"Purchase\": 8849.012084592145}, {\"Product_ID\": 24, \"Purchase\": 7217.166666666667}, {\"Product_ID\": 22, \"Purchase\": 6968.318181818182}, {\"Product_ID\": 9, \"Purchase\": 4171.555555555556}, {\"Product_ID\": 257, \"Purchase\": 10645.120622568093}, {\"Product_ID\": 3, \"Purchase\": 5300.666666666667}, {\"Product_ID\": 471, \"Purchase\": 5997.326963906582}, {\"Product_ID\": 18, \"Purchase\": 13561.944444444445}, {\"Product_ID\": 24, \"Purchase\": 7072.166666666667}, {\"Product_ID\": 12, \"Purchase\": 7365.166666666667}, {\"Product_ID\": 738, \"Purchase\": 13309.384823848239}, {\"Product_ID\": 8, \"Purchase\": 11795.625}, {\"Product_ID\": 7, \"Purchase\": 6283.714285714285}, {\"Product_ID\": 1, \"Purchase\": 5912.0}, {\"Product_ID\": 1406, \"Purchase\": 14517.312944523472}, {\"Product_ID\": 28, \"Purchase\": 5018.071428571428}, {\"Product_ID\": 33, \"Purchase\": 10523.0}, {\"Product_ID\": 15, \"Purchase\": 1943.2666666666667}, {\"Product_ID\": 750, \"Purchase\": 7489.28}, {\"Product_ID\": 13, \"Purchase\": 5816.153846153846}, {\"Product_ID\": 308, \"Purchase\": 12077.896103896104}, {\"Product_ID\": 305, \"Purchase\": 13126.524590163934}, {\"Product_ID\": 154, \"Purchase\": 2150.818181818182}, {\"Product_ID\": 283, \"Purchase\": 13887.74558303887}, {\"Product_ID\": 279, \"Purchase\": 9879.078853046594}, {\"Product_ID\": 243, \"Purchase\": 10350.123456790123}, {\"Product_ID\": 73, \"Purchase\": 1713.0684931506848}, {\"Product_ID\": 79, \"Purchase\": 4936.506329113924}, {\"Product_ID\": 166, \"Purchase\": 7547.289156626506}, {\"Product_ID\": 39, \"Purchase\": 6536.871794871795}, {\"Product_ID\": 16, \"Purchase\": 7465.3125}, {\"Product_ID\": 448, \"Purchase\": 13063.622767857143}, {\"Product_ID\": 65, \"Purchase\": 10916.36923076923}, {\"Product_ID\": 37, \"Purchase\": 6619.891891891892}, {\"Product_ID\": 46, \"Purchase\": 5881.608695652174}, {\"Product_ID\": 37, \"Purchase\": 11256.648648648648}, {\"Product_ID\": 23, \"Purchase\": 3311.217391304348}, {\"Product_ID\": 194, \"Purchase\": 12583.190721649484}, {\"Product_ID\": 37, \"Purchase\": 10625.27027027027}, {\"Product_ID\": 45, \"Purchase\": 8132.066666666667}, {\"Product_ID\": 60, \"Purchase\": 8917.733333333334}, {\"Product_ID\": 573, \"Purchase\": 14160.031413612565}, {\"Product_ID\": 34, \"Purchase\": 5754.970588235294}, {\"Product_ID\": 911, \"Purchase\": 15705.71130625686}, {\"Product_ID\": 131, \"Purchase\": 6620.435114503817}, {\"Product_ID\": 29, \"Purchase\": 6139.931034482759}, {\"Product_ID\": 15, \"Purchase\": 5631.2}, {\"Product_ID\": 249, \"Purchase\": 5832.546184738956}, {\"Product_ID\": 130, \"Purchase\": 11585.353846153846}, {\"Product_ID\": 192, \"Purchase\": 11966.255208333334}, {\"Product_ID\": 1204, \"Purchase\": 17289.274916943523}, {\"Product_ID\": 207, \"Purchase\": 6943.458937198067}, {\"Product_ID\": 216, \"Purchase\": 13794.481481481482}, {\"Product_ID\": 47, \"Purchase\": 6392.127659574468}, {\"Product_ID\": 3, \"Purchase\": 4649.0}, {\"Product_ID\": 59, \"Purchase\": 3474.084745762712}, {\"Product_ID\": 28, \"Purchase\": 5265.321428571428}, {\"Product_ID\": 480, \"Purchase\": 741.2166666666667}, {\"Product_ID\": 47, \"Purchase\": 9976.91489361702}, {\"Product_ID\": 143, \"Purchase\": 11899.300699300698}, {\"Product_ID\": 62, \"Purchase\": 5473.322580645161}, {\"Product_ID\": 1, \"Purchase\": 3593.0}, {\"Product_ID\": 25, \"Purchase\": 14947.24}, {\"Product_ID\": 11, \"Purchase\": 4221.0}, {\"Product_ID\": 136, \"Purchase\": 7235.735294117647}, {\"Product_ID\": 264, \"Purchase\": 7543.155303030303}, {\"Product_ID\": 2, \"Purchase\": 13469.5}, {\"Product_ID\": 552, \"Purchase\": 7473.822463768116}, {\"Product_ID\": 49, \"Purchase\": 4615.3877551020405}, {\"Product_ID\": 643, \"Purchase\": 6779.116640746501}, {\"Product_ID\": 37, \"Purchase\": 5327.405405405405}, {\"Product_ID\": 144, \"Purchase\": 7621.520833333333}, {\"Product_ID\": 258, \"Purchase\": 3908.6589147286822}, {\"Product_ID\": 436, \"Purchase\": 14342.62614678899}, {\"Product_ID\": 49, \"Purchase\": 5063.244897959184}, {\"Product_ID\": 58, \"Purchase\": 11432.51724137931}, {\"Product_ID\": 108, \"Purchase\": 6077.87962962963}, {\"Product_ID\": 112, \"Purchase\": 15771.410714285714}, {\"Product_ID\": 21, \"Purchase\": 6343.476190476191}, {\"Product_ID\": 10, \"Purchase\": 5991.1}, {\"Product_ID\": 2, \"Purchase\": 10587.5}, {\"Product_ID\": 590, \"Purchase\": 7342.3677966101695}, {\"Product_ID\": 49, \"Purchase\": 2592.469387755102}, {\"Product_ID\": 46, \"Purchase\": 3657.7391304347825}, {\"Product_ID\": 4, \"Purchase\": 13084.5}, {\"Product_ID\": 8, \"Purchase\": 12577.125}, {\"Product_ID\": 60, \"Purchase\": 11705.183333333332}, {\"Product_ID\": 5, \"Purchase\": 6343.2}, {\"Product_ID\": 106, \"Purchase\": 7007.367924528302}, {\"Product_ID\": 45, \"Purchase\": 13052.2}, {\"Product_ID\": 12, \"Purchase\": 10302.333333333334}, {\"Product_ID\": 386, \"Purchase\": 6759.862694300518}, {\"Product_ID\": 2, \"Purchase\": 8965.5}, {\"Product_ID\": 104, \"Purchase\": 4738.278846153846}, {\"Product_ID\": 7, \"Purchase\": 8687.857142857143}, {\"Product_ID\": 61, \"Purchase\": 11482.573770491803}, {\"Product_ID\": 19, \"Purchase\": 5196.894736842105}, {\"Product_ID\": 19, \"Purchase\": 13633.157894736842}, {\"Product_ID\": 40, \"Purchase\": 6677.25}, {\"Product_ID\": 12, \"Purchase\": 14226.75}, {\"Product_ID\": 182, \"Purchase\": 7088.5989010989015}, {\"Product_ID\": 620, \"Purchase\": 7593.941935483871}, {\"Product_ID\": 571, \"Purchase\": 7867.098073555167}, {\"Product_ID\": 5, \"Purchase\": 13072.4}, {\"Product_ID\": 622, \"Purchase\": 12167.887459807074}, {\"Product_ID\": 21, \"Purchase\": 5301.952380952381}, {\"Product_ID\": 250, \"Purchase\": 7758.336}, {\"Product_ID\": 14, \"Purchase\": 3489.785714285714}, {\"Product_ID\": 239, \"Purchase\": 7625.326359832636}, {\"Product_ID\": 72, \"Purchase\": 8730.277777777777}, {\"Product_ID\": 576, \"Purchase\": 7628.125}, {\"Product_ID\": 123, \"Purchase\": 7514.804878048781}, {\"Product_ID\": 29, \"Purchase\": 13586.551724137931}, {\"Product_ID\": 2, \"Purchase\": 11346.0}, {\"Product_ID\": 55, \"Purchase\": 12821.10909090909}, {\"Product_ID\": 177, \"Purchase\": 11949.079096045198}, {\"Product_ID\": 173, \"Purchase\": 9507.699421965317}, {\"Product_ID\": 125, \"Purchase\": 5543.2}, {\"Product_ID\": 424, \"Purchase\": 11557.797169811322}, {\"Product_ID\": 12, \"Purchase\": 3182.5}, {\"Product_ID\": 200, \"Purchase\": 7553.84}, {\"Product_ID\": 259, \"Purchase\": 7270.69111969112}, {\"Product_ID\": 14, \"Purchase\": 7270.071428571428}, {\"Product_ID\": 16, \"Purchase\": 6590.0625}, {\"Product_ID\": 92, \"Purchase\": 6755.141304347826}, {\"Product_ID\": 151, \"Purchase\": 6050.741721854305}, {\"Product_ID\": 162, \"Purchase\": 1855.7407407407406}, {\"Product_ID\": 28, \"Purchase\": 5390.357142857143}, {\"Product_ID\": 835, \"Purchase\": 8243.45508982036}, {\"Product_ID\": 87, \"Purchase\": 1362.528735632184}, {\"Product_ID\": 1, \"Purchase\": 8205.0}, {\"Product_ID\": 344, \"Purchase\": 5651.7238372093025}, {\"Product_ID\": 116, \"Purchase\": 2213.456896551724}, {\"Product_ID\": 7, \"Purchase\": 12456.714285714286}, {\"Product_ID\": 262, \"Purchase\": 4641.87786259542}, {\"Product_ID\": 4, \"Purchase\": 10520.5}, {\"Product_ID\": 211, \"Purchase\": 8116.706161137441}, {\"Product_ID\": 3, \"Purchase\": 5603.666666666667}, {\"Product_ID\": 838, \"Purchase\": 7073.872315035799}, {\"Product_ID\": 482, \"Purchase\": 13708.11825726141}, {\"Product_ID\": 17, \"Purchase\": 7210.470588235294}, {\"Product_ID\": 71, \"Purchase\": 5281.859154929577}, {\"Product_ID\": 122, \"Purchase\": 6408.5}, {\"Product_ID\": 8, \"Purchase\": 6729.375}, {\"Product_ID\": 392, \"Purchase\": 14995.918367346938}, {\"Product_ID\": 95, \"Purchase\": 7528.3263157894735}, {\"Product_ID\": 38, \"Purchase\": 3495.184210526316}, {\"Product_ID\": 601, \"Purchase\": 6617.49084858569}, {\"Product_ID\": 39, \"Purchase\": 6416.51282051282}, {\"Product_ID\": 113, \"Purchase\": 6726.840707964602}, {\"Product_ID\": 153, \"Purchase\": 6455.549019607844}, {\"Product_ID\": 23, \"Purchase\": 5644.04347826087}, {\"Product_ID\": 3, \"Purchase\": 7325.666666666667}, {\"Product_ID\": 7, \"Purchase\": 16606.714285714286}, {\"Product_ID\": 41, \"Purchase\": 10095.341463414634}, {\"Product_ID\": 36, \"Purchase\": 4803.638888888889}, {\"Product_ID\": 513, \"Purchase\": 6116.526315789473}, {\"Product_ID\": 495, \"Purchase\": 18153.741414141416}, {\"Product_ID\": 7, \"Purchase\": 11803.714285714286}, {\"Product_ID\": 32, \"Purchase\": 7243.1875}, {\"Product_ID\": 118, \"Purchase\": 10138.313559322034}, {\"Product_ID\": 106, \"Purchase\": 5484.311320754717}, {\"Product_ID\": 203, \"Purchase\": 13067.443349753694}, {\"Product_ID\": 18, \"Purchase\": 13338.166666666666}, {\"Product_ID\": 25, \"Purchase\": 3928.52}, {\"Product_ID\": 53, \"Purchase\": 7172.415094339623}, {\"Product_ID\": 28, \"Purchase\": 7924.892857142857}, {\"Product_ID\": 105, \"Purchase\": 3279.1714285714284}, {\"Product_ID\": 129, \"Purchase\": 10783.108527131782}, {\"Product_ID\": 1, \"Purchase\": 5174.0}, {\"Product_ID\": 10, \"Purchase\": 6792.3}, {\"Product_ID\": 172, \"Purchase\": 12481.761627906977}, {\"Product_ID\": 14, \"Purchase\": 13155.642857142857}, {\"Product_ID\": 27, \"Purchase\": 3958.740740740741}, {\"Product_ID\": 141, \"Purchase\": 9483.13475177305}, {\"Product_ID\": 2, \"Purchase\": 9889.0}, {\"Product_ID\": 503, \"Purchase\": 6228.592445328032}, {\"Product_ID\": 295, \"Purchase\": 8860.91186440678}, {\"Product_ID\": 4, \"Purchase\": 15603.75}, {\"Product_ID\": 4, \"Purchase\": 4929.75}, {\"Product_ID\": 124, \"Purchase\": 14163.338709677419}, {\"Product_ID\": 799, \"Purchase\": 6920.596996245306}, {\"Product_ID\": 108, \"Purchase\": 13231.796296296296}, {\"Product_ID\": 2, \"Purchase\": 14516.0}, {\"Product_ID\": 50, \"Purchase\": 15501.72}, {\"Product_ID\": 25, \"Purchase\": 12130.64}, {\"Product_ID\": 263, \"Purchase\": 12652.281368821294}, {\"Product_ID\": 11, \"Purchase\": 4377.0}, {\"Product_ID\": 80, \"Purchase\": 6094.0625}, {\"Product_ID\": 1, \"Purchase\": 7837.0}, {\"Product_ID\": 3, \"Purchase\": 9234.333333333334}, {\"Product_ID\": 90, \"Purchase\": 16402.055555555555}, {\"Product_ID\": 28, \"Purchase\": 10464.535714285714}, {\"Product_ID\": 108, \"Purchase\": 14383.231481481482}, {\"Product_ID\": 204, \"Purchase\": 11684.377450980392}, {\"Product_ID\": 64, \"Purchase\": 12737.453125}, {\"Product_ID\": 339, \"Purchase\": 14387.029498525073}, {\"Product_ID\": 98, \"Purchase\": 9412.755102040815}, {\"Product_ID\": 8, \"Purchase\": 7200.0}, {\"Product_ID\": 17, \"Purchase\": 6730.0}, {\"Product_ID\": 182, \"Purchase\": 7191.10989010989}, {\"Product_ID\": 4, \"Purchase\": 7526.25}, {\"Product_ID\": 27, \"Purchase\": 2389.5925925925926}, {\"Product_ID\": 15, \"Purchase\": 6524.4}, {\"Product_ID\": 1, \"Purchase\": 3947.0}, {\"Product_ID\": 70, \"Purchase\": 5237.757142857143}, {\"Product_ID\": 6, \"Purchase\": 5611.166666666667}, {\"Product_ID\": 107, \"Purchase\": 5486.542056074766}, {\"Product_ID\": 13, \"Purchase\": 1505.5384615384614}, {\"Product_ID\": 55, \"Purchase\": 5807.327272727272}, {\"Product_ID\": 19, \"Purchase\": 11547.842105263158}, {\"Product_ID\": 20, \"Purchase\": 5252.5}, {\"Product_ID\": 50, \"Purchase\": 6917.6}, {\"Product_ID\": 19, \"Purchase\": 5863.315789473684}, {\"Product_ID\": 363, \"Purchase\": 10185.363636363636}, {\"Product_ID\": 137, \"Purchase\": 11973.087591240876}, {\"Product_ID\": 262, \"Purchase\": 7656.874045801526}, {\"Product_ID\": 206, \"Purchase\": 12428.398058252427}, {\"Product_ID\": 71, \"Purchase\": 6897.816901408451}, {\"Product_ID\": 41, \"Purchase\": 4560.585365853659}, {\"Product_ID\": 34, \"Purchase\": 4197.558823529412}, {\"Product_ID\": 89, \"Purchase\": 6970.101123595506}, {\"Product_ID\": 58, \"Purchase\": 5641.431034482759}, {\"Product_ID\": 1, \"Purchase\": 15966.0}, {\"Product_ID\": 13, \"Purchase\": 7987.384615384615}, {\"Product_ID\": 174, \"Purchase\": 6639.385057471264}, {\"Product_ID\": 10, \"Purchase\": 5760.6}, {\"Product_ID\": 106, \"Purchase\": 10184.509433962265}, {\"Product_ID\": 2, \"Purchase\": 9579.0}, {\"Product_ID\": 8, \"Purchase\": 5927.625}, {\"Product_ID\": 1, \"Purchase\": 7994.0}, {\"Product_ID\": 1, \"Purchase\": 4218.0}, {\"Product_ID\": 6, \"Purchase\": 3026.3333333333335}, {\"Product_ID\": 28, \"Purchase\": 5327.75}, {\"Product_ID\": 55, \"Purchase\": 4192.945454545455}, {\"Product_ID\": 43, \"Purchase\": 12265.418604651162}, {\"Product_ID\": 10, \"Purchase\": 5962.8}, {\"Product_ID\": 97, \"Purchase\": 12782.01030927835}, {\"Product_ID\": 20, \"Purchase\": 7050.95}, {\"Product_ID\": 22, \"Purchase\": 7780.909090909091}, {\"Product_ID\": 95, \"Purchase\": 2867.7473684210527}, {\"Product_ID\": 71, \"Purchase\": 4084.676056338028}, {\"Product_ID\": 7, \"Purchase\": 4556.0}, {\"Product_ID\": 32, \"Purchase\": 13958.59375}, {\"Product_ID\": 108, \"Purchase\": 12275.675925925925}, {\"Product_ID\": 19, \"Purchase\": 9418.0}, {\"Product_ID\": 2, \"Purchase\": 4137.5}, {\"Product_ID\": 23, \"Purchase\": 10009.391304347826}, {\"Product_ID\": 38, \"Purchase\": 6650.1578947368425}, {\"Product_ID\": 3, \"Purchase\": 7122.333333333333}, {\"Product_ID\": 7, \"Purchase\": 5952.714285714285}, {\"Product_ID\": 139, \"Purchase\": 7522.028776978417}, {\"Product_ID\": 15, \"Purchase\": 6320.4}, {\"Product_ID\": 91, \"Purchase\": 6213.10989010989}, {\"Product_ID\": 497, \"Purchase\": 12345.505030181086}, {\"Product_ID\": 1, \"Purchase\": 2223.0}, {\"Product_ID\": 5, \"Purchase\": 2957.6}, {\"Product_ID\": 8, \"Purchase\": 7711.375}, {\"Product_ID\": 13, \"Purchase\": 6488.615384615385}, {\"Product_ID\": 32, \"Purchase\": 9557.53125}, {\"Product_ID\": 258, \"Purchase\": 9289.255813953489}, {\"Product_ID\": 362, \"Purchase\": 6058.00276243094}, {\"Product_ID\": 162, \"Purchase\": 5907.759259259259}, {\"Product_ID\": 333, \"Purchase\": 6422.051051051051}, {\"Product_ID\": 4, \"Purchase\": 4896.0}, {\"Product_ID\": 32, \"Purchase\": 8342.34375}, {\"Product_ID\": 210, \"Purchase\": 5240.6809523809525}, {\"Product_ID\": 25, \"Purchase\": 16169.08}, {\"Product_ID\": 2, \"Purchase\": 6006.0}, {\"Product_ID\": 5, \"Purchase\": 3622.2}, {\"Product_ID\": 211, \"Purchase\": 645.9194312796209}, {\"Product_ID\": 10, \"Purchase\": 7161.0}, {\"Product_ID\": 277, \"Purchase\": 9604.415162454874}, {\"Product_ID\": 168, \"Purchase\": 5715.9047619047615}, {\"Product_ID\": 24, \"Purchase\": 5043.416666666667}, {\"Product_ID\": 74, \"Purchase\": 7152.256756756757}, {\"Product_ID\": 10, \"Purchase\": 7575.5}, {\"Product_ID\": 6, \"Purchase\": 12099.833333333334}, {\"Product_ID\": 37, \"Purchase\": 8027.756756756757}, {\"Product_ID\": 3, \"Purchase\": 18048.666666666668}, {\"Product_ID\": 19, \"Purchase\": 6151.684210526316}, {\"Product_ID\": 3, \"Purchase\": 5875.0}, {\"Product_ID\": 56, \"Purchase\": 6230.196428571428}, {\"Product_ID\": 1, \"Purchase\": 2069.0}, {\"Product_ID\": 18, \"Purchase\": 5964.666666666667}, {\"Product_ID\": 276, \"Purchase\": 10167.768115942028}, {\"Product_ID\": 537, \"Purchase\": 673.4487895716946}, {\"Product_ID\": 24, \"Purchase\": 14995.916666666666}, {\"Product_ID\": 295, \"Purchase\": 5275.3525423728815}, {\"Product_ID\": 465, \"Purchase\": 14761.81935483871}, {\"Product_ID\": 69, \"Purchase\": 7504.347826086957}, {\"Product_ID\": 206, \"Purchase\": 6693.878640776699}, {\"Product_ID\": 191, \"Purchase\": 13803.167539267015}, {\"Product_ID\": 617, \"Purchase\": 12493.842787682333}, {\"Product_ID\": 398, \"Purchase\": 12349.824120603014}, {\"Product_ID\": 65, \"Purchase\": 2287.107692307692}, {\"Product_ID\": 206, \"Purchase\": 7436.631067961165}, {\"Product_ID\": 329, \"Purchase\": 15788.544072948329}, {\"Product_ID\": 27, \"Purchase\": 6900.814814814815}, {\"Product_ID\": 728, \"Purchase\": 6887.561813186813}, {\"Product_ID\": 146, \"Purchase\": 4176.212328767123}, {\"Product_ID\": 20, \"Purchase\": 7276.05}, {\"Product_ID\": 20, \"Purchase\": 1050.25}, {\"Product_ID\": 165, \"Purchase\": 10761.20606060606}, {\"Product_ID\": 16, \"Purchase\": 2606.75}, {\"Product_ID\": 47, \"Purchase\": 7391.808510638298}, {\"Product_ID\": 2, \"Purchase\": 5091.0}, {\"Product_ID\": 130, \"Purchase\": 12974.23076923077}, {\"Product_ID\": 22, \"Purchase\": 1154.4545454545455}, {\"Product_ID\": 11, \"Purchase\": 6144.454545454545}, {\"Product_ID\": 43, \"Purchase\": 7026.302325581395}, {\"Product_ID\": 64, \"Purchase\": 7949.375}, {\"Product_ID\": 51, \"Purchase\": 7754.843137254902}, {\"Product_ID\": 43, \"Purchase\": 6668.674418604651}, {\"Product_ID\": 66, \"Purchase\": 7418.742424242424}, {\"Product_ID\": 118, \"Purchase\": 8140.8050847457625}, {\"Product_ID\": 53, \"Purchase\": 7604.811320754717}, {\"Product_ID\": 64, \"Purchase\": 7547.6875}, {\"Product_ID\": 73, \"Purchase\": 8023.068493150685}, {\"Product_ID\": 30, \"Purchase\": 7015.1}, {\"Product_ID\": 209, \"Purchase\": 8178.712918660287}, {\"Product_ID\": 275, \"Purchase\": 17435.17090909091}, {\"Product_ID\": 108, \"Purchase\": 7946.342592592592}, {\"Product_ID\": 416, \"Purchase\": 1428.53125}, {\"Product_ID\": 117, \"Purchase\": 6647.042735042735}, {\"Product_ID\": 114, \"Purchase\": 8256.043859649122}, {\"Product_ID\": 190, \"Purchase\": 8199.3}, {\"Product_ID\": 128, \"Purchase\": 1306.96875}, {\"Product_ID\": 367, \"Purchase\": 8169.021798365123}, {\"Product_ID\": 471, \"Purchase\": 15870.070063694267}, {\"Product_ID\": 591, \"Purchase\": 15374.993231810491}, {\"Product_ID\": 253, \"Purchase\": 7593.470355731225}, {\"Product_ID\": 275, \"Purchase\": 7903.32}, {\"Product_ID\": 365, \"Purchase\": 7458.465753424657}, {\"Product_ID\": 301, \"Purchase\": 6282.259136212625}, {\"Product_ID\": 320, \"Purchase\": 7326.1625}, {\"Product_ID\": 348, \"Purchase\": 7891.758620689655}, {\"Product_ID\": 714, \"Purchase\": 8017.626050420168}, {\"Product_ID\": 369, \"Purchase\": 7706.021680216802}, {\"Product_ID\": 122, \"Purchase\": 7109.172131147541}, {\"Product_ID\": 166, \"Purchase\": 7592.819277108434}, {\"Product_ID\": 379, \"Purchase\": 6461.68073878628}, {\"Product_ID\": 105, \"Purchase\": 6393.342857142857}, {\"Product_ID\": 306, \"Purchase\": 11651.437908496731}, {\"Product_ID\": 835, \"Purchase\": 6792.159281437126}, {\"Product_ID\": 140, \"Purchase\": 3507.8285714285716}, {\"Product_ID\": 152, \"Purchase\": 4056.2236842105262}, {\"Product_ID\": 133, \"Purchase\": 3588.7593984962405}, {\"Product_ID\": 100, \"Purchase\": 3062.54}, {\"Product_ID\": 113, \"Purchase\": 3263.734513274336}, {\"Product_ID\": 155, \"Purchase\": 4566.077419354839}, {\"Product_ID\": 95, \"Purchase\": 3490.0421052631577}, {\"Product_ID\": 119, \"Purchase\": 3140.3949579831933}, {\"Product_ID\": 92, \"Purchase\": 3371.478260869565}, {\"Product_ID\": 69, \"Purchase\": 3105.463768115942}, {\"Product_ID\": 67, \"Purchase\": 3561.5671641791046}, {\"Product_ID\": 47, \"Purchase\": 3437.6170212765956}, {\"Product_ID\": 54, \"Purchase\": 3008.1666666666665}, {\"Product_ID\": 285, \"Purchase\": 5662.771929824561}, {\"Product_ID\": 105, \"Purchase\": 4268.238095238095}, {\"Product_ID\": 60, \"Purchase\": 3185.616666666667}, {\"Product_ID\": 69, \"Purchase\": 3771.8840579710145}, {\"Product_ID\": 69, \"Purchase\": 3135.4347826086955}, {\"Product_ID\": 56, \"Purchase\": 3776.5}, {\"Product_ID\": 27, \"Purchase\": 3106.296296296296}, {\"Product_ID\": 7, \"Purchase\": 2463.0}, {\"Product_ID\": 8, \"Purchase\": 2513.75}, {\"Product_ID\": 141, \"Purchase\": 4214.2836879432625}, {\"Product_ID\": 74, \"Purchase\": 3300.0945945945946}, {\"Product_ID\": 40, \"Purchase\": 3066.325}, {\"Product_ID\": 448, \"Purchase\": 5566.359375}, {\"Product_ID\": 107, \"Purchase\": 3698.7102803738317}, {\"Product_ID\": 66, \"Purchase\": 2913.5757575757575}, {\"Product_ID\": 458, \"Purchase\": 5942.951965065502}, {\"Product_ID\": 60, \"Purchase\": 2758.5666666666666}, {\"Product_ID\": 77, \"Purchase\": 4238.519480519481}, {\"Product_ID\": 909, \"Purchase\": 15236.651265126513}, {\"Product_ID\": 579, \"Purchase\": 13895.678756476684}, {\"Product_ID\": 456, \"Purchase\": 12601.309210526315}, {\"Product_ID\": 405, \"Purchase\": 5770.688888888889}, {\"Product_ID\": 198, \"Purchase\": 4732.621212121212}, {\"Product_ID\": 400, \"Purchase\": 11414.9625}, {\"Product_ID\": 539, \"Purchase\": 13785.927643784788}, {\"Product_ID\": 36, \"Purchase\": 4678.222222222223}, {\"Product_ID\": 6, \"Purchase\": 11152.0}, {\"Product_ID\": 256, \"Purchase\": 14896.82421875}, {\"Product_ID\": 215, \"Purchase\": 17170.037209302325}, {\"Product_ID\": 649, \"Purchase\": 5873.730354391371}, {\"Product_ID\": 628, \"Purchase\": 5708.831210191082}, {\"Product_ID\": 353, \"Purchase\": 13359.677053824362}, {\"Product_ID\": 103, \"Purchase\": 2188.3883495145633}, {\"Product_ID\": 202, \"Purchase\": 2388.5940594059407}, {\"Product_ID\": 60, \"Purchase\": 1874.3833333333334}, {\"Product_ID\": 91, \"Purchase\": 2158.3626373626375}, {\"Product_ID\": 305, \"Purchase\": 10055.167213114753}, {\"Product_ID\": 342, \"Purchase\": 17769.280701754386}, {\"Product_ID\": 409, \"Purchase\": 7876.369193154034}, {\"Product_ID\": 409, \"Purchase\": 15530.239608801956}, {\"Product_ID\": 125, \"Purchase\": 6968.48}, {\"Product_ID\": 432, \"Purchase\": 12972.273148148148}, {\"Product_ID\": 78, \"Purchase\": 6710.833333333333}, {\"Product_ID\": 120, \"Purchase\": 6919.225}, {\"Product_ID\": 98, \"Purchase\": 4145.326530612245}, {\"Product_ID\": 76, \"Purchase\": 4286.434210526316}, {\"Product_ID\": 1440, \"Purchase\": 16899.227083333335}, {\"Product_ID\": 45, \"Purchase\": 6168.022222222222}, {\"Product_ID\": 19, \"Purchase\": 2075.7894736842104}, {\"Product_ID\": 20, \"Purchase\": 1745.85}, {\"Product_ID\": 101, \"Purchase\": 8277.326732673268}, {\"Product_ID\": 158, \"Purchase\": 11773.93670886076}, {\"Product_ID\": 32, \"Purchase\": 2095.125}, {\"Product_ID\": 49, \"Purchase\": 1519.3877551020407}, {\"Product_ID\": 21, \"Purchase\": 11692.666666666666}, {\"Product_ID\": 108, \"Purchase\": 2022.6944444444443}, {\"Product_ID\": 1, \"Purchase\": 3773.0}, {\"Product_ID\": 61, \"Purchase\": 2131.967213114754}, {\"Product_ID\": 78, \"Purchase\": 10231.166666666666}, {\"Product_ID\": 101, \"Purchase\": 1808.851485148515}, {\"Product_ID\": 89, \"Purchase\": 10405.786516853932}, {\"Product_ID\": 25, \"Purchase\": 4619.24}, {\"Product_ID\": 31, \"Purchase\": 11404.838709677419}, {\"Product_ID\": 300, \"Purchase\": 11505.636666666667}, {\"Product_ID\": 7, \"Purchase\": 2710.285714285714}, {\"Product_ID\": 68, \"Purchase\": 9522.176470588236}, {\"Product_ID\": 23, \"Purchase\": 5779.565217391304}, {\"Product_ID\": 54, \"Purchase\": 8740.148148148148}, {\"Product_ID\": 58, \"Purchase\": 8157.637931034483}, {\"Product_ID\": 116, \"Purchase\": 2080.060344827586}, {\"Product_ID\": 200, \"Purchase\": 1581.72}, {\"Product_ID\": 537, \"Purchase\": 9760.765363128492}, {\"Product_ID\": 22, \"Purchase\": 5090.045454545455}, {\"Product_ID\": 7, \"Purchase\": 10296.285714285714}, {\"Product_ID\": 54, \"Purchase\": 11029.907407407407}, {\"Product_ID\": 446, \"Purchase\": 14056.217488789238}, {\"Product_ID\": 146, \"Purchase\": 2274.1301369863013}, {\"Product_ID\": 108, \"Purchase\": 5242.7962962962965}, {\"Product_ID\": 2, \"Purchase\": 12592.5}, {\"Product_ID\": 38, \"Purchase\": 6572.868421052632}, {\"Product_ID\": 4, \"Purchase\": 5080.0}, {\"Product_ID\": 463, \"Purchase\": 7172.470842332614}, {\"Product_ID\": 278, \"Purchase\": 6428.848920863309}, {\"Product_ID\": 67, \"Purchase\": 19524.34328358209}, {\"Product_ID\": 315, \"Purchase\": 8158.5492063492065}, {\"Product_ID\": 60, \"Purchase\": 7667.316666666667}, {\"Product_ID\": 79, \"Purchase\": 7361.645569620253}, {\"Product_ID\": 139, \"Purchase\": 7808.920863309352}, {\"Product_ID\": 100, \"Purchase\": 7691.62}, {\"Product_ID\": 160, \"Purchase\": 5112.2375}, {\"Product_ID\": 37, \"Purchase\": 6159.675675675676}, {\"Product_ID\": 11, \"Purchase\": 7104.454545454545}, {\"Product_ID\": 50, \"Purchase\": 7474.42}, {\"Product_ID\": 348, \"Purchase\": 7499.919540229885}, {\"Product_ID\": 73, \"Purchase\": 11132.452054794521}, {\"Product_ID\": 358, \"Purchase\": 10289.382681564246}, {\"Product_ID\": 7, \"Purchase\": 2624.5714285714284}, {\"Product_ID\": 465, \"Purchase\": 10428.621505376344}, {\"Product_ID\": 570, \"Purchase\": 10237.51403508772}, {\"Product_ID\": 190, \"Purchase\": 2030.2263157894736}, {\"Product_ID\": 145, \"Purchase\": 2543.8758620689655}, {\"Product_ID\": 41, \"Purchase\": 2221.2926829268295}, {\"Product_ID\": 314, \"Purchase\": 9797.15923566879}, {\"Product_ID\": 14, \"Purchase\": 7349.428571428572}, {\"Product_ID\": 321, \"Purchase\": 9891.006230529594}, {\"Product_ID\": 263, \"Purchase\": 8377.3536121673}, {\"Product_ID\": 135, \"Purchase\": 8530.222222222223}, {\"Product_ID\": 131, \"Purchase\": 9274.946564885497}, {\"Product_ID\": 114, \"Purchase\": 2012.078947368421}, {\"Product_ID\": 96, \"Purchase\": 7102.25}, {\"Product_ID\": 141, \"Purchase\": 8820.404255319148}, {\"Product_ID\": 415, \"Purchase\": 12040.477108433735}, {\"Product_ID\": 64, \"Purchase\": 2056.890625}, {\"Product_ID\": 262, \"Purchase\": 10061.919847328245}, {\"Product_ID\": 113, \"Purchase\": 2554.380530973451}, {\"Product_ID\": 43, \"Purchase\": 2246.4418604651164}, {\"Product_ID\": 111, \"Purchase\": 11764.81981981982}, {\"Product_ID\": 630, \"Purchase\": 6057.860317460318}, {\"Product_ID\": 6, \"Purchase\": 12360.666666666666}, {\"Product_ID\": 110, \"Purchase\": 9400.518181818183}, {\"Product_ID\": 19, \"Purchase\": 9530.105263157895}, {\"Product_ID\": 31, \"Purchase\": 6292.064516129032}, {\"Product_ID\": 528, \"Purchase\": 12820.051136363636}, {\"Product_ID\": 95, \"Purchase\": 6626.989473684211}, {\"Product_ID\": 107, \"Purchase\": 4217.22429906542}, {\"Product_ID\": 461, \"Purchase\": 6521.119305856833}, {\"Product_ID\": 316, \"Purchase\": 6647.8322784810125}, {\"Product_ID\": 204, \"Purchase\": 5621.35294117647}, {\"Product_ID\": 184, \"Purchase\": 5643.755434782609}, {\"Product_ID\": 206, \"Purchase\": 14255.73786407767}, {\"Product_ID\": 39, \"Purchase\": 3487.4358974358975}, {\"Product_ID\": 133, \"Purchase\": 7231.533834586467}, {\"Product_ID\": 615, \"Purchase\": 14318.772357723577}, {\"Product_ID\": 249, \"Purchase\": 11048.666666666666}, {\"Product_ID\": 148, \"Purchase\": 7501.189189189189}, {\"Product_ID\": 194, \"Purchase\": 5510.865979381443}, {\"Product_ID\": 85, \"Purchase\": 3678.6588235294116}, {\"Product_ID\": 145, \"Purchase\": 5840.544827586207}, {\"Product_ID\": 126, \"Purchase\": 4253.476190476191}, {\"Product_ID\": 123, \"Purchase\": 3685.5365853658536}, {\"Product_ID\": 112, \"Purchase\": 7942.901785714285}, {\"Product_ID\": 391, \"Purchase\": 5636.777493606138}, {\"Product_ID\": 241, \"Purchase\": 7461.352697095435}, {\"Product_ID\": 268, \"Purchase\": 10851.630597014926}, {\"Product_ID\": 3, \"Purchase\": 6648.0}, {\"Product_ID\": 19, \"Purchase\": 6063.210526315789}, {\"Product_ID\": 4, \"Purchase\": 13802.0}, {\"Product_ID\": 165, \"Purchase\": 15841.4}, {\"Product_ID\": 14, \"Purchase\": 7226.214285714285}, {\"Product_ID\": 161, \"Purchase\": 8139.583850931677}, {\"Product_ID\": 311, \"Purchase\": 10703.594855305466}, {\"Product_ID\": 276, \"Purchase\": 5892.257246376812}, {\"Product_ID\": 131, \"Purchase\": 10590.740458015267}, {\"Product_ID\": 132, \"Purchase\": 5655.204545454545}, {\"Product_ID\": 269, \"Purchase\": 10263.791821561339}, {\"Product_ID\": 178, \"Purchase\": 10325.58988764045}, {\"Product_ID\": 196, \"Purchase\": 10532.117346938776}, {\"Product_ID\": 363, \"Purchase\": 2564.603305785124}, {\"Product_ID\": 219, \"Purchase\": 9247.931506849314}, {\"Product_ID\": 107, \"Purchase\": 7785.07476635514}, {\"Product_ID\": 188, \"Purchase\": 10703.66489361702}, {\"Product_ID\": 396, \"Purchase\": 6501.05808080808}, {\"Product_ID\": 369, \"Purchase\": 5905.682926829269}, {\"Product_ID\": 198, \"Purchase\": 6226.070707070707}, {\"Product_ID\": 125, \"Purchase\": 5000.736}, {\"Product_ID\": 95, \"Purchase\": 5231.4}, {\"Product_ID\": 52, \"Purchase\": 3949.019230769231}, {\"Product_ID\": 370, \"Purchase\": 6628.767567567567}, {\"Product_ID\": 73, \"Purchase\": 5399.369863013699}, {\"Product_ID\": 43, \"Purchase\": 1420.3953488372092}, {\"Product_ID\": 146, \"Purchase\": 8035.86301369863}, {\"Product_ID\": 85, \"Purchase\": 5609.2235294117645}, {\"Product_ID\": 152, \"Purchase\": 5981.855263157895}, {\"Product_ID\": 7, \"Purchase\": 6493.142857142857}, {\"Product_ID\": 13, \"Purchase\": 10667.0}, {\"Product_ID\": 12, \"Purchase\": 11938.916666666666}, {\"Product_ID\": 119, \"Purchase\": 13994.563025210084}, {\"Product_ID\": 391, \"Purchase\": 5892.273657289003}, {\"Product_ID\": 404, \"Purchase\": 11865.121287128713}, {\"Product_ID\": 90, \"Purchase\": 8778.877777777778}, {\"Product_ID\": 110, \"Purchase\": 4636.209090909091}, {\"Product_ID\": 14, \"Purchase\": 4379.357142857143}, {\"Product_ID\": 60, \"Purchase\": 6767.433333333333}, {\"Product_ID\": 78, \"Purchase\": 7031.9358974358975}, {\"Product_ID\": 436, \"Purchase\": 13403.036697247706}, {\"Product_ID\": 42, \"Purchase\": 5924.547619047619}, {\"Product_ID\": 75, \"Purchase\": 4814.706666666667}, {\"Product_ID\": 67, \"Purchase\": 9797.686567164179}, {\"Product_ID\": 101, \"Purchase\": 6406.227722772277}, {\"Product_ID\": 2, \"Purchase\": 6154.5}, {\"Product_ID\": 61, \"Purchase\": 12063.22950819672}, {\"Product_ID\": 794, \"Purchase\": 6283.060453400504}, {\"Product_ID\": 7, \"Purchase\": 8849.857142857143}, {\"Product_ID\": 95, \"Purchase\": 16043.01052631579}, {\"Product_ID\": 46, \"Purchase\": 5542.195652173913}, {\"Product_ID\": 48, \"Purchase\": 14625.020833333334}, {\"Product_ID\": 27, \"Purchase\": 13553.0}, {\"Product_ID\": 33, \"Purchase\": 14020.030303030304}, {\"Product_ID\": 68, \"Purchase\": 14202.85294117647}, {\"Product_ID\": 60, \"Purchase\": 7114.416666666667}, {\"Product_ID\": 86, \"Purchase\": 16412.79069767442}, {\"Product_ID\": 83, \"Purchase\": 680.7590361445783}, {\"Product_ID\": 9, \"Purchase\": 16095.666666666666}, {\"Product_ID\": 269, \"Purchase\": 20468.773234200744}, {\"Product_ID\": 15, \"Purchase\": 636.8666666666667}, {\"Product_ID\": 141, \"Purchase\": 5482.035460992908}, {\"Product_ID\": 12, \"Purchase\": 10110.666666666666}, {\"Product_ID\": 29, \"Purchase\": 5730.413793103448}, {\"Product_ID\": 3, \"Purchase\": 4205.333333333333}, {\"Product_ID\": 3, \"Purchase\": 6167.0}, {\"Product_ID\": 419, \"Purchase\": 13469.315035799522}, {\"Product_ID\": 596, \"Purchase\": 15506.052013422819}, {\"Product_ID\": 83, \"Purchase\": 5366.710843373494}, {\"Product_ID\": 15, \"Purchase\": 9704.4}, {\"Product_ID\": 9, \"Purchase\": 8581.333333333334}, {\"Product_ID\": 2, \"Purchase\": 16459.0}, {\"Product_ID\": 3, \"Purchase\": 4775.666666666667}, {\"Product_ID\": 10, \"Purchase\": 6983.7}, {\"Product_ID\": 121, \"Purchase\": 7846.479338842975}, {\"Product_ID\": 122, \"Purchase\": 19992.04098360656}, {\"Product_ID\": 49, \"Purchase\": 15667.367346938776}, {\"Product_ID\": 13, \"Purchase\": 6403.384615384615}, {\"Product_ID\": 95, \"Purchase\": 766.421052631579}, {\"Product_ID\": 4, \"Purchase\": 7003.5}, {\"Product_ID\": 117, \"Purchase\": 7323.188034188034}, {\"Product_ID\": 7, \"Purchase\": 13403.142857142857}, {\"Product_ID\": 29, \"Purchase\": 15306.206896551725}, {\"Product_ID\": 7, \"Purchase\": 14746.57142857143}, {\"Product_ID\": 64, \"Purchase\": 15831.578125}, {\"Product_ID\": 1, \"Purchase\": 2009.0}, {\"Product_ID\": 6, \"Purchase\": 6365.833333333333}, {\"Product_ID\": 1, \"Purchase\": 3882.0}, {\"Product_ID\": 4, \"Purchase\": 525.75}, {\"Product_ID\": 6, \"Purchase\": 13162.166666666666}, {\"Product_ID\": 1, \"Purchase\": 5274.0}, {\"Product_ID\": 1, \"Purchase\": 5937.0}, {\"Product_ID\": 14, \"Purchase\": 13902.5}, {\"Product_ID\": 182, \"Purchase\": 14755.956043956045}, {\"Product_ID\": 125, \"Purchase\": 14713.76}, {\"Product_ID\": 1, \"Purchase\": 4000.0}, {\"Product_ID\": 5, \"Purchase\": 4036.0}, {\"Product_ID\": 111, \"Purchase\": 7263.495495495496}, {\"Product_ID\": 22, \"Purchase\": 7139.954545454545}, {\"Product_ID\": 45, \"Purchase\": 6697.155555555555}, {\"Product_ID\": 50, \"Purchase\": 6593.26}, {\"Product_ID\": 130, \"Purchase\": 7115.184615384615}, {\"Product_ID\": 74, \"Purchase\": 4878.716216216216}, {\"Product_ID\": 3, \"Purchase\": 4049.0}, {\"Product_ID\": 436, \"Purchase\": 6577.327981651376}, {\"Product_ID\": 4, \"Purchase\": 3570.75}, {\"Product_ID\": 290, \"Purchase\": 6066.313793103448}, {\"Product_ID\": 8, \"Purchase\": 5088.25}, {\"Product_ID\": 200, \"Purchase\": 5512.98}, {\"Product_ID\": 500, \"Purchase\": 7054.774}, {\"Product_ID\": 115, \"Purchase\": 5576.417391304348}, {\"Product_ID\": 25, \"Purchase\": 6169.0}, {\"Product_ID\": 1, \"Purchase\": 6918.0}, {\"Product_ID\": 109, \"Purchase\": 5395.688073394495}, {\"Product_ID\": 248, \"Purchase\": 10359.806451612903}, {\"Product_ID\": 1, \"Purchase\": 4049.0}, {\"Product_ID\": 45, \"Purchase\": 4798.866666666667}, {\"Product_ID\": 15, \"Purchase\": 3323.4666666666667}, {\"Product_ID\": 9, \"Purchase\": 5729.444444444444}, {\"Product_ID\": 1, \"Purchase\": 15224.0}, {\"Product_ID\": 100, \"Purchase\": 5043.79}, {\"Product_ID\": 25, \"Purchase\": 10054.52}, {\"Product_ID\": 84, \"Purchase\": 5989.0952380952385}, {\"Product_ID\": 168, \"Purchase\": 5663.815476190476}, {\"Product_ID\": 101, \"Purchase\": 12261.871287128713}, {\"Product_ID\": 34, \"Purchase\": 4837.794117647059}, {\"Product_ID\": 38, \"Purchase\": 6453.4473684210525}, {\"Product_ID\": 101, \"Purchase\": 5127.960396039604}, {\"Product_ID\": 39, \"Purchase\": 577.3076923076923}, {\"Product_ID\": 546, \"Purchase\": 15968.728937728938}, {\"Product_ID\": 129, \"Purchase\": 5578.131782945737}, {\"Product_ID\": 45, \"Purchase\": 6363.311111111111}, {\"Product_ID\": 62, \"Purchase\": 6750.5}, {\"Product_ID\": 356, \"Purchase\": 13941.651685393259}, {\"Product_ID\": 39, \"Purchase\": 12822.02564102564}, {\"Product_ID\": 36, \"Purchase\": 7482.277777777777}, {\"Product_ID\": 1, \"Purchase\": 3917.0}, {\"Product_ID\": 443, \"Purchase\": 13929.417607223477}, {\"Product_ID\": 135, \"Purchase\": 3949.074074074074}, {\"Product_ID\": 60, \"Purchase\": 14067.916666666666}, {\"Product_ID\": 7, \"Purchase\": 14054.142857142857}, {\"Product_ID\": 174, \"Purchase\": 6416.557471264367}, {\"Product_ID\": 29, \"Purchase\": 5816.310344827586}, {\"Product_ID\": 24, \"Purchase\": 7853.375}, {\"Product_ID\": 20, \"Purchase\": 7330.15}, {\"Product_ID\": 24, \"Purchase\": 4779.916666666667}, {\"Product_ID\": 151, \"Purchase\": 15037.17880794702}, {\"Product_ID\": 390, \"Purchase\": 14638.292307692307}, {\"Product_ID\": 547, \"Purchase\": 6899.866544789762}, {\"Product_ID\": 54, \"Purchase\": 5462.12962962963}, {\"Product_ID\": 784, \"Purchase\": 7169.765306122449}, {\"Product_ID\": 15, \"Purchase\": 10367.4}, {\"Product_ID\": 13, \"Purchase\": 6773.538461538462}, {\"Product_ID\": 338, \"Purchase\": 9544.934911242604}, {\"Product_ID\": 40, \"Purchase\": 6732.525}, {\"Product_ID\": 77, \"Purchase\": 4221.298701298701}, {\"Product_ID\": 185, \"Purchase\": 6366.427027027027}, {\"Product_ID\": 8, \"Purchase\": 8904.5}, {\"Product_ID\": 2, \"Purchase\": 6948.0}, {\"Product_ID\": 338, \"Purchase\": 7309.80473372781}, {\"Product_ID\": 194, \"Purchase\": 6368.731958762886}, {\"Product_ID\": 609, \"Purchase\": 6605.4236453201975}, {\"Product_ID\": 174, \"Purchase\": 7827.080459770115}, {\"Product_ID\": 3, \"Purchase\": 7997.666666666667}, {\"Product_ID\": 16, \"Purchase\": 6641.3125}, {\"Product_ID\": 54, \"Purchase\": 4380.240740740741}, {\"Product_ID\": 21, \"Purchase\": 10144.238095238095}, {\"Product_ID\": 1, \"Purchase\": 8233.0}, {\"Product_ID\": 66, \"Purchase\": 7670.378787878788}, {\"Product_ID\": 233, \"Purchase\": 659.8755364806867}, {\"Product_ID\": 174, \"Purchase\": 7524.206896551724}, {\"Product_ID\": 264, \"Purchase\": 8110.166666666667}, {\"Product_ID\": 58, \"Purchase\": 6069.103448275862}, {\"Product_ID\": 88, \"Purchase\": 3639.1477272727275}, {\"Product_ID\": 143, \"Purchase\": 5962.8601398601395}, {\"Product_ID\": 4, \"Purchase\": 4399.75}, {\"Product_ID\": 174, \"Purchase\": 6904.270114942528}, {\"Product_ID\": 85, \"Purchase\": 6070.988235294118}, {\"Product_ID\": 629, \"Purchase\": 6517.224165341812}, {\"Product_ID\": 167, \"Purchase\": 11383.646706586826}, {\"Product_ID\": 23, \"Purchase\": 16538.347826086956}, {\"Product_ID\": 636, \"Purchase\": 7557.562893081761}, {\"Product_ID\": 73, \"Purchase\": 5319.821917808219}, {\"Product_ID\": 11, \"Purchase\": 5732.454545454545}, {\"Product_ID\": 53, \"Purchase\": 4279.169811320755}, {\"Product_ID\": 87, \"Purchase\": 4398.413793103448}, {\"Product_ID\": 351, \"Purchase\": 8472.216524216525}, {\"Product_ID\": 46, \"Purchase\": 17561.369565217392}, {\"Product_ID\": 90, \"Purchase\": 5562.922222222222}, {\"Product_ID\": 5, \"Purchase\": 10132.2}, {\"Product_ID\": 298, \"Purchase\": 7570.86577181208}, {\"Product_ID\": 201, \"Purchase\": 12210.189054726368}, {\"Product_ID\": 234, \"Purchase\": 5203.816239316239}, {\"Product_ID\": 502, \"Purchase\": 8008.679282868526}, {\"Product_ID\": 70, \"Purchase\": 6563.142857142857}, {\"Product_ID\": 172, \"Purchase\": 3438.6802325581393}, {\"Product_ID\": 12, \"Purchase\": 5008.833333333333}, {\"Product_ID\": 179, \"Purchase\": 12590.675977653631}, {\"Product_ID\": 23, \"Purchase\": 6238.130434782609}, {\"Product_ID\": 8, \"Purchase\": 6570.5}, {\"Product_ID\": 1, \"Purchase\": 4064.0}, {\"Product_ID\": 98, \"Purchase\": 13521.510204081633}, {\"Product_ID\": 19, \"Purchase\": 6963.0526315789475}, {\"Product_ID\": 171, \"Purchase\": 14322.959064327486}, {\"Product_ID\": 45, \"Purchase\": 14530.955555555556}, {\"Product_ID\": 186, \"Purchase\": 7030.817204301075}, {\"Product_ID\": 86, \"Purchase\": 6307.406976744186}, {\"Product_ID\": 12, \"Purchase\": 5162.916666666667}, {\"Product_ID\": 60, \"Purchase\": 8452.883333333333}, {\"Product_ID\": 470, \"Purchase\": 6830.61914893617}, {\"Product_ID\": 564, \"Purchase\": 14327.61170212766}, {\"Product_ID\": 71, \"Purchase\": 7932.859154929577}, {\"Product_ID\": 943, \"Purchase\": 10407.962884411452}, {\"Product_ID\": 47, \"Purchase\": 5260.872340425532}, {\"Product_ID\": 116, \"Purchase\": 8454.612068965518}, {\"Product_ID\": 2, \"Purchase\": 7030.5}, {\"Product_ID\": 375, \"Purchase\": 6779.112}, {\"Product_ID\": 63, \"Purchase\": 8448.079365079366}, {\"Product_ID\": 92, \"Purchase\": 5511.347826086957}, {\"Product_ID\": 30, \"Purchase\": 6116.2}, {\"Product_ID\": 159, \"Purchase\": 12943.893081761007}, {\"Product_ID\": 71, \"Purchase\": 10624.281690140846}, {\"Product_ID\": 78, \"Purchase\": 10432.26923076923}, {\"Product_ID\": 404, \"Purchase\": 14148.735148514852}, {\"Product_ID\": 158, \"Purchase\": 10335.379746835442}, {\"Product_ID\": 34, \"Purchase\": 6303.176470588235}, {\"Product_ID\": 418, \"Purchase\": 5218.397129186603}, {\"Product_ID\": 74, \"Purchase\": 14038.297297297297}, {\"Product_ID\": 331, \"Purchase\": 6370.232628398791}, {\"Product_ID\": 124, \"Purchase\": 5298.3387096774195}, {\"Product_ID\": 102, \"Purchase\": 10061.686274509804}, {\"Product_ID\": 138, \"Purchase\": 5120.405797101449}, {\"Product_ID\": 220, \"Purchase\": 5158.695454545455}, {\"Product_ID\": 167, \"Purchase\": 12855.37125748503}, {\"Product_ID\": 95, \"Purchase\": 4541.357894736842}, {\"Product_ID\": 213, \"Purchase\": 5403.084507042254}, {\"Product_ID\": 116, \"Purchase\": 4208.422413793103}, {\"Product_ID\": 106, \"Purchase\": 3722.4245283018868}, {\"Product_ID\": 95, \"Purchase\": 3451.8736842105263}, {\"Product_ID\": 84, \"Purchase\": 3234.690476190476}, {\"Product_ID\": 76, \"Purchase\": 2786.3947368421054}, {\"Product_ID\": 291, \"Purchase\": 2326.8797250859106}, {\"Product_ID\": 75, \"Purchase\": 4531.293333333333}, {\"Product_ID\": 34, \"Purchase\": 3706.823529411765}, {\"Product_ID\": 121, \"Purchase\": 5009.305785123967}, {\"Product_ID\": 11, \"Purchase\": 6883.909090909091}, {\"Product_ID\": 149, \"Purchase\": 11086.476510067114}, {\"Product_ID\": 179, \"Purchase\": 6526.033519553072}, {\"Product_ID\": 406, \"Purchase\": 15327.35960591133}, {\"Product_ID\": 109, \"Purchase\": 3909.7155963302753}, {\"Product_ID\": 436, \"Purchase\": 13166.116972477064}, {\"Product_ID\": 317, \"Purchase\": 9735.59621451104}, {\"Product_ID\": 698, \"Purchase\": 6734.138968481376}, {\"Product_ID\": 1282, \"Purchase\": 7247.613104524181}, {\"Product_ID\": 6, \"Purchase\": 7333.333333333333}, {\"Product_ID\": 197, \"Purchase\": 7916.649746192893}, {\"Product_ID\": 120, \"Purchase\": 9239.058333333332}, {\"Product_ID\": 25, \"Purchase\": 1998.56}, {\"Product_ID\": 162, \"Purchase\": 2883.037037037037}, {\"Product_ID\": 217, \"Purchase\": 11181.10599078341}, {\"Product_ID\": 218, \"Purchase\": 13712.100917431193}, {\"Product_ID\": 164, \"Purchase\": 9041.170731707318}, {\"Product_ID\": 383, \"Purchase\": 12432.005221932115}, {\"Product_ID\": 737, \"Purchase\": 14507.588873812754}, {\"Product_ID\": 549, \"Purchase\": 6279.630236794172}, {\"Product_ID\": 136, \"Purchase\": 4641.169117647059}, {\"Product_ID\": 242, \"Purchase\": 12697.404958677685}, {\"Product_ID\": 225, \"Purchase\": 11189.257777777777}, {\"Product_ID\": 222, \"Purchase\": 10635.707207207208}, {\"Product_ID\": 147, \"Purchase\": 8059.326530612245}, {\"Product_ID\": 241, \"Purchase\": 5744.850622406639}, {\"Product_ID\": 205, \"Purchase\": 13159.643902439024}, {\"Product_ID\": 9, \"Purchase\": 5850.888888888889}, {\"Product_ID\": 190, \"Purchase\": 5535.373684210526}, {\"Product_ID\": 38, \"Purchase\": 5070.631578947368}, {\"Product_ID\": 57, \"Purchase\": 5488.298245614035}, {\"Product_ID\": 40, \"Purchase\": 6222.275}, {\"Product_ID\": 269, \"Purchase\": 6808.059479553904}, {\"Product_ID\": 271, \"Purchase\": 10585.450184501846}, {\"Product_ID\": 148, \"Purchase\": 8312.972972972973}, {\"Product_ID\": 272, \"Purchase\": 6446.875}, {\"Product_ID\": 462, \"Purchase\": 5966.30303030303}, {\"Product_ID\": 31, \"Purchase\": 14672.774193548386}, {\"Product_ID\": 16, \"Purchase\": 5114.1875}, {\"Product_ID\": 450, \"Purchase\": 13139.691111111111}, {\"Product_ID\": 266, \"Purchase\": 4213.763157894737}, {\"Product_ID\": 104, \"Purchase\": 9286.538461538461}, {\"Product_ID\": 78, \"Purchase\": 10233.166666666666}, {\"Product_ID\": 252, \"Purchase\": 5671.738095238095}, {\"Product_ID\": 88, \"Purchase\": 6266.897727272727}, {\"Product_ID\": 342, \"Purchase\": 6677.266081871345}, {\"Product_ID\": 29, \"Purchase\": 6890.827586206897}, {\"Product_ID\": 64, \"Purchase\": 5849.046875}, {\"Product_ID\": 62, \"Purchase\": 6409.629032258064}, {\"Product_ID\": 45, \"Purchase\": 7226.0}, {\"Product_ID\": 1, \"Purchase\": 7820.0}, {\"Product_ID\": 104, \"Purchase\": 7178.596153846154}, {\"Product_ID\": 23, \"Purchase\": 6804.826086956522}, {\"Product_ID\": 13, \"Purchase\": 6022.076923076923}, {\"Product_ID\": 88, \"Purchase\": 7474.5}, {\"Product_ID\": 65, \"Purchase\": 6981.246153846154}, {\"Product_ID\": 3, \"Purchase\": 7563.333333333333}, {\"Product_ID\": 40, \"Purchase\": 5605.9}, {\"Product_ID\": 32, \"Purchase\": 11043.53125}, {\"Product_ID\": 138, \"Purchase\": 5315.130434782609}, {\"Product_ID\": 98, \"Purchase\": 3497.3469387755104}, {\"Product_ID\": 20, \"Purchase\": 4653.7}, {\"Product_ID\": 211, \"Purchase\": 7193.857819905214}, {\"Product_ID\": 65, \"Purchase\": 4261.2}, {\"Product_ID\": 8, \"Purchase\": 2685.125}, {\"Product_ID\": 107, \"Purchase\": 6326.719626168225}, {\"Product_ID\": 262, \"Purchase\": 5063.916030534351}, {\"Product_ID\": 599, \"Purchase\": 5128.572621035059}, {\"Product_ID\": 164, \"Purchase\": 3442.5426829268295}, {\"Product_ID\": 137, \"Purchase\": 13066.0}, {\"Product_ID\": 77, \"Purchase\": 4317.792207792208}, {\"Product_ID\": 132, \"Purchase\": 4734.272727272727}, {\"Product_ID\": 64, \"Purchase\": 3799.421875}, {\"Product_ID\": 31, \"Purchase\": 3360.3870967741937}, {\"Product_ID\": 25, \"Purchase\": 2726.12}, {\"Product_ID\": 256, \"Purchase\": 5995.82421875}, {\"Product_ID\": 26, \"Purchase\": 3039.846153846154}, {\"Product_ID\": 4, \"Purchase\": 6595.25}, {\"Product_ID\": 177, \"Purchase\": 740.9830508474577}, {\"Product_ID\": 190, \"Purchase\": 10723.71052631579}, {\"Product_ID\": 260, \"Purchase\": 5812.057692307692}, {\"Product_ID\": 511, \"Purchase\": 11106.13698630137}, {\"Product_ID\": 219, \"Purchase\": 8764.721461187215}, {\"Product_ID\": 58, \"Purchase\": 4988.637931034483}, {\"Product_ID\": 91, \"Purchase\": 4158.527472527472}, {\"Product_ID\": 181, \"Purchase\": 6701.696132596685}, {\"Product_ID\": 86, \"Purchase\": 12813.209302325582}, {\"Product_ID\": 146, \"Purchase\": 12906.40410958904}, {\"Product_ID\": 20, \"Purchase\": 7660.55}, {\"Product_ID\": 318, \"Purchase\": 5434.96855345912}, {\"Product_ID\": 26, \"Purchase\": 4594.538461538462}, {\"Product_ID\": 1, \"Purchase\": 9898.0}, {\"Product_ID\": 17, \"Purchase\": 7360.882352941177}, {\"Product_ID\": 16, \"Purchase\": 5930.8125}, {\"Product_ID\": 14, \"Purchase\": 5940.928571428572}, {\"Product_ID\": 222, \"Purchase\": 5401.396396396396}, {\"Product_ID\": 3, \"Purchase\": 4008.6666666666665}, {\"Product_ID\": 4, \"Purchase\": 10957.0}, {\"Product_ID\": 43, \"Purchase\": 7474.697674418605}, {\"Product_ID\": 443, \"Purchase\": 13628.930022573364}, {\"Product_ID\": 58, \"Purchase\": 4808.413793103448}, {\"Product_ID\": 87, \"Purchase\": 4937.057471264367}, {\"Product_ID\": 16, \"Purchase\": 7928.9375}, {\"Product_ID\": 16, \"Purchase\": 16136.5}, {\"Product_ID\": 56, \"Purchase\": 9528.17857142857}, {\"Product_ID\": 195, \"Purchase\": 6004.328205128205}, {\"Product_ID\": 91, \"Purchase\": 11037.076923076924}, {\"Product_ID\": 52, \"Purchase\": 3932.25}, {\"Product_ID\": 33, \"Purchase\": 5949.30303030303}, {\"Product_ID\": 69, \"Purchase\": 4587.768115942029}, {\"Product_ID\": 334, \"Purchase\": 8198.829341317365}, {\"Product_ID\": 465, \"Purchase\": 6765.266666666666}, {\"Product_ID\": 5, \"Purchase\": 8690.6}, {\"Product_ID\": 105, \"Purchase\": 5206.323809523809}, {\"Product_ID\": 163, \"Purchase\": 11847.754601226994}, {\"Product_ID\": 83, \"Purchase\": 6021.855421686747}, {\"Product_ID\": 28, \"Purchase\": 5450.142857142857}, {\"Product_ID\": 8, \"Purchase\": 4421.25}, {\"Product_ID\": 1, \"Purchase\": 7181.0}, {\"Product_ID\": 43, \"Purchase\": 15940.116279069767}, {\"Product_ID\": 12, \"Purchase\": 7436.416666666667}, {\"Product_ID\": 170, \"Purchase\": 4587.711764705882}, {\"Product_ID\": 68, \"Purchase\": 3142.8970588235293}, {\"Product_ID\": 31, \"Purchase\": 2850.8064516129034}, {\"Product_ID\": 32, \"Purchase\": 2900.0}, {\"Product_ID\": 141, \"Purchase\": 4628.063829787234}, {\"Product_ID\": 160, \"Purchase\": 6086.74375}, {\"Product_ID\": 52, \"Purchase\": 4907.884615384615}, {\"Product_ID\": 92, \"Purchase\": 6188.684782608696}, {\"Product_ID\": 42, \"Purchase\": 5144.476190476191}, {\"Product_ID\": 43, \"Purchase\": 4990.790697674419}, {\"Product_ID\": 22, \"Purchase\": 4467.090909090909}, {\"Product_ID\": 144, \"Purchase\": 11505.145833333334}, {\"Product_ID\": 80, \"Purchase\": 8928.8125}, {\"Product_ID\": 72, \"Purchase\": 9850.319444444445}, {\"Product_ID\": 351, \"Purchase\": 13468.051282051281}, {\"Product_ID\": 338, \"Purchase\": 13386.899408284024}, {\"Product_ID\": 636, \"Purchase\": 14324.842767295597}, {\"Product_ID\": 199, \"Purchase\": 11874.658291457286}, {\"Product_ID\": 169, \"Purchase\": 11104.644970414201}, {\"Product_ID\": 196, \"Purchase\": 11150.836734693878}, {\"Product_ID\": 251, \"Purchase\": 11997.593625498008}, {\"Product_ID\": 9, \"Purchase\": 9652.111111111111}, {\"Product_ID\": 67, \"Purchase\": 10947.791044776119}, {\"Product_ID\": 17, \"Purchase\": 3405.5882352941176}, {\"Product_ID\": 18, \"Purchase\": 6862.722222222223}, {\"Product_ID\": 3, \"Purchase\": 12553.666666666666}, {\"Product_ID\": 348, \"Purchase\": 5954.192528735633}, {\"Product_ID\": 87, \"Purchase\": 11977.586206896553}, {\"Product_ID\": 314, \"Purchase\": 6451.75796178344}, {\"Product_ID\": 349, \"Purchase\": 6836.008595988539}, {\"Product_ID\": 1, \"Purchase\": 7120.0}, {\"Product_ID\": 10, \"Purchase\": 5806.8}, {\"Product_ID\": 3, \"Purchase\": 3079.3333333333335}, {\"Product_ID\": 86, \"Purchase\": 6020.058139534884}, {\"Product_ID\": 63, \"Purchase\": 3622.4920634920636}, {\"Product_ID\": 98, \"Purchase\": 8791.234693877552}, {\"Product_ID\": 99, \"Purchase\": 5260.343434343435}, {\"Product_ID\": 104, \"Purchase\": 6686.115384615385}, {\"Product_ID\": 23, \"Purchase\": 3984.0434782608695}, {\"Product_ID\": 126, \"Purchase\": 4997.674603174603}, {\"Product_ID\": 80, \"Purchase\": 4712.0125}, {\"Product_ID\": 81, \"Purchase\": 3324.0}, {\"Product_ID\": 2, \"Purchase\": 4111.5}, {\"Product_ID\": 127, \"Purchase\": 4808.818897637795}, {\"Product_ID\": 15, \"Purchase\": 7140.666666666667}, {\"Product_ID\": 100, \"Purchase\": 6400.68}, {\"Product_ID\": 65, \"Purchase\": 12220.953846153847}, {\"Product_ID\": 4, \"Purchase\": 7370.25}, {\"Product_ID\": 216, \"Purchase\": 1375.351851851852}, {\"Product_ID\": 22, \"Purchase\": 7462.590909090909}, {\"Product_ID\": 159, \"Purchase\": 5601.855345911949}, {\"Product_ID\": 112, \"Purchase\": 8066.4375}, {\"Product_ID\": 4, \"Purchase\": 7487.25}, {\"Product_ID\": 53, \"Purchase\": 6753.754716981132}, {\"Product_ID\": 1394, \"Purchase\": 16804.57388809182}, {\"Product_ID\": 390, \"Purchase\": 5907.476923076923}, {\"Product_ID\": 22, \"Purchase\": 6687.318181818182}, {\"Product_ID\": 101, \"Purchase\": 4680.306930693069}, {\"Product_ID\": 72, \"Purchase\": 7763.875}, {\"Product_ID\": 2, \"Purchase\": 3264.5}, {\"Product_ID\": 17, \"Purchase\": 5916.64705882353}, {\"Product_ID\": 2, \"Purchase\": 14961.0}, {\"Product_ID\": 15, \"Purchase\": 8089.2}, {\"Product_ID\": 378, \"Purchase\": 15604.547619047618}, {\"Product_ID\": 342, \"Purchase\": 5572.412280701755}, {\"Product_ID\": 30, \"Purchase\": 11623.833333333334}, {\"Product_ID\": 122, \"Purchase\": 698.172131147541}, {\"Product_ID\": 1, \"Purchase\": 5142.0}, {\"Product_ID\": 22, \"Purchase\": 7429.454545454545}, {\"Product_ID\": 11, \"Purchase\": 4690.0}, {\"Product_ID\": 53, \"Purchase\": 5248.641509433963}, {\"Product_ID\": 34, \"Purchase\": 4658.117647058823}, {\"Product_ID\": 19, \"Purchase\": 6734.578947368421}, {\"Product_ID\": 1, \"Purchase\": 5380.0}, {\"Product_ID\": 19, \"Purchase\": 6219.8421052631575}, {\"Product_ID\": 36, \"Purchase\": 7496.25}, {\"Product_ID\": 81, \"Purchase\": 6600.9876543209875}, {\"Product_ID\": 35, \"Purchase\": 4365.171428571429}, {\"Product_ID\": 281, \"Purchase\": 5551.53024911032}, {\"Product_ID\": 816, \"Purchase\": 6909.281862745098}, {\"Product_ID\": 221, \"Purchase\": 12598.158371040725}, {\"Product_ID\": 3, \"Purchase\": 5546.0}, {\"Product_ID\": 409, \"Purchase\": 13129.349633251833}, {\"Product_ID\": 105, \"Purchase\": 4672.314285714286}, {\"Product_ID\": 46, \"Purchase\": 8251.260869565218}, {\"Product_ID\": 4, \"Purchase\": 10317.25}, {\"Product_ID\": 34, \"Purchase\": 8358.735294117647}, {\"Product_ID\": 21, \"Purchase\": 7279.333333333333}, {\"Product_ID\": 84, \"Purchase\": 7555.0952380952385}, {\"Product_ID\": 78, \"Purchase\": 8060.692307692308}, {\"Product_ID\": 165, \"Purchase\": 12218.58787878788}, {\"Product_ID\": 29, \"Purchase\": 8066.172413793103}, {\"Product_ID\": 91, \"Purchase\": 10062.538461538461}, {\"Product_ID\": 324, \"Purchase\": 10572.25925925926}, {\"Product_ID\": 556, \"Purchase\": 12985.285971223022}, {\"Product_ID\": 27, \"Purchase\": 6716.259259259259}, {\"Product_ID\": 1, \"Purchase\": 5922.0}, {\"Product_ID\": 24, \"Purchase\": 7302.458333333333}, {\"Product_ID\": 36, \"Purchase\": 7169.805555555556}, {\"Product_ID\": 216, \"Purchase\": 5899.689814814815}, {\"Product_ID\": 4, \"Purchase\": 4775.5}, {\"Product_ID\": 49, \"Purchase\": 8004.65306122449}, {\"Product_ID\": 41, \"Purchase\": 12261.926829268292}, {\"Product_ID\": 27, \"Purchase\": 6244.333333333333}, {\"Product_ID\": 7, \"Purchase\": 13819.57142857143}, {\"Product_ID\": 1215, \"Purchase\": 13461.018930041153}, {\"Product_ID\": 82, \"Purchase\": 4685.036585365854}, {\"Product_ID\": 25, \"Purchase\": 6885.64}, {\"Product_ID\": 2, \"Purchase\": 3609.0}, {\"Product_ID\": 4, \"Purchase\": 8426.75}, {\"Product_ID\": 98, \"Purchase\": 5422.65306122449}, {\"Product_ID\": 52, \"Purchase\": 4913.634615384615}, {\"Product_ID\": 15, \"Purchase\": 4668.8}, {\"Product_ID\": 10, \"Purchase\": 3854.2}, {\"Product_ID\": 18, \"Purchase\": 4161.277777777777}, {\"Product_ID\": 22, \"Purchase\": 4631.272727272727}, {\"Product_ID\": 92, \"Purchase\": 6193.228260869565}, {\"Product_ID\": 688, \"Purchase\": 13731.068313953489}, {\"Product_ID\": 466, \"Purchase\": 12187.663090128755}, {\"Product_ID\": 285, \"Purchase\": 9070.361403508772}, {\"Product_ID\": 181, \"Purchase\": 7467.591160220994}, {\"Product_ID\": 125, \"Purchase\": 6034.584}, {\"Product_ID\": 61, \"Purchase\": 5223.688524590164}, {\"Product_ID\": 17, \"Purchase\": 4228.411764705882}, {\"Product_ID\": 23, \"Purchase\": 4977.086956521739}, {\"Product_ID\": 226, \"Purchase\": 5877.530973451328}, {\"Product_ID\": 36, \"Purchase\": 5079.0}, {\"Product_ID\": 20, \"Purchase\": 4119.75}, {\"Product_ID\": 53, \"Purchase\": 4716.075471698113}, {\"Product_ID\": 34, \"Purchase\": 4455.588235294118}, {\"Product_ID\": 26, \"Purchase\": 4127.884615384615}, {\"Product_ID\": 77, \"Purchase\": 5820.467532467533}, {\"Product_ID\": 28, \"Purchase\": 2736.0}, {\"Product_ID\": 33, \"Purchase\": 4082.060606060606}, {\"Product_ID\": 691, \"Purchase\": 5833.966714905933}, {\"Product_ID\": 7, \"Purchase\": 15112.57142857143}, {\"Product_ID\": 34, \"Purchase\": 5788.85294117647}, {\"Product_ID\": 75, \"Purchase\": 16954.106666666667}, {\"Product_ID\": 46, \"Purchase\": 15061.695652173914}, {\"Product_ID\": 322, \"Purchase\": 14955.375776397515}, {\"Product_ID\": 25, \"Purchase\": 14437.28}, {\"Product_ID\": 343, \"Purchase\": 5916.169096209913}, {\"Product_ID\": 39, \"Purchase\": 14273.205128205129}, {\"Product_ID\": 19, \"Purchase\": 14380.894736842105}, {\"Product_ID\": 36, \"Purchase\": 11074.138888888889}, {\"Product_ID\": 150, \"Purchase\": 3868.82}, {\"Product_ID\": 66, \"Purchase\": 9691.19696969697}, {\"Product_ID\": 133, \"Purchase\": 10551.631578947368}, {\"Product_ID\": 407, \"Purchase\": 6384.985257985258}, {\"Product_ID\": 214, \"Purchase\": 6353.387850467289}, {\"Product_ID\": 5, \"Purchase\": 8655.4}, {\"Product_ID\": 16, \"Purchase\": 5382.625}, {\"Product_ID\": 8, \"Purchase\": 6173.75}, {\"Product_ID\": 159, \"Purchase\": 6306.559748427673}, {\"Product_ID\": 130, \"Purchase\": 17298.123076923075}, {\"Product_ID\": 17, \"Purchase\": 6470.411764705882}, {\"Product_ID\": 2, \"Purchase\": 4110.0}, {\"Product_ID\": 23, \"Purchase\": 6733.565217391304}, {\"Product_ID\": 48, \"Purchase\": 8007.375}, {\"Product_ID\": 815, \"Purchase\": 6039.8687116564415}, {\"Product_ID\": 4, \"Purchase\": 5421.75}, {\"Product_ID\": 319, \"Purchase\": 7845.021943573668}, {\"Product_ID\": 232, \"Purchase\": 9618.762931034482}, {\"Product_ID\": 377, \"Purchase\": 6327.79575596817}, {\"Product_ID\": 21, \"Purchase\": 14084.095238095239}, {\"Product_ID\": 241, \"Purchase\": 6519.041493775933}, {\"Product_ID\": 13, \"Purchase\": 6032.538461538462}, {\"Product_ID\": 581, \"Purchase\": 16304.030981067126}, {\"Product_ID\": 113, \"Purchase\": 15978.991150442478}, {\"Product_ID\": 448, \"Purchase\": 5553.720982142857}, {\"Product_ID\": 7, \"Purchase\": 4337.857142857143}, {\"Product_ID\": 43, \"Purchase\": 6821.162790697675}, {\"Product_ID\": 25, \"Purchase\": 6674.0}, {\"Product_ID\": 785, \"Purchase\": 11768.340127388536}, {\"Product_ID\": 721, \"Purchase\": 10208.328710124826}, {\"Product_ID\": 476, \"Purchase\": 8501.89075630252}, {\"Product_ID\": 206, \"Purchase\": 6002.898058252427}, {\"Product_ID\": 18, \"Purchase\": 6203.166666666667}, {\"Product_ID\": 4, \"Purchase\": 5025.0}, {\"Product_ID\": 768, \"Purchase\": 6489.674479166667}, {\"Product_ID\": 341, \"Purchase\": 14737.102639296188}, {\"Product_ID\": 24, \"Purchase\": 15117.916666666666}, {\"Product_ID\": 123, \"Purchase\": 2189.878048780488}, {\"Product_ID\": 672, \"Purchase\": 4594.288690476191}, {\"Product_ID\": 11, \"Purchase\": 6027.0}, {\"Product_ID\": 528, \"Purchase\": 6401.068181818182}, {\"Product_ID\": 211, \"Purchase\": 3717.3364928909955}, {\"Product_ID\": 47, \"Purchase\": 6725.255319148936}, {\"Product_ID\": 14, \"Purchase\": 3955.8571428571427}, {\"Product_ID\": 1187, \"Purchase\": 6861.852569502948}, {\"Product_ID\": 302, \"Purchase\": 5178.350993377483}, {\"Product_ID\": 204, \"Purchase\": 5647.490196078431}, {\"Product_ID\": 269, \"Purchase\": 3693.081784386617}, {\"Product_ID\": 198, \"Purchase\": 8456.060606060606}, {\"Product_ID\": 46, \"Purchase\": 13838.217391304348}, {\"Product_ID\": 317, \"Purchase\": 11119.804416403786}, {\"Product_ID\": 469, \"Purchase\": 11943.464818763327}, {\"Product_ID\": 347, \"Purchase\": 5524.835734870317}, {\"Product_ID\": 52, \"Purchase\": 7701.538461538462}, {\"Product_ID\": 73, \"Purchase\": 16909.794520547945}, {\"Product_ID\": 14, \"Purchase\": 16904.0}, {\"Product_ID\": 237, \"Purchase\": 7930.2194092827}, {\"Product_ID\": 122, \"Purchase\": 7858.163934426229}, {\"Product_ID\": 79, \"Purchase\": 6742.379746835443}, {\"Product_ID\": 118, \"Purchase\": 8591.059322033898}, {\"Product_ID\": 78, \"Purchase\": 7677.102564102564}, {\"Product_ID\": 31, \"Purchase\": 8447.354838709678}, {\"Product_ID\": 240, \"Purchase\": 6785.629166666667}, {\"Product_ID\": 257, \"Purchase\": 11452.87159533074}, {\"Product_ID\": 126, \"Purchase\": 6136.396825396825}, {\"Product_ID\": 8, \"Purchase\": 12623.25}, {\"Product_ID\": 44, \"Purchase\": 6042.772727272727}, {\"Product_ID\": 251, \"Purchase\": 7511.581673306773}, {\"Product_ID\": 10, \"Purchase\": 4385.9}, {\"Product_ID\": 32, \"Purchase\": 12249.28125}, {\"Product_ID\": 14, \"Purchase\": 6991.214285714285}, {\"Product_ID\": 18, \"Purchase\": 6772.388888888889}, {\"Product_ID\": 131, \"Purchase\": 7754.076335877862}, {\"Product_ID\": 512, \"Purchase\": 5925.880859375}, {\"Product_ID\": 189, \"Purchase\": 5731.656084656084}, {\"Product_ID\": 71, \"Purchase\": 7875.042253521126}, {\"Product_ID\": 49, \"Purchase\": 6703.551020408163}, {\"Product_ID\": 146, \"Purchase\": 6550.075342465753}, {\"Product_ID\": 25, \"Purchase\": 4919.28}, {\"Product_ID\": 97, \"Purchase\": 5358.40206185567}, {\"Product_ID\": 38, \"Purchase\": 14544.131578947368}, {\"Product_ID\": 7, \"Purchase\": 3327.8571428571427}, {\"Product_ID\": 20, \"Purchase\": 5264.15}, {\"Product_ID\": 11, \"Purchase\": 11360.727272727272}, {\"Product_ID\": 68, \"Purchase\": 7550.279411764706}, {\"Product_ID\": 13, \"Purchase\": 6194.923076923077}, {\"Product_ID\": 235, \"Purchase\": 5889.770212765958}, {\"Product_ID\": 4, \"Purchase\": 6077.75}, {\"Product_ID\": 387, \"Purchase\": 10962.284237726099}, {\"Product_ID\": 1383, \"Purchase\": 18198.816341287056}, {\"Product_ID\": 561, \"Purchase\": 14217.245989304813}, {\"Product_ID\": 154, \"Purchase\": 14836.506493506493}, {\"Product_ID\": 3, \"Purchase\": 6483.666666666667}, {\"Product_ID\": 20, \"Purchase\": 6316.0}, {\"Product_ID\": 12, \"Purchase\": 5390.0}, {\"Product_ID\": 10, \"Purchase\": 5836.9}, {\"Product_ID\": 39, \"Purchase\": 13780.205128205129}, {\"Product_ID\": 498, \"Purchase\": 5668.600401606425}, {\"Product_ID\": 101, \"Purchase\": 5855.60396039604}, {\"Product_ID\": 133, \"Purchase\": 5322.909774436091}, {\"Product_ID\": 9, \"Purchase\": 5530.888888888889}, {\"Product_ID\": 38, \"Purchase\": 6642.289473684211}, {\"Product_ID\": 8, \"Purchase\": 6973.5}, {\"Product_ID\": 8, \"Purchase\": 13117.5}, {\"Product_ID\": 3, \"Purchase\": 5309.333333333333}, {\"Product_ID\": 17, \"Purchase\": 10319.411764705883}, {\"Product_ID\": 182, \"Purchase\": 6353.054945054945}, {\"Product_ID\": 42, \"Purchase\": 5671.452380952381}, {\"Product_ID\": 31, \"Purchase\": 5253.1612903225805}, {\"Product_ID\": 58, \"Purchase\": 5077.431034482759}, {\"Product_ID\": 3, \"Purchase\": 3023.0}, {\"Product_ID\": 35, \"Purchase\": 4931.028571428571}, {\"Product_ID\": 11, \"Purchase\": 4487.545454545455}, {\"Product_ID\": 31, \"Purchase\": 4369.774193548387}, {\"Product_ID\": 68, \"Purchase\": 4418.411764705882}, {\"Product_ID\": 234, \"Purchase\": 7346.508547008547}, {\"Product_ID\": 95, \"Purchase\": 4723.010526315789}, {\"Product_ID\": 26, \"Purchase\": 4615.692307692308}, {\"Product_ID\": 964, \"Purchase\": 7002.630705394191}, {\"Product_ID\": 300, \"Purchase\": 5246.77}, {\"Product_ID\": 137, \"Purchase\": 4762.051094890511}, {\"Product_ID\": 202, \"Purchase\": 5079.133663366337}, {\"Product_ID\": 294, \"Purchase\": 6772.125850340136}, {\"Product_ID\": 128, \"Purchase\": 5395.2109375}, {\"Product_ID\": 836, \"Purchase\": 6751.976076555024}, {\"Product_ID\": 92, \"Purchase\": 3446.0978260869565}, {\"Product_ID\": 56, \"Purchase\": 2962.4464285714284}, {\"Product_ID\": 11, \"Purchase\": 8402.636363636364}, {\"Product_ID\": 48, \"Purchase\": 7095.895833333333}, {\"Product_ID\": 162, \"Purchase\": 12326.74074074074}, {\"Product_ID\": 199, \"Purchase\": 13911.522613065326}, {\"Product_ID\": 754, \"Purchase\": 7402.253315649868}, {\"Product_ID\": 234, \"Purchase\": 5135.470085470086}, {\"Product_ID\": 87, \"Purchase\": 4716.666666666667}, {\"Product_ID\": 47, \"Purchase\": 6767.553191489362}, {\"Product_ID\": 193, \"Purchase\": 10027.678756476684}, {\"Product_ID\": 13, \"Purchase\": 4699.2307692307695}, {\"Product_ID\": 26, \"Purchase\": 11055.692307692309}, {\"Product_ID\": 1, \"Purchase\": 7185.0}, {\"Product_ID\": 23, \"Purchase\": 12375.304347826086}, {\"Product_ID\": 16, \"Purchase\": 15229.625}, {\"Product_ID\": 4, \"Purchase\": 4187.0}, {\"Product_ID\": 146, \"Purchase\": 10113.705479452055}, {\"Product_ID\": 75, \"Purchase\": 7159.8}, {\"Product_ID\": 62, \"Purchase\": 6962.693548387097}, {\"Product_ID\": 32, \"Purchase\": 6075.375}, {\"Product_ID\": 174, \"Purchase\": 16727.1091954023}, {\"Product_ID\": 33, \"Purchase\": 7472.909090909091}, {\"Product_ID\": 2, \"Purchase\": 6717.0}, {\"Product_ID\": 145, \"Purchase\": 9802.53103448276}, {\"Product_ID\": 2, \"Purchase\": 7701.0}, {\"Product_ID\": 7, \"Purchase\": 16670.14285714286}, {\"Product_ID\": 2, \"Purchase\": 4980.5}, {\"Product_ID\": 419, \"Purchase\": 12377.007159904535}, {\"Product_ID\": 189, \"Purchase\": 10401.52380952381}, {\"Product_ID\": 74, \"Purchase\": 1585.7702702702702}, {\"Product_ID\": 88, \"Purchase\": 5247.954545454545}, {\"Product_ID\": 8, \"Purchase\": 6458.75}, {\"Product_ID\": 2, \"Purchase\": 5941.0}, {\"Product_ID\": 2, \"Purchase\": 9205.5}, {\"Product_ID\": 9, \"Purchase\": 6846.666666666667}, {\"Product_ID\": 35, \"Purchase\": 10837.2}, {\"Product_ID\": 93, \"Purchase\": 5729.193548387097}, {\"Product_ID\": 13, \"Purchase\": 6339.615384615385}, {\"Product_ID\": 6, \"Purchase\": 8639.166666666666}, {\"Product_ID\": 221, \"Purchase\": 12051.443438914028}, {\"Product_ID\": 288, \"Purchase\": 14987.826388888889}, {\"Product_ID\": 25, \"Purchase\": 14370.36}, {\"Product_ID\": 11, \"Purchase\": 6739.727272727273}, {\"Product_ID\": 42, \"Purchase\": 6512.880952380952}, {\"Product_ID\": 83, \"Purchase\": 2355.132530120482}, {\"Product_ID\": 14, \"Purchase\": 7538.928571428572}, {\"Product_ID\": 18, \"Purchase\": 7846.0}, {\"Product_ID\": 8, \"Purchase\": 5106.875}, {\"Product_ID\": 2, \"Purchase\": 8096.0}, {\"Product_ID\": 78, \"Purchase\": 7562.948717948718}, {\"Product_ID\": 76, \"Purchase\": 7529.723684210527}, {\"Product_ID\": 15, \"Purchase\": 4470.066666666667}, {\"Product_ID\": 4, \"Purchase\": 3194.5}, {\"Product_ID\": 7, \"Purchase\": 3987.5714285714284}, {\"Product_ID\": 41, \"Purchase\": 12529.19512195122}, {\"Product_ID\": 219, \"Purchase\": 9997.018264840182}, {\"Product_ID\": 1880, \"Purchase\": 7534.848404255319}, {\"Product_ID\": 133, \"Purchase\": 17698.195488721805}, {\"Product_ID\": 74, \"Purchase\": 5676.675675675676}, {\"Product_ID\": 202, \"Purchase\": 5750.247524752475}, {\"Product_ID\": 51, \"Purchase\": 5375.764705882353}, {\"Product_ID\": 268, \"Purchase\": 6925.111940298508}, {\"Product_ID\": 16, \"Purchase\": 4794.5}, {\"Product_ID\": 16, \"Purchase\": 5491.5}, {\"Product_ID\": 114, \"Purchase\": 7212.043859649123}, {\"Product_ID\": 162, \"Purchase\": 6060.530864197531}, {\"Product_ID\": 35, \"Purchase\": 3426.7428571428572}, {\"Product_ID\": 3, \"Purchase\": 5324.333333333333}, {\"Product_ID\": 105, \"Purchase\": 6275.361904761905}, {\"Product_ID\": 405, \"Purchase\": 12820.585185185186}, {\"Product_ID\": 428, \"Purchase\": 14605.724299065421}, {\"Product_ID\": 10, \"Purchase\": 5630.6}, {\"Product_ID\": 37, \"Purchase\": 5958.459459459459}, {\"Product_ID\": 166, \"Purchase\": 6581.253012048192}, {\"Product_ID\": 25, \"Purchase\": 7360.32}, {\"Product_ID\": 114, \"Purchase\": 5902.666666666667}, {\"Product_ID\": 21, \"Purchase\": 3538.5714285714284}, {\"Product_ID\": 89, \"Purchase\": 13361.85393258427}, {\"Product_ID\": 36, \"Purchase\": 13157.305555555555}, {\"Product_ID\": 430, \"Purchase\": 12473.332558139535}, {\"Product_ID\": 67, \"Purchase\": 5688.537313432836}, {\"Product_ID\": 144, \"Purchase\": 6100.375}, {\"Product_ID\": 23, \"Purchase\": 4398.695652173913}, {\"Product_ID\": 35, \"Purchase\": 6491.6}, {\"Product_ID\": 16, \"Purchase\": 1606.9375}, {\"Product_ID\": 3, \"Purchase\": 4706.666666666667}, {\"Product_ID\": 65, \"Purchase\": 4925.430769230769}, {\"Product_ID\": 151, \"Purchase\": 6059.980132450331}, {\"Product_ID\": 567, \"Purchase\": 7605.153439153439}, {\"Product_ID\": 93, \"Purchase\": 6014.279569892473}, {\"Product_ID\": 7, \"Purchase\": 9733.142857142857}, {\"Product_ID\": 27, \"Purchase\": 10509.296296296296}, {\"Product_ID\": 21, \"Purchase\": 4856.380952380952}, {\"Product_ID\": 14, \"Purchase\": 2432.285714285714}, {\"Product_ID\": 12, \"Purchase\": 6013.333333333333}, {\"Product_ID\": 51, \"Purchase\": 4230.941176470588}, {\"Product_ID\": 72, \"Purchase\": 11638.680555555555}, {\"Product_ID\": 90, \"Purchase\": 4026.4}, {\"Product_ID\": 180, \"Purchase\": 4864.105555555556}, {\"Product_ID\": 97, \"Purchase\": 3699.907216494845}, {\"Product_ID\": 50, \"Purchase\": 3280.9}, {\"Product_ID\": 7, \"Purchase\": 7103.571428571428}, {\"Product_ID\": 37, \"Purchase\": 17884.18918918919}, {\"Product_ID\": 140, \"Purchase\": 4730.228571428572}, {\"Product_ID\": 123, \"Purchase\": 4054.1544715447153}, {\"Product_ID\": 483, \"Purchase\": 7973.101449275362}, {\"Product_ID\": 4, \"Purchase\": 5522.5}, {\"Product_ID\": 260, \"Purchase\": 14061.180769230768}, {\"Product_ID\": 12, \"Purchase\": 6148.5}, {\"Product_ID\": 7, \"Purchase\": 3885.5714285714284}, {\"Product_ID\": 472, \"Purchase\": 6346.637711864407}, {\"Product_ID\": 1152, \"Purchase\": 14343.519965277777}, {\"Product_ID\": 289, \"Purchase\": 16522.166089965398}, {\"Product_ID\": 791, \"Purchase\": 7209.479140328698}, {\"Product_ID\": 202, \"Purchase\": 7886.316831683168}, {\"Product_ID\": 56, \"Purchase\": 8109.232142857143}, {\"Product_ID\": 199, \"Purchase\": 2966.618090452261}, {\"Product_ID\": 131, \"Purchase\": 2887.1832061068703}, {\"Product_ID\": 7, \"Purchase\": 5586.571428571428}, {\"Product_ID\": 67, \"Purchase\": 15669.059701492537}, {\"Product_ID\": 28, \"Purchase\": 7667.178571428572}, {\"Product_ID\": 239, \"Purchase\": 5794.230125523012}, {\"Product_ID\": 60, \"Purchase\": 8117.233333333334}, {\"Product_ID\": 44, \"Purchase\": 6709.227272727273}, {\"Product_ID\": 113, \"Purchase\": 6934.0}, {\"Product_ID\": 2, \"Purchase\": 18944.5}, {\"Product_ID\": 2, \"Purchase\": 6936.5}, {\"Product_ID\": 66, \"Purchase\": 7704.333333333333}, {\"Product_ID\": 5, \"Purchase\": 6725.2}, {\"Product_ID\": 2, \"Purchase\": 1410.0}, {\"Product_ID\": 81, \"Purchase\": 7451.197530864198}, {\"Product_ID\": 81, \"Purchase\": 7025.567901234568}, {\"Product_ID\": 53, \"Purchase\": 7244.8490566037735}, {\"Product_ID\": 22, \"Purchase\": 7427.590909090909}, {\"Product_ID\": 28, \"Purchase\": 7139.464285714285}, {\"Product_ID\": 60, \"Purchase\": 19172.85}, {\"Product_ID\": 159, \"Purchase\": 1269.0943396226414}, {\"Product_ID\": 211, \"Purchase\": 6200.450236966824}, {\"Product_ID\": 88, \"Purchase\": 7397.727272727273}, {\"Product_ID\": 392, \"Purchase\": 15572.826530612245}, {\"Product_ID\": 18, \"Purchase\": 524.6666666666666}, {\"Product_ID\": 178, \"Purchase\": 6627.623595505618}, {\"Product_ID\": 475, \"Purchase\": 15490.825263157894}, {\"Product_ID\": 407, \"Purchase\": 15016.479115479115}, {\"Product_ID\": 358, \"Purchase\": 15214.790502793296}, {\"Product_ID\": 192, \"Purchase\": 7845.765625}, {\"Product_ID\": 280, \"Purchase\": 15593.17857142857}, {\"Product_ID\": 116, \"Purchase\": 14939.068965517241}, {\"Product_ID\": 194, \"Purchase\": 1686.3556701030927}, {\"Product_ID\": 2, \"Purchase\": 3224.5}, {\"Product_ID\": 74, \"Purchase\": 12257.716216216217}, {\"Product_ID\": 793, \"Purchase\": 8068.920554854981}, {\"Product_ID\": 1, \"Purchase\": 7762.0}, {\"Product_ID\": 169, \"Purchase\": 4901.325443786982}, {\"Product_ID\": 7, \"Purchase\": 5512.285714285715}, {\"Product_ID\": 9, \"Purchase\": 15924.666666666666}, {\"Product_ID\": 8, \"Purchase\": 7183.0}, {\"Product_ID\": 38, \"Purchase\": 8537.0}, {\"Product_ID\": 230, \"Purchase\": 7969.791304347826}, {\"Product_ID\": 65, \"Purchase\": 7380.830769230769}, {\"Product_ID\": 560, \"Purchase\": 12097.610714285714}, {\"Product_ID\": 35, \"Purchase\": 7641.771428571428}, {\"Product_ID\": 51, \"Purchase\": 12587.21568627451}, {\"Product_ID\": 171, \"Purchase\": 1355.187134502924}, {\"Product_ID\": 31, \"Purchase\": 7887.580645161291}, {\"Product_ID\": 264, \"Purchase\": 7186.738636363636}, {\"Product_ID\": 35, \"Purchase\": 2929.4}, {\"Product_ID\": 60, \"Purchase\": 5982.083333333333}, {\"Product_ID\": 305, \"Purchase\": 6010.163934426229}, {\"Product_ID\": 22, \"Purchase\": 5321.090909090909}, {\"Product_ID\": 61, \"Purchase\": 4875.262295081967}, {\"Product_ID\": 24, \"Purchase\": 4602.333333333333}, {\"Product_ID\": 7, \"Purchase\": 14183.0}, {\"Product_ID\": 22, \"Purchase\": 3292.909090909091}, {\"Product_ID\": 40, \"Purchase\": 15792.65}, {\"Product_ID\": 7, \"Purchase\": 16637.571428571428}, {\"Product_ID\": 657, \"Purchase\": 13510.640791476408}, {\"Product_ID\": 275, \"Purchase\": 9200.938181818181}, {\"Product_ID\": 989, \"Purchase\": 11953.32254802831}, {\"Product_ID\": 62, \"Purchase\": 7148.612903225807}, {\"Product_ID\": 216, \"Purchase\": 13520.541666666666}, {\"Product_ID\": 197, \"Purchase\": 12761.05076142132}, {\"Product_ID\": 220, \"Purchase\": 14067.445454545454}, {\"Product_ID\": 13, \"Purchase\": 4005.3076923076924}, {\"Product_ID\": 239, \"Purchase\": 14408.861924686193}, {\"Product_ID\": 5, \"Purchase\": 7593.6}, {\"Product_ID\": 182, \"Purchase\": 3741.4835164835163}, {\"Product_ID\": 73, \"Purchase\": 6854.958904109589}, {\"Product_ID\": 1226, \"Purchase\": 7263.07748776509}, {\"Product_ID\": 6, \"Purchase\": 13220.0}, {\"Product_ID\": 2, \"Purchase\": 6112.5}, {\"Product_ID\": 174, \"Purchase\": 16175.37356321839}, {\"Product_ID\": 23, \"Purchase\": 16720.478260869564}, {\"Product_ID\": 5, \"Purchase\": 5679.4}, {\"Product_ID\": 143, \"Purchase\": 4361.685314685315}, {\"Product_ID\": 353, \"Purchase\": 14129.526912181303}, {\"Product_ID\": 487, \"Purchase\": 8042.501026694045}, {\"Product_ID\": 154, \"Purchase\": 17072.285714285714}, {\"Product_ID\": 23, \"Purchase\": 15840.739130434782}, {\"Product_ID\": 23, \"Purchase\": 7296.695652173913}, {\"Product_ID\": 84, \"Purchase\": 7321.3452380952385}, {\"Product_ID\": 5, \"Purchase\": 4629.0}, {\"Product_ID\": 40, \"Purchase\": 4823.25}, {\"Product_ID\": 35, \"Purchase\": 5256.5142857142855}, {\"Product_ID\": 78, \"Purchase\": 14118.038461538461}, {\"Product_ID\": 228, \"Purchase\": 4806.109649122807}, {\"Product_ID\": 57, \"Purchase\": 3948.684210526316}, {\"Product_ID\": 142, \"Purchase\": 5146.69014084507}, {\"Product_ID\": 216, \"Purchase\": 16248.467592592593}, {\"Product_ID\": 280, \"Purchase\": 13614.032142857142}, {\"Product_ID\": 18, \"Purchase\": 4379.611111111111}, {\"Product_ID\": 120, \"Purchase\": 7650.458333333333}, {\"Product_ID\": 86, \"Purchase\": 3814.953488372093}, {\"Product_ID\": 7, \"Purchase\": 2213.1428571428573}, {\"Product_ID\": 3, \"Purchase\": 1676.0}, {\"Product_ID\": 4, \"Purchase\": 1612.75}, {\"Product_ID\": 79, \"Purchase\": 6764.06329113924}, {\"Product_ID\": 101, \"Purchase\": 13003.217821782178}, {\"Product_ID\": 115, \"Purchase\": 7989.982608695652}, {\"Product_ID\": 29, \"Purchase\": 3599.793103448276}, {\"Product_ID\": 128, \"Purchase\": 14781.40625}, {\"Product_ID\": 490, \"Purchase\": 5822.830612244898}, {\"Product_ID\": 180, \"Purchase\": 10108.644444444444}, {\"Product_ID\": 226, \"Purchase\": 7285.694690265486}, {\"Product_ID\": 99, \"Purchase\": 10777.29292929293}, {\"Product_ID\": 328, \"Purchase\": 7112.719512195122}, {\"Product_ID\": 45, \"Purchase\": 8237.844444444445}, {\"Product_ID\": 463, \"Purchase\": 6779.978401727862}, {\"Product_ID\": 170, \"Purchase\": 5934.2764705882355}, {\"Product_ID\": 40, \"Purchase\": 3120.4}, {\"Product_ID\": 38, \"Purchase\": 2761.315789473684}, {\"Product_ID\": 16, \"Purchase\": 2885.75}, {\"Product_ID\": 310, \"Purchase\": 733.8774193548387}, {\"Product_ID\": 67, \"Purchase\": 5413.671641791045}, {\"Product_ID\": 53, \"Purchase\": 6170.188679245283}, {\"Product_ID\": 13, \"Purchase\": 7501.153846153846}, {\"Product_ID\": 48, \"Purchase\": 3872.5625}, {\"Product_ID\": 15, \"Purchase\": 5791.333333333333}, {\"Product_ID\": 7, \"Purchase\": 5420.285714285715}, {\"Product_ID\": 87, \"Purchase\": 5783.885057471264}, {\"Product_ID\": 537, \"Purchase\": 6493.577281191806}, {\"Product_ID\": 189, \"Purchase\": 6082.550264550265}, {\"Product_ID\": 78, \"Purchase\": 5087.474358974359}, {\"Product_ID\": 47, \"Purchase\": 14211.659574468085}, {\"Product_ID\": 4, \"Purchase\": 15619.25}, {\"Product_ID\": 7, \"Purchase\": 4119.0}, {\"Product_ID\": 307, \"Purchase\": 6673.257328990228}, {\"Product_ID\": 161, \"Purchase\": 6762.795031055901}, {\"Product_ID\": 202, \"Purchase\": 15547.252475247526}, {\"Product_ID\": 82, \"Purchase\": 11956.219512195123}, {\"Product_ID\": 29, \"Purchase\": 9993.310344827587}, {\"Product_ID\": 1, \"Purchase\": 7883.0}, {\"Product_ID\": 103, \"Purchase\": 9807.601941747573}, {\"Product_ID\": 190, \"Purchase\": 6806.9631578947365}, {\"Product_ID\": 203, \"Purchase\": 7692.76354679803}, {\"Product_ID\": 30, \"Purchase\": 7314.666666666667}, {\"Product_ID\": 338, \"Purchase\": 11064.215976331361}, {\"Product_ID\": 161, \"Purchase\": 7420.447204968944}, {\"Product_ID\": 537, \"Purchase\": 6650.929236499069}, {\"Product_ID\": 17, \"Purchase\": 6777.588235294118}, {\"Product_ID\": 129, \"Purchase\": 2928.5658914728683}, {\"Product_ID\": 36, \"Purchase\": 16220.916666666666}, {\"Product_ID\": 40, \"Purchase\": 6399.925}, {\"Product_ID\": 54, \"Purchase\": 17984.09259259259}, {\"Product_ID\": 85, \"Purchase\": 7081.4}, {\"Product_ID\": 69, \"Purchase\": 7645.840579710145}, {\"Product_ID\": 561, \"Purchase\": 5241.556149732621}, {\"Product_ID\": 469, \"Purchase\": 13210.68869936034}, {\"Product_ID\": 219, \"Purchase\": 7298.146118721461}, {\"Product_ID\": 2, \"Purchase\": 14759.0}, {\"Product_ID\": 1, \"Purchase\": 1739.0}, {\"Product_ID\": 48, \"Purchase\": 6227.833333333333}, {\"Product_ID\": 266, \"Purchase\": 6194.045112781955}, {\"Product_ID\": 207, \"Purchase\": 7142.541062801933}, {\"Product_ID\": 125, \"Purchase\": 8659.288}, {\"Product_ID\": 100, \"Purchase\": 8435.77}, {\"Product_ID\": 74, \"Purchase\": 8425.554054054053}, {\"Product_ID\": 10, \"Purchase\": 8184.1}, {\"Product_ID\": 111, \"Purchase\": 7363.387387387387}, {\"Product_ID\": 52, \"Purchase\": 7604.211538461538}, {\"Product_ID\": 281, \"Purchase\": 8179.010676156584}, {\"Product_ID\": 43, \"Purchase\": 7040.53488372093}, {\"Product_ID\": 123, \"Purchase\": 7191.731707317073}, {\"Product_ID\": 299, \"Purchase\": 7569.94983277592}, {\"Product_ID\": 142, \"Purchase\": 5731.338028169014}, {\"Product_ID\": 329, \"Purchase\": 7588.963525835867}, {\"Product_ID\": 451, \"Purchase\": 15257.405764966741}, {\"Product_ID\": 129, \"Purchase\": 15362.387596899225}, {\"Product_ID\": 33, \"Purchase\": 6361.484848484848}, {\"Product_ID\": 416, \"Purchase\": 14865.51201923077}, {\"Product_ID\": 372, \"Purchase\": 7441.852150537635}, {\"Product_ID\": 15, \"Purchase\": 6208.266666666666}, {\"Product_ID\": 482, \"Purchase\": 13437.21161825726}, {\"Product_ID\": 531, \"Purchase\": 6396.7080979284365}, {\"Product_ID\": 36, \"Purchase\": 6391.25}, {\"Product_ID\": 17, \"Purchase\": 6400.823529411765}, {\"Product_ID\": 103, \"Purchase\": 7434.57281553398}, {\"Product_ID\": 45, \"Purchase\": 6569.155555555555}, {\"Product_ID\": 310, \"Purchase\": 10441.18064516129}, {\"Product_ID\": 850, \"Purchase\": 11444.557647058824}, {\"Product_ID\": 57, \"Purchase\": 6233.0526315789475}, {\"Product_ID\": 7, \"Purchase\": 5462.428571428572}, {\"Product_ID\": 41, \"Purchase\": 6406.731707317073}, {\"Product_ID\": 33, \"Purchase\": 6878.272727272727}, {\"Product_ID\": 3, \"Purchase\": 2587.0}, {\"Product_ID\": 63, \"Purchase\": 5383.333333333333}, {\"Product_ID\": 9, \"Purchase\": 17447.0}, {\"Product_ID\": 18, \"Purchase\": 6524.888888888889}, {\"Product_ID\": 2, \"Purchase\": 1876.5}, {\"Product_ID\": 16, \"Purchase\": 5586.4375}, {\"Product_ID\": 99, \"Purchase\": 6968.616161616162}, {\"Product_ID\": 2, \"Purchase\": 8020.5}, {\"Product_ID\": 29, \"Purchase\": 6711.827586206897}, {\"Product_ID\": 23, \"Purchase\": 6813.652173913043}, {\"Product_ID\": 160, \"Purchase\": 6591.71875}, {\"Product_ID\": 72, \"Purchase\": 4276.041666666667}, {\"Product_ID\": 1, \"Purchase\": 5433.0}, {\"Product_ID\": 15, \"Purchase\": 6251.066666666667}, {\"Product_ID\": 17, \"Purchase\": 6446.882352941177}, {\"Product_ID\": 99, \"Purchase\": 8727.747474747475}, {\"Product_ID\": 97, \"Purchase\": 7803.690721649485}, {\"Product_ID\": 1, \"Purchase\": 16609.0}, {\"Product_ID\": 9, \"Purchase\": 14196.555555555555}, {\"Product_ID\": 37, \"Purchase\": 6371.324324324324}, {\"Product_ID\": 6, \"Purchase\": 13096.833333333334}, {\"Product_ID\": 5, \"Purchase\": 6704.6}, {\"Product_ID\": 33, \"Purchase\": 6139.393939393939}, {\"Product_ID\": 75, \"Purchase\": 13958.44}, {\"Product_ID\": 18, \"Purchase\": 7989.611111111111}, {\"Product_ID\": 23, \"Purchase\": 5979.217391304348}, {\"Product_ID\": 146, \"Purchase\": 6681.979452054795}, {\"Product_ID\": 174, \"Purchase\": 4929.293103448276}, {\"Product_ID\": 666, \"Purchase\": 8185.534534534535}, {\"Product_ID\": 392, \"Purchase\": 7801.306122448979}, {\"Product_ID\": 4, \"Purchase\": 478.5}, {\"Product_ID\": 34, \"Purchase\": 7490.323529411765}, {\"Product_ID\": 191, \"Purchase\": 7873.151832460733}, {\"Product_ID\": 145, \"Purchase\": 14067.710344827587}, {\"Product_ID\": 4, \"Purchase\": 6508.75}, {\"Product_ID\": 168, \"Purchase\": 6889.6547619047615}, {\"Product_ID\": 210, \"Purchase\": 5056.314285714286}, {\"Product_ID\": 283, \"Purchase\": 2188.5088339222616}, {\"Product_ID\": 16, \"Purchase\": 6716.5}, {\"Product_ID\": 237, \"Purchase\": 10392.64135021097}, {\"Product_ID\": 610, \"Purchase\": 7685.686885245902}, {\"Product_ID\": 8, \"Purchase\": 6497.75}, {\"Product_ID\": 12, \"Purchase\": 4343.583333333333}, {\"Product_ID\": 162, \"Purchase\": 7273.080246913581}, {\"Product_ID\": 31, \"Purchase\": 9688.09677419355}, {\"Product_ID\": 4, \"Purchase\": 4361.0}, {\"Product_ID\": 98, \"Purchase\": 7239.122448979592}, {\"Product_ID\": 276, \"Purchase\": 12212.467391304348}, {\"Product_ID\": 143, \"Purchase\": 7039.286713286713}, {\"Product_ID\": 16, \"Purchase\": 7707.3125}, {\"Product_ID\": 1, \"Purchase\": 15966.0}, {\"Product_ID\": 257, \"Purchase\": 6464.591439688716}, {\"Product_ID\": 478, \"Purchase\": 6115.583682008368}, {\"Product_ID\": 972, \"Purchase\": 12289.04012345679}, {\"Product_ID\": 731, \"Purchase\": 6987.890560875513}, {\"Product_ID\": 88, \"Purchase\": 4509.931818181818}, {\"Product_ID\": 285, \"Purchase\": 7636.740350877193}, {\"Product_ID\": 106, \"Purchase\": 6648.264150943396}, {\"Product_ID\": 38, \"Purchase\": 3941.8947368421054}, {\"Product_ID\": 93, \"Purchase\": 7313.817204301075}, {\"Product_ID\": 62, \"Purchase\": 16327.322580645161}, {\"Product_ID\": 33, \"Purchase\": 7275.909090909091}, {\"Product_ID\": 2, \"Purchase\": 13954.5}, {\"Product_ID\": 200, \"Purchase\": 6621.03}, {\"Product_ID\": 229, \"Purchase\": 7032.825327510917}, {\"Product_ID\": 2, \"Purchase\": 6963.5}, {\"Product_ID\": 25, \"Purchase\": 15604.04}, {\"Product_ID\": 171, \"Purchase\": 6372.163742690059}, {\"Product_ID\": 89, \"Purchase\": 7051.23595505618}, {\"Product_ID\": 14, \"Purchase\": 8377.42857142857}, {\"Product_ID\": 120, \"Purchase\": 6474.475}, {\"Product_ID\": 194, \"Purchase\": 8395.072164948453}, {\"Product_ID\": 133, \"Purchase\": 12870.443609022557}, {\"Product_ID\": 181, \"Purchase\": 8008.088397790055}, {\"Product_ID\": 35, \"Purchase\": 5766.885714285714}, {\"Product_ID\": 100, \"Purchase\": 6819.26}, {\"Product_ID\": 193, \"Purchase\": 7982.046632124352}, {\"Product_ID\": 1, \"Purchase\": 2233.0}, {\"Product_ID\": 282, \"Purchase\": 15069.567375886525}, {\"Product_ID\": 109, \"Purchase\": 15023.935779816513}, {\"Product_ID\": 68, \"Purchase\": 12293.779411764706}, {\"Product_ID\": 1, \"Purchase\": 13260.0}, {\"Product_ID\": 145, \"Purchase\": 10898.524137931034}, {\"Product_ID\": 1, \"Purchase\": 2183.0}, {\"Product_ID\": 460, \"Purchase\": 6751.19347826087}, {\"Product_ID\": 35, \"Purchase\": 7153.457142857143}, {\"Product_ID\": 1, \"Purchase\": 6040.0}, {\"Product_ID\": 127, \"Purchase\": 9652.574803149606}, {\"Product_ID\": 54, \"Purchase\": 6608.907407407408}, {\"Product_ID\": 9, \"Purchase\": 6217.0}, {\"Product_ID\": 1, \"Purchase\": 5966.0}, {\"Product_ID\": 50, \"Purchase\": 6663.98}, {\"Product_ID\": 17, \"Purchase\": 5539.529411764706}, {\"Product_ID\": 248, \"Purchase\": 13701.645161290322}, {\"Product_ID\": 15, \"Purchase\": 6753.333333333333}, {\"Product_ID\": 16, \"Purchase\": 8187.625}, {\"Product_ID\": 16, \"Purchase\": 6461.875}, {\"Product_ID\": 37, \"Purchase\": 7944.621621621622}, {\"Product_ID\": 62, \"Purchase\": 4841.419354838709}, {\"Product_ID\": 1, \"Purchase\": 1958.0}, {\"Product_ID\": 41, \"Purchase\": 15369.121951219513}, {\"Product_ID\": 3, \"Purchase\": 6347.333333333333}, {\"Product_ID\": 2, \"Purchase\": 8793.0}, {\"Product_ID\": 40, \"Purchase\": 5047.6}, {\"Product_ID\": 2, \"Purchase\": 2714.5}, {\"Product_ID\": 1, \"Purchase\": 4249.0}, {\"Product_ID\": 163, \"Purchase\": 9393.40490797546}, {\"Product_ID\": 18, \"Purchase\": 4095.6111111111113}, {\"Product_ID\": 17, \"Purchase\": 5410.823529411765}, {\"Product_ID\": 29, \"Purchase\": 6541.793103448276}, {\"Product_ID\": 1, \"Purchase\": 7147.0}, {\"Product_ID\": 162, \"Purchase\": 4398.648148148148}, {\"Product_ID\": 173, \"Purchase\": 6677.93063583815}, {\"Product_ID\": 3, \"Purchase\": 9229.0}, {\"Product_ID\": 259, \"Purchase\": 7854.455598455598}, {\"Product_ID\": 377, \"Purchase\": 5489.076923076923}, {\"Product_ID\": 108, \"Purchase\": 4520.268518518518}, {\"Product_ID\": 177, \"Purchase\": 13084.333333333334}, {\"Product_ID\": 195, \"Purchase\": 6745.912820512821}, {\"Product_ID\": 140, \"Purchase\": 6850.392857142857}, {\"Product_ID\": 292, \"Purchase\": 7327.332191780822}, {\"Product_ID\": 599, \"Purchase\": 6330.150250417362}, {\"Product_ID\": 245, \"Purchase\": 5205.710204081633}, {\"Product_ID\": 614, \"Purchase\": 6467.697068403909}, {\"Product_ID\": 594, \"Purchase\": 14510.872053872054}, {\"Product_ID\": 356, \"Purchase\": 11264.755617977527}, {\"Product_ID\": 197, \"Purchase\": 4825.502538071066}, {\"Product_ID\": 219, \"Purchase\": 6688.246575342466}, {\"Product_ID\": 263, \"Purchase\": 7503.684410646388}, {\"Product_ID\": 237, \"Purchase\": 6186.257383966245}, {\"Product_ID\": 78, \"Purchase\": 5779.397435897436}, {\"Product_ID\": 357, \"Purchase\": 5554.3725490196075}, {\"Product_ID\": 272, \"Purchase\": 5504.330882352941}, {\"Product_ID\": 170, \"Purchase\": 15903.788235294118}, {\"Product_ID\": 76, \"Purchase\": 14320.53947368421}, {\"Product_ID\": 257, \"Purchase\": 14605.112840466925}, {\"Product_ID\": 96, \"Purchase\": 6958.75}, {\"Product_ID\": 246, \"Purchase\": 10441.069105691056}, {\"Product_ID\": 109, \"Purchase\": 6499.935779816514}, {\"Product_ID\": 183, \"Purchase\": 7700.469945355191}, {\"Product_ID\": 90, \"Purchase\": 13433.044444444444}, {\"Product_ID\": 318, \"Purchase\": 4086.830188679245}, {\"Product_ID\": 257, \"Purchase\": 12139.844357976654}, {\"Product_ID\": 53, \"Purchase\": 13216.66037735849}, {\"Product_ID\": 21, \"Purchase\": 4976.523809523809}, {\"Product_ID\": 1, \"Purchase\": 7943.0}, {\"Product_ID\": 1, \"Purchase\": 7478.0}, {\"Product_ID\": 31, \"Purchase\": 16760.16129032258}, {\"Product_ID\": 6, \"Purchase\": 6110.5}, {\"Product_ID\": 6, \"Purchase\": 13658.0}, {\"Product_ID\": 25, \"Purchase\": 6081.4}, {\"Product_ID\": 215, \"Purchase\": 8785.209302325582}, {\"Product_ID\": 74, \"Purchase\": 3894.1486486486488}, {\"Product_ID\": 66, \"Purchase\": 7537.106060606061}, {\"Product_ID\": 3, \"Purchase\": 5365.333333333333}, {\"Product_ID\": 31, \"Purchase\": 7436.4838709677415}, {\"Product_ID\": 1, \"Purchase\": 5197.0}, {\"Product_ID\": 4, \"Purchase\": 18943.75}, {\"Product_ID\": 1, \"Purchase\": 6004.0}, {\"Product_ID\": 1, \"Purchase\": 8143.0}, {\"Product_ID\": 110, \"Purchase\": 7470.190909090909}, {\"Product_ID\": 1, \"Purchase\": 8398.0}, {\"Product_ID\": 333, \"Purchase\": 6864.480480480481}, {\"Product_ID\": 94, \"Purchase\": 3964.4148936170213}, {\"Product_ID\": 297, \"Purchase\": 12797.245791245792}, {\"Product_ID\": 328, \"Purchase\": 6002.658536585366}, {\"Product_ID\": 25, \"Purchase\": 5875.04}, {\"Product_ID\": 4, \"Purchase\": 13530.75}, {\"Product_ID\": 27, \"Purchase\": 14459.851851851852}, {\"Product_ID\": 1, \"Purchase\": 19206.0}, {\"Product_ID\": 13, \"Purchase\": 6656.538461538462}, {\"Product_ID\": 152, \"Purchase\": 7520.236842105263}, {\"Product_ID\": 149, \"Purchase\": 5701.416107382551}, {\"Product_ID\": 14, \"Purchase\": 6784.142857142857}, {\"Product_ID\": 20, \"Purchase\": 13864.0}, {\"Product_ID\": 14, \"Purchase\": 2630.9285714285716}, {\"Product_ID\": 12, \"Purchase\": 3878.0833333333335}, {\"Product_ID\": 3, \"Purchase\": 13182.333333333334}, {\"Product_ID\": 1, \"Purchase\": 726.0}, {\"Product_ID\": 163, \"Purchase\": 10890.288343558283}, {\"Product_ID\": 278, \"Purchase\": 6922.992805755395}, {\"Product_ID\": 26, \"Purchase\": 14168.384615384615}, {\"Product_ID\": 18, \"Purchase\": 6623.055555555556}, {\"Product_ID\": 27, \"Purchase\": 6000.555555555556}, {\"Product_ID\": 1, \"Purchase\": 3515.0}, {\"Product_ID\": 3, \"Purchase\": 4640.666666666667}, {\"Product_ID\": 103, \"Purchase\": 4984.805825242718}, {\"Product_ID\": 82, \"Purchase\": 4309.792682926829}, {\"Product_ID\": 96, \"Purchase\": 5073.729166666667}, {\"Product_ID\": 73, \"Purchase\": 15338.90410958904}, {\"Product_ID\": 180, \"Purchase\": 15598.58888888889}, {\"Product_ID\": 15, \"Purchase\": 7717.933333333333}, {\"Product_ID\": 61, \"Purchase\": 7507.7213114754095}, {\"Product_ID\": 19, \"Purchase\": 4757.631578947368}, {\"Product_ID\": 8, \"Purchase\": 6503.875}, {\"Product_ID\": 236, \"Purchase\": 16717.11440677966}, {\"Product_ID\": 5, \"Purchase\": 11577.4}, {\"Product_ID\": 2, \"Purchase\": 5926.0}, {\"Product_ID\": 16, \"Purchase\": 19420.25}, {\"Product_ID\": 22, \"Purchase\": 10217.272727272728}, {\"Product_ID\": 42, \"Purchase\": 4352.333333333333}, {\"Product_ID\": 96, \"Purchase\": 7105.072916666667}, {\"Product_ID\": 112, \"Purchase\": 7636.982142857143}, {\"Product_ID\": 21, \"Purchase\": 4188.571428571428}, {\"Product_ID\": 9, \"Purchase\": 4581.222222222223}, {\"Product_ID\": 17, \"Purchase\": 10569.176470588236}, {\"Product_ID\": 3, \"Purchase\": 3634.0}, {\"Product_ID\": 111, \"Purchase\": 7846.747747747748}, {\"Product_ID\": 14, \"Purchase\": 6191.571428571428}, {\"Product_ID\": 78, \"Purchase\": 7743.5641025641025}, {\"Product_ID\": 11, \"Purchase\": 5073.0}, {\"Product_ID\": 1, \"Purchase\": 6080.0}, {\"Product_ID\": 442, \"Purchase\": 11147.984162895928}, {\"Product_ID\": 152, \"Purchase\": 11962.447368421053}, {\"Product_ID\": 58, \"Purchase\": 7571.8448275862065}, {\"Product_ID\": 255, \"Purchase\": 6361.909803921569}, {\"Product_ID\": 278, \"Purchase\": 8100.010791366906}, {\"Product_ID\": 327, \"Purchase\": 7791.073394495413}, {\"Product_ID\": 597, \"Purchase\": 6708.005025125628}, {\"Product_ID\": 408, \"Purchase\": 6949.0392156862745}, {\"Product_ID\": 524, \"Purchase\": 7032.07824427481}, {\"Product_ID\": 85, \"Purchase\": 16105.082352941177}, {\"Product_ID\": 121, \"Purchase\": 3112.3553719008264}, {\"Product_ID\": 140, \"Purchase\": 14901.371428571429}, {\"Product_ID\": 23, \"Purchase\": 8833.08695652174}, {\"Product_ID\": 33, \"Purchase\": 14167.818181818182}, {\"Product_ID\": 38, \"Purchase\": 6858.973684210527}, {\"Product_ID\": 31, \"Purchase\": 7136.225806451613}, {\"Product_ID\": 27, \"Purchase\": 14428.481481481482}, {\"Product_ID\": 9, \"Purchase\": 5808.777777777777}, {\"Product_ID\": 34, \"Purchase\": 14095.823529411764}, {\"Product_ID\": 1, \"Purchase\": 4194.0}, {\"Product_ID\": 1, \"Purchase\": 6093.0}, {\"Product_ID\": 2, \"Purchase\": 6091.5}, {\"Product_ID\": 51, \"Purchase\": 7760.254901960784}, {\"Product_ID\": 1, \"Purchase\": 18468.0}, {\"Product_ID\": 1, \"Purchase\": 7062.0}, {\"Product_ID\": 141, \"Purchase\": 14548.86524822695}, {\"Product_ID\": 80, \"Purchase\": 4553.0875}, {\"Product_ID\": 399, \"Purchase\": 7508.2205513784465}, {\"Product_ID\": 92, \"Purchase\": 4612.163043478261}, {\"Product_ID\": 169, \"Purchase\": 4871.153846153846}, {\"Product_ID\": 21, \"Purchase\": 10786.952380952382}, {\"Product_ID\": 13, \"Purchase\": 5448.307692307692}, {\"Product_ID\": 52, \"Purchase\": 3824.7115384615386}, {\"Product_ID\": 98, \"Purchase\": 3406.5102040816328}, {\"Product_ID\": 24, \"Purchase\": 4176.041666666667}, {\"Product_ID\": 113, \"Purchase\": 4834.7522123893805}, {\"Product_ID\": 30, \"Purchase\": 5187.533333333334}, {\"Product_ID\": 417, \"Purchase\": 2734.7937649880096}, {\"Product_ID\": 200, \"Purchase\": 2618.7}, {\"Product_ID\": 181, \"Purchase\": 2401.8232044198894}, {\"Product_ID\": 44, \"Purchase\": 2097.7272727272725}, {\"Product_ID\": 15, \"Purchase\": 6435.733333333334}, {\"Product_ID\": 62, \"Purchase\": 6775.790322580645}, {\"Product_ID\": 13, \"Purchase\": 6962.2307692307695}, {\"Product_ID\": 23, \"Purchase\": 5672.130434782609}, {\"Product_ID\": 128, \"Purchase\": 13951.578125}, {\"Product_ID\": 67, \"Purchase\": 14907.746268656716}, {\"Product_ID\": 60, \"Purchase\": 14620.25}, {\"Product_ID\": 2, \"Purchase\": 1835.0}, {\"Product_ID\": 756, \"Purchase\": 7635.937830687831}, {\"Product_ID\": 226, \"Purchase\": 6424.3230088495575}, {\"Product_ID\": 5, \"Purchase\": 7366.6}, {\"Product_ID\": 87, \"Purchase\": 11080.229885057472}, {\"Product_ID\": 28, \"Purchase\": 12020.964285714286}, {\"Product_ID\": 10, \"Purchase\": 7233.3}, {\"Product_ID\": 32, \"Purchase\": 7728.75}, {\"Product_ID\": 32, \"Purchase\": 11578.53125}, {\"Product_ID\": 759, \"Purchase\": 14344.02766798419}, {\"Product_ID\": 3, \"Purchase\": 6437.333333333333}, {\"Product_ID\": 112, \"Purchase\": 7342.571428571428}, {\"Product_ID\": 652, \"Purchase\": 7141.426380368098}, {\"Product_ID\": 132, \"Purchase\": 5920.909090909091}, {\"Product_ID\": 42, \"Purchase\": 5962.976190476191}, {\"Product_ID\": 435, \"Purchase\": 6826.602298850575}, {\"Product_ID\": 40, \"Purchase\": 6563.675}, {\"Product_ID\": 111, \"Purchase\": 6269.360360360361}, {\"Product_ID\": 40, \"Purchase\": 13558.3}, {\"Product_ID\": 33, \"Purchase\": 5832.393939393939}, {\"Product_ID\": 149, \"Purchase\": 11627.570469798658}, {\"Product_ID\": 124, \"Purchase\": 12738.959677419354}, {\"Product_ID\": 44, \"Purchase\": 11287.772727272728}, {\"Product_ID\": 39, \"Purchase\": 8210.897435897436}, {\"Product_ID\": 23, \"Purchase\": 8595.434782608696}, {\"Product_ID\": 23, \"Purchase\": 9053.478260869566}, {\"Product_ID\": 267, \"Purchase\": 17800.722846441946}, {\"Product_ID\": 70, \"Purchase\": 5511.828571428571}, {\"Product_ID\": 8, \"Purchase\": 5027.5}, {\"Product_ID\": 278, \"Purchase\": 10436.55035971223}, {\"Product_ID\": 130, \"Purchase\": 8249.76923076923}, {\"Product_ID\": 116, \"Purchase\": 7823.077586206897}, {\"Product_ID\": 263, \"Purchase\": 12815.254752851712}, {\"Product_ID\": 23, \"Purchase\": 9091.478260869566}, {\"Product_ID\": 3, \"Purchase\": 14296.666666666666}, {\"Product_ID\": 116, \"Purchase\": 12571.827586206897}, {\"Product_ID\": 75, \"Purchase\": 609.0533333333333}, {\"Product_ID\": 22, \"Purchase\": 5573.5}, {\"Product_ID\": 40, \"Purchase\": 7671.275}, {\"Product_ID\": 579, \"Purchase\": 6491.8721934369605}, {\"Product_ID\": 22, \"Purchase\": 5893.090909090909}, {\"Product_ID\": 449, \"Purchase\": 6009.073496659243}, {\"Product_ID\": 194, \"Purchase\": 6770.144329896907}, {\"Product_ID\": 179, \"Purchase\": 12236.31843575419}, {\"Product_ID\": 51, \"Purchase\": 5103.137254901961}, {\"Product_ID\": 21, \"Purchase\": 5510.523809523809}, {\"Product_ID\": 29, \"Purchase\": 7543.862068965517}, {\"Product_ID\": 72, \"Purchase\": 6148.027777777777}, {\"Product_ID\": 36, \"Purchase\": 5314.583333333333}, {\"Product_ID\": 194, \"Purchase\": 11744.494845360825}, {\"Product_ID\": 159, \"Purchase\": 7512.8805031446545}, {\"Product_ID\": 4, \"Purchase\": 3178.5}, {\"Product_ID\": 10, \"Purchase\": 12329.0}, {\"Product_ID\": 10, \"Purchase\": 5636.8}, {\"Product_ID\": 107, \"Purchase\": 6325.3644859813085}, {\"Product_ID\": 153, \"Purchase\": 7998.673202614379}, {\"Product_ID\": 241, \"Purchase\": 8372.141078838175}, {\"Product_ID\": 144, \"Purchase\": 8472.833333333334}, {\"Product_ID\": 47, \"Purchase\": 13837.063829787234}, {\"Product_ID\": 800, \"Purchase\": 8053.1125}, {\"Product_ID\": 4, \"Purchase\": 2745.75}, {\"Product_ID\": 11, \"Purchase\": 6283.090909090909}, {\"Product_ID\": 9, \"Purchase\": 13700.777777777777}, {\"Product_ID\": 82, \"Purchase\": 7945.365853658536}, {\"Product_ID\": 363, \"Purchase\": 5384.829201101928}, {\"Product_ID\": 146, \"Purchase\": 5332.986301369863}, {\"Product_ID\": 147, \"Purchase\": 6623.884353741497}, {\"Product_ID\": 316, \"Purchase\": 12103.870253164558}, {\"Product_ID\": 79, \"Purchase\": 7364.886075949367}, {\"Product_ID\": 785, \"Purchase\": 6825.68025477707}, {\"Product_ID\": 2, \"Purchase\": 5124.5}, {\"Product_ID\": 92, \"Purchase\": 8489.597826086956}, {\"Product_ID\": 168, \"Purchase\": 11203.839285714286}, {\"Product_ID\": 1, \"Purchase\": 1656.0}, {\"Product_ID\": 7, \"Purchase\": 12949.857142857143}, {\"Product_ID\": 35, \"Purchase\": 2732.5714285714284}, {\"Product_ID\": 14, \"Purchase\": 3316.3571428571427}, {\"Product_ID\": 389, \"Purchase\": 10005.897172236504}, {\"Product_ID\": 9, \"Purchase\": 3857.4444444444443}, {\"Product_ID\": 34, \"Purchase\": 5386.088235294118}, {\"Product_ID\": 9, \"Purchase\": 10994.777777777777}, {\"Product_ID\": 177, \"Purchase\": 12143.282485875707}, {\"Product_ID\": 4, \"Purchase\": 5664.5}, {\"Product_ID\": 25, \"Purchase\": 6329.28}, {\"Product_ID\": 50, \"Purchase\": 5339.96}, {\"Product_ID\": 158, \"Purchase\": 7932.873417721519}, {\"Product_ID\": 513, \"Purchase\": 5796.571150097466}, {\"Product_ID\": 101, \"Purchase\": 4810.1287128712875}, {\"Product_ID\": 152, \"Purchase\": 6464.651315789473}, {\"Product_ID\": 49, \"Purchase\": 6819.816326530612}, {\"Product_ID\": 83, \"Purchase\": 6599.361445783133}, {\"Product_ID\": 383, \"Purchase\": 7085.68407310705}, {\"Product_ID\": 186, \"Purchase\": 16081.446236559139}, {\"Product_ID\": 104, \"Purchase\": 5883.509615384615}, {\"Product_ID\": 202, \"Purchase\": 6941.336633663366}, {\"Product_ID\": 203, \"Purchase\": 3115.6995073891626}, {\"Product_ID\": 46, \"Purchase\": 5820.130434782609}, {\"Product_ID\": 436, \"Purchase\": 7537.637614678899}, {\"Product_ID\": 36, \"Purchase\": 4652.222222222223}, {\"Product_ID\": 250, \"Purchase\": 7404.448}, {\"Product_ID\": 222, \"Purchase\": 6538.815315315315}, {\"Product_ID\": 31, \"Purchase\": 6153.903225806452}, {\"Product_ID\": 111, \"Purchase\": 5771.711711711711}, {\"Product_ID\": 118, \"Purchase\": 6607.254237288135}, {\"Product_ID\": 30, \"Purchase\": 5674.2}, {\"Product_ID\": 112, \"Purchase\": 12998.50892857143}, {\"Product_ID\": 22, \"Purchase\": 4670.045454545455}, {\"Product_ID\": 100, \"Purchase\": 6672.08}, {\"Product_ID\": 1, \"Purchase\": 6037.0}, {\"Product_ID\": 3, \"Purchase\": 13055.333333333334}, {\"Product_ID\": 288, \"Purchase\": 6148.017361111111}, {\"Product_ID\": 196, \"Purchase\": 5618.469387755102}, {\"Product_ID\": 423, \"Purchase\": 6633.399527186762}, {\"Product_ID\": 708, \"Purchase\": 14208.30790960452}, {\"Product_ID\": 178, \"Purchase\": 6202.612359550561}, {\"Product_ID\": 84, \"Purchase\": 14348.47619047619}, {\"Product_ID\": 1, \"Purchase\": 7071.0}, {\"Product_ID\": 18, \"Purchase\": 5630.333333333333}, {\"Product_ID\": 10, \"Purchase\": 6000.9}, {\"Product_ID\": 2, \"Purchase\": 8074.5}, {\"Product_ID\": 277, \"Purchase\": 5487.667870036101}, {\"Product_ID\": 341, \"Purchase\": 5746.592375366569}, {\"Product_ID\": 266, \"Purchase\": 6635.522556390977}, {\"Product_ID\": 16, \"Purchase\": 6102.6875}, {\"Product_ID\": 95, \"Purchase\": 6431.989473684211}, {\"Product_ID\": 18, \"Purchase\": 16439.222222222223}, {\"Product_ID\": 16, \"Purchase\": 10841.5}, {\"Product_ID\": 481, \"Purchase\": 6915.197505197505}, {\"Product_ID\": 52, \"Purchase\": 5309.461538461538}, {\"Product_ID\": 240, \"Purchase\": 1361.2958333333333}, {\"Product_ID\": 120, \"Purchase\": 7573.991666666667}, {\"Product_ID\": 41, \"Purchase\": 7628.09756097561}, {\"Product_ID\": 155, \"Purchase\": 6689.754838709678}, {\"Product_ID\": 132, \"Purchase\": 1329.6969696969697}, {\"Product_ID\": 88, \"Purchase\": 5173.068181818182}, {\"Product_ID\": 207, \"Purchase\": 16208.154589371981}, {\"Product_ID\": 509, \"Purchase\": 6784.844793713163}, {\"Product_ID\": 50, \"Purchase\": 5883.56}, {\"Product_ID\": 64, \"Purchase\": 6862.0625}, {\"Product_ID\": 522, \"Purchase\": 13772.137931034482}, {\"Product_ID\": 183, \"Purchase\": 6381.065573770492}, {\"Product_ID\": 66, \"Purchase\": 12307.666666666666}, {\"Product_ID\": 12, \"Purchase\": 7694.333333333333}, {\"Product_ID\": 15, \"Purchase\": 5285.333333333333}, {\"Product_ID\": 7, \"Purchase\": 7352.571428571428}, {\"Product_ID\": 70, \"Purchase\": 1264.4285714285713}, {\"Product_ID\": 148, \"Purchase\": 5681.878378378378}, {\"Product_ID\": 183, \"Purchase\": 6114.174863387978}, {\"Product_ID\": 21, \"Purchase\": 6284.619047619048}, {\"Product_ID\": 18, \"Purchase\": 7408.833333333333}, {\"Product_ID\": 24, \"Purchase\": 5900.666666666667}, {\"Product_ID\": 5, \"Purchase\": 7199.0}, {\"Product_ID\": 71, \"Purchase\": 6838.056338028169}, {\"Product_ID\": 42, \"Purchase\": 2714.2380952380954}, {\"Product_ID\": 16, \"Purchase\": 2324.875}, {\"Product_ID\": 8, \"Purchase\": 1789.375}, {\"Product_ID\": 2, \"Purchase\": 5863.5}, {\"Product_ID\": 157, \"Purchase\": 14117.675159235669}, {\"Product_ID\": 34, \"Purchase\": 5312.205882352941}, {\"Product_ID\": 1093, \"Purchase\": 15917.281793229644}, {\"Product_ID\": 35, \"Purchase\": 5437.142857142857}, {\"Product_ID\": 14, \"Purchase\": 6569.857142857143}, {\"Product_ID\": 5, \"Purchase\": 5650.8}, {\"Product_ID\": 74, \"Purchase\": 11035.972972972973}, {\"Product_ID\": 11, \"Purchase\": 13939.727272727272}, {\"Product_ID\": 15, \"Purchase\": 6554.933333333333}, {\"Product_ID\": 19, \"Purchase\": 4554.1578947368425}, {\"Product_ID\": 20, \"Purchase\": 12374.75}, {\"Product_ID\": 44, \"Purchase\": 5200.818181818182}, {\"Product_ID\": 364, \"Purchase\": 5928.398351648351}, {\"Product_ID\": 2, \"Purchase\": 6844.5}, {\"Product_ID\": 190, \"Purchase\": 6563.757894736842}, {\"Product_ID\": 105, \"Purchase\": 6856.466666666666}, {\"Product_ID\": 1, \"Purchase\": 6883.0}, {\"Product_ID\": 38, \"Purchase\": 4271.763157894737}, {\"Product_ID\": 20, \"Purchase\": 4237.2}, {\"Product_ID\": 93, \"Purchase\": 6762.462365591397}, {\"Product_ID\": 54, \"Purchase\": 6310.777777777777}, {\"Product_ID\": 75, \"Purchase\": 5177.56}, {\"Product_ID\": 1, \"Purchase\": 6981.0}, {\"Product_ID\": 32, \"Purchase\": 1045.625}, {\"Product_ID\": 3, \"Purchase\": 5914.666666666667}, {\"Product_ID\": 75, \"Purchase\": 1307.7066666666667}, {\"Product_ID\": 27, \"Purchase\": 6529.666666666667}, {\"Product_ID\": 83, \"Purchase\": 1419.0602409638554}, {\"Product_ID\": 451, \"Purchase\": 6018.279379157428}, {\"Product_ID\": 4, \"Purchase\": 16604.75}, {\"Product_ID\": 19, \"Purchase\": 877.578947368421}, {\"Product_ID\": 11, \"Purchase\": 8432.545454545454}, {\"Product_ID\": 13, \"Purchase\": 12024.0}, {\"Product_ID\": 44, \"Purchase\": 6741.386363636364}, {\"Product_ID\": 295, \"Purchase\": 5694.261016949153}, {\"Product_ID\": 178, \"Purchase\": 8720.061797752809}, {\"Product_ID\": 81, \"Purchase\": 4337.641975308642}, {\"Product_ID\": 239, \"Purchase\": 5860.866108786611}, {\"Product_ID\": 190, \"Purchase\": 5945.515789473684}, {\"Product_ID\": 50, \"Purchase\": 5671.06}, {\"Product_ID\": 28, \"Purchase\": 5219.75}, {\"Product_ID\": 1, \"Purchase\": 2123.0}, {\"Product_ID\": 48, \"Purchase\": 6778.895833333333}, {\"Product_ID\": 731, \"Purchase\": 12386.284541723666}, {\"Product_ID\": 417, \"Purchase\": 14401.505995203837}, {\"Product_ID\": 9, \"Purchase\": 14857.888888888889}, {\"Product_ID\": 26, \"Purchase\": 4692.615384615385}, {\"Product_ID\": 67, \"Purchase\": 5270.20895522388}, {\"Product_ID\": 50, \"Purchase\": 13107.86}, {\"Product_ID\": 154, \"Purchase\": 7377.331168831169}, {\"Product_ID\": 1, \"Purchase\": 5305.0}, {\"Product_ID\": 23, \"Purchase\": 6422.04347826087}, {\"Product_ID\": 186, \"Purchase\": 13374.924731182795}, {\"Product_ID\": 86, \"Purchase\": 17467.03488372093}, {\"Product_ID\": 264, \"Purchase\": 13860.71590909091}, {\"Product_ID\": 6, \"Purchase\": 5123.833333333333}, {\"Product_ID\": 15, \"Purchase\": 7671.066666666667}, {\"Product_ID\": 333, \"Purchase\": 12643.009009009009}, {\"Product_ID\": 238, \"Purchase\": 14220.180672268907}, {\"Product_ID\": 5, \"Purchase\": 6334.6}, {\"Product_ID\": 3, \"Purchase\": 7289.666666666667}, {\"Product_ID\": 12, \"Purchase\": 2384.25}, {\"Product_ID\": 56, \"Purchase\": 13014.107142857143}, {\"Product_ID\": 11, \"Purchase\": 2579.2727272727275}, {\"Product_ID\": 12, \"Purchase\": 7592.5}, {\"Product_ID\": 98, \"Purchase\": 4411.724489795918}, {\"Product_ID\": 1, \"Purchase\": 7989.0}, {\"Product_ID\": 6, \"Purchase\": 4323.166666666667}, {\"Product_ID\": 159, \"Purchase\": 6342.0}, {\"Product_ID\": 2, \"Purchase\": 1577.5}, {\"Product_ID\": 2, \"Purchase\": 3049.0}, {\"Product_ID\": 95, \"Purchase\": 15824.4}, {\"Product_ID\": 256, \"Purchase\": 15655.875}, {\"Product_ID\": 30, \"Purchase\": 7617.433333333333}, {\"Product_ID\": 1, \"Purchase\": 20291.0}, {\"Product_ID\": 2, \"Purchase\": 6946.0}, {\"Product_ID\": 40, \"Purchase\": 15003.55}, {\"Product_ID\": 24, \"Purchase\": 14218.958333333334}, {\"Product_ID\": 84, \"Purchase\": 4486.6547619047615}, {\"Product_ID\": 44, \"Purchase\": 3715.5454545454545}, {\"Product_ID\": 52, \"Purchase\": 3248.519230769231}, {\"Product_ID\": 37, \"Purchase\": 2792.864864864865}, {\"Product_ID\": 32, \"Purchase\": 2532.90625}, {\"Product_ID\": 14, \"Purchase\": 2480.785714285714}, {\"Product_ID\": 2, \"Purchase\": 3006.5}, {\"Product_ID\": 19, \"Purchase\": 7813.368421052632}, {\"Product_ID\": 205, \"Purchase\": 7759.760975609756}, {\"Product_ID\": 40, \"Purchase\": 4283.525}, {\"Product_ID\": 13, \"Purchase\": 8909.076923076924}, {\"Product_ID\": 594, \"Purchase\": 7033.661616161616}, {\"Product_ID\": 84, \"Purchase\": 9915.130952380952}, {\"Product_ID\": 15, \"Purchase\": 6855.4}, {\"Product_ID\": 19, \"Purchase\": 7833.263157894737}, {\"Product_ID\": 150, \"Purchase\": 1331.6466666666668}, {\"Product_ID\": 113, \"Purchase\": 6509.070796460177}, {\"Product_ID\": 26, \"Purchase\": 15843.538461538461}, {\"Product_ID\": 52, \"Purchase\": 7221.403846153846}, {\"Product_ID\": 32, \"Purchase\": 17704.5}, {\"Product_ID\": 28, \"Purchase\": 16392.678571428572}, {\"Product_ID\": 171, \"Purchase\": 2998.058479532164}, {\"Product_ID\": 119, \"Purchase\": 2876.6806722689075}, {\"Product_ID\": 338, \"Purchase\": 8444.784023668639}, {\"Product_ID\": 214, \"Purchase\": 6858.2663551401865}, {\"Product_ID\": 282, \"Purchase\": 6301.0283687943265}, {\"Product_ID\": 239, \"Purchase\": 13599.464435146443}, {\"Product_ID\": 186, \"Purchase\": 4982.145161290323}, {\"Product_ID\": 90, \"Purchase\": 3615.2444444444445}, {\"Product_ID\": 58, \"Purchase\": 3457.948275862069}, {\"Product_ID\": 19, \"Purchase\": 5047.8421052631575}, {\"Product_ID\": 29, \"Purchase\": 3937.9655172413795}, {\"Product_ID\": 100, \"Purchase\": 4934.71}, {\"Product_ID\": 32, \"Purchase\": 2809.75}, {\"Product_ID\": 29, \"Purchase\": 2950.206896551724}, {\"Product_ID\": 37, \"Purchase\": 4596.675675675676}, {\"Product_ID\": 349, \"Purchase\": 11342.521489971346}, {\"Product_ID\": 393, \"Purchase\": 12723.57506361323}, {\"Product_ID\": 468, \"Purchase\": 11250.946581196582}, {\"Product_ID\": 139, \"Purchase\": 7114.424460431655}, {\"Product_ID\": 273, \"Purchase\": 13413.967032967033}, {\"Product_ID\": 593, \"Purchase\": 14169.618887015176}, {\"Product_ID\": 557, \"Purchase\": 14510.64631956912}, {\"Product_ID\": 388, \"Purchase\": 12456.533505154639}, {\"Product_ID\": 199, \"Purchase\": 10203.065326633166}, {\"Product_ID\": 254, \"Purchase\": 16121.78346456693}, {\"Product_ID\": 126, \"Purchase\": 6051.0317460317465}, {\"Product_ID\": 152, \"Purchase\": 4443.039473684211}, {\"Product_ID\": 62, \"Purchase\": 3456.7903225806454}, {\"Product_ID\": 107, \"Purchase\": 8527.476635514018}, {\"Product_ID\": 18, \"Purchase\": 6351.444444444444}, {\"Product_ID\": 188, \"Purchase\": 5577.276595744681}, {\"Product_ID\": 47, \"Purchase\": 7492.234042553191}, {\"Product_ID\": 35, \"Purchase\": 6243.428571428572}, {\"Product_ID\": 46, \"Purchase\": 4825.739130434783}, {\"Product_ID\": 38, \"Purchase\": 9533.105263157895}, {\"Product_ID\": 325, \"Purchase\": 11497.535384615385}, {\"Product_ID\": 37, \"Purchase\": 14444.702702702703}, {\"Product_ID\": 27, \"Purchase\": 5525.407407407408}, {\"Product_ID\": 49, \"Purchase\": 7183.0204081632655}, {\"Product_ID\": 17, \"Purchase\": 5128.0}, {\"Product_ID\": 1, \"Purchase\": 3448.0}, {\"Product_ID\": 148, \"Purchase\": 7427.628378378378}, {\"Product_ID\": 101, \"Purchase\": 7168.346534653465}, {\"Product_ID\": 59, \"Purchase\": 8333.966101694916}, {\"Product_ID\": 59, \"Purchase\": 13909.271186440677}, {\"Product_ID\": 80, \"Purchase\": 6566.1125}, {\"Product_ID\": 73, \"Purchase\": 15798.150684931506}, {\"Product_ID\": 133, \"Purchase\": 13263.135338345865}, {\"Product_ID\": 247, \"Purchase\": 8269.890688259109}, {\"Product_ID\": 22, \"Purchase\": 6764.636363636364}, {\"Product_ID\": 40, \"Purchase\": 4729.4}, {\"Product_ID\": 146, \"Purchase\": 7608.568493150685}, {\"Product_ID\": 31, \"Purchase\": 6895.935483870968}, {\"Product_ID\": 287, \"Purchase\": 16209.480836236933}, {\"Product_ID\": 19, \"Purchase\": 7613.789473684211}, {\"Product_ID\": 31, \"Purchase\": 7706.935483870968}, {\"Product_ID\": 50, \"Purchase\": 7043.68}, {\"Product_ID\": 25, \"Purchase\": 6690.84}, {\"Product_ID\": 326, \"Purchase\": 13476.018404907976}, {\"Product_ID\": 122, \"Purchase\": 16698.418032786885}, {\"Product_ID\": 134, \"Purchase\": 7718.201492537313}, {\"Product_ID\": 52, \"Purchase\": 4740.384615384615}, {\"Product_ID\": 247, \"Purchase\": 12651.291497975708}, {\"Product_ID\": 295, \"Purchase\": 11150.959322033897}, {\"Product_ID\": 31, \"Purchase\": 7012.387096774193}, {\"Product_ID\": 80, \"Purchase\": 7609.55}, {\"Product_ID\": 1, \"Purchase\": 6989.0}, {\"Product_ID\": 12, \"Purchase\": 6218.666666666667}, {\"Product_ID\": 735, \"Purchase\": 10518.344217687074}, {\"Product_ID\": 317, \"Purchase\": 5299.763406940063}, {\"Product_ID\": 642, \"Purchase\": 14458.457943925234}, {\"Product_ID\": 115, \"Purchase\": 7084.086956521739}, {\"Product_ID\": 558, \"Purchase\": 13116.614695340502}, {\"Product_ID\": 15, \"Purchase\": 6810.666666666667}, {\"Product_ID\": 11, \"Purchase\": 4145.363636363636}, {\"Product_ID\": 58, \"Purchase\": 5277.172413793103}, {\"Product_ID\": 19, \"Purchase\": 8494.684210526315}, {\"Product_ID\": 171, \"Purchase\": 6086.918128654971}, {\"Product_ID\": 14, \"Purchase\": 12373.714285714286}, {\"Product_ID\": 1, \"Purchase\": 3029.0}, {\"Product_ID\": 383, \"Purchase\": 13587.647519582246}, {\"Product_ID\": 132, \"Purchase\": 10428.84090909091}, {\"Product_ID\": 25, \"Purchase\": 5926.16}, {\"Product_ID\": 114, \"Purchase\": 10317.912280701754}, {\"Product_ID\": 59, \"Purchase\": 7755.728813559322}, {\"Product_ID\": 47, \"Purchase\": 8284.702127659575}, {\"Product_ID\": 116, \"Purchase\": 13354.137931034482}, {\"Product_ID\": 187, \"Purchase\": 11269.887700534759}, {\"Product_ID\": 86, \"Purchase\": 13272.17441860465}, {\"Product_ID\": 1, \"Purchase\": 1545.0}, {\"Product_ID\": 92, \"Purchase\": 4913.271739130435}, {\"Product_ID\": 32, \"Purchase\": 3374.1875}, {\"Product_ID\": 12, \"Purchase\": 9366.5}, {\"Product_ID\": 17, \"Purchase\": 9215.411764705883}, {\"Product_ID\": 7, \"Purchase\": 3122.0}, {\"Product_ID\": 3, \"Purchase\": 5896.0}, {\"Product_ID\": 1, \"Purchase\": 12461.0}, {\"Product_ID\": 24, \"Purchase\": 14245.75}, {\"Product_ID\": 17, \"Purchase\": 11465.529411764706}, {\"Product_ID\": 25, \"Purchase\": 10422.2}, {\"Product_ID\": 136, \"Purchase\": 16350.992647058823}, {\"Product_ID\": 94, \"Purchase\": 5534.755319148936}, {\"Product_ID\": 324, \"Purchase\": 5368.635802469136}, {\"Product_ID\": 100, \"Purchase\": 5686.04}, {\"Product_ID\": 30, \"Purchase\": 7000.733333333334}, {\"Product_ID\": 133, \"Purchase\": 7642.090225563909}, {\"Product_ID\": 84, \"Purchase\": 8181.535714285715}, {\"Product_ID\": 29, \"Purchase\": 6705.6551724137935}, {\"Product_ID\": 249, \"Purchase\": 6072.674698795181}, {\"Product_ID\": 37, \"Purchase\": 2556.135135135135}, {\"Product_ID\": 811, \"Purchase\": 14879.700369913688}, {\"Product_ID\": 66, \"Purchase\": 5901.212121212121}, {\"Product_ID\": 36, \"Purchase\": 6604.361111111111}, {\"Product_ID\": 4, \"Purchase\": 14935.0}, {\"Product_ID\": 21, \"Purchase\": 8757.285714285714}, {\"Product_ID\": 260, \"Purchase\": 13811.91923076923}, {\"Product_ID\": 60, \"Purchase\": 4456.783333333334}, {\"Product_ID\": 2, \"Purchase\": 5930.0}, {\"Product_ID\": 118, \"Purchase\": 8370.669491525423}, {\"Product_ID\": 177, \"Purchase\": 9312.135593220339}, {\"Product_ID\": 6, \"Purchase\": 7381.0}, {\"Product_ID\": 20, \"Purchase\": 4963.3}, {\"Product_ID\": 15, \"Purchase\": 12046.266666666666}, {\"Product_ID\": 31, \"Purchase\": 2397.2580645161293}, {\"Product_ID\": 69, \"Purchase\": 12768.246376811594}, {\"Product_ID\": 18, \"Purchase\": 8159.055555555556}, {\"Product_ID\": 463, \"Purchase\": 5982.730021598272}, {\"Product_ID\": 46, \"Purchase\": 6225.065217391304}, {\"Product_ID\": 186, \"Purchase\": 8154.247311827957}, {\"Product_ID\": 154, \"Purchase\": 6211.883116883117}, {\"Product_ID\": 41, \"Purchase\": 6393.951219512195}, {\"Product_ID\": 120, \"Purchase\": 7096.291666666667}, {\"Product_ID\": 27, \"Purchase\": 7767.666666666667}, {\"Product_ID\": 9, \"Purchase\": 6451.0}, {\"Product_ID\": 1, \"Purchase\": 1791.0}, {\"Product_ID\": 128, \"Purchase\": 7050.3984375}, {\"Product_ID\": 20, \"Purchase\": 1195.25}, {\"Product_ID\": 134, \"Purchase\": 4859.7164179104475}, {\"Product_ID\": 44, \"Purchase\": 7419.545454545455}, {\"Product_ID\": 35, \"Purchase\": 7219.228571428572}, {\"Product_ID\": 71, \"Purchase\": 4381.507042253521}, {\"Product_ID\": 122, \"Purchase\": 5412.073770491803}, {\"Product_ID\": 224, \"Purchase\": 3791.691964285714}, {\"Product_ID\": 264, \"Purchase\": 13266.57196969697}, {\"Product_ID\": 2, \"Purchase\": 4349.0}, {\"Product_ID\": 8, \"Purchase\": 5755.625}, {\"Product_ID\": 101, \"Purchase\": 6413.247524752475}, {\"Product_ID\": 13, \"Purchase\": 5028.7692307692305}, {\"Product_ID\": 26, \"Purchase\": 4004.730769230769}, {\"Product_ID\": 98, \"Purchase\": 8918.377551020409}, {\"Product_ID\": 100, \"Purchase\": 11396.4}, {\"Product_ID\": 191, \"Purchase\": 15108.225130890052}, {\"Product_ID\": 61, \"Purchase\": 4607.819672131148}, {\"Product_ID\": 24, \"Purchase\": 4139.833333333333}, {\"Product_ID\": 28, \"Purchase\": 4034.5714285714284}, {\"Product_ID\": 58, \"Purchase\": 3890.396551724138}, {\"Product_ID\": 171, \"Purchase\": 10475.269005847953}, {\"Product_ID\": 19, \"Purchase\": 4099.210526315789}, {\"Product_ID\": 234, \"Purchase\": 7036.65811965812}, {\"Product_ID\": 13, \"Purchase\": 6880.7692307692305}, {\"Product_ID\": 77, \"Purchase\": 5477.727272727273}, {\"Product_ID\": 11, \"Purchase\": 4671.454545454545}, {\"Product_ID\": 10, \"Purchase\": 5276.2}, {\"Product_ID\": 25, \"Purchase\": 16880.12}, {\"Product_ID\": 7, \"Purchase\": 13420.714285714286}, {\"Product_ID\": 20, \"Purchase\": 6507.3}, {\"Product_ID\": 115, \"Purchase\": 6471.930434782608}, {\"Product_ID\": 6, \"Purchase\": 6077.333333333333}, {\"Product_ID\": 9, \"Purchase\": 6807.222222222223}, {\"Product_ID\": 18, \"Purchase\": 7205.722222222223}, {\"Product_ID\": 30, \"Purchase\": 10638.133333333333}, {\"Product_ID\": 36, \"Purchase\": 5640.138888888889}, {\"Product_ID\": 49, \"Purchase\": 16275.734693877552}, {\"Product_ID\": 7, \"Purchase\": 12168.285714285714}, {\"Product_ID\": 136, \"Purchase\": 5645.323529411765}, {\"Product_ID\": 11, \"Purchase\": 5957.818181818182}, {\"Product_ID\": 353, \"Purchase\": 14146.543909348442}, {\"Product_ID\": 80, \"Purchase\": 11127.6875}, {\"Product_ID\": 79, \"Purchase\": 5648.822784810127}, {\"Product_ID\": 4, \"Purchase\": 5763.75}, {\"Product_ID\": 4, \"Purchase\": 6997.0}, {\"Product_ID\": 362, \"Purchase\": 6457.651933701657}, {\"Product_ID\": 238, \"Purchase\": 5444.542016806723}, {\"Product_ID\": 24, \"Purchase\": 7393.541666666667}, {\"Product_ID\": 154, \"Purchase\": 7730.038961038961}, {\"Product_ID\": 61, \"Purchase\": 7610.983606557377}, {\"Product_ID\": 153, \"Purchase\": 6467.699346405228}, {\"Product_ID\": 13, \"Purchase\": 5027.461538461538}, {\"Product_ID\": 3, \"Purchase\": 4574.333333333333}, {\"Product_ID\": 2, \"Purchase\": 5107.5}, {\"Product_ID\": 104, \"Purchase\": 7982.653846153846}, {\"Product_ID\": 6, \"Purchase\": 12933.833333333334}, {\"Product_ID\": 62, \"Purchase\": 11083.274193548386}, {\"Product_ID\": 9, \"Purchase\": 14337.222222222223}, {\"Product_ID\": 124, \"Purchase\": 5768.0887096774195}, {\"Product_ID\": 7, \"Purchase\": 4823.714285714285}, {\"Product_ID\": 23, \"Purchase\": 4344.304347826087}, {\"Product_ID\": 16, \"Purchase\": 5275.0625}, {\"Product_ID\": 18, \"Purchase\": 6337.555555555556}, {\"Product_ID\": 3, \"Purchase\": 6711.0}, {\"Product_ID\": 1, \"Purchase\": 9874.0}, {\"Product_ID\": 73, \"Purchase\": 9305.0}, {\"Product_ID\": 1, \"Purchase\": 12895.0}, {\"Product_ID\": 3, \"Purchase\": 8552.333333333334}, {\"Product_ID\": 6, \"Purchase\": 4336.333333333333}, {\"Product_ID\": 321, \"Purchase\": 6272.813084112149}, {\"Product_ID\": 11, \"Purchase\": 6937.181818181818}, {\"Product_ID\": 50, \"Purchase\": 10170.88}, {\"Product_ID\": 95, \"Purchase\": 13644.8}, {\"Product_ID\": 521, \"Purchase\": 7412.445297504799}, {\"Product_ID\": 25, \"Purchase\": 11450.8}, {\"Product_ID\": 2, \"Purchase\": 1882.5}, {\"Product_ID\": 23, \"Purchase\": 4957.652173913043}, {\"Product_ID\": 51, \"Purchase\": 5054.411764705882}, {\"Product_ID\": 11, \"Purchase\": 6278.909090909091}, {\"Product_ID\": 28, \"Purchase\": 6849.785714285715}, {\"Product_ID\": 1, \"Purchase\": 2177.0}, {\"Product_ID\": 6, \"Purchase\": 6135.833333333333}, {\"Product_ID\": 16, \"Purchase\": 12383.5}, {\"Product_ID\": 49, \"Purchase\": 3305.061224489796}, {\"Product_ID\": 34, \"Purchase\": 4801.14705882353}, {\"Product_ID\": 126, \"Purchase\": 7585.68253968254}, {\"Product_ID\": 361, \"Purchase\": 7172.623268698061}, {\"Product_ID\": 24, \"Purchase\": 3990.1666666666665}, {\"Product_ID\": 14, \"Purchase\": 13973.857142857143}, {\"Product_ID\": 40, \"Purchase\": 6560.825}, {\"Product_ID\": 63, \"Purchase\": 6966.587301587301}, {\"Product_ID\": 224, \"Purchase\": 7769.397321428572}, {\"Product_ID\": 160, \"Purchase\": 4717.9}, {\"Product_ID\": 89, \"Purchase\": 4133.91011235955}, {\"Product_ID\": 51, \"Purchase\": 3644.549019607843}, {\"Product_ID\": 38, \"Purchase\": 7209.105263157895}, {\"Product_ID\": 21, \"Purchase\": 4762.333333333333}, {\"Product_ID\": 23, \"Purchase\": 4540.521739130435}, {\"Product_ID\": 60, \"Purchase\": 4011.6}, {\"Product_ID\": 14, \"Purchase\": 5445.142857142857}, {\"Product_ID\": 66, \"Purchase\": 6847.742424242424}, {\"Product_ID\": 93, \"Purchase\": 10953.946236559139}, {\"Product_ID\": 193, \"Purchase\": 11579.025906735751}, {\"Product_ID\": 115, \"Purchase\": 6105.347826086957}, {\"Product_ID\": 82, \"Purchase\": 6900.390243902439}, {\"Product_ID\": 127, \"Purchase\": 4977.669291338582}, {\"Product_ID\": 20, \"Purchase\": 3082.05}, {\"Product_ID\": 130, \"Purchase\": 5647.884615384615}, {\"Product_ID\": 8, \"Purchase\": 2563.875}, {\"Product_ID\": 14, \"Purchase\": 12493.142857142857}, {\"Product_ID\": 10, \"Purchase\": 4580.0}, {\"Product_ID\": 65, \"Purchase\": 7320.446153846154}, {\"Product_ID\": 78, \"Purchase\": 12371.666666666666}, {\"Product_ID\": 15, \"Purchase\": 3288.733333333333}, {\"Product_ID\": 15, \"Purchase\": 3104.733333333333}, {\"Product_ID\": 8, \"Purchase\": 2729.5}, {\"Product_ID\": 14, \"Purchase\": 3204.0}, {\"Product_ID\": 12, \"Purchase\": 2615.1666666666665}, {\"Product_ID\": 49, \"Purchase\": 5765.714285714285}, {\"Product_ID\": 5, \"Purchase\": 4556.8}, {\"Product_ID\": 24, \"Purchase\": 5733.416666666667}, {\"Product_ID\": 46, \"Purchase\": 8472.152173913044}, {\"Product_ID\": 30, \"Purchase\": 14618.233333333334}, {\"Product_ID\": 463, \"Purchase\": 6368.796976241901}, {\"Product_ID\": 785, \"Purchase\": 36.67515923566879}, {\"Product_ID\": 166, \"Purchase\": 8090.903614457831}, {\"Product_ID\": 25, \"Purchase\": 7087.92}, {\"Product_ID\": 23, \"Purchase\": 7783.217391304348}, {\"Product_ID\": 217, \"Purchase\": 7432.382488479263}, {\"Product_ID\": 818, \"Purchase\": 37.39364303178484}, {\"Product_ID\": 899, \"Purchase\": 362.91101223581757}, {\"Product_ID\": 837, \"Purchase\": 374.93070489844683}, {\"Product_ID\": 814, \"Purchase\": 374.26658476658474}, {\"Product_ID\": 10, \"Purchase\": 13154.0}, {\"Product_ID\": 5, \"Purchase\": 7003.0}, {\"Product_ID\": 66, \"Purchase\": 5811.045454545455}, {\"Product_ID\": 57, \"Purchase\": 10345.929824561403}, {\"Product_ID\": 78, \"Purchase\": 1733.4871794871794}, {\"Product_ID\": 46, \"Purchase\": 6097.630434782609}, {\"Product_ID\": 121, \"Purchase\": 2144.801652892562}, {\"Product_ID\": 48, \"Purchase\": 2707.9375}, {\"Product_ID\": 174, \"Purchase\": 10418.666666666666}, {\"Product_ID\": 133, \"Purchase\": 2243.6766917293235}, {\"Product_ID\": 72, \"Purchase\": 8943.680555555555}, {\"Product_ID\": 167, \"Purchase\": 2621.682634730539}, {\"Product_ID\": 154, \"Purchase\": 2449.1233766233768}, {\"Product_ID\": 84, \"Purchase\": 2379.0714285714284}, {\"Product_ID\": 114, \"Purchase\": 10951.90350877193}, {\"Product_ID\": 84, \"Purchase\": 2366.0833333333335}, {\"Product_ID\": 145, \"Purchase\": 11736.83448275862}, {\"Product_ID\": 62, \"Purchase\": 2393.3548387096776}, {\"Product_ID\": 311, \"Purchase\": 12048.324758842444}, {\"Product_ID\": 210, \"Purchase\": 5668.971428571429}, {\"Product_ID\": 115, \"Purchase\": 2118.686956521739}, {\"Product_ID\": 313, \"Purchase\": 10243.693290734824}, {\"Product_ID\": 111, \"Purchase\": 10727.18018018018}, {\"Product_ID\": 68, \"Purchase\": 9223.161764705883}, {\"Product_ID\": 165, \"Purchase\": 9756.769696969697}, {\"Product_ID\": 2, \"Purchase\": 3143.0}, {\"Product_ID\": 180, \"Purchase\": 6338.816666666667}, {\"Product_ID\": 532, \"Purchase\": 2714.3665413533836}, {\"Product_ID\": 329, \"Purchase\": 9932.142857142857}, {\"Product_ID\": 174, \"Purchase\": 10261.281609195403}, {\"Product_ID\": 175, \"Purchase\": 11358.234285714285}, {\"Product_ID\": 298, \"Purchase\": 10063.241610738254}, {\"Product_ID\": 154, \"Purchase\": 9253.363636363636}, {\"Product_ID\": 87, \"Purchase\": 15252.459770114943}, {\"Product_ID\": 488, \"Purchase\": 1378.3565573770493}, {\"Product_ID\": 912, \"Purchase\": 15947.34649122807}, {\"Product_ID\": 364, \"Purchase\": 10465.48076923077}, {\"Product_ID\": 6, \"Purchase\": 6318.833333333333}, {\"Product_ID\": 3, \"Purchase\": 15221.0}, {\"Product_ID\": 1, \"Purchase\": 6120.0}, {\"Product_ID\": 254, \"Purchase\": 7899.141732283465}, {\"Product_ID\": 279, \"Purchase\": 6123.215053763441}, {\"Product_ID\": 62, \"Purchase\": 5609.1612903225805}, {\"Product_ID\": 20, \"Purchase\": 6770.35}, {\"Product_ID\": 43, \"Purchase\": 7990.767441860465}, {\"Product_ID\": 233, \"Purchase\": 13268.472103004291}, {\"Product_ID\": 255, \"Purchase\": 13037.956862745097}, {\"Product_ID\": 72, \"Purchase\": 15652.722222222223}, {\"Product_ID\": 46, \"Purchase\": 6727.630434782609}, {\"Product_ID\": 27, \"Purchase\": 12238.185185185184}, {\"Product_ID\": 47, \"Purchase\": 7037.382978723404}, {\"Product_ID\": 10, \"Purchase\": 12464.4}, {\"Product_ID\": 33, \"Purchase\": 7004.818181818182}, {\"Product_ID\": 144, \"Purchase\": 6239.298611111111}, {\"Product_ID\": 7, \"Purchase\": 6559.142857142857}, {\"Product_ID\": 257, \"Purchase\": 6808.346303501946}, {\"Product_ID\": 440, \"Purchase\": 6941.131818181818}, {\"Product_ID\": 200, \"Purchase\": 14351.915}, {\"Product_ID\": 13, \"Purchase\": 6439.2307692307695}, {\"Product_ID\": 126, \"Purchase\": 7872.603174603175}, {\"Product_ID\": 102, \"Purchase\": 7228.549019607844}, {\"Product_ID\": 14, \"Purchase\": 5572.785714285715}]}}, {\"mode\": \"vega-lite\"});\n",
       "</script>"
      ],
      "text/plain": [
       "alt.Chart(...)"
      ]
     },
     "execution_count": 64,
     "metadata": {},
     "output_type": "execute_result"
    }
   ],
   "source": [
    "alt.Chart(df).mark_circle().encode(\n",
    "    x=\"Product_ID\", \n",
    "    y=\"Purchase\"\n",
    ")"
   ]
  },
  {
   "cell_type": "markdown",
   "id": "d0d11d8d",
   "metadata": {},
   "source": [
    "### `Gender`"
   ]
  },
  {
   "cell_type": "code",
   "execution_count": 12,
   "id": "e932c6b5",
   "metadata": {},
   "outputs": [
    {
     "data": {
      "text/plain": [
       "M    414259\n",
       "F    135809\n",
       "Name: Gender, dtype: int64"
      ]
     },
     "execution_count": 12,
     "metadata": {},
     "output_type": "execute_result"
    }
   ],
   "source": [
    "data['Gender'].value_counts()"
   ]
  },
  {
   "cell_type": "code",
   "execution_count": 13,
   "id": "a4d208f0",
   "metadata": {},
   "outputs": [
    {
     "data": {
      "text/plain": [
       "M    75.310507\n",
       "F    24.689493\n",
       "Name: Gender, dtype: float64"
      ]
     },
     "execution_count": 13,
     "metadata": {},
     "output_type": "execute_result"
    }
   ],
   "source": [
    "data['Gender'].value_counts()/len(data) * 100"
   ]
  },
  {
   "cell_type": "code",
   "execution_count": 14,
   "id": "caeae0d9",
   "metadata": {},
   "outputs": [
    {
     "data": {
      "text/html": [
       "\n",
       "<div id=\"altair-viz-e406ec49899440c1b8e681b9a5d6b218\"></div>\n",
       "<script type=\"text/javascript\">\n",
       "  (function(spec, embedOpt){\n",
       "    let outputDiv = document.currentScript.previousElementSibling;\n",
       "    if (outputDiv.id !== \"altair-viz-e406ec49899440c1b8e681b9a5d6b218\") {\n",
       "      outputDiv = document.getElementById(\"altair-viz-e406ec49899440c1b8e681b9a5d6b218\");\n",
       "    }\n",
       "    const paths = {\n",
       "      \"vega\": \"https://cdn.jsdelivr.net/npm//vega@5?noext\",\n",
       "      \"vega-lib\": \"https://cdn.jsdelivr.net/npm//vega-lib?noext\",\n",
       "      \"vega-lite\": \"https://cdn.jsdelivr.net/npm//vega-lite@4.8.1?noext\",\n",
       "      \"vega-embed\": \"https://cdn.jsdelivr.net/npm//vega-embed@6?noext\",\n",
       "    };\n",
       "\n",
       "    function loadScript(lib) {\n",
       "      return new Promise(function(resolve, reject) {\n",
       "        var s = document.createElement('script');\n",
       "        s.src = paths[lib];\n",
       "        s.async = true;\n",
       "        s.onload = () => resolve(paths[lib]);\n",
       "        s.onerror = () => reject(`Error loading script: ${paths[lib]}`);\n",
       "        document.getElementsByTagName(\"head\")[0].appendChild(s);\n",
       "      });\n",
       "    }\n",
       "\n",
       "    function showError(err) {\n",
       "      outputDiv.innerHTML = `<div class=\"error\" style=\"color:red;\">${err}</div>`;\n",
       "      throw err;\n",
       "    }\n",
       "\n",
       "    function displayChart(vegaEmbed) {\n",
       "      vegaEmbed(outputDiv, spec, embedOpt)\n",
       "        .catch(err => showError(`Javascript Error: ${err.message}<br>This usually means there's a typo in your chart specification. See the javascript console for the full traceback.`));\n",
       "    }\n",
       "\n",
       "    if(typeof define === \"function\" && define.amd) {\n",
       "      requirejs.config({paths});\n",
       "      require([\"vega-embed\"], displayChart, err => showError(`Error loading script: ${err.message}`));\n",
       "    } else if (typeof vegaEmbed === \"function\") {\n",
       "      displayChart(vegaEmbed);\n",
       "    } else {\n",
       "      loadScript(\"vega\")\n",
       "        .then(() => loadScript(\"vega-lite\"))\n",
       "        .then(() => loadScript(\"vega-embed\"))\n",
       "        .catch(showError)\n",
       "        .then(() => displayChart(vegaEmbed));\n",
       "    }\n",
       "  })({\"config\": {\"view\": {\"continuousWidth\": 400, \"continuousHeight\": 300}}, \"data\": {\"name\": \"data-4737023b0b47da9db3535c53da5c077b\"}, \"mark\": \"bar\", \"encoding\": {\"tooltip\": [{\"type\": \"nominal\", \"field\": \"Gender\"}, {\"type\": \"quantitative\", \"field\": \"Count\"}], \"x\": {\"type\": \"nominal\", \"field\": \"Gender\"}, \"y\": {\"type\": \"quantitative\", \"field\": \"Count\"}}, \"title\": \"Value Counts of Gender\", \"width\": 250, \"$schema\": \"https://vega.github.io/schema/vega-lite/v4.8.1.json\", \"datasets\": {\"data-4737023b0b47da9db3535c53da5c077b\": [{\"Gender\": \"Male\", \"Count\": 414259}, {\"Gender\": \"Female\", \"Count\": 135809}]}}, {\"mode\": \"vega-lite\"});\n",
       "</script>"
      ],
      "text/plain": [
       "alt.Chart(...)"
      ]
     },
     "execution_count": 14,
     "metadata": {},
     "output_type": "execute_result"
    }
   ],
   "source": [
    "df = pd.DataFrame(data['Gender'].value_counts()).reset_index()\n",
    "df.columns = ['Gender', 'Count']\n",
    "df['Gender'] = ['Male', 'Female']\n",
    "alt.Chart(df, title=\"Value Counts of Gender\").mark_bar().encode(\n",
    "    x=\"Gender:N\", \n",
    "    y=\"Count:Q\",\n",
    "    tooltip=[\"Gender\", \"Count\"]\n",
    ").properties(width=250)"
   ]
  },
  {
   "cell_type": "code",
   "execution_count": 15,
   "id": "932f3fd1",
   "metadata": {},
   "outputs": [
    {
     "data": {
      "image/png": "[encoded data removed]",
      "text/plain": [
       "<Figure size 360x360 with 1 Axes>"
      ]
     },
     "metadata": {
      "needs_background": "light"
     },
     "output_type": "display_data"
    }
   ],
   "source": [
    "sns.catplot(x=\"Gender\", y=\"Purchase\", kind=\"box\", data=data)\n",
    "g = plt.title(\"Distribution of Purchase for Female and Male\")"
   ]
  },
  {
   "cell_type": "markdown",
   "id": "f8a55290",
   "metadata": {},
   "source": [
    "### `Age`"
   ]
  },
  {
   "cell_type": "code",
   "execution_count": 16,
   "id": "df7c3b7d",
   "metadata": {},
   "outputs": [
    {
     "data": {
      "text/plain": [
       "0          0-17\n",
       "1          0-17\n",
       "2          0-17\n",
       "3          0-17\n",
       "4           55+\n",
       "          ...  \n",
       "550063    51-55\n",
       "550064    26-35\n",
       "550065    26-35\n",
       "550066      55+\n",
       "550067    46-50\n",
       "Name: Age, Length: 550068, dtype: object"
      ]
     },
     "execution_count": 16,
     "metadata": {},
     "output_type": "execute_result"
    }
   ],
   "source": [
    "data['Age']"
   ]
  },
  {
   "cell_type": "code",
   "execution_count": 17,
   "id": "3014fe47",
   "metadata": {},
   "outputs": [
    {
     "data": {
      "text/plain": [
       "array(['0-17', '55+', '26-35', '46-50', '51-55', '36-45', '18-25'],\n",
       "      dtype=object)"
      ]
     },
     "execution_count": 17,
     "metadata": {},
     "output_type": "execute_result"
    }
   ],
   "source": [
    "data['Age'].unique()"
   ]
  },
  {
   "cell_type": "code",
   "execution_count": 18,
   "id": "4eefe39a",
   "metadata": {},
   "outputs": [
    {
     "data": {
      "text/html": [
       "\n",
       "<div id=\"altair-viz-f91bdbb9228f4ec79037365196707aed\"></div>\n",
       "<script type=\"text/javascript\">\n",
       "  (function(spec, embedOpt){\n",
       "    let outputDiv = document.currentScript.previousElementSibling;\n",
       "    if (outputDiv.id !== \"altair-viz-f91bdbb9228f4ec79037365196707aed\") {\n",
       "      outputDiv = document.getElementById(\"altair-viz-f91bdbb9228f4ec79037365196707aed\");\n",
       "    }\n",
       "    const paths = {\n",
       "      \"vega\": \"https://cdn.jsdelivr.net/npm//vega@5?noext\",\n",
       "      \"vega-lib\": \"https://cdn.jsdelivr.net/npm//vega-lib?noext\",\n",
       "      \"vega-lite\": \"https://cdn.jsdelivr.net/npm//vega-lite@4.8.1?noext\",\n",
       "      \"vega-embed\": \"https://cdn.jsdelivr.net/npm//vega-embed@6?noext\",\n",
       "    };\n",
       "\n",
       "    function loadScript(lib) {\n",
       "      return new Promise(function(resolve, reject) {\n",
       "        var s = document.createElement('script');\n",
       "        s.src = paths[lib];\n",
       "        s.async = true;\n",
       "        s.onload = () => resolve(paths[lib]);\n",
       "        s.onerror = () => reject(`Error loading script: ${paths[lib]}`);\n",
       "        document.getElementsByTagName(\"head\")[0].appendChild(s);\n",
       "      });\n",
       "    }\n",
       "\n",
       "    function showError(err) {\n",
       "      outputDiv.innerHTML = `<div class=\"error\" style=\"color:red;\">${err}</div>`;\n",
       "      throw err;\n",
       "    }\n",
       "\n",
       "    function displayChart(vegaEmbed) {\n",
       "      vegaEmbed(outputDiv, spec, embedOpt)\n",
       "        .catch(err => showError(`Javascript Error: ${err.message}<br>This usually means there's a typo in your chart specification. See the javascript console for the full traceback.`));\n",
       "    }\n",
       "\n",
       "    if(typeof define === \"function\" && define.amd) {\n",
       "      requirejs.config({paths});\n",
       "      require([\"vega-embed\"], displayChart, err => showError(`Error loading script: ${err.message}`));\n",
       "    } else if (typeof vegaEmbed === \"function\") {\n",
       "      displayChart(vegaEmbed);\n",
       "    } else {\n",
       "      loadScript(\"vega\")\n",
       "        .then(() => loadScript(\"vega-lite\"))\n",
       "        .then(() => loadScript(\"vega-embed\"))\n",
       "        .catch(showError)\n",
       "        .then(() => displayChart(vegaEmbed));\n",
       "    }\n",
       "  })({\"config\": {\"view\": {\"continuousWidth\": 400, \"continuousHeight\": 300}}, \"data\": {\"name\": \"data-f18936316865c88373bbfd82a5e40ce8\"}, \"mark\": \"bar\", \"encoding\": {\"tooltip\": [{\"type\": \"nominal\", \"field\": \"Age\"}, {\"type\": \"quantitative\", \"field\": \"Count\"}], \"x\": {\"type\": \"ordinal\", \"field\": \"Age\"}, \"y\": {\"type\": \"quantitative\", \"field\": \"Count\", \"scale\": {\"domain\": [0, 240000]}}}, \"title\": \"Value Counts of Age\", \"width\": 300, \"$schema\": \"https://vega.github.io/schema/vega-lite/v4.8.1.json\", \"datasets\": {\"data-f18936316865c88373bbfd82a5e40ce8\": [{\"Age\": \"0-17\", \"Count\": 15102}, {\"Age\": \"18-25\", \"Count\": 99660}, {\"Age\": \"26-35\", \"Count\": 219587}, {\"Age\": \"36-45\", \"Count\": 110013}, {\"Age\": \"46-50\", \"Count\": 45701}, {\"Age\": \"51-55\", \"Count\": 38501}, {\"Age\": \"55+\", \"Count\": 21504}]}}, {\"mode\": \"vega-lite\"});\n",
       "</script>"
      ],
      "text/plain": [
       "alt.Chart(...)"
      ]
     },
     "execution_count": 18,
     "metadata": {},
     "output_type": "execute_result"
    }
   ],
   "source": [
    "df = pd.DataFrame(data['Age'].value_counts())\n",
    "df = df.reindex(['0-17', '18-25', '26-35', '36-45', '46-50', '51-55', '55+'])\n",
    "df.reset_index(inplace=True)\n",
    "df.columns=['Age', 'Count']\n",
    "alt.Chart(df, title=\"Value Counts of Age\").mark_bar().encode(\n",
    "    x=\"Age:O\", \n",
    "    y=alt.Y(\"Count:Q\",scale=alt.Scale(domain=(0, 240000))),\n",
    "    tooltip=[\"Age\", \"Count\"]\n",
    ").properties(width=300)"
   ]
  },
  {
   "cell_type": "code",
   "execution_count": 19,
   "id": "59c8673d",
   "metadata": {},
   "outputs": [
    {
     "data": {
      "image/png": "[encoded data removed]",
      "text/plain": [
       "<Figure size 360x360 with 1 Axes>"
      ]
     },
     "metadata": {
      "needs_background": "light"
     },
     "output_type": "display_data"
    }
   ],
   "source": [
    "sns.catplot(x=\"Age\", y=\"Purchase\", kind=\"box\", data=data)\n",
    "g = plt.title(\"Distribution of Purchase for Different Age Groups\")"
   ]
  },
  {
   "cell_type": "markdown",
   "id": "276929c1",
   "metadata": {},
   "source": [
    "### `Occupation`"
   ]
  },
  {
   "cell_type": "markdown",
   "id": "b1f8832d",
   "metadata": {},
   "source": [
    "Occupation (masked)"
   ]
  },
  {
   "cell_type": "code",
   "execution_count": 20,
   "id": "08a92948",
   "metadata": {},
   "outputs": [
    {
     "data": {
      "text/plain": [
       "array([ 0,  1,  2,  3,  4,  5,  6,  7,  8,  9, 10, 11, 12, 13, 14, 15, 16,\n",
       "       17, 18, 19, 20])"
      ]
     },
     "execution_count": 20,
     "metadata": {},
     "output_type": "execute_result"
    }
   ],
   "source": [
    "# Occupation code from 0 to 20\n",
    "np.sort(data['Occupation'].unique())"
   ]
  },
  {
   "cell_type": "code",
   "execution_count": 21,
   "id": "c49a50f0",
   "metadata": {},
   "outputs": [
    {
     "data": {
      "text/plain": [
       "<AxesSubplot:>"
      ]
     },
     "execution_count": 21,
     "metadata": {},
     "output_type": "execute_result"
    },
    {
     "data": {
      "image/png": "[encoded data removed]",
      "text/plain": [
       "<Figure size 576x360 with 1 Axes>"
      ]
     },
     "metadata": {
      "needs_background": "light"
     },
     "output_type": "display_data"
    }
   ],
   "source": [
    "plt.figure(figsize=(8, 5))\n",
    "data['Occupation'].value_counts().sort_index().plot(kind='bar')"
   ]
  },
  {
   "cell_type": "code",
   "execution_count": 22,
   "id": "74369830",
   "metadata": {},
   "outputs": [
    {
     "data": {
      "text/plain": [
       "<AxesSubplot:xlabel='Occupation'>"
      ]
     },
     "execution_count": 22,
     "metadata": {},
     "output_type": "execute_result"
    },
    {
     "data": {
      "image/png": "[encoded data removed]",
      "text/plain": [
       "<Figure size 576x360 with 1 Axes>"
      ]
     },
     "metadata": {
      "needs_background": "light"
     },
     "output_type": "display_data"
    }
   ],
   "source": [
    "plt.figure(figsize=(8, 5))\n",
    "data.groupby(['Occupation'])['Purchase'].mean().plot(kind='bar')"
   ]
  },
  {
   "cell_type": "code",
   "execution_count": 116,
   "id": "ddb96ea0",
   "metadata": {},
   "outputs": [
    {
     "data": {
      "image/png": "[encoded data removed]",
      "text/plain": [
       "<Figure size 720x468 with 1 Axes>"
      ]
     },
     "metadata": {
      "needs_background": "light"
     },
     "output_type": "display_data"
    }
   ],
   "source": [
    "g = sns.catplot(\n",
    "    x=\"Occupation\", y=\"Purchase\", kind=\"box\", data=data\n",
    ").set(title='Distribution of Purchase for Different Occupations')\n",
    "g.fig.set_size_inches(10, 6.5)"
   ]
  },
  {
   "cell_type": "markdown",
   "id": "01dfa8ee",
   "metadata": {},
   "source": [
    "### `City_Category`"
   ]
  },
  {
   "cell_type": "code",
   "execution_count": 23,
   "id": "02a415be",
   "metadata": {},
   "outputs": [
    {
     "data": {
      "text/plain": [
       "array(['A', 'C', 'B'], dtype=object)"
      ]
     },
     "execution_count": 23,
     "metadata": {},
     "output_type": "execute_result"
    }
   ],
   "source": [
    "data['City_Category'].unique()"
   ]
  },
  {
   "cell_type": "code",
   "execution_count": 24,
   "id": "5febeed3",
   "metadata": {},
   "outputs": [
    {
     "data": {
      "text/plain": [
       "<AxesSubplot:>"
      ]
     },
     "execution_count": 24,
     "metadata": {},
     "output_type": "execute_result"
    },
    {
     "data": {
      "image/png": "[encoded data removed]",
      "text/plain": [
       "<Figure size 432x288 with 1 Axes>"
      ]
     },
     "metadata": {
      "needs_background": "light"
     },
     "output_type": "display_data"
    }
   ],
   "source": [
    "# plt.figure(figsize=(8, 5))\n",
    "data['City_Category'].value_counts().sort_index().plot(kind='bar')"
   ]
  },
  {
   "cell_type": "code",
   "execution_count": 25,
   "id": "8e1c76bb",
   "metadata": {},
   "outputs": [
    {
     "data": {
      "text/plain": [
       "<AxesSubplot:xlabel='City_Category'>"
      ]
     },
     "execution_count": 25,
     "metadata": {},
     "output_type": "execute_result"
    },
    {
     "data": {
      "image/png": "[encoded data removed]",
      "text/plain": [
       "<Figure size 432x288 with 1 Axes>"
      ]
     },
     "metadata": {
      "needs_background": "light"
     },
     "output_type": "display_data"
    }
   ],
   "source": [
    "data.groupby(['City_Category'])['Purchase'].mean().plot(kind='bar')"
   ]
  },
  {
   "cell_type": "code",
   "execution_count": 26,
   "id": "f833c4b1",
   "metadata": {},
   "outputs": [
    {
     "data": {
      "image/png": "[encoded data removed]",
      "text/plain": [
       "<Figure size 360x360 with 1 Axes>"
      ]
     },
     "metadata": {
      "needs_background": "light"
     },
     "output_type": "display_data"
    }
   ],
   "source": [
    "sns.catplot(x=\"City_Category\", y=\"Purchase\", kind=\"box\", data=data, order=['A', 'B', 'C'])\n",
    "g = plt.title(\"Distribution of Purchase for Different City Categories\")"
   ]
  },
  {
   "cell_type": "markdown",
   "id": "bfee7df0",
   "metadata": {},
   "source": [
    "### `Stay_In_Current_City_Years`"
   ]
  },
  {
   "cell_type": "code",
   "execution_count": 27,
   "id": "48fe338c",
   "metadata": {},
   "outputs": [
    {
     "data": {
      "text/plain": [
       "array(['2', '4+', '3', '1', '0'], dtype=object)"
      ]
     },
     "execution_count": 27,
     "metadata": {},
     "output_type": "execute_result"
    }
   ],
   "source": [
    "data['Stay_In_Current_City_Years'].unique()"
   ]
  },
  {
   "cell_type": "code",
   "execution_count": 28,
   "id": "61a89b0c",
   "metadata": {},
   "outputs": [
    {
     "data": {
      "text/plain": [
       "0      74398\n",
       "1     193821\n",
       "2     101838\n",
       "3      95285\n",
       "4+     84726\n",
       "Name: Stay_In_Current_City_Years, dtype: int64"
      ]
     },
     "execution_count": 28,
     "metadata": {},
     "output_type": "execute_result"
    }
   ],
   "source": [
    "data['Stay_In_Current_City_Years'].value_counts().sort_index()"
   ]
  },
  {
   "cell_type": "code",
   "execution_count": 29,
   "id": "cf2f8427",
   "metadata": {},
   "outputs": [
    {
     "data": {
      "text/plain": [
       "<AxesSubplot:>"
      ]
     },
     "execution_count": 29,
     "metadata": {},
     "output_type": "execute_result"
    },
    {
     "data": {
      "image/png": "[encoded data removed]",
      "text/plain": [
       "<Figure size 432x288 with 1 Axes>"
      ]
     },
     "metadata": {
      "needs_background": "light"
     },
     "output_type": "display_data"
    }
   ],
   "source": [
    "data['Stay_In_Current_City_Years'].value_counts().sort_index().plot(kind='bar')"
   ]
  },
  {
   "cell_type": "code",
   "execution_count": 30,
   "id": "cc232017",
   "metadata": {},
   "outputs": [
    {
     "data": {
      "image/png": "[encoded data removed]",
      "text/plain": [
       "<Figure size 360x360 with 1 Axes>"
      ]
     },
     "metadata": {
      "needs_background": "light"
     },
     "output_type": "display_data"
    }
   ],
   "source": [
    "sns.catplot(x=\"Stay_In_Current_City_Years\", y=\"Purchase\", kind=\"box\", data=data)\n",
    "g = plt.title(\"Distribution of Purchase for Different Stay_In_Current_City_Years\")"
   ]
  },
  {
   "cell_type": "code",
   "execution_count": 31,
   "id": "7490f2c6",
   "metadata": {},
   "outputs": [
    {
     "data": {
      "text/plain": [
       "Stay_In_Current_City_Years\n",
       "0     9180.075123\n",
       "1     9250.145923\n",
       "2     9320.429810\n",
       "3     9286.904119\n",
       "4+    9275.598872\n",
       "Name: Purchase, dtype: float64"
      ]
     },
     "execution_count": 31,
     "metadata": {},
     "output_type": "execute_result"
    }
   ],
   "source": [
    "data.groupby(['Stay_In_Current_City_Years'])['Purchase'].mean()"
   ]
  },
  {
   "cell_type": "code",
   "execution_count": 32,
   "id": "dc584b5a",
   "metadata": {},
   "outputs": [
    {
     "data": {
      "text/plain": [
       "<AxesSubplot:xlabel='Stay_In_Current_City_Years'>"
      ]
     },
     "execution_count": 32,
     "metadata": {},
     "output_type": "execute_result"
    },
    {
     "data": {
      "image/png": "[encoded data removed]",
      "text/plain": [
       "<Figure size 432x288 with 1 Axes>"
      ]
     },
     "metadata": {
      "needs_background": "light"
     },
     "output_type": "display_data"
    }
   ],
   "source": [
    "data.groupby(['Stay_In_Current_City_Years'])['Purchase'].mean().plot(kind='bar')"
   ]
  },
  {
   "cell_type": "markdown",
   "id": "f91782cf",
   "metadata": {},
   "source": [
    "### `Marital_Status`"
   ]
  },
  {
   "cell_type": "code",
   "execution_count": 33,
   "id": "e837c950",
   "metadata": {},
   "outputs": [
    {
     "data": {
      "text/plain": [
       "0    324731\n",
       "1    225337\n",
       "Name: Marital_Status, dtype: int64"
      ]
     },
     "execution_count": 33,
     "metadata": {},
     "output_type": "execute_result"
    }
   ],
   "source": [
    "data['Marital_Status'].value_counts()"
   ]
  },
  {
   "cell_type": "code",
   "execution_count": 34,
   "id": "95195297",
   "metadata": {},
   "outputs": [
    {
     "data": {
      "text/plain": [
       "<AxesSubplot:>"
      ]
     },
     "execution_count": 34,
     "metadata": {},
     "output_type": "execute_result"
    },
    {
     "data": {
      "image/png": "[encoded data removed]",
      "text/plain": [
       "<Figure size 432x288 with 1 Axes>"
      ]
     },
     "metadata": {
      "needs_background": "light"
     },
     "output_type": "display_data"
    }
   ],
   "source": [
    "data['Marital_Status'].value_counts().plot(kind='bar')"
   ]
  },
  {
   "cell_type": "code",
   "execution_count": 35,
   "id": "a377637f",
   "metadata": {},
   "outputs": [
    {
     "data": {
      "image/png": "[encoded data removed]",
      "text/plain": [
       "<Figure size 360x360 with 1 Axes>"
      ]
     },
     "metadata": {
      "needs_background": "light"
     },
     "output_type": "display_data"
    }
   ],
   "source": [
    "sns.catplot(x=\"Marital_Status\", y=\"Purchase\", kind=\"box\", data=data)\n",
    "g = plt.title(\"Distribution of Purchase for Different Marital Status\")"
   ]
  },
  {
   "cell_type": "code",
   "execution_count": 36,
   "id": "db5e6436",
   "metadata": {
    "scrolled": true
   },
   "outputs": [
    {
     "data": {
      "text/plain": [
       "Marital_Status\n",
       "0    9265.907619\n",
       "1    9261.174574\n",
       "Name: Purchase, dtype: float64"
      ]
     },
     "execution_count": 36,
     "metadata": {},
     "output_type": "execute_result"
    }
   ],
   "source": [
    "data.groupby(['Marital_Status'])['Purchase'].mean()\n",
    "# Nearly no difference"
   ]
  },
  {
   "cell_type": "markdown",
   "id": "bb88c179",
   "metadata": {},
   "source": [
    "### `Product_Category_1`"
   ]
  },
  {
   "cell_type": "code",
   "execution_count": 37,
   "id": "062c39fe",
   "metadata": {},
   "outputs": [
    {
     "data": {
      "text/plain": [
       "0"
      ]
     },
     "execution_count": 37,
     "metadata": {},
     "output_type": "execute_result"
    }
   ],
   "source": [
    "sum(data['Product_Category_1'].isna())"
   ]
  },
  {
   "cell_type": "code",
   "execution_count": 38,
   "id": "f060fe1d",
   "metadata": {},
   "outputs": [
    {
     "data": {
      "text/plain": [
       "array([ 1,  2,  3,  4,  5,  6,  7,  8,  9, 10, 11, 12, 13, 14, 15, 16, 17,\n",
       "       18, 19, 20])"
      ]
     },
     "execution_count": 38,
     "metadata": {},
     "output_type": "execute_result"
    }
   ],
   "source": [
    "np.sort(data['Product_Category_1'].unique())"
   ]
  },
  {
   "cell_type": "code",
   "execution_count": 39,
   "id": "162d8630",
   "metadata": {},
   "outputs": [
    {
     "data": {
      "text/plain": [
       "<AxesSubplot:>"
      ]
     },
     "execution_count": 39,
     "metadata": {},
     "output_type": "execute_result"
    },
    {
     "data": {
      "image/png": "[encoded data removed]",
      "text/plain": [
       "<Figure size 576x360 with 1 Axes>"
      ]
     },
     "metadata": {
      "needs_background": "light"
     },
     "output_type": "display_data"
    }
   ],
   "source": [
    "plt.figure(figsize=(8, 5))\n",
    "data['Product_Category_1'].value_counts().sort_index().plot(kind='bar')"
   ]
  },
  {
   "cell_type": "code",
   "execution_count": 40,
   "id": "8694cf12",
   "metadata": {},
   "outputs": [
    {
     "data": {
      "image/png": "[encoded data removed]",
      "text/plain": [
       "<Figure size 720x468 with 1 Axes>"
      ]
     },
     "metadata": {
      "needs_background": "light"
     },
     "output_type": "display_data"
    }
   ],
   "source": [
    "g = sns.catplot(\n",
    "    x=\"Product_Category_1\", y=\"Purchase\", kind=\"box\", data=data\n",
    ").set(title='Distribution of Purchase for Different Product Category 1')\n",
    "g.fig.set_size_inches(10, 6.5)"
   ]
  },
  {
   "cell_type": "markdown",
   "id": "7836e7fc",
   "metadata": {},
   "source": [
    "### `Product_Category_2`"
   ]
  },
  {
   "cell_type": "code",
   "execution_count": 41,
   "id": "cffd6b66",
   "metadata": {},
   "outputs": [
    {
     "data": {
      "text/plain": [
       "173638"
      ]
     },
     "execution_count": 41,
     "metadata": {},
     "output_type": "execute_result"
    }
   ],
   "source": [
    "sum(data['Product_Category_2'].isna())"
   ]
  },
  {
   "cell_type": "code",
   "execution_count": 42,
   "id": "2969f839",
   "metadata": {},
   "outputs": [
    {
     "data": {
      "text/plain": [
       "0.3156664266963357"
      ]
     },
     "execution_count": 42,
     "metadata": {},
     "output_type": "execute_result"
    }
   ],
   "source": [
    "(data['Product_Category_2'].isna()).mean()"
   ]
  },
  {
   "cell_type": "code",
   "execution_count": 43,
   "id": "59204a24",
   "metadata": {},
   "outputs": [
    {
     "data": {
      "text/plain": [
       "2.0     49217\n",
       "3.0      2884\n",
       "4.0     25677\n",
       "5.0     26235\n",
       "6.0     16466\n",
       "7.0       626\n",
       "8.0     64088\n",
       "9.0      5693\n",
       "10.0     3043\n",
       "11.0    14134\n",
       "12.0     5528\n",
       "13.0    10531\n",
       "14.0    55108\n",
       "15.0    37855\n",
       "16.0    43255\n",
       "17.0    13320\n",
       "18.0     2770\n",
       "Name: Product_Category_2, dtype: int64"
      ]
     },
     "execution_count": 43,
     "metadata": {},
     "output_type": "execute_result"
    }
   ],
   "source": [
    "data['Product_Category_2'].value_counts().sort_index()"
   ]
  },
  {
   "cell_type": "code",
   "execution_count": 44,
   "id": "c45b5165",
   "metadata": {},
   "outputs": [
    {
     "data": {
      "text/plain": [
       "<AxesSubplot:>"
      ]
     },
     "execution_count": 44,
     "metadata": {},
     "output_type": "execute_result"
    },
    {
     "data": {
      "image/png": "[encoded data removed]",
      "text/plain": [
       "<Figure size 432x288 with 1 Axes>"
      ]
     },
     "metadata": {
      "needs_background": "light"
     },
     "output_type": "display_data"
    }
   ],
   "source": [
    "data['Product_Category_2'].value_counts().sort_index().plot(kind='bar')"
   ]
  },
  {
   "cell_type": "code",
   "execution_count": 45,
   "id": "14668fe9",
   "metadata": {},
   "outputs": [],
   "source": [
    "# Set NA value to be category \"-1\"\n",
    "data.loc[data['Product_Category_2'].isna(),'Product_Category_2'] = -1"
   ]
  },
  {
   "cell_type": "code",
   "execution_count": 46,
   "id": "23a358e4",
   "metadata": {},
   "outputs": [
    {
     "data": {
      "text/plain": [
       "<AxesSubplot:>"
      ]
     },
     "execution_count": 46,
     "metadata": {},
     "output_type": "execute_result"
    },
    {
     "data": {
      "image/png": "[encoded data removed]",
      "text/plain": [
       "<Figure size 432x288 with 1 Axes>"
      ]
     },
     "metadata": {
      "needs_background": "light"
     },
     "output_type": "display_data"
    }
   ],
   "source": [
    "data['Product_Category_2'].value_counts().sort_index().plot(kind='bar')"
   ]
  },
  {
   "cell_type": "code",
   "execution_count": 47,
   "id": "8a02a35a",
   "metadata": {},
   "outputs": [
    {
     "data": {
      "image/png": "[encoded data removed]",
      "text/plain": [
       "<Figure size 720x468 with 1 Axes>"
      ]
     },
     "metadata": {
      "needs_background": "light"
     },
     "output_type": "display_data"
    }
   ],
   "source": [
    "g = sns.catplot(\n",
    "    x=\"Product_Category_2\", y=\"Purchase\", kind=\"box\", data=data\n",
    ").set(title='Distribution of Purchase for Different Product Category 2')\n",
    "g.fig.set_size_inches(10, 6.5)"
   ]
  },
  {
   "cell_type": "markdown",
   "id": "b9da615e",
   "metadata": {},
   "source": [
    "### `Product_Category_3`"
   ]
  },
  {
   "cell_type": "code",
   "execution_count": 48,
   "id": "fd8082b9",
   "metadata": {},
   "outputs": [
    {
     "data": {
      "text/plain": [
       "0.6967265865311197"
      ]
     },
     "execution_count": 48,
     "metadata": {},
     "output_type": "execute_result"
    }
   ],
   "source": [
    "(data['Product_Category_3'].isna()).mean()"
   ]
  },
  {
   "cell_type": "code",
   "execution_count": 49,
   "id": "8102adf6",
   "metadata": {},
   "outputs": [
    {
     "data": {
      "text/plain": [
       "3.0       613\n",
       "4.0      1875\n",
       "5.0     16658\n",
       "6.0      4890\n",
       "8.0     12562\n",
       "9.0     11579\n",
       "10.0     1726\n",
       "11.0     1805\n",
       "12.0     9246\n",
       "13.0     5459\n",
       "14.0    18428\n",
       "15.0    28013\n",
       "16.0    32636\n",
       "17.0    16702\n",
       "18.0     4629\n",
       "Name: Product_Category_3, dtype: int64"
      ]
     },
     "execution_count": 49,
     "metadata": {},
     "output_type": "execute_result"
    }
   ],
   "source": [
    "data['Product_Category_3'].value_counts().sort_index()"
   ]
  },
  {
   "cell_type": "code",
   "execution_count": 50,
   "id": "58bc6012",
   "metadata": {},
   "outputs": [
    {
     "data": {
      "text/plain": [
       "<AxesSubplot:>"
      ]
     },
     "execution_count": 50,
     "metadata": {},
     "output_type": "execute_result"
    },
    {
     "data": {
      "image/png": "[encoded data removed]",
      "text/plain": [
       "<Figure size 432x288 with 1 Axes>"
      ]
     },
     "metadata": {
      "needs_background": "light"
     },
     "output_type": "display_data"
    }
   ],
   "source": [
    "data['Product_Category_3'].value_counts().sort_index().plot(kind='bar')"
   ]
  },
  {
   "cell_type": "code",
   "execution_count": 51,
   "id": "6671b42f",
   "metadata": {},
   "outputs": [],
   "source": [
    "# Set NA value to be category \"-1\"\n",
    "data.loc[data['Product_Category_3'].isna(),'Product_Category_3'] = -1"
   ]
  },
  {
   "cell_type": "code",
   "execution_count": 52,
   "id": "ebfb369c",
   "metadata": {},
   "outputs": [
    {
     "data": {
      "text/plain": [
       "<AxesSubplot:>"
      ]
     },
     "execution_count": 52,
     "metadata": {},
     "output_type": "execute_result"
    },
    {
     "data": {
      "image/png": "[encoded data removed]",
      "text/plain": [
       "<Figure size 432x288 with 1 Axes>"
      ]
     },
     "metadata": {
      "needs_background": "light"
     },
     "output_type": "display_data"
    }
   ],
   "source": [
    "data['Product_Category_3'].value_counts().sort_index().plot(kind='bar')"
   ]
  },
  {
   "cell_type": "code",
   "execution_count": 53,
   "id": "3d372773",
   "metadata": {},
   "outputs": [
    {
     "data": {
      "image/png": "[encoded data removed]",
      "text/plain": [
       "<Figure size 720x468 with 1 Axes>"
      ]
     },
     "metadata": {
      "needs_background": "light"
     },
     "output_type": "display_data"
    }
   ],
   "source": [
    "g = sns.catplot(\n",
    "    x=\"Product_Category_3\", y=\"Purchase\", kind=\"box\", data=data\n",
    ").set(title='Distribution of Purchase for Different Product Category 3')\n",
    "g.fig.set_size_inches(10, 6.5)"
   ]
  },
  {
   "cell_type": "markdown",
   "id": "c0c69433",
   "metadata": {},
   "source": [
    "### `Purchase`"
   ]
  },
  {
   "cell_type": "code",
   "execution_count": 8,
   "id": "a57facb7",
   "metadata": {},
   "outputs": [
    {
     "data": {
      "text/plain": [
       "count    550068.000000\n",
       "mean       9263.968713\n",
       "std        5023.065394\n",
       "min          12.000000\n",
       "25%        5823.000000\n",
       "50%        8047.000000\n",
       "75%       12054.000000\n",
       "max       23961.000000\n",
       "Name: Purchase, dtype: float64"
      ]
     },
     "execution_count": 8,
     "metadata": {},
     "output_type": "execute_result"
    }
   ],
   "source": [
    "data['Purchase'].describe()"
   ]
  },
  {
   "cell_type": "code",
   "execution_count": 9,
   "id": "8cdccaed",
   "metadata": {
    "scrolled": false
   },
   "outputs": [
    {
     "data": {
      "image/png": "[encoded data removed]",
      "text/plain": [
       "<Figure size 720x504 with 1 Axes>"
      ]
     },
     "metadata": {
      "needs_background": "light"
     },
     "output_type": "display_data"
    }
   ],
   "source": [
    "plt.figure(figsize=(10, 7))\n",
    "g = sns.histplot(data['Purchase'], kde=True).set(title='Distribution of Purchase')\n",
    "# Explanation of shape: the purchase amounts are pretty similar for the same product"
   ]
  },
  {
   "cell_type": "code",
   "execution_count": 10,
   "id": "71c2e345",
   "metadata": {},
   "outputs": [
    {
     "data": {
      "text/html": [
       "<div>\n",
       "<style scoped>\n",
       "    .dataframe tbody tr th:only-of-type {\n",
       "        vertical-align: middle;\n",
       "    }\n",
       "\n",
       "    .dataframe tbody tr th {\n",
       "        vertical-align: top;\n",
       "    }\n",
       "\n",
       "    .dataframe thead th {\n",
       "        text-align: right;\n",
       "    }\n",
       "</style>\n",
       "<table border=\"1\" class=\"dataframe\">\n",
       "  <thead>\n",
       "    <tr style=\"text-align: right;\">\n",
       "      <th></th>\n",
       "      <th>Gender</th>\n",
       "      <th>Age</th>\n",
       "      <th>Occupation</th>\n",
       "      <th>City_Category</th>\n",
       "      <th>Stay_In_Current_City_Years</th>\n",
       "      <th>Marital_Status</th>\n",
       "      <th>Product_Category_1</th>\n",
       "      <th>Product_Category_2</th>\n",
       "      <th>Product_Category_3</th>\n",
       "      <th>Purchase</th>\n",
       "    </tr>\n",
       "  </thead>\n",
       "  <tbody>\n",
       "    <tr>\n",
       "      <th>0</th>\n",
       "      <td>1</td>\n",
       "      <td>0</td>\n",
       "      <td>10</td>\n",
       "      <td>0</td>\n",
       "      <td>1</td>\n",
       "      <td>0</td>\n",
       "      <td>3</td>\n",
       "      <td>NaN</td>\n",
       "      <td>NaN</td>\n",
       "      <td>8370</td>\n",
       "    </tr>\n",
       "    <tr>\n",
       "      <th>1</th>\n",
       "      <td>1</td>\n",
       "      <td>0</td>\n",
       "      <td>10</td>\n",
       "      <td>0</td>\n",
       "      <td>1</td>\n",
       "      <td>0</td>\n",
       "      <td>1</td>\n",
       "      <td>6.0</td>\n",
       "      <td>14.0</td>\n",
       "      <td>15200</td>\n",
       "    </tr>\n",
       "    <tr>\n",
       "      <th>2</th>\n",
       "      <td>1</td>\n",
       "      <td>0</td>\n",
       "      <td>10</td>\n",
       "      <td>0</td>\n",
       "      <td>1</td>\n",
       "      <td>0</td>\n",
       "      <td>12</td>\n",
       "      <td>NaN</td>\n",
       "      <td>NaN</td>\n",
       "      <td>1422</td>\n",
       "    </tr>\n",
       "    <tr>\n",
       "      <th>3</th>\n",
       "      <td>1</td>\n",
       "      <td>0</td>\n",
       "      <td>10</td>\n",
       "      <td>0</td>\n",
       "      <td>1</td>\n",
       "      <td>0</td>\n",
       "      <td>12</td>\n",
       "      <td>14.0</td>\n",
       "      <td>NaN</td>\n",
       "      <td>1057</td>\n",
       "    </tr>\n",
       "    <tr>\n",
       "      <th>4</th>\n",
       "      <td>0</td>\n",
       "      <td>6</td>\n",
       "      <td>16</td>\n",
       "      <td>2</td>\n",
       "      <td>3</td>\n",
       "      <td>0</td>\n",
       "      <td>8</td>\n",
       "      <td>NaN</td>\n",
       "      <td>NaN</td>\n",
       "      <td>7969</td>\n",
       "    </tr>\n",
       "  </tbody>\n",
       "</table>\n",
       "</div>"
      ],
      "text/plain": [
       "   Gender  Age  Occupation  City_Category Stay_In_Current_City_Years  \\\n",
       "0       1    0          10              0                          1   \n",
       "1       1    0          10              0                          1   \n",
       "2       1    0          10              0                          1   \n",
       "3       1    0          10              0                          1   \n",
       "4       0    6          16              2                          3   \n",
       "\n",
       "   Marital_Status  Product_Category_1  Product_Category_2  Product_Category_3  \\\n",
       "0               0                   3                 NaN                 NaN   \n",
       "1               0                   1                 6.0                14.0   \n",
       "2               0                  12                 NaN                 NaN   \n",
       "3               0                  12                14.0                 NaN   \n",
       "4               0                   8                 NaN                 NaN   \n",
       "\n",
       "   Purchase  \n",
       "0      8370  \n",
       "1     15200  \n",
       "2      1422  \n",
       "3      1057  \n",
       "4      7969  "
      ]
     },
     "execution_count": 10,
     "metadata": {},
     "output_type": "execute_result"
    }
   ],
   "source": [
    "corr_data = data.copy()\n",
    "corr_data['Gender'].replace({'F':1, 'M':0}, inplace=True)\n",
    "corr_data['Age'].replace({'0-17':0, '18-25':1, '26-35':2, '36-45':3, '46-50':4, '51-55':5, '55+':6}, inplace=True)\n",
    "corr_data['City_Category'].replace({'A':0, 'B':1, 'C':2}, inplace=True)\n",
    "corr_data['Stay_In_Current_City_Years'].replace({'1': 0, '2':1, '3':2, '4+':3}, inplace=True)\n",
    "corr_data.drop(['User_ID', 'Product_ID'], axis=1, inplace=True)\n",
    "corr_data.head()"
   ]
  },
  {
   "cell_type": "code",
   "execution_count": 11,
   "id": "9aa9cdc9",
   "metadata": {},
   "outputs": [
    {
     "data": {
      "image/png": "[encoded data removed]",
      "text/plain": [
       "<Figure size 720x576 with 2 Axes>"
      ]
     },
     "metadata": {
      "needs_background": "light"
     },
     "output_type": "display_data"
    }
   ],
   "source": [
    "# Regular heatmap\n",
    "plt.figure(figsize=(10, 8))\n",
    "g = sns.heatmap(corr_data.corr(), cmap='RdGy').set(title='Correlation Heatmap')"
   ]
  },
  {
   "cell_type": "code",
   "execution_count": 12,
   "id": "ce8de184",
   "metadata": {},
   "outputs": [
    {
     "data": {
      "text/html": [
       "<div>\n",
       "<style scoped>\n",
       "    .dataframe tbody tr th:only-of-type {\n",
       "        vertical-align: middle;\n",
       "    }\n",
       "\n",
       "    .dataframe tbody tr th {\n",
       "        vertical-align: top;\n",
       "    }\n",
       "\n",
       "    .dataframe thead th {\n",
       "        text-align: right;\n",
       "    }\n",
       "</style>\n",
       "<table border=\"1\" class=\"dataframe\">\n",
       "  <thead>\n",
       "    <tr style=\"text-align: right;\">\n",
       "      <th></th>\n",
       "      <th>First Variable</th>\n",
       "      <th>Second Variable</th>\n",
       "      <th>Correlation</th>\n",
       "    </tr>\n",
       "  </thead>\n",
       "  <tbody>\n",
       "    <tr>\n",
       "      <th>0</th>\n",
       "      <td>Gender</td>\n",
       "      <td>Gender</td>\n",
       "      <td>1.000000</td>\n",
       "    </tr>\n",
       "    <tr>\n",
       "      <th>1</th>\n",
       "      <td>Gender</td>\n",
       "      <td>Age</td>\n",
       "      <td>0.004262</td>\n",
       "    </tr>\n",
       "    <tr>\n",
       "      <th>2</th>\n",
       "      <td>Gender</td>\n",
       "      <td>Occupation</td>\n",
       "      <td>-0.117291</td>\n",
       "    </tr>\n",
       "    <tr>\n",
       "      <th>3</th>\n",
       "      <td>Gender</td>\n",
       "      <td>City_Category</td>\n",
       "      <td>0.004515</td>\n",
       "    </tr>\n",
       "    <tr>\n",
       "      <th>4</th>\n",
       "      <td>Gender</td>\n",
       "      <td>Marital_Status</td>\n",
       "      <td>0.011603</td>\n",
       "    </tr>\n",
       "  </tbody>\n",
       "</table>\n",
       "</div>"
      ],
      "text/plain": [
       "  First Variable Second Variable  Correlation\n",
       "0         Gender          Gender     1.000000\n",
       "1         Gender             Age     0.004262\n",
       "2         Gender      Occupation    -0.117291\n",
       "3         Gender   City_Category     0.004515\n",
       "4         Gender  Marital_Status     0.011603"
      ]
     },
     "execution_count": 12,
     "metadata": {},
     "output_type": "execute_result"
    }
   ],
   "source": [
    "corr_df = (corr_data.corr()).stack().reset_index()\n",
    "corr_df.columns = ['First Variable', 'Second Variable', 'Correlation']\n",
    "corr_df.head()"
   ]
  },
  {
   "cell_type": "code",
   "execution_count": 13,
   "id": "b0fddd58",
   "metadata": {},
   "outputs": [
    {
     "data": {
      "text/html": [
       "\n",
       "<div id=\"altair-viz-c5bededa1af24957bca3f4b5707e1844\"></div>\n",
       "<script type=\"text/javascript\">\n",
       "  (function(spec, embedOpt){\n",
       "    let outputDiv = document.currentScript.previousElementSibling;\n",
       "    if (outputDiv.id !== \"altair-viz-c5bededa1af24957bca3f4b5707e1844\") {\n",
       "      outputDiv = document.getElementById(\"altair-viz-c5bededa1af24957bca3f4b5707e1844\");\n",
       "    }\n",
       "    const paths = {\n",
       "      \"vega\": \"https://cdn.jsdelivr.net/npm//vega@5?noext\",\n",
       "      \"vega-lib\": \"https://cdn.jsdelivr.net/npm//vega-lib?noext\",\n",
       "      \"vega-lite\": \"https://cdn.jsdelivr.net/npm//vega-lite@4.8.1?noext\",\n",
       "      \"vega-embed\": \"https://cdn.jsdelivr.net/npm//vega-embed@6?noext\",\n",
       "    };\n",
       "\n",
       "    function loadScript(lib) {\n",
       "      return new Promise(function(resolve, reject) {\n",
       "        var s = document.createElement('script');\n",
       "        s.src = paths[lib];\n",
       "        s.async = true;\n",
       "        s.onload = () => resolve(paths[lib]);\n",
       "        s.onerror = () => reject(`Error loading script: ${paths[lib]}`);\n",
       "        document.getElementsByTagName(\"head\")[0].appendChild(s);\n",
       "      });\n",
       "    }\n",
       "\n",
       "    function showError(err) {\n",
       "      outputDiv.innerHTML = `<div class=\"error\" style=\"color:red;\">${err}</div>`;\n",
       "      throw err;\n",
       "    }\n",
       "\n",
       "    function displayChart(vegaEmbed) {\n",
       "      vegaEmbed(outputDiv, spec, embedOpt)\n",
       "        .catch(err => showError(`Javascript Error: ${err.message}<br>This usually means there's a typo in your chart specification. See the javascript console for the full traceback.`));\n",
       "    }\n",
       "\n",
       "    if(typeof define === \"function\" && define.amd) {\n",
       "      requirejs.config({paths});\n",
       "      require([\"vega-embed\"], displayChart, err => showError(`Error loading script: ${err.message}`));\n",
       "    } else if (typeof vegaEmbed === \"function\") {\n",
       "      displayChart(vegaEmbed);\n",
       "    } else {\n",
       "      loadScript(\"vega\")\n",
       "        .then(() => loadScript(\"vega-lite\"))\n",
       "        .then(() => loadScript(\"vega-embed\"))\n",
       "        .catch(showError)\n",
       "        .then(() => displayChart(vegaEmbed));\n",
       "    }\n",
       "  })({\"config\": {\"view\": {\"continuousWidth\": 400, \"continuousHeight\": 300}}, \"data\": {\"name\": \"data-f35435490ed382920fd8f6aa27a44b16\"}, \"mark\": \"rect\", \"encoding\": {\"color\": {\"type\": \"quantitative\", \"field\": \"Correlation\"}, \"tooltip\": [{\"type\": \"nominal\", \"field\": \"First Variable\"}, {\"type\": \"nominal\", \"field\": \"Second Variable\"}, {\"type\": \"quantitative\", \"field\": \"Correlation\"}], \"x\": {\"type\": \"nominal\", \"field\": \"First Variable\"}, \"y\": {\"type\": \"nominal\", \"field\": \"Second Variable\"}}, \"height\": 400, \"width\": 400, \"$schema\": \"https://vega.github.io/schema/vega-lite/v4.8.1.json\", \"datasets\": {\"data-f35435490ed382920fd8f6aa27a44b16\": [{\"First Variable\": \"Gender\", \"Second Variable\": \"Gender\", \"Correlation\": 1.0}, {\"First Variable\": \"Gender\", \"Second Variable\": \"Age\", \"Correlation\": 0.004261997943401611}, {\"First Variable\": \"Gender\", \"Second Variable\": \"Occupation\", \"Correlation\": -0.11729098019669704}, {\"First Variable\": \"Gender\", \"Second Variable\": \"City_Category\", \"Correlation\": 0.004514742215584961}, {\"First Variable\": \"Gender\", \"Second Variable\": \"Marital_Status\", \"Correlation\": 0.011603156298394859}, {\"First Variable\": \"Gender\", \"Second Variable\": \"Product_Category_1\", \"Correlation\": 0.045594242946463186}, {\"First Variable\": \"Gender\", \"Second Variable\": \"Product_Category_2\", \"Correlation\": 0.018590973119225758}, {\"First Variable\": \"Gender\", \"Second Variable\": \"Product_Category_3\", \"Correlation\": -0.02806918219174762}, {\"First Variable\": \"Gender\", \"Second Variable\": \"Purchase\", \"Correlation\": -0.060345684419582}, {\"First Variable\": \"Age\", \"Second Variable\": \"Gender\", \"Correlation\": 0.004261997943401611}, {\"First Variable\": \"Age\", \"Second Variable\": \"Age\", \"Correlation\": 1.0}, {\"First Variable\": \"Age\", \"Second Variable\": \"Occupation\", \"Correlation\": 0.09146315018013462}, {\"First Variable\": \"Age\", \"Second Variable\": \"City_Category\", \"Correlation\": 0.1230792441506682}, {\"First Variable\": \"Age\", \"Second Variable\": \"Marital_Status\", \"Correlation\": 0.31173839950069276}, {\"First Variable\": \"Age\", \"Second Variable\": \"Product_Category_1\", \"Correlation\": 0.06119713152231776}, {\"First Variable\": \"Age\", \"Second Variable\": \"Product_Category_2\", \"Correlation\": 0.05487740675724507}, {\"First Variable\": \"Age\", \"Second Variable\": \"Product_Category_3\", \"Correlation\": 0.057345630433036344}, {\"First Variable\": \"Age\", \"Second Variable\": \"Purchase\", \"Correlation\": 0.01583859049632766}, {\"First Variable\": \"Occupation\", \"Second Variable\": \"Gender\", \"Correlation\": -0.11729098019669704}, {\"First Variable\": \"Occupation\", \"Second Variable\": \"Age\", \"Correlation\": 0.09146315018013462}, {\"First Variable\": \"Occupation\", \"Second Variable\": \"Occupation\", \"Correlation\": 1.0}, {\"First Variable\": \"Occupation\", \"Second Variable\": \"City_Category\", \"Correlation\": 0.03447874143045108}, {\"First Variable\": \"Occupation\", \"Second Variable\": \"Marital_Status\", \"Correlation\": 0.024279961092982357}, {\"First Variable\": \"Occupation\", \"Second Variable\": \"Product_Category_1\", \"Correlation\": -0.007617559736872063}, {\"First Variable\": \"Occupation\", \"Second Variable\": \"Product_Category_2\", \"Correlation\": -0.00038384065852513924}, {\"First Variable\": \"Occupation\", \"Second Variable\": \"Product_Category_3\", \"Correlation\": 0.013262947887378501}, {\"First Variable\": \"Occupation\", \"Second Variable\": \"Purchase\", \"Correlation\": 0.02083261692461265}, {\"First Variable\": \"City_Category\", \"Second Variable\": \"Gender\", \"Correlation\": 0.004514742215584961}, {\"First Variable\": \"City_Category\", \"Second Variable\": \"Age\", \"Correlation\": 0.1230792441506682}, {\"First Variable\": \"City_Category\", \"Second Variable\": \"Occupation\", \"Correlation\": 0.03447874143045108}, {\"First Variable\": \"City_Category\", \"Second Variable\": \"City_Category\", \"Correlation\": 1.0}, {\"First Variable\": \"City_Category\", \"Second Variable\": \"Marital_Status\", \"Correlation\": 0.03979046776428141}, {\"First Variable\": \"City_Category\", \"Second Variable\": \"Product_Category_1\", \"Correlation\": -0.014364067176999602}, {\"First Variable\": \"City_Category\", \"Second Variable\": \"Product_Category_2\", \"Correlation\": -0.011821723690749176}, {\"First Variable\": \"City_Category\", \"Second Variable\": \"Product_Category_3\", \"Correlation\": -0.002347007129399966}, {\"First Variable\": \"City_Category\", \"Second Variable\": \"Purchase\", \"Correlation\": 0.06191417045949804}, {\"First Variable\": \"Marital_Status\", \"Second Variable\": \"Gender\", \"Correlation\": 0.011603156298394859}, {\"First Variable\": \"Marital_Status\", \"Second Variable\": \"Age\", \"Correlation\": 0.31173839950069276}, {\"First Variable\": \"Marital_Status\", \"Second Variable\": \"Occupation\", \"Correlation\": 0.024279961092982357}, {\"First Variable\": \"Marital_Status\", \"Second Variable\": \"City_Category\", \"Correlation\": 0.03979046776428141}, {\"First Variable\": \"Marital_Status\", \"Second Variable\": \"Marital_Status\", \"Correlation\": 1.0}, {\"First Variable\": \"Marital_Status\", \"Second Variable\": \"Product_Category_1\", \"Correlation\": 0.019887854200058883}, {\"First Variable\": \"Marital_Status\", \"Second Variable\": \"Product_Category_2\", \"Correlation\": 0.015138306776113419}, {\"First Variable\": \"Marital_Status\", \"Second Variable\": \"Product_Category_3\", \"Correlation\": 0.01947263609687476}, {\"First Variable\": \"Marital_Status\", \"Second Variable\": \"Purchase\", \"Correlation\": -0.0004633764197592723}, {\"First Variable\": \"Product_Category_1\", \"Second Variable\": \"Gender\", \"Correlation\": 0.045594242946463186}, {\"First Variable\": \"Product_Category_1\", \"Second Variable\": \"Age\", \"Correlation\": 0.06119713152231776}, {\"First Variable\": \"Product_Category_1\", \"Second Variable\": \"Occupation\", \"Correlation\": -0.007617559736872063}, {\"First Variable\": \"Product_Category_1\", \"Second Variable\": \"City_Category\", \"Correlation\": -0.014364067176999602}, {\"First Variable\": \"Product_Category_1\", \"Second Variable\": \"Marital_Status\", \"Correlation\": 0.019887854200058883}, {\"First Variable\": \"Product_Category_1\", \"Second Variable\": \"Product_Category_1\", \"Correlation\": 1.0}, {\"First Variable\": \"Product_Category_1\", \"Second Variable\": \"Product_Category_2\", \"Correlation\": 0.5405825912768474}, {\"First Variable\": \"Product_Category_1\", \"Second Variable\": \"Product_Category_3\", \"Correlation\": 0.22967819200650014}, {\"First Variable\": \"Product_Category_1\", \"Second Variable\": \"Purchase\", \"Correlation\": -0.343703345919912}, {\"First Variable\": \"Product_Category_2\", \"Second Variable\": \"Gender\", \"Correlation\": 0.018590973119225758}, {\"First Variable\": \"Product_Category_2\", \"Second Variable\": \"Age\", \"Correlation\": 0.05487740675724507}, {\"First Variable\": \"Product_Category_2\", \"Second Variable\": \"Occupation\", \"Correlation\": -0.00038384065852513924}, {\"First Variable\": \"Product_Category_2\", \"Second Variable\": \"City_Category\", \"Correlation\": -0.011821723690749176}, {\"First Variable\": \"Product_Category_2\", \"Second Variable\": \"Marital_Status\", \"Correlation\": 0.015138306776113419}, {\"First Variable\": \"Product_Category_2\", \"Second Variable\": \"Product_Category_1\", \"Correlation\": 0.5405825912768474}, {\"First Variable\": \"Product_Category_2\", \"Second Variable\": \"Product_Category_2\", \"Correlation\": 1.0}, {\"First Variable\": \"Product_Category_2\", \"Second Variable\": \"Product_Category_3\", \"Correlation\": 0.5436487960705354}, {\"First Variable\": \"Product_Category_2\", \"Second Variable\": \"Purchase\", \"Correlation\": -0.2099184852441264}, {\"First Variable\": \"Product_Category_3\", \"Second Variable\": \"Gender\", \"Correlation\": -0.02806918219174762}, {\"First Variable\": \"Product_Category_3\", \"Second Variable\": \"Age\", \"Correlation\": 0.057345630433036344}, {\"First Variable\": \"Product_Category_3\", \"Second Variable\": \"Occupation\", \"Correlation\": 0.013262947887378501}, {\"First Variable\": \"Product_Category_3\", \"Second Variable\": \"City_Category\", \"Correlation\": -0.002347007129399966}, {\"First Variable\": \"Product_Category_3\", \"Second Variable\": \"Marital_Status\", \"Correlation\": 0.01947263609687476}, {\"First Variable\": \"Product_Category_3\", \"Second Variable\": \"Product_Category_1\", \"Correlation\": 0.22967819200650014}, {\"First Variable\": \"Product_Category_3\", \"Second Variable\": \"Product_Category_2\", \"Correlation\": 0.5436487960705354}, {\"First Variable\": \"Product_Category_3\", \"Second Variable\": \"Product_Category_3\", \"Correlation\": 1.0}, {\"First Variable\": \"Product_Category_3\", \"Second Variable\": \"Purchase\", \"Correlation\": -0.0220057255643561}, {\"First Variable\": \"Purchase\", \"Second Variable\": \"Gender\", \"Correlation\": -0.060345684419582}, {\"First Variable\": \"Purchase\", \"Second Variable\": \"Age\", \"Correlation\": 0.01583859049632766}, {\"First Variable\": \"Purchase\", \"Second Variable\": \"Occupation\", \"Correlation\": 0.02083261692461265}, {\"First Variable\": \"Purchase\", \"Second Variable\": \"City_Category\", \"Correlation\": 0.06191417045949804}, {\"First Variable\": \"Purchase\", \"Second Variable\": \"Marital_Status\", \"Correlation\": -0.0004633764197592723}, {\"First Variable\": \"Purchase\", \"Second Variable\": \"Product_Category_1\", \"Correlation\": -0.343703345919912}, {\"First Variable\": \"Purchase\", \"Second Variable\": \"Product_Category_2\", \"Correlation\": -0.2099184852441264}, {\"First Variable\": \"Purchase\", \"Second Variable\": \"Product_Category_3\", \"Correlation\": -0.0220057255643561}, {\"First Variable\": \"Purchase\", \"Second Variable\": \"Purchase\", \"Correlation\": 1.0}]}}, {\"mode\": \"vega-lite\"});\n",
       "</script>"
      ],
      "text/plain": [
       "alt.Chart(...)"
      ]
     },
     "execution_count": 13,
     "metadata": {},
     "output_type": "execute_result"
    }
   ],
   "source": [
    "# Heatmap with tooltip\n",
    "alt.Chart(corr_df).mark_rect().encode(\n",
    "    x=\"First Variable\",\n",
    "    y=\"Second Variable\",\n",
    "    color=\"Correlation\",\n",
    "    tooltip = [\"First Variable\", \"Second Variable\", \"Correlation\"]\n",
    ").properties(width=400, height=400)"
   ]
  },
  {
   "cell_type": "markdown",
   "id": "44d0f75f",
   "metadata": {},
   "source": [
    "# Baseline Model"
   ]
  },
  {
   "cell_type": "code",
   "execution_count": null,
   "id": "f781c691",
   "metadata": {},
   "outputs": [],
   "source": [
    "# # Data preprocessing\n",
    "# data.drop(['User_ID', 'Product_ID'], axis=1, inplace=True)\n",
    "# data['Gender'].replace({'F':1, 'M':0}, inplace=True)\n",
    "# data.loc[data['Product_Category_2'].isna(),'Product_Category_2'] = -1\n",
    "# data.loc[data['Product_Category_3'].isna(),'Product_Category_3'] = -1\n",
    "# data = pd.get_dummies(data, columns=['Age', 'Occupation', 'City_Category', 'Stay_In_Current_City_Years', \n",
    "#                               'Product_Category_1', 'Product_Category_2', 'Product_Category_3'])\n",
    "# data"
   ]
  },
  {
   "cell_type": "code",
   "execution_count": null,
   "id": "189bc2a3",
   "metadata": {},
   "outputs": [],
   "source": [
    "# X = data.drop('Purchase', axis=1)\n",
    "# y = data['Purchase']"
   ]
  },
  {
   "cell_type": "code",
   "execution_count": null,
   "id": "ebfa5682",
   "metadata": {},
   "outputs": [],
   "source": [
    "# # Train the model\n",
    "# from sklearn.linear_model import LinearRegression\n",
    "# from sklearn.ensemble import RandomForestRegressor\n",
    "# model = RandomForestRegressor()\n",
    "# model.fit(X, y)"
   ]
  },
  {
   "cell_type": "code",
   "execution_count": null,
   "id": "81f3fc55",
   "metadata": {},
   "outputs": [],
   "source": [
    "# # Data preprocessing for test set\n",
    "# test_user_id = test['User_ID']\n",
    "# test_product_id = test['Product_ID']\n",
    "# #prediction_df = test[['User_ID', 'Product_ID']]\n",
    "# test.drop(['User_ID', 'Product_ID'], axis=1, inplace=True)\n",
    "# test['Gender'].replace({'F':1, 'M':0}, inplace=True)\n",
    "# test.loc[test['Product_Category_2'].isna(),'Product_Category_2'] = -1\n",
    "# test.loc[test['Product_Category_3'].isna(),'Product_Category_3'] = -1\n",
    "# test = pd.get_dummies(test, columns=['Age', 'Occupation', 'City_Category', 'Stay_In_Current_City_Years', \n",
    "#                               'Product_Category_1', 'Product_Category_2', 'Product_Category_3'])\n",
    "# test"
   ]
  },
  {
   "cell_type": "code",
   "execution_count": null,
   "id": "1c0b1e66",
   "metadata": {},
   "outputs": [],
   "source": [
    "# set(X.columns) - set(test.columns)"
   ]
  },
  {
   "cell_type": "code",
   "execution_count": null,
   "id": "f8b2dca1",
   "metadata": {},
   "outputs": [],
   "source": [
    "# test['Product_Category_1_19'] = 0\n",
    "# test['Product_Category_1_20'] = 0"
   ]
  },
  {
   "cell_type": "code",
   "execution_count": null,
   "id": "1c5d0398",
   "metadata": {},
   "outputs": [],
   "source": [
    "# # Make Prediction\n",
    "# prediction = model.predict(test)"
   ]
  },
  {
   "cell_type": "code",
   "execution_count": null,
   "id": "5efa914b",
   "metadata": {},
   "outputs": [],
   "source": [
    "# prediction_df = pd.DataFrame({\n",
    "#     'Purchase': prediction,\n",
    "#     'User_ID': test_user_id,\n",
    "#     'Product_ID': test_product_id\n",
    "# })\n",
    "# prediction_df.head()"
   ]
  },
  {
   "cell_type": "code",
   "execution_count": null,
   "id": "76a44ca1",
   "metadata": {},
   "outputs": [],
   "source": [
    "# prediction_df.to_csv('1.csv')"
   ]
  },
  {
   "cell_type": "markdown",
   "id": "edc3b1b9",
   "metadata": {},
   "source": [
    "# Data Preprocessing"
   ]
  },
  {
   "cell_type": "markdown",
   "id": "b0f5c170",
   "metadata": {},
   "source": [
    "### Features to be added:\n",
    "1. **Mean/Min/Max/25%/75% purchase amount of this product**; If product_ID not in train set, use the mean purchase amount for all products in that cateogry\n",
    "    - 3491 products in test set, 62 products not in train set\n",
    "2. **Mean purchase amount of this person**; \n",
    "    - `len(set(train['User_ID']).intersection(set(test['User_ID']))) == len(set(test['User_ID']))`\n",
    "3. **Count of each product ID**; if product_Id not in train set, fill in 0."
   ]
  },
  {
   "cell_type": "markdown",
   "id": "c87f9e24",
   "metadata": {},
   "source": [
    "### Original Features:\n",
    "1. `User_ID`, keeps to match the median purchase amount of this person\n",
    "2. `Product_ID`, keeps to identiy the median purchase amount of this product\n",
    "3. `Gender`, one-hot\n",
    "4. `Age`, ordinal encoding\n",
    "5. `Occupation`, one-hot\n",
    "6. `City_Category`, one-hot\n",
    "7. `Stay_In_Current_City_Years`, ordinal encoding\n",
    "8. `Marital_Status`, leave it like this\n",
    "9. `Product_Category_1`, one-hot\n",
    "10. `Product_Cateogry_2`, binary variable \n",
    "11. `Product_Category_3`, binary variable "
   ]
  },
  {
   "cell_type": "code",
   "execution_count": 71,
   "id": "afb99362",
   "metadata": {},
   "outputs": [],
   "source": [
    "# from collections import defaultdict\n",
    "# median_purchase = train['Purchase'].median()\n",
    "# product_purchase_dd = defaultdict(lambda: median_purchase) # default dict\n",
    "\n",
    "\n",
    "# Create dicts for later mapping\n",
    "product_purchase_d = train.groupby(['Product_ID'])['Purchase'].mean().to_dict() \n",
    "        # Mean purchase based on Product ID\n",
    "purchase_1category_d = train.groupby(['Product_Category_1'])['Purchase'].mean().to_dict() \n",
    "        # Mean purchase based on Product Category\n",
    "product_age_purchase_d = train.groupby(['Product_ID', 'Occupation'])['Purchase'].mean().to_dict()\n",
    "        # Mean purchase based on Product ID and Age\n",
    "user_purchase_d = train.groupby(['User_ID'])['Purchase'].mean().to_dict()\n",
    "        # Mean purchase based on User ID\n",
    "# product_purchase_sd_d = train.groupby(['Product_ID'])['Purchase'].std().to_dict()\n",
    "# purchase_1category_std_d = train.groupby(['Product_Category_1'])['Purchase'].std().to_dict() \n",
    "product_purchase_25_d = train.groupby(['Product_ID'])['Purchase'].quantile(.25).to_dict() \n",
    "product_purchase_75_d = train.groupby(['Product_ID'])['Purchase'].quantile(.75).to_dict() \n",
    "purchase_1category_25_d = train.groupby(['Product_Category_1'])['Purchase'].quantile(.25).to_dict() \n",
    "purchase_1category_75_d = train.groupby(['Product_Category_1'])['Purchase'].quantile(.75).to_dict()\n",
    "product_purchase_min_d = train.groupby(['Product_ID'])['Purchase'].min().to_dict() \n",
    "product_purchase_max_d = train.groupby(['Product_ID'])['Purchase'].max().to_dict() \n",
    "purchase_1category_min_d = train.groupby(['Product_Category_1'])['Purchase'].min().to_dict() \n",
    "purchase_1category_max_d = train.groupby(['Product_Category_1'])['Purchase'].max().to_dict() \n",
    "product_purchase_count_d = train.groupby(['Product_ID'])['Purchase'].count().to_dict() \n",
    "\n",
    "def prepare_data(train):\n",
    "\n",
    "    ######## New Feature: Mean_Product_Purchase ########\n",
    "    \n",
    "    # Mean purchase amount based on product ID\n",
    "    train['Mean_Product_Purchase'] = train['Product_ID'].map(product_purchase_d)\n",
    "    \n",
    "    # If Product ID not found, use mean purchase amount based on Category 1\n",
    "    train['Mean_Product_Purchase'].fillna(train['Product_Category_1'].map(purchase_1category_d), \n",
    "                                          inplace=True)\n",
    "    \n",
    "    ######## New Feature: Median_User_Purchase ########\n",
    "    train['Mean_User_Purchase'] = train['User_ID'].map(user_purchase_d)\n",
    "    \n",
    "    ######## New Feature: Mean_Product_Age_Purchase ########\n",
    "#     mean_product_age_purchase = list(train.set_index(['Product_ID', 'Occupation']).index.map(product_age_purchase_d))\n",
    "#     train['Mean_Product_Age_Purchase'] = mean_product_age_purchase\n",
    "#     train['Mean_Product_Age_Purchase'].fillna(train['Mean_Product_Purchase'], inplace=True)\n",
    "    \n",
    "#     train.drop(['Mean_Product_Purchase'], axis=1, inplace=True)\n",
    "    \n",
    "#     ####### New Feature: SD_Product_Purchase #########\n",
    "#     train['Std_Product_Purchase'] = train['Product_ID'].map(product_purchase_sd_d)\n",
    "#     train['Std_Product_Purchase'].fillna(train['Product_Category_1'].map(purchase_1category_std_d), \n",
    "#                                           inplace=True)\n",
    "    \n",
    "    ######## New Feature: FirstQ_Product_Purchase ########\n",
    "    train['FirstQ_Product_Purchase'] = train['Product_ID'].map(product_purchase_25_d)\n",
    "    train['FirstQ_Product_Purchase'].fillna(train['Product_Category_1'].map(purchase_1category_25_d), \n",
    "                                          inplace=True)\n",
    "    \n",
    "    ######## New Feature: ThirdQ_Product_Purchase ########\n",
    "    train['FirstQ_Product_Purchase'] = train['Product_ID'].map(product_purchase_75_d)\n",
    "    train['FirstQ_Product_Purchase'].fillna(train['Product_Category_1'].map(purchase_1category_75_d), \n",
    "                                          inplace=True)    \n",
    "    \n",
    "    ######## New Feature: Min_Product_Purchase ########\n",
    "    train['Min_Product_Purchase'] = train['Product_ID'].map(product_purchase_min_d)\n",
    "    train['Min_Product_Purchase'].fillna(train['Product_Category_1'].map(purchase_1category_min_d), \n",
    "                                          inplace=True)  \n",
    "    \n",
    "    ######## New Feature: Max_Product_Purchase ########\n",
    "    train['Max_Product_Purchase'] = train['Product_ID'].map(product_purchase_max_d)\n",
    "    train['Max_Product_Purchase'].fillna(train['Product_Category_1'].map(purchase_1category_max_d), \n",
    "                                          inplace=True)  \n",
    "    ######## New Feature: Max_Product_Purchase ########\n",
    "    train['Count_Product_Purchase'] = train['Product_ID'].map(product_purchase_count_d)\n",
    "    train['Count_Product_Purchase'].fillna(0, inplace=True)     \n",
    "    # Process original features\n",
    "    train = pd.get_dummies(train, columns=['Occupation', 'City_Category', 'Product_Category_1'])\n",
    "    train['Gender'] = train['Gender'].replace({'F': 1, 'M': 0})\n",
    "    train['Age'] = train['Age'].replace({'0-17': 0, '18-25': 1, '26-35': 2, '36-45': 3, \n",
    "                                         '46-50': 4, '51-55': 5, '55+': 6})\n",
    "    train['Stay_In_Current_City_Years'] = train['Stay_In_Current_City_Years'].replace({'0': 0, '1': 1, '2': 2, \n",
    "                                                                                       '3': 3, '4+': 4})\n",
    "    train['Product_Category_2'] = train['Product_Category_2'].isna()\n",
    "    train['Product_Category_3'] = train['Product_Category_3'].isna()\n",
    "    \n",
    "    return train"
   ]
  },
  {
   "cell_type": "markdown",
   "id": "a4877cd5",
   "metadata": {},
   "source": [
    "# Model Selection"
   ]
  },
  {
   "cell_type": "code",
   "execution_count": 68,
   "id": "9c34cfe0",
   "metadata": {},
   "outputs": [],
   "source": [
    "# Split into train and validation set\n",
    "from sklearn.model_selection import train_test_split\n",
    "train, validation = train_test_split(train, test_size = 0.25)"
   ]
  },
  {
   "cell_type": "code",
   "execution_count": 69,
   "id": "5bc80db8",
   "metadata": {},
   "outputs": [],
   "source": [
    "# train_: train set used in this section \n",
    "# validation: validation set used in this section "
   ]
  },
  {
   "cell_type": "code",
   "execution_count": 72,
   "id": "6f965e1b",
   "metadata": {},
   "outputs": [],
   "source": [
    "# Preprocess training set\n",
    "train_ = prepare_data(train)\n",
    "train_X = train_.drop(['Purchase', 'User_ID', 'Product_ID'], axis=1)\n",
    "train_y = train_['Purchase']\n",
    "\n",
    "# Preprocess validation set\n",
    "validation_ = prepare_data(validation)\n",
    "validation_X = validation_.drop(['Purchase', 'User_ID', 'Product_ID'], axis=1)\n",
    "validation_y = validation_['Purchase']"
   ]
  },
  {
   "cell_type": "code",
   "execution_count": 73,
   "id": "89d6724a",
   "metadata": {},
   "outputs": [
    {
     "data": {
      "text/html": [
       "<div>\n",
       "<style scoped>\n",
       "    .dataframe tbody tr th:only-of-type {\n",
       "        vertical-align: middle;\n",
       "    }\n",
       "\n",
       "    .dataframe tbody tr th {\n",
       "        vertical-align: top;\n",
       "    }\n",
       "\n",
       "    .dataframe thead th {\n",
       "        text-align: right;\n",
       "    }\n",
       "</style>\n",
       "<table border=\"1\" class=\"dataframe\">\n",
       "  <thead>\n",
       "    <tr style=\"text-align: right;\">\n",
       "      <th></th>\n",
       "      <th>Gender</th>\n",
       "      <th>Age</th>\n",
       "      <th>Stay_In_Current_City_Years</th>\n",
       "      <th>Marital_Status</th>\n",
       "      <th>Product_Category_2</th>\n",
       "      <th>Product_Category_3</th>\n",
       "      <th>Mean_Product_Purchase</th>\n",
       "      <th>Mean_User_Purchase</th>\n",
       "      <th>FirstQ_Product_Purchase</th>\n",
       "      <th>Min_Product_Purchase</th>\n",
       "      <th>...</th>\n",
       "      <th>Product_Category_1_11</th>\n",
       "      <th>Product_Category_1_12</th>\n",
       "      <th>Product_Category_1_13</th>\n",
       "      <th>Product_Category_1_14</th>\n",
       "      <th>Product_Category_1_15</th>\n",
       "      <th>Product_Category_1_16</th>\n",
       "      <th>Product_Category_1_17</th>\n",
       "      <th>Product_Category_1_18</th>\n",
       "      <th>Product_Category_1_19</th>\n",
       "      <th>Product_Category_1_20</th>\n",
       "    </tr>\n",
       "  </thead>\n",
       "  <tbody>\n",
       "    <tr>\n",
       "      <th>339811</th>\n",
       "      <td>0</td>\n",
       "      <td>3</td>\n",
       "      <td>4</td>\n",
       "      <td>1</td>\n",
       "      <td>False</td>\n",
       "      <td>False</td>\n",
       "      <td>14773.146965</td>\n",
       "      <td>9797.880597</td>\n",
       "      <td>18988.00</td>\n",
       "      <td>3939</td>\n",
       "      <td>...</td>\n",
       "      <td>0</td>\n",
       "      <td>0</td>\n",
       "      <td>0</td>\n",
       "      <td>0</td>\n",
       "      <td>0</td>\n",
       "      <td>0</td>\n",
       "      <td>0</td>\n",
       "      <td>0</td>\n",
       "      <td>0</td>\n",
       "      <td>0</td>\n",
       "    </tr>\n",
       "    <tr>\n",
       "      <th>225761</th>\n",
       "      <td>0</td>\n",
       "      <td>4</td>\n",
       "      <td>1</td>\n",
       "      <td>1</td>\n",
       "      <td>True</td>\n",
       "      <td>True</td>\n",
       "      <td>1372.984000</td>\n",
       "      <td>10015.821656</td>\n",
       "      <td>1730.00</td>\n",
       "      <td>343</td>\n",
       "      <td>...</td>\n",
       "      <td>0</td>\n",
       "      <td>1</td>\n",
       "      <td>0</td>\n",
       "      <td>0</td>\n",
       "      <td>0</td>\n",
       "      <td>0</td>\n",
       "      <td>0</td>\n",
       "      <td>0</td>\n",
       "      <td>0</td>\n",
       "      <td>0</td>\n",
       "    </tr>\n",
       "    <tr>\n",
       "      <th>250039</th>\n",
       "      <td>0</td>\n",
       "      <td>4</td>\n",
       "      <td>1</td>\n",
       "      <td>0</td>\n",
       "      <td>True</td>\n",
       "      <td>True</td>\n",
       "      <td>16540.921569</td>\n",
       "      <td>9067.702614</td>\n",
       "      <td>20512.50</td>\n",
       "      <td>4605</td>\n",
       "      <td>...</td>\n",
       "      <td>0</td>\n",
       "      <td>0</td>\n",
       "      <td>0</td>\n",
       "      <td>0</td>\n",
       "      <td>0</td>\n",
       "      <td>0</td>\n",
       "      <td>0</td>\n",
       "      <td>0</td>\n",
       "      <td>0</td>\n",
       "      <td>0</td>\n",
       "    </tr>\n",
       "    <tr>\n",
       "      <th>447181</th>\n",
       "      <td>0</td>\n",
       "      <td>2</td>\n",
       "      <td>0</td>\n",
       "      <td>1</td>\n",
       "      <td>False</td>\n",
       "      <td>False</td>\n",
       "      <td>14747.010490</td>\n",
       "      <td>11651.921569</td>\n",
       "      <td>18980.00</td>\n",
       "      <td>3823</td>\n",
       "      <td>...</td>\n",
       "      <td>0</td>\n",
       "      <td>0</td>\n",
       "      <td>0</td>\n",
       "      <td>0</td>\n",
       "      <td>0</td>\n",
       "      <td>0</td>\n",
       "      <td>0</td>\n",
       "      <td>0</td>\n",
       "      <td>0</td>\n",
       "      <td>0</td>\n",
       "    </tr>\n",
       "    <tr>\n",
       "      <th>379018</th>\n",
       "      <td>0</td>\n",
       "      <td>2</td>\n",
       "      <td>4</td>\n",
       "      <td>0</td>\n",
       "      <td>False</td>\n",
       "      <td>True</td>\n",
       "      <td>13802.713198</td>\n",
       "      <td>8697.130435</td>\n",
       "      <td>15690.75</td>\n",
       "      <td>3836</td>\n",
       "      <td>...</td>\n",
       "      <td>0</td>\n",
       "      <td>0</td>\n",
       "      <td>0</td>\n",
       "      <td>0</td>\n",
       "      <td>0</td>\n",
       "      <td>0</td>\n",
       "      <td>0</td>\n",
       "      <td>0</td>\n",
       "      <td>0</td>\n",
       "      <td>0</td>\n",
       "    </tr>\n",
       "  </tbody>\n",
       "</table>\n",
       "<p>5 rows × 56 columns</p>\n",
       "</div>"
      ],
      "text/plain": [
       "        Gender  Age  Stay_In_Current_City_Years  Marital_Status  \\\n",
       "339811       0    3                           4               1   \n",
       "225761       0    4                           1               1   \n",
       "250039       0    4                           1               0   \n",
       "447181       0    2                           0               1   \n",
       "379018       0    2                           4               0   \n",
       "\n",
       "        Product_Category_2  Product_Category_3  Mean_Product_Purchase  \\\n",
       "339811               False               False           14773.146965   \n",
       "225761                True                True            1372.984000   \n",
       "250039                True                True           16540.921569   \n",
       "447181               False               False           14747.010490   \n",
       "379018               False                True           13802.713198   \n",
       "\n",
       "        Mean_User_Purchase  FirstQ_Product_Purchase  Min_Product_Purchase  \\\n",
       "339811         9797.880597                 18988.00                  3939   \n",
       "225761        10015.821656                  1730.00                   343   \n",
       "250039         9067.702614                 20512.50                  4605   \n",
       "447181        11651.921569                 18980.00                  3823   \n",
       "379018         8697.130435                 15690.75                  3836   \n",
       "\n",
       "        ...  Product_Category_1_11  Product_Category_1_12  \\\n",
       "339811  ...                      0                      0   \n",
       "225761  ...                      0                      1   \n",
       "250039  ...                      0                      0   \n",
       "447181  ...                      0                      0   \n",
       "379018  ...                      0                      0   \n",
       "\n",
       "        Product_Category_1_13  Product_Category_1_14  Product_Category_1_15  \\\n",
       "339811                      0                      0                      0   \n",
       "225761                      0                      0                      0   \n",
       "250039                      0                      0                      0   \n",
       "447181                      0                      0                      0   \n",
       "379018                      0                      0                      0   \n",
       "\n",
       "        Product_Category_1_16  Product_Category_1_17  Product_Category_1_18  \\\n",
       "339811                      0                      0                      0   \n",
       "225761                      0                      0                      0   \n",
       "250039                      0                      0                      0   \n",
       "447181                      0                      0                      0   \n",
       "379018                      0                      0                      0   \n",
       "\n",
       "        Product_Category_1_19  Product_Category_1_20  \n",
       "339811                      0                      0  \n",
       "225761                      0                      0  \n",
       "250039                      0                      0  \n",
       "447181                      0                      0  \n",
       "379018                      0                      0  \n",
       "\n",
       "[5 rows x 56 columns]"
      ]
     },
     "execution_count": 73,
     "metadata": {},
     "output_type": "execute_result"
    }
   ],
   "source": [
    "train_X.head()"
   ]
  },
  {
   "cell_type": "code",
   "execution_count": 74,
   "id": "5a7281e4",
   "metadata": {},
   "outputs": [
    {
     "data": {
      "text/html": [
       "<div>\n",
       "<style scoped>\n",
       "    .dataframe tbody tr th:only-of-type {\n",
       "        vertical-align: middle;\n",
       "    }\n",
       "\n",
       "    .dataframe tbody tr th {\n",
       "        vertical-align: top;\n",
       "    }\n",
       "\n",
       "    .dataframe thead th {\n",
       "        text-align: right;\n",
       "    }\n",
       "</style>\n",
       "<table border=\"1\" class=\"dataframe\">\n",
       "  <thead>\n",
       "    <tr style=\"text-align: right;\">\n",
       "      <th></th>\n",
       "      <th>Gender</th>\n",
       "      <th>Age</th>\n",
       "      <th>Stay_In_Current_City_Years</th>\n",
       "      <th>Marital_Status</th>\n",
       "      <th>Product_Category_2</th>\n",
       "      <th>Product_Category_3</th>\n",
       "      <th>Mean_Product_Purchase</th>\n",
       "      <th>Mean_User_Purchase</th>\n",
       "      <th>FirstQ_Product_Purchase</th>\n",
       "      <th>Min_Product_Purchase</th>\n",
       "      <th>...</th>\n",
       "      <th>Product_Category_1_11</th>\n",
       "      <th>Product_Category_1_12</th>\n",
       "      <th>Product_Category_1_13</th>\n",
       "      <th>Product_Category_1_14</th>\n",
       "      <th>Product_Category_1_15</th>\n",
       "      <th>Product_Category_1_16</th>\n",
       "      <th>Product_Category_1_17</th>\n",
       "      <th>Product_Category_1_18</th>\n",
       "      <th>Product_Category_1_19</th>\n",
       "      <th>Product_Category_1_20</th>\n",
       "    </tr>\n",
       "  </thead>\n",
       "  <tbody>\n",
       "    <tr>\n",
       "      <th>534596</th>\n",
       "      <td>0</td>\n",
       "      <td>2</td>\n",
       "      <td>3</td>\n",
       "      <td>0</td>\n",
       "      <td>False</td>\n",
       "      <td>False</td>\n",
       "      <td>7222.976898</td>\n",
       "      <td>10760.375000</td>\n",
       "      <td>8728.0</td>\n",
       "      <td>1719.0</td>\n",
       "      <td>...</td>\n",
       "      <td>0</td>\n",
       "      <td>0</td>\n",
       "      <td>0</td>\n",
       "      <td>0</td>\n",
       "      <td>0</td>\n",
       "      <td>0</td>\n",
       "      <td>0</td>\n",
       "      <td>0</td>\n",
       "      <td>0</td>\n",
       "      <td>0</td>\n",
       "    </tr>\n",
       "    <tr>\n",
       "      <th>269072</th>\n",
       "      <td>0</td>\n",
       "      <td>2</td>\n",
       "      <td>2</td>\n",
       "      <td>0</td>\n",
       "      <td>False</td>\n",
       "      <td>True</td>\n",
       "      <td>13373.968992</td>\n",
       "      <td>9715.734568</td>\n",
       "      <td>15681.5</td>\n",
       "      <td>3804.0</td>\n",
       "      <td>...</td>\n",
       "      <td>0</td>\n",
       "      <td>0</td>\n",
       "      <td>0</td>\n",
       "      <td>0</td>\n",
       "      <td>0</td>\n",
       "      <td>0</td>\n",
       "      <td>0</td>\n",
       "      <td>0</td>\n",
       "      <td>0</td>\n",
       "      <td>0</td>\n",
       "    </tr>\n",
       "    <tr>\n",
       "      <th>22865</th>\n",
       "      <td>1</td>\n",
       "      <td>2</td>\n",
       "      <td>4</td>\n",
       "      <td>0</td>\n",
       "      <td>False</td>\n",
       "      <td>True</td>\n",
       "      <td>6792.176991</td>\n",
       "      <td>9087.066667</td>\n",
       "      <td>8015.0</td>\n",
       "      <td>2124.0</td>\n",
       "      <td>...</td>\n",
       "      <td>0</td>\n",
       "      <td>0</td>\n",
       "      <td>0</td>\n",
       "      <td>0</td>\n",
       "      <td>0</td>\n",
       "      <td>0</td>\n",
       "      <td>0</td>\n",
       "      <td>0</td>\n",
       "      <td>0</td>\n",
       "      <td>0</td>\n",
       "    </tr>\n",
       "    <tr>\n",
       "      <th>500612</th>\n",
       "      <td>1</td>\n",
       "      <td>3</td>\n",
       "      <td>3</td>\n",
       "      <td>1</td>\n",
       "      <td>False</td>\n",
       "      <td>True</td>\n",
       "      <td>15487.445977</td>\n",
       "      <td>10486.178378</td>\n",
       "      <td>19195.0</td>\n",
       "      <td>3916.0</td>\n",
       "      <td>...</td>\n",
       "      <td>0</td>\n",
       "      <td>0</td>\n",
       "      <td>0</td>\n",
       "      <td>0</td>\n",
       "      <td>0</td>\n",
       "      <td>0</td>\n",
       "      <td>0</td>\n",
       "      <td>0</td>\n",
       "      <td>0</td>\n",
       "      <td>0</td>\n",
       "    </tr>\n",
       "    <tr>\n",
       "      <th>457996</th>\n",
       "      <td>0</td>\n",
       "      <td>2</td>\n",
       "      <td>4</td>\n",
       "      <td>0</td>\n",
       "      <td>False</td>\n",
       "      <td>True</td>\n",
       "      <td>15121.365517</td>\n",
       "      <td>10368.533333</td>\n",
       "      <td>16482.0</td>\n",
       "      <td>4103.0</td>\n",
       "      <td>...</td>\n",
       "      <td>0</td>\n",
       "      <td>0</td>\n",
       "      <td>0</td>\n",
       "      <td>0</td>\n",
       "      <td>0</td>\n",
       "      <td>0</td>\n",
       "      <td>0</td>\n",
       "      <td>0</td>\n",
       "      <td>0</td>\n",
       "      <td>0</td>\n",
       "    </tr>\n",
       "  </tbody>\n",
       "</table>\n",
       "<p>5 rows × 56 columns</p>\n",
       "</div>"
      ],
      "text/plain": [
       "        Gender  Age  Stay_In_Current_City_Years  Marital_Status  \\\n",
       "534596       0    2                           3               0   \n",
       "269072       0    2                           2               0   \n",
       "22865        1    2                           4               0   \n",
       "500612       1    3                           3               1   \n",
       "457996       0    2                           4               0   \n",
       "\n",
       "        Product_Category_2  Product_Category_3  Mean_Product_Purchase  \\\n",
       "534596               False               False            7222.976898   \n",
       "269072               False                True           13373.968992   \n",
       "22865                False                True            6792.176991   \n",
       "500612               False                True           15487.445977   \n",
       "457996               False                True           15121.365517   \n",
       "\n",
       "        Mean_User_Purchase  FirstQ_Product_Purchase  Min_Product_Purchase  \\\n",
       "534596        10760.375000                   8728.0                1719.0   \n",
       "269072         9715.734568                  15681.5                3804.0   \n",
       "22865          9087.066667                   8015.0                2124.0   \n",
       "500612        10486.178378                  19195.0                3916.0   \n",
       "457996        10368.533333                  16482.0                4103.0   \n",
       "\n",
       "        ...  Product_Category_1_11  Product_Category_1_12  \\\n",
       "534596  ...                      0                      0   \n",
       "269072  ...                      0                      0   \n",
       "22865   ...                      0                      0   \n",
       "500612  ...                      0                      0   \n",
       "457996  ...                      0                      0   \n",
       "\n",
       "        Product_Category_1_13  Product_Category_1_14  Product_Category_1_15  \\\n",
       "534596                      0                      0                      0   \n",
       "269072                      0                      0                      0   \n",
       "22865                       0                      0                      0   \n",
       "500612                      0                      0                      0   \n",
       "457996                      0                      0                      0   \n",
       "\n",
       "        Product_Category_1_16  Product_Category_1_17  Product_Category_1_18  \\\n",
       "534596                      0                      0                      0   \n",
       "269072                      0                      0                      0   \n",
       "22865                       0                      0                      0   \n",
       "500612                      0                      0                      0   \n",
       "457996                      0                      0                      0   \n",
       "\n",
       "        Product_Category_1_19  Product_Category_1_20  \n",
       "534596                      0                      0  \n",
       "269072                      0                      0  \n",
       "22865                       0                      0  \n",
       "500612                      0                      0  \n",
       "457996                      0                      0  \n",
       "\n",
       "[5 rows x 56 columns]"
      ]
     },
     "execution_count": 74,
     "metadata": {},
     "output_type": "execute_result"
    }
   ],
   "source": [
    "validation_X.head()"
   ]
  },
  {
   "cell_type": "code",
   "execution_count": 75,
   "id": "3bdd881d",
   "metadata": {},
   "outputs": [
    {
     "data": {
      "text/html": [
       "<div>\n",
       "<style scoped>\n",
       "    .dataframe tbody tr th:only-of-type {\n",
       "        vertical-align: middle;\n",
       "    }\n",
       "\n",
       "    .dataframe tbody tr th {\n",
       "        vertical-align: top;\n",
       "    }\n",
       "\n",
       "    .dataframe thead th {\n",
       "        text-align: right;\n",
       "    }\n",
       "</style>\n",
       "<table border=\"1\" class=\"dataframe\">\n",
       "  <thead>\n",
       "    <tr style=\"text-align: right;\">\n",
       "      <th></th>\n",
       "      <th>Name</th>\n",
       "      <th>Parameters</th>\n",
       "      <th>RMSE</th>\n",
       "    </tr>\n",
       "  </thead>\n",
       "  <tbody>\n",
       "    <tr>\n",
       "      <th>2</th>\n",
       "      <td>ElasticNet</td>\n",
       "      <td>{'alpha': 1.0, 'copy_X': True, 'fit_intercept'...</td>\n",
       "      <td>2580.302277</td>\n",
       "    </tr>\n",
       "    <tr>\n",
       "      <th>0</th>\n",
       "      <td>Lasso</td>\n",
       "      <td>{'alpha': 1.0, 'copy_X': True, 'fit_intercept'...</td>\n",
       "      <td>2577.598524</td>\n",
       "    </tr>\n",
       "    <tr>\n",
       "      <th>1</th>\n",
       "      <td>Ridge</td>\n",
       "      <td>{'alpha': 1.0, 'copy_X': True, 'fit_intercept'...</td>\n",
       "      <td>2577.005373</td>\n",
       "    </tr>\n",
       "    <tr>\n",
       "      <th>3</th>\n",
       "      <td>RandomForestRegressor</td>\n",
       "      <td>{'bootstrap': True, 'ccp_alpha': 0.0, 'criteri...</td>\n",
       "      <td>2548.387303</td>\n",
       "    </tr>\n",
       "    <tr>\n",
       "      <th>4</th>\n",
       "      <td>XGBRegressor</td>\n",
       "      <td>{'objective': 'reg:squarederror', 'base_score'...</td>\n",
       "      <td>2500.353541</td>\n",
       "    </tr>\n",
       "  </tbody>\n",
       "</table>\n",
       "</div>"
      ],
      "text/plain": [
       "                    Name                                         Parameters  \\\n",
       "2             ElasticNet  {'alpha': 1.0, 'copy_X': True, 'fit_intercept'...   \n",
       "0                  Lasso  {'alpha': 1.0, 'copy_X': True, 'fit_intercept'...   \n",
       "1                  Ridge  {'alpha': 1.0, 'copy_X': True, 'fit_intercept'...   \n",
       "3  RandomForestRegressor  {'bootstrap': True, 'ccp_alpha': 0.0, 'criteri...   \n",
       "4           XGBRegressor  {'objective': 'reg:squarederror', 'base_score'...   \n",
       "\n",
       "          RMSE  \n",
       "2  2580.302277  \n",
       "0  2577.598524  \n",
       "1  2577.005373  \n",
       "3  2548.387303  \n",
       "4  2500.353541  "
      ]
     },
     "execution_count": 75,
     "metadata": {},
     "output_type": "execute_result"
    }
   ],
   "source": [
    "from sklearn import linear_model\n",
    "from sklearn import tree\n",
    "from sklearn import ensemble\n",
    "from sklearn.kernel_ridge import KernelRidge\n",
    "import xgboost\n",
    "from sklearn.metrics import mean_squared_error\n",
    "\n",
    "MLA = [\n",
    "    #Linear Model\n",
    "    linear_model.Lasso(),\n",
    "    linear_model.Ridge(),\n",
    "    linear_model.ElasticNet(),\n",
    "    \n",
    "    #Ensemble\n",
    "    ensemble.RandomForestRegressor(),\n",
    "    #ensemble.GradientBoostingRegressor(),\n",
    "    \n",
    "    #XGB\n",
    "    xgboost.XGBRegressor()\n",
    "]\n",
    "\n",
    "df = pd.DataFrame(columns = ['Name', 'Parameters', 'RMSE'])\n",
    "\n",
    "for i in np.arange(len(MLA)):\n",
    "    model = MLA[i]\n",
    "    model_name = model.__class__.__name__\n",
    "    model_parameters = str(model.get_params())\n",
    "    model.fit(train_X, train_y)\n",
    "    model_prediction = model.predict(validation_X)\n",
    "    rmse = (mean_squared_error(model_prediction, validation_y)) ** 0.5\n",
    "    df.loc[i,:] = [model_name, model_parameters, rmse]\n",
    "    \n",
    "\n",
    "df.sort_values('RMSE', ascending = False)"
   ]
  },
  {
   "cell_type": "markdown",
   "id": "a148114b",
   "metadata": {},
   "source": [
    "# Model Tuning"
   ]
  },
  {
   "cell_type": "code",
   "execution_count": 85,
   "id": "15a96b24",
   "metadata": {},
   "outputs": [],
   "source": [
    "from sklearn.metrics import make_scorer\n",
    "def neg_rmse(y_true, y_pred):\n",
    "    return (-1) * np.sqrt(np.mean((y_true - y_pred) ** 2))\n",
    "scorer = make_scorer(neg_rmse)"
   ]
  },
  {
   "cell_type": "code",
   "execution_count": 91,
   "id": "b83fcbc2",
   "metadata": {},
   "outputs": [
    {
     "data": {
      "text/plain": [
       "{'max_depth': 7}"
      ]
     },
     "execution_count": 91,
     "metadata": {},
     "output_type": "execute_result"
    }
   ],
   "source": [
    "from sklearn.model_selection import GridSearchCV\n",
    "\n",
    "xgb_reg = xgboost.XGBRegressor(\n",
    "    eta=0.4\n",
    ")\n",
    "parameters = {\n",
    "    'max_depth':[6, 7, 8, 9]\n",
    "}\n",
    "cv = GridSearchCV(estimator = xgb_reg, param_grid=parameters, scoring=scorer, n_jobs = -1, cv = 5)\n",
    "\n",
    "cv.fit(X, y)\n",
    "\n",
    "cv.best_params_"
   ]
  },
  {
   "cell_type": "markdown",
   "id": "a65d3ff1",
   "metadata": {},
   "source": [
    "# Test Set Prediction"
   ]
  },
  {
   "cell_type": "code",
   "execution_count": 92,
   "id": "448a96b3",
   "metadata": {},
   "outputs": [],
   "source": [
    "# X: train X\n",
    "# y: train y\n",
    "# test_X: test X"
   ]
  },
  {
   "cell_type": "code",
   "execution_count": 93,
   "id": "15e2e1f2",
   "metadata": {},
   "outputs": [],
   "source": [
    "train = pd.read_csv('train.csv')\n",
    "test = pd.read_csv('test.csv')"
   ]
  },
  {
   "cell_type": "code",
   "execution_count": 94,
   "id": "1835a08e",
   "metadata": {},
   "outputs": [],
   "source": [
    "y = train['Purchase']\n",
    "X = train.drop(['Purchase'], axis=1)"
   ]
  },
  {
   "cell_type": "code",
   "execution_count": 95,
   "id": "447a5d7c",
   "metadata": {},
   "outputs": [
    {
     "data": {
      "text/html": [
       "<div>\n",
       "<style scoped>\n",
       "    .dataframe tbody tr th:only-of-type {\n",
       "        vertical-align: middle;\n",
       "    }\n",
       "\n",
       "    .dataframe tbody tr th {\n",
       "        vertical-align: top;\n",
       "    }\n",
       "\n",
       "    .dataframe thead th {\n",
       "        text-align: right;\n",
       "    }\n",
       "</style>\n",
       "<table border=\"1\" class=\"dataframe\">\n",
       "  <thead>\n",
       "    <tr style=\"text-align: right;\">\n",
       "      <th></th>\n",
       "      <th>User_ID</th>\n",
       "      <th>Product_ID</th>\n",
       "      <th>Gender</th>\n",
       "      <th>Age</th>\n",
       "      <th>Occupation</th>\n",
       "      <th>City_Category</th>\n",
       "      <th>Stay_In_Current_City_Years</th>\n",
       "      <th>Marital_Status</th>\n",
       "      <th>Product_Category_1</th>\n",
       "      <th>Product_Category_2</th>\n",
       "      <th>Product_Category_3</th>\n",
       "    </tr>\n",
       "  </thead>\n",
       "  <tbody>\n",
       "    <tr>\n",
       "      <th>0</th>\n",
       "      <td>1000001</td>\n",
       "      <td>P00069042</td>\n",
       "      <td>F</td>\n",
       "      <td>0-17</td>\n",
       "      <td>10</td>\n",
       "      <td>A</td>\n",
       "      <td>2</td>\n",
       "      <td>0</td>\n",
       "      <td>3</td>\n",
       "      <td>NaN</td>\n",
       "      <td>NaN</td>\n",
       "    </tr>\n",
       "    <tr>\n",
       "      <th>1</th>\n",
       "      <td>1000001</td>\n",
       "      <td>P00248942</td>\n",
       "      <td>F</td>\n",
       "      <td>0-17</td>\n",
       "      <td>10</td>\n",
       "      <td>A</td>\n",
       "      <td>2</td>\n",
       "      <td>0</td>\n",
       "      <td>1</td>\n",
       "      <td>6.0</td>\n",
       "      <td>14.0</td>\n",
       "    </tr>\n",
       "    <tr>\n",
       "      <th>2</th>\n",
       "      <td>1000001</td>\n",
       "      <td>P00087842</td>\n",
       "      <td>F</td>\n",
       "      <td>0-17</td>\n",
       "      <td>10</td>\n",
       "      <td>A</td>\n",
       "      <td>2</td>\n",
       "      <td>0</td>\n",
       "      <td>12</td>\n",
       "      <td>NaN</td>\n",
       "      <td>NaN</td>\n",
       "    </tr>\n",
       "    <tr>\n",
       "      <th>3</th>\n",
       "      <td>1000001</td>\n",
       "      <td>P00085442</td>\n",
       "      <td>F</td>\n",
       "      <td>0-17</td>\n",
       "      <td>10</td>\n",
       "      <td>A</td>\n",
       "      <td>2</td>\n",
       "      <td>0</td>\n",
       "      <td>12</td>\n",
       "      <td>14.0</td>\n",
       "      <td>NaN</td>\n",
       "    </tr>\n",
       "    <tr>\n",
       "      <th>4</th>\n",
       "      <td>1000002</td>\n",
       "      <td>P00285442</td>\n",
       "      <td>M</td>\n",
       "      <td>55+</td>\n",
       "      <td>16</td>\n",
       "      <td>C</td>\n",
       "      <td>4+</td>\n",
       "      <td>0</td>\n",
       "      <td>8</td>\n",
       "      <td>NaN</td>\n",
       "      <td>NaN</td>\n",
       "    </tr>\n",
       "  </tbody>\n",
       "</table>\n",
       "</div>"
      ],
      "text/plain": [
       "   User_ID Product_ID Gender   Age  Occupation City_Category  \\\n",
       "0  1000001  P00069042      F  0-17          10             A   \n",
       "1  1000001  P00248942      F  0-17          10             A   \n",
       "2  1000001  P00087842      F  0-17          10             A   \n",
       "3  1000001  P00085442      F  0-17          10             A   \n",
       "4  1000002  P00285442      M   55+          16             C   \n",
       "\n",
       "  Stay_In_Current_City_Years  Marital_Status  Product_Category_1  \\\n",
       "0                          2               0                   3   \n",
       "1                          2               0                   1   \n",
       "2                          2               0                  12   \n",
       "3                          2               0                  12   \n",
       "4                         4+               0                   8   \n",
       "\n",
       "   Product_Category_2  Product_Category_3  \n",
       "0                 NaN                 NaN  \n",
       "1                 6.0                14.0  \n",
       "2                 NaN                 NaN  \n",
       "3                14.0                 NaN  \n",
       "4                 NaN                 NaN  "
      ]
     },
     "execution_count": 95,
     "metadata": {},
     "output_type": "execute_result"
    }
   ],
   "source": [
    "train_and_test_X = X.append(test, ignore_index=True)\n",
    "train_and_test_X.head()"
   ]
  },
  {
   "cell_type": "code",
   "execution_count": 96,
   "id": "ed2cb7df",
   "metadata": {},
   "outputs": [
    {
     "data": {
      "text/html": [
       "<div>\n",
       "<style scoped>\n",
       "    .dataframe tbody tr th:only-of-type {\n",
       "        vertical-align: middle;\n",
       "    }\n",
       "\n",
       "    .dataframe tbody tr th {\n",
       "        vertical-align: top;\n",
       "    }\n",
       "\n",
       "    .dataframe thead th {\n",
       "        text-align: right;\n",
       "    }\n",
       "</style>\n",
       "<table border=\"1\" class=\"dataframe\">\n",
       "  <thead>\n",
       "    <tr style=\"text-align: right;\">\n",
       "      <th></th>\n",
       "      <th>User_ID</th>\n",
       "      <th>Product_ID</th>\n",
       "      <th>Gender</th>\n",
       "      <th>Age</th>\n",
       "      <th>Stay_In_Current_City_Years</th>\n",
       "      <th>Marital_Status</th>\n",
       "      <th>Product_Category_2</th>\n",
       "      <th>Product_Category_3</th>\n",
       "      <th>Mean_Product_Purchase</th>\n",
       "      <th>Mean_User_Purchase</th>\n",
       "      <th>...</th>\n",
       "      <th>Product_Category_1_11</th>\n",
       "      <th>Product_Category_1_12</th>\n",
       "      <th>Product_Category_1_13</th>\n",
       "      <th>Product_Category_1_14</th>\n",
       "      <th>Product_Category_1_15</th>\n",
       "      <th>Product_Category_1_16</th>\n",
       "      <th>Product_Category_1_17</th>\n",
       "      <th>Product_Category_1_18</th>\n",
       "      <th>Product_Category_1_19</th>\n",
       "      <th>Product_Category_1_20</th>\n",
       "    </tr>\n",
       "  </thead>\n",
       "  <tbody>\n",
       "    <tr>\n",
       "      <th>0</th>\n",
       "      <td>1000001</td>\n",
       "      <td>P00069042</td>\n",
       "      <td>1</td>\n",
       "      <td>0</td>\n",
       "      <td>2</td>\n",
       "      <td>0</td>\n",
       "      <td>True</td>\n",
       "      <td>True</td>\n",
       "      <td>11892.688889</td>\n",
       "      <td>9796.178571</td>\n",
       "      <td>...</td>\n",
       "      <td>0</td>\n",
       "      <td>0</td>\n",
       "      <td>0</td>\n",
       "      <td>0</td>\n",
       "      <td>0</td>\n",
       "      <td>0</td>\n",
       "      <td>0</td>\n",
       "      <td>0</td>\n",
       "      <td>0</td>\n",
       "      <td>0</td>\n",
       "    </tr>\n",
       "    <tr>\n",
       "      <th>1</th>\n",
       "      <td>1000001</td>\n",
       "      <td>P00248942</td>\n",
       "      <td>1</td>\n",
       "      <td>0</td>\n",
       "      <td>2</td>\n",
       "      <td>0</td>\n",
       "      <td>False</td>\n",
       "      <td>False</td>\n",
       "      <td>16251.483871</td>\n",
       "      <td>9796.178571</td>\n",
       "      <td>...</td>\n",
       "      <td>0</td>\n",
       "      <td>0</td>\n",
       "      <td>0</td>\n",
       "      <td>0</td>\n",
       "      <td>0</td>\n",
       "      <td>0</td>\n",
       "      <td>0</td>\n",
       "      <td>0</td>\n",
       "      <td>0</td>\n",
       "      <td>0</td>\n",
       "    </tr>\n",
       "    <tr>\n",
       "      <th>2</th>\n",
       "      <td>1000001</td>\n",
       "      <td>P00087842</td>\n",
       "      <td>1</td>\n",
       "      <td>0</td>\n",
       "      <td>2</td>\n",
       "      <td>0</td>\n",
       "      <td>True</td>\n",
       "      <td>True</td>\n",
       "      <td>1219.518072</td>\n",
       "      <td>9796.178571</td>\n",
       "      <td>...</td>\n",
       "      <td>0</td>\n",
       "      <td>1</td>\n",
       "      <td>0</td>\n",
       "      <td>0</td>\n",
       "      <td>0</td>\n",
       "      <td>0</td>\n",
       "      <td>0</td>\n",
       "      <td>0</td>\n",
       "      <td>0</td>\n",
       "      <td>0</td>\n",
       "    </tr>\n",
       "    <tr>\n",
       "      <th>3</th>\n",
       "      <td>1000001</td>\n",
       "      <td>P00085442</td>\n",
       "      <td>1</td>\n",
       "      <td>0</td>\n",
       "      <td>2</td>\n",
       "      <td>0</td>\n",
       "      <td>False</td>\n",
       "      <td>True</td>\n",
       "      <td>1459.265152</td>\n",
       "      <td>9796.178571</td>\n",
       "      <td>...</td>\n",
       "      <td>0</td>\n",
       "      <td>1</td>\n",
       "      <td>0</td>\n",
       "      <td>0</td>\n",
       "      <td>0</td>\n",
       "      <td>0</td>\n",
       "      <td>0</td>\n",
       "      <td>0</td>\n",
       "      <td>0</td>\n",
       "      <td>0</td>\n",
       "    </tr>\n",
       "    <tr>\n",
       "      <th>4</th>\n",
       "      <td>1000002</td>\n",
       "      <td>P00285442</td>\n",
       "      <td>0</td>\n",
       "      <td>6</td>\n",
       "      <td>4</td>\n",
       "      <td>0</td>\n",
       "      <td>True</td>\n",
       "      <td>True</td>\n",
       "      <td>7693.821918</td>\n",
       "      <td>10584.561404</td>\n",
       "      <td>...</td>\n",
       "      <td>0</td>\n",
       "      <td>0</td>\n",
       "      <td>0</td>\n",
       "      <td>0</td>\n",
       "      <td>0</td>\n",
       "      <td>0</td>\n",
       "      <td>0</td>\n",
       "      <td>0</td>\n",
       "      <td>0</td>\n",
       "      <td>0</td>\n",
       "    </tr>\n",
       "  </tbody>\n",
       "</table>\n",
       "<p>5 rows × 58 columns</p>\n",
       "</div>"
      ],
      "text/plain": [
       "   User_ID Product_ID  Gender  Age  Stay_In_Current_City_Years  \\\n",
       "0  1000001  P00069042       1    0                           2   \n",
       "1  1000001  P00248942       1    0                           2   \n",
       "2  1000001  P00087842       1    0                           2   \n",
       "3  1000001  P00085442       1    0                           2   \n",
       "4  1000002  P00285442       0    6                           4   \n",
       "\n",
       "   Marital_Status  Product_Category_2  Product_Category_3  \\\n",
       "0               0                True                True   \n",
       "1               0               False               False   \n",
       "2               0                True                True   \n",
       "3               0               False                True   \n",
       "4               0                True                True   \n",
       "\n",
       "   Mean_Product_Purchase  Mean_User_Purchase  ...  Product_Category_1_11  \\\n",
       "0           11892.688889         9796.178571  ...                      0   \n",
       "1           16251.483871         9796.178571  ...                      0   \n",
       "2            1219.518072         9796.178571  ...                      0   \n",
       "3            1459.265152         9796.178571  ...                      0   \n",
       "4            7693.821918        10584.561404  ...                      0   \n",
       "\n",
       "   Product_Category_1_12  Product_Category_1_13  Product_Category_1_14  \\\n",
       "0                      0                      0                      0   \n",
       "1                      0                      0                      0   \n",
       "2                      1                      0                      0   \n",
       "3                      1                      0                      0   \n",
       "4                      0                      0                      0   \n",
       "\n",
       "   Product_Category_1_15  Product_Category_1_16  Product_Category_1_17  \\\n",
       "0                      0                      0                      0   \n",
       "1                      0                      0                      0   \n",
       "2                      0                      0                      0   \n",
       "3                      0                      0                      0   \n",
       "4                      0                      0                      0   \n",
       "\n",
       "   Product_Category_1_18  Product_Category_1_19  Product_Category_1_20  \n",
       "0                      0                      0                      0  \n",
       "1                      0                      0                      0  \n",
       "2                      0                      0                      0  \n",
       "3                      0                      0                      0  \n",
       "4                      0                      0                      0  \n",
       "\n",
       "[5 rows x 58 columns]"
      ]
     },
     "execution_count": 96,
     "metadata": {},
     "output_type": "execute_result"
    }
   ],
   "source": [
    "# Prepare_data\n",
    "train_and_test_X = prepare_data(train_and_test_X)\n",
    "train_and_test_X.head()"
   ]
  },
  {
   "cell_type": "code",
   "execution_count": 97,
   "id": "6c9170c6",
   "metadata": {},
   "outputs": [],
   "source": [
    "train_and_test_X.drop(['User_ID', 'Product_ID'],axis=1, inplace=True)"
   ]
  },
  {
   "cell_type": "code",
   "execution_count": 98,
   "id": "ae4fd7ff",
   "metadata": {},
   "outputs": [
    {
     "data": {
      "text/html": [
       "<div>\n",
       "<style scoped>\n",
       "    .dataframe tbody tr th:only-of-type {\n",
       "        vertical-align: middle;\n",
       "    }\n",
       "\n",
       "    .dataframe tbody tr th {\n",
       "        vertical-align: top;\n",
       "    }\n",
       "\n",
       "    .dataframe thead th {\n",
       "        text-align: right;\n",
       "    }\n",
       "</style>\n",
       "<table border=\"1\" class=\"dataframe\">\n",
       "  <thead>\n",
       "    <tr style=\"text-align: right;\">\n",
       "      <th></th>\n",
       "      <th>Gender</th>\n",
       "      <th>Age</th>\n",
       "      <th>Stay_In_Current_City_Years</th>\n",
       "      <th>Marital_Status</th>\n",
       "      <th>Product_Category_2</th>\n",
       "      <th>Product_Category_3</th>\n",
       "      <th>Mean_Product_Purchase</th>\n",
       "      <th>Mean_User_Purchase</th>\n",
       "      <th>FirstQ_Product_Purchase</th>\n",
       "      <th>Min_Product_Purchase</th>\n",
       "      <th>...</th>\n",
       "      <th>Product_Category_1_11</th>\n",
       "      <th>Product_Category_1_12</th>\n",
       "      <th>Product_Category_1_13</th>\n",
       "      <th>Product_Category_1_14</th>\n",
       "      <th>Product_Category_1_15</th>\n",
       "      <th>Product_Category_1_16</th>\n",
       "      <th>Product_Category_1_17</th>\n",
       "      <th>Product_Category_1_18</th>\n",
       "      <th>Product_Category_1_19</th>\n",
       "      <th>Product_Category_1_20</th>\n",
       "    </tr>\n",
       "  </thead>\n",
       "  <tbody>\n",
       "    <tr>\n",
       "      <th>0</th>\n",
       "      <td>1</td>\n",
       "      <td>0</td>\n",
       "      <td>2</td>\n",
       "      <td>0</td>\n",
       "      <td>True</td>\n",
       "      <td>True</td>\n",
       "      <td>11892.688889</td>\n",
       "      <td>9796.178571</td>\n",
       "      <td>13470.50</td>\n",
       "      <td>2648.0</td>\n",
       "      <td>...</td>\n",
       "      <td>0</td>\n",
       "      <td>0</td>\n",
       "      <td>0</td>\n",
       "      <td>0</td>\n",
       "      <td>0</td>\n",
       "      <td>0</td>\n",
       "      <td>0</td>\n",
       "      <td>0</td>\n",
       "      <td>0</td>\n",
       "      <td>0</td>\n",
       "    </tr>\n",
       "    <tr>\n",
       "      <th>1</th>\n",
       "      <td>1</td>\n",
       "      <td>0</td>\n",
       "      <td>2</td>\n",
       "      <td>0</td>\n",
       "      <td>False</td>\n",
       "      <td>False</td>\n",
       "      <td>16251.483871</td>\n",
       "      <td>9796.178571</td>\n",
       "      <td>19278.00</td>\n",
       "      <td>3880.0</td>\n",
       "      <td>...</td>\n",
       "      <td>0</td>\n",
       "      <td>0</td>\n",
       "      <td>0</td>\n",
       "      <td>0</td>\n",
       "      <td>0</td>\n",
       "      <td>0</td>\n",
       "      <td>0</td>\n",
       "      <td>0</td>\n",
       "      <td>0</td>\n",
       "      <td>0</td>\n",
       "    </tr>\n",
       "    <tr>\n",
       "      <th>2</th>\n",
       "      <td>1</td>\n",
       "      <td>0</td>\n",
       "      <td>2</td>\n",
       "      <td>0</td>\n",
       "      <td>True</td>\n",
       "      <td>True</td>\n",
       "      <td>1219.518072</td>\n",
       "      <td>9796.178571</td>\n",
       "      <td>1423.50</td>\n",
       "      <td>343.0</td>\n",
       "      <td>...</td>\n",
       "      <td>0</td>\n",
       "      <td>1</td>\n",
       "      <td>0</td>\n",
       "      <td>0</td>\n",
       "      <td>0</td>\n",
       "      <td>0</td>\n",
       "      <td>0</td>\n",
       "      <td>0</td>\n",
       "      <td>0</td>\n",
       "      <td>0</td>\n",
       "    </tr>\n",
       "    <tr>\n",
       "      <th>3</th>\n",
       "      <td>1</td>\n",
       "      <td>0</td>\n",
       "      <td>2</td>\n",
       "      <td>0</td>\n",
       "      <td>False</td>\n",
       "      <td>True</td>\n",
       "      <td>1459.265152</td>\n",
       "      <td>9796.178571</td>\n",
       "      <td>1736.00</td>\n",
       "      <td>365.0</td>\n",
       "      <td>...</td>\n",
       "      <td>0</td>\n",
       "      <td>1</td>\n",
       "      <td>0</td>\n",
       "      <td>0</td>\n",
       "      <td>0</td>\n",
       "      <td>0</td>\n",
       "      <td>0</td>\n",
       "      <td>0</td>\n",
       "      <td>0</td>\n",
       "      <td>0</td>\n",
       "    </tr>\n",
       "    <tr>\n",
       "      <th>4</th>\n",
       "      <td>0</td>\n",
       "      <td>6</td>\n",
       "      <td>4</td>\n",
       "      <td>0</td>\n",
       "      <td>True</td>\n",
       "      <td>True</td>\n",
       "      <td>7693.821918</td>\n",
       "      <td>10584.561404</td>\n",
       "      <td>8113.25</td>\n",
       "      <td>3920.0</td>\n",
       "      <td>...</td>\n",
       "      <td>0</td>\n",
       "      <td>0</td>\n",
       "      <td>0</td>\n",
       "      <td>0</td>\n",
       "      <td>0</td>\n",
       "      <td>0</td>\n",
       "      <td>0</td>\n",
       "      <td>0</td>\n",
       "      <td>0</td>\n",
       "      <td>0</td>\n",
       "    </tr>\n",
       "  </tbody>\n",
       "</table>\n",
       "<p>5 rows × 56 columns</p>\n",
       "</div>"
      ],
      "text/plain": [
       "   Gender  Age  Stay_In_Current_City_Years  Marital_Status  \\\n",
       "0       1    0                           2               0   \n",
       "1       1    0                           2               0   \n",
       "2       1    0                           2               0   \n",
       "3       1    0                           2               0   \n",
       "4       0    6                           4               0   \n",
       "\n",
       "   Product_Category_2  Product_Category_3  Mean_Product_Purchase  \\\n",
       "0                True                True           11892.688889   \n",
       "1               False               False           16251.483871   \n",
       "2                True                True            1219.518072   \n",
       "3               False                True            1459.265152   \n",
       "4                True                True            7693.821918   \n",
       "\n",
       "   Mean_User_Purchase  FirstQ_Product_Purchase  Min_Product_Purchase  ...  \\\n",
       "0         9796.178571                 13470.50                2648.0  ...   \n",
       "1         9796.178571                 19278.00                3880.0  ...   \n",
       "2         9796.178571                  1423.50                 343.0  ...   \n",
       "3         9796.178571                  1736.00                 365.0  ...   \n",
       "4        10584.561404                  8113.25                3920.0  ...   \n",
       "\n",
       "   Product_Category_1_11  Product_Category_1_12  Product_Category_1_13  \\\n",
       "0                      0                      0                      0   \n",
       "1                      0                      0                      0   \n",
       "2                      0                      1                      0   \n",
       "3                      0                      1                      0   \n",
       "4                      0                      0                      0   \n",
       "\n",
       "   Product_Category_1_14  Product_Category_1_15  Product_Category_1_16  \\\n",
       "0                      0                      0                      0   \n",
       "1                      0                      0                      0   \n",
       "2                      0                      0                      0   \n",
       "3                      0                      0                      0   \n",
       "4                      0                      0                      0   \n",
       "\n",
       "   Product_Category_1_17  Product_Category_1_18  Product_Category_1_19  \\\n",
       "0                      0                      0                      0   \n",
       "1                      0                      0                      0   \n",
       "2                      0                      0                      0   \n",
       "3                      0                      0                      0   \n",
       "4                      0                      0                      0   \n",
       "\n",
       "   Product_Category_1_20  \n",
       "0                      0  \n",
       "1                      0  \n",
       "2                      0  \n",
       "3                      0  \n",
       "4                      0  \n",
       "\n",
       "[5 rows x 56 columns]"
      ]
     },
     "execution_count": 98,
     "metadata": {},
     "output_type": "execute_result"
    }
   ],
   "source": [
    "X = train_and_test_X.loc[:550067]\n",
    "X.head()"
   ]
  },
  {
   "cell_type": "code",
   "execution_count": 99,
   "id": "aef7f736",
   "metadata": {},
   "outputs": [
    {
     "data": {
      "text/html": [
       "<div>\n",
       "<style scoped>\n",
       "    .dataframe tbody tr th:only-of-type {\n",
       "        vertical-align: middle;\n",
       "    }\n",
       "\n",
       "    .dataframe tbody tr th {\n",
       "        vertical-align: top;\n",
       "    }\n",
       "\n",
       "    .dataframe thead th {\n",
       "        text-align: right;\n",
       "    }\n",
       "</style>\n",
       "<table border=\"1\" class=\"dataframe\">\n",
       "  <thead>\n",
       "    <tr style=\"text-align: right;\">\n",
       "      <th></th>\n",
       "      <th>Gender</th>\n",
       "      <th>Age</th>\n",
       "      <th>Stay_In_Current_City_Years</th>\n",
       "      <th>Marital_Status</th>\n",
       "      <th>Product_Category_2</th>\n",
       "      <th>Product_Category_3</th>\n",
       "      <th>Mean_Product_Purchase</th>\n",
       "      <th>Mean_User_Purchase</th>\n",
       "      <th>FirstQ_Product_Purchase</th>\n",
       "      <th>Min_Product_Purchase</th>\n",
       "      <th>...</th>\n",
       "      <th>Product_Category_1_11</th>\n",
       "      <th>Product_Category_1_12</th>\n",
       "      <th>Product_Category_1_13</th>\n",
       "      <th>Product_Category_1_14</th>\n",
       "      <th>Product_Category_1_15</th>\n",
       "      <th>Product_Category_1_16</th>\n",
       "      <th>Product_Category_1_17</th>\n",
       "      <th>Product_Category_1_18</th>\n",
       "      <th>Product_Category_1_19</th>\n",
       "      <th>Product_Category_1_20</th>\n",
       "    </tr>\n",
       "  </thead>\n",
       "  <tbody>\n",
       "    <tr>\n",
       "      <th>550068</th>\n",
       "      <td>0</td>\n",
       "      <td>4</td>\n",
       "      <td>2</td>\n",
       "      <td>1</td>\n",
       "      <td>False</td>\n",
       "      <td>True</td>\n",
       "      <td>15824.725071</td>\n",
       "      <td>13885.000000</td>\n",
       "      <td>19271.50</td>\n",
       "      <td>3933.0</td>\n",
       "      <td>...</td>\n",
       "      <td>0</td>\n",
       "      <td>0</td>\n",
       "      <td>0</td>\n",
       "      <td>0</td>\n",
       "      <td>0</td>\n",
       "      <td>0</td>\n",
       "      <td>0</td>\n",
       "      <td>0</td>\n",
       "      <td>0</td>\n",
       "      <td>0</td>\n",
       "    </tr>\n",
       "    <tr>\n",
       "      <th>550069</th>\n",
       "      <td>0</td>\n",
       "      <td>2</td>\n",
       "      <td>0</td>\n",
       "      <td>0</td>\n",
       "      <td>False</td>\n",
       "      <td>True</td>\n",
       "      <td>11626.751269</td>\n",
       "      <td>10239.829268</td>\n",
       "      <td>13467.00</td>\n",
       "      <td>3077.0</td>\n",
       "      <td>...</td>\n",
       "      <td>0</td>\n",
       "      <td>0</td>\n",
       "      <td>0</td>\n",
       "      <td>0</td>\n",
       "      <td>0</td>\n",
       "      <td>0</td>\n",
       "      <td>0</td>\n",
       "      <td>0</td>\n",
       "      <td>0</td>\n",
       "      <td>0</td>\n",
       "    </tr>\n",
       "    <tr>\n",
       "      <th>550070</th>\n",
       "      <td>1</td>\n",
       "      <td>3</td>\n",
       "      <td>4</td>\n",
       "      <td>1</td>\n",
       "      <td>False</td>\n",
       "      <td>True</td>\n",
       "      <td>5654.649123</td>\n",
       "      <td>9918.481013</td>\n",
       "      <td>7022.50</td>\n",
       "      <td>1734.0</td>\n",
       "      <td>...</td>\n",
       "      <td>0</td>\n",
       "      <td>0</td>\n",
       "      <td>0</td>\n",
       "      <td>0</td>\n",
       "      <td>0</td>\n",
       "      <td>0</td>\n",
       "      <td>0</td>\n",
       "      <td>0</td>\n",
       "      <td>0</td>\n",
       "      <td>0</td>\n",
       "    </tr>\n",
       "    <tr>\n",
       "      <th>550071</th>\n",
       "      <td>1</td>\n",
       "      <td>3</td>\n",
       "      <td>4</td>\n",
       "      <td>1</td>\n",
       "      <td>False</td>\n",
       "      <td>True</td>\n",
       "      <td>1935.142857</td>\n",
       "      <td>9918.481013</td>\n",
       "      <td>2134.25</td>\n",
       "      <td>813.0</td>\n",
       "      <td>...</td>\n",
       "      <td>0</td>\n",
       "      <td>0</td>\n",
       "      <td>0</td>\n",
       "      <td>0</td>\n",
       "      <td>0</td>\n",
       "      <td>0</td>\n",
       "      <td>0</td>\n",
       "      <td>0</td>\n",
       "      <td>0</td>\n",
       "      <td>0</td>\n",
       "    </tr>\n",
       "    <tr>\n",
       "      <th>550072</th>\n",
       "      <td>1</td>\n",
       "      <td>2</td>\n",
       "      <td>1</td>\n",
       "      <td>0</td>\n",
       "      <td>False</td>\n",
       "      <td>False</td>\n",
       "      <td>2585.992925</td>\n",
       "      <td>7513.924528</td>\n",
       "      <td>3421.25</td>\n",
       "      <td>684.0</td>\n",
       "      <td>...</td>\n",
       "      <td>0</td>\n",
       "      <td>0</td>\n",
       "      <td>0</td>\n",
       "      <td>0</td>\n",
       "      <td>0</td>\n",
       "      <td>0</td>\n",
       "      <td>0</td>\n",
       "      <td>0</td>\n",
       "      <td>0</td>\n",
       "      <td>0</td>\n",
       "    </tr>\n",
       "  </tbody>\n",
       "</table>\n",
       "<p>5 rows × 56 columns</p>\n",
       "</div>"
      ],
      "text/plain": [
       "        Gender  Age  Stay_In_Current_City_Years  Marital_Status  \\\n",
       "550068       0    4                           2               1   \n",
       "550069       0    2                           0               0   \n",
       "550070       1    3                           4               1   \n",
       "550071       1    3                           4               1   \n",
       "550072       1    2                           1               0   \n",
       "\n",
       "        Product_Category_2  Product_Category_3  Mean_Product_Purchase  \\\n",
       "550068               False                True           15824.725071   \n",
       "550069               False                True           11626.751269   \n",
       "550070               False                True            5654.649123   \n",
       "550071               False                True            1935.142857   \n",
       "550072               False               False            2585.992925   \n",
       "\n",
       "        Mean_User_Purchase  FirstQ_Product_Purchase  Min_Product_Purchase  \\\n",
       "550068        13885.000000                 19271.50                3933.0   \n",
       "550069        10239.829268                 13467.00                3077.0   \n",
       "550070         9918.481013                  7022.50                1734.0   \n",
       "550071         9918.481013                  2134.25                 813.0   \n",
       "550072         7513.924528                  3421.25                 684.0   \n",
       "\n",
       "        ...  Product_Category_1_11  Product_Category_1_12  \\\n",
       "550068  ...                      0                      0   \n",
       "550069  ...                      0                      0   \n",
       "550070  ...                      0                      0   \n",
       "550071  ...                      0                      0   \n",
       "550072  ...                      0                      0   \n",
       "\n",
       "        Product_Category_1_13  Product_Category_1_14  Product_Category_1_15  \\\n",
       "550068                      0                      0                      0   \n",
       "550069                      0                      0                      0   \n",
       "550070                      0                      0                      0   \n",
       "550071                      0                      0                      0   \n",
       "550072                      0                      0                      0   \n",
       "\n",
       "        Product_Category_1_16  Product_Category_1_17  Product_Category_1_18  \\\n",
       "550068                      0                      0                      0   \n",
       "550069                      0                      0                      0   \n",
       "550070                      0                      0                      0   \n",
       "550071                      0                      0                      0   \n",
       "550072                      0                      0                      0   \n",
       "\n",
       "        Product_Category_1_19  Product_Category_1_20  \n",
       "550068                      0                      0  \n",
       "550069                      0                      0  \n",
       "550070                      0                      0  \n",
       "550071                      0                      0  \n",
       "550072                      0                      0  \n",
       "\n",
       "[5 rows x 56 columns]"
      ]
     },
     "execution_count": 99,
     "metadata": {},
     "output_type": "execute_result"
    }
   ],
   "source": [
    "test_X = train_and_test_X.loc[550068:]\n",
    "test_X.head()"
   ]
  },
  {
   "cell_type": "code",
   "execution_count": 108,
   "id": "fa36b4f0",
   "metadata": {},
   "outputs": [
    {
     "data": {
      "text/plain": [
       "XGBRegressor(base_score=0.5, booster='gbtree', colsample_bylevel=1,\n",
       "             colsample_bynode=1, colsample_bytree=1, eta=0.4, gamma=0,\n",
       "             gpu_id=-1, importance_type='gain', interaction_constraints='',\n",
       "             learning_rate=0.400000006, max_delta_step=0, max_depth=8,\n",
       "             min_child_weight=1, missing=nan, monotone_constraints='()',\n",
       "             n_estimators=100, n_jobs=8, num_parallel_tree=1, random_state=0,\n",
       "             reg_alpha=0, reg_lambda=1, scale_pos_weight=1, subsample=1,\n",
       "             tree_method='exact', validate_parameters=1, verbosity=None)"
      ]
     },
     "execution_count": 108,
     "metadata": {},
     "output_type": "execute_result"
    }
   ],
   "source": [
    "model = xgboost.XGBRegressor(max_depth=8, eta=0.4)\n",
    "model.fit(X, y)"
   ]
  },
  {
   "cell_type": "code",
   "execution_count": 109,
   "id": "7c232e72",
   "metadata": {},
   "outputs": [
    {
     "data": {
      "text/html": [
       "<div>\n",
       "<style scoped>\n",
       "    .dataframe tbody tr th:only-of-type {\n",
       "        vertical-align: middle;\n",
       "    }\n",
       "\n",
       "    .dataframe tbody tr th {\n",
       "        vertical-align: top;\n",
       "    }\n",
       "\n",
       "    .dataframe thead th {\n",
       "        text-align: right;\n",
       "    }\n",
       "</style>\n",
       "<table border=\"1\" class=\"dataframe\">\n",
       "  <thead>\n",
       "    <tr style=\"text-align: right;\">\n",
       "      <th></th>\n",
       "      <th>Purchase</th>\n",
       "      <th>User_ID</th>\n",
       "      <th>Product_ID</th>\n",
       "    </tr>\n",
       "  </thead>\n",
       "  <tbody>\n",
       "    <tr>\n",
       "      <th>0</th>\n",
       "      <td>17796.158203</td>\n",
       "      <td>1000004</td>\n",
       "      <td>P00128942</td>\n",
       "    </tr>\n",
       "    <tr>\n",
       "      <th>1</th>\n",
       "      <td>11596.715820</td>\n",
       "      <td>1000009</td>\n",
       "      <td>P00113442</td>\n",
       "    </tr>\n",
       "    <tr>\n",
       "      <th>2</th>\n",
       "      <td>6438.375488</td>\n",
       "      <td>1000010</td>\n",
       "      <td>P00288442</td>\n",
       "    </tr>\n",
       "    <tr>\n",
       "      <th>3</th>\n",
       "      <td>2634.298340</td>\n",
       "      <td>1000010</td>\n",
       "      <td>P00145342</td>\n",
       "    </tr>\n",
       "    <tr>\n",
       "      <th>4</th>\n",
       "      <td>2530.016113</td>\n",
       "      <td>1000011</td>\n",
       "      <td>P00053842</td>\n",
       "    </tr>\n",
       "  </tbody>\n",
       "</table>\n",
       "</div>"
      ],
      "text/plain": [
       "       Purchase  User_ID Product_ID\n",
       "0  17796.158203  1000004  P00128942\n",
       "1  11596.715820  1000009  P00113442\n",
       "2   6438.375488  1000010  P00288442\n",
       "3   2634.298340  1000010  P00145342\n",
       "4   2530.016113  1000011  P00053842"
      ]
     },
     "execution_count": 109,
     "metadata": {},
     "output_type": "execute_result"
    }
   ],
   "source": [
    "test_prediction = model.predict(test_X)\n",
    "prediction_df = pd.DataFrame({\n",
    "    'Purchase': test_prediction,\n",
    "    'User_ID': test['User_ID'],\n",
    "    'Product_ID': test['Product_ID']\n",
    "})\n",
    "prediction_df.head()"
   ]
  },
  {
   "cell_type": "code",
   "execution_count": 110,
   "id": "1160a658",
   "metadata": {},
   "outputs": [],
   "source": [
    "prediction_df.to_csv('5.csv')"
   ]
  },
  {
   "cell_type": "code",
   "execution_count": 112,
   "id": "71d70cb6",
   "metadata": {},
   "outputs": [
    {
     "data": {
      "text/html": [
       "<div>\n",
       "<style scoped>\n",
       "    .dataframe tbody tr th:only-of-type {\n",
       "        vertical-align: middle;\n",
       "    }\n",
       "\n",
       "    .dataframe tbody tr th {\n",
       "        vertical-align: top;\n",
       "    }\n",
       "\n",
       "    .dataframe thead th {\n",
       "        text-align: right;\n",
       "    }\n",
       "</style>\n",
       "<table border=\"1\" class=\"dataframe\">\n",
       "  <thead>\n",
       "    <tr style=\"text-align: right;\">\n",
       "      <th></th>\n",
       "      <th>features</th>\n",
       "      <th>feature importance</th>\n",
       "    </tr>\n",
       "  </thead>\n",
       "  <tbody>\n",
       "    <tr>\n",
       "      <th>6</th>\n",
       "      <td>Mean_Product_Purchase</td>\n",
       "      <td>0.679594</td>\n",
       "    </tr>\n",
       "    <tr>\n",
       "      <th>7</th>\n",
       "      <td>Mean_User_Purchase</td>\n",
       "      <td>0.020669</td>\n",
       "    </tr>\n",
       "    <tr>\n",
       "      <th>36</th>\n",
       "      <td>Product_Category_1_1</td>\n",
       "      <td>0.012131</td>\n",
       "    </tr>\n",
       "    <tr>\n",
       "      <th>45</th>\n",
       "      <td>Product_Category_1_10</td>\n",
       "      <td>0.010651</td>\n",
       "    </tr>\n",
       "    <tr>\n",
       "      <th>21</th>\n",
       "      <td>Occupation_9</td>\n",
       "      <td>0.009909</td>\n",
       "    </tr>\n",
       "  </tbody>\n",
       "</table>\n",
       "</div>"
      ],
      "text/plain": [
       "                 features  feature importance\n",
       "6   Mean_Product_Purchase            0.679594\n",
       "7      Mean_User_Purchase            0.020669\n",
       "36   Product_Category_1_1            0.012131\n",
       "45  Product_Category_1_10            0.010651\n",
       "21           Occupation_9            0.009909"
      ]
     },
     "execution_count": 112,
     "metadata": {},
     "output_type": "execute_result"
    }
   ],
   "source": [
    "# Feature Importance\n",
    "(pd.DataFrame({\"features\": X.columns, \"feature importance\":model.feature_importances_})).\\\n",
    "    sort_values(\"feature importance\", ascending=False).head()"
   ]
  },
  {
   "cell_type": "code",
   "execution_count": null,
   "id": "fa5d6771",
   "metadata": {},
   "outputs": [],
   "source": []
  }
 ],
 "metadata": {
  "kernelspec": {
   "display_name": "Python 3",
   "language": "python",
   "name": "python3"
  },
  "language_info": {
   "codemirror_mode": {
    "name": "ipython",
    "version": 3
   },
   "file_extension": ".py",
   "mimetype": "text/x-python",
   "name": "python",
   "nbconvert_exporter": "python",
   "pygments_lexer": "ipython3",
   "version": "3.9.5"
  }
 },
 "nbformat": 4,
 "nbformat_minor": 5
}
