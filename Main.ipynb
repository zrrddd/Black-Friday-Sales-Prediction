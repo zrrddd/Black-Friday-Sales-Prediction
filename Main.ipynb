{
 "cells": [
  {
   "cell_type": "code",
   "execution_count": 1,
   "id": "926ae43c",
   "metadata": {},
   "outputs": [],
   "source": [
    "# Author: Ruidi Zhao\n",
    "# Time: 06/01/2021\n",
    "# Data Source: https://datahack.analyticsvidhya.com/contest/black-friday/#LeaderBoard"
   ]
  },
  {
   "cell_type": "code",
   "execution_count": 127,
   "id": "5e9fb6a8",
   "metadata": {},
   "outputs": [],
   "source": [
    "# Import packages\n",
    "import pandas as pd\n",
    "import numpy as np\n",
    "import matplotlib.pyplot as plt\n",
    "import altair as alt\n",
    "import seaborn as sns"
   ]
  },
  {
   "cell_type": "markdown",
   "id": "2ca58a61",
   "metadata": {},
   "source": [
    "# Read Data"
   ]
  },
  {
   "cell_type": "code",
   "execution_count": 129,
   "id": "a3d115c8",
   "metadata": {},
   "outputs": [],
   "source": [
    "train = pd.read_csv(\"train.csv\")\n",
    "test = pd.read_csv(\"test.csv\")"
   ]
  },
  {
   "cell_type": "code",
   "execution_count": 128,
   "id": "940a78cf",
   "metadata": {},
   "outputs": [
    {
     "name": "stdout",
     "output_type": "stream",
     "text": [
      "(412551, 16)\n"
     ]
    },
    {
     "data": {
      "text/html": [
       "<div>\n",
       "<style scoped>\n",
       "    .dataframe tbody tr th:only-of-type {\n",
       "        vertical-align: middle;\n",
       "    }\n",
       "\n",
       "    .dataframe tbody tr th {\n",
       "        vertical-align: top;\n",
       "    }\n",
       "\n",
       "    .dataframe thead th {\n",
       "        text-align: right;\n",
       "    }\n",
       "</style>\n",
       "<table border=\"1\" class=\"dataframe\">\n",
       "  <thead>\n",
       "    <tr style=\"text-align: right;\">\n",
       "      <th></th>\n",
       "      <th>User_ID</th>\n",
       "      <th>Product_ID</th>\n",
       "      <th>Gender</th>\n",
       "      <th>Age</th>\n",
       "      <th>Occupation</th>\n",
       "      <th>City_Category</th>\n",
       "      <th>Stay_In_Current_City_Years</th>\n",
       "      <th>Marital_Status</th>\n",
       "      <th>Product_Category_1</th>\n",
       "      <th>Product_Category_2</th>\n",
       "      <th>Product_Category_3</th>\n",
       "      <th>Purchase</th>\n",
       "      <th>Median_Product_Purchase</th>\n",
       "      <th>Median_User_Purchase</th>\n",
       "      <th>has_cat_3</th>\n",
       "      <th>has_cat_2</th>\n",
       "    </tr>\n",
       "  </thead>\n",
       "  <tbody>\n",
       "    <tr>\n",
       "      <th>25152</th>\n",
       "      <td>1003864</td>\n",
       "      <td>P00159442</td>\n",
       "      <td>M</td>\n",
       "      <td>51-55</td>\n",
       "      <td>20</td>\n",
       "      <td>C</td>\n",
       "      <td>0</td>\n",
       "      <td>1</td>\n",
       "      <td>5</td>\n",
       "      <td>8.0</td>\n",
       "      <td>NaN</td>\n",
       "      <td>7027</td>\n",
       "      <td>6870.0</td>\n",
       "      <td>9889.5</td>\n",
       "      <td>True</td>\n",
       "      <td>False</td>\n",
       "    </tr>\n",
       "    <tr>\n",
       "      <th>381800</th>\n",
       "      <td>1004725</td>\n",
       "      <td>P00071242</td>\n",
       "      <td>M</td>\n",
       "      <td>36-45</td>\n",
       "      <td>5</td>\n",
       "      <td>A</td>\n",
       "      <td>2</td>\n",
       "      <td>0</td>\n",
       "      <td>1</td>\n",
       "      <td>15.0</td>\n",
       "      <td>16.0</td>\n",
       "      <td>11563</td>\n",
       "      <td>11764.0</td>\n",
       "      <td>8068.0</td>\n",
       "      <td>False</td>\n",
       "      <td>False</td>\n",
       "    </tr>\n",
       "    <tr>\n",
       "      <th>433582</th>\n",
       "      <td>1000774</td>\n",
       "      <td>P00127442</td>\n",
       "      <td>M</td>\n",
       "      <td>18-25</td>\n",
       "      <td>4</td>\n",
       "      <td>A</td>\n",
       "      <td>4+</td>\n",
       "      <td>0</td>\n",
       "      <td>1</td>\n",
       "      <td>2.0</td>\n",
       "      <td>15.0</td>\n",
       "      <td>11466</td>\n",
       "      <td>15201.0</td>\n",
       "      <td>8039.0</td>\n",
       "      <td>False</td>\n",
       "      <td>False</td>\n",
       "    </tr>\n",
       "    <tr>\n",
       "      <th>126732</th>\n",
       "      <td>1001542</td>\n",
       "      <td>P00005942</td>\n",
       "      <td>M</td>\n",
       "      <td>18-25</td>\n",
       "      <td>17</td>\n",
       "      <td>C</td>\n",
       "      <td>4+</td>\n",
       "      <td>0</td>\n",
       "      <td>2</td>\n",
       "      <td>4.0</td>\n",
       "      <td>9.0</td>\n",
       "      <td>6616</td>\n",
       "      <td>9974.0</td>\n",
       "      <td>11374.0</td>\n",
       "      <td>False</td>\n",
       "      <td>False</td>\n",
       "    </tr>\n",
       "    <tr>\n",
       "      <th>455644</th>\n",
       "      <td>1004112</td>\n",
       "      <td>P00152742</td>\n",
       "      <td>M</td>\n",
       "      <td>46-50</td>\n",
       "      <td>18</td>\n",
       "      <td>B</td>\n",
       "      <td>3</td>\n",
       "      <td>1</td>\n",
       "      <td>5</td>\n",
       "      <td>NaN</td>\n",
       "      <td>NaN</td>\n",
       "      <td>7171</td>\n",
       "      <td>6995.5</td>\n",
       "      <td>8653.0</td>\n",
       "      <td>True</td>\n",
       "      <td>True</td>\n",
       "    </tr>\n",
       "  </tbody>\n",
       "</table>\n",
       "</div>"
      ],
      "text/plain": [
       "        User_ID Product_ID Gender    Age  Occupation City_Category  \\\n",
       "25152   1003864  P00159442      M  51-55          20             C   \n",
       "381800  1004725  P00071242      M  36-45           5             A   \n",
       "433582  1000774  P00127442      M  18-25           4             A   \n",
       "126732  1001542  P00005942      M  18-25          17             C   \n",
       "455644  1004112  P00152742      M  46-50          18             B   \n",
       "\n",
       "       Stay_In_Current_City_Years  Marital_Status  Product_Category_1  \\\n",
       "25152                           0               1                   5   \n",
       "381800                          2               0                   1   \n",
       "433582                         4+               0                   1   \n",
       "126732                         4+               0                   2   \n",
       "455644                          3               1                   5   \n",
       "\n",
       "        Product_Category_2  Product_Category_3  Purchase  \\\n",
       "25152                  8.0                 NaN      7027   \n",
       "381800                15.0                16.0     11563   \n",
       "433582                 2.0                15.0     11466   \n",
       "126732                 4.0                 9.0      6616   \n",
       "455644                 NaN                 NaN      7171   \n",
       "\n",
       "        Median_Product_Purchase  Median_User_Purchase  has_cat_3  has_cat_2  \n",
       "25152                    6870.0                9889.5       True      False  \n",
       "381800                  11764.0                8068.0      False      False  \n",
       "433582                  15201.0                8039.0      False      False  \n",
       "126732                   9974.0               11374.0      False      False  \n",
       "455644                   6995.5                8653.0       True       True  "
      ]
     },
     "execution_count": 128,
     "metadata": {},
     "output_type": "execute_result"
    }
   ],
   "source": [
    "print(train.shape)\n",
    "train.head()"
   ]
  },
  {
   "cell_type": "code",
   "execution_count": 5,
   "id": "decef92e",
   "metadata": {},
   "outputs": [
    {
     "name": "stdout",
     "output_type": "stream",
     "text": [
      "(233599, 11)\n"
     ]
    },
    {
     "data": {
      "text/html": [
       "<div>\n",
       "<style scoped>\n",
       "    .dataframe tbody tr th:only-of-type {\n",
       "        vertical-align: middle;\n",
       "    }\n",
       "\n",
       "    .dataframe tbody tr th {\n",
       "        vertical-align: top;\n",
       "    }\n",
       "\n",
       "    .dataframe thead th {\n",
       "        text-align: right;\n",
       "    }\n",
       "</style>\n",
       "<table border=\"1\" class=\"dataframe\">\n",
       "  <thead>\n",
       "    <tr style=\"text-align: right;\">\n",
       "      <th></th>\n",
       "      <th>User_ID</th>\n",
       "      <th>Product_ID</th>\n",
       "      <th>Gender</th>\n",
       "      <th>Age</th>\n",
       "      <th>Occupation</th>\n",
       "      <th>City_Category</th>\n",
       "      <th>Stay_In_Current_City_Years</th>\n",
       "      <th>Marital_Status</th>\n",
       "      <th>Product_Category_1</th>\n",
       "      <th>Product_Category_2</th>\n",
       "      <th>Product_Category_3</th>\n",
       "    </tr>\n",
       "  </thead>\n",
       "  <tbody>\n",
       "    <tr>\n",
       "      <th>0</th>\n",
       "      <td>1000004</td>\n",
       "      <td>P00128942</td>\n",
       "      <td>M</td>\n",
       "      <td>46-50</td>\n",
       "      <td>7</td>\n",
       "      <td>B</td>\n",
       "      <td>2</td>\n",
       "      <td>1</td>\n",
       "      <td>1</td>\n",
       "      <td>11.0</td>\n",
       "      <td>NaN</td>\n",
       "    </tr>\n",
       "    <tr>\n",
       "      <th>1</th>\n",
       "      <td>1000009</td>\n",
       "      <td>P00113442</td>\n",
       "      <td>M</td>\n",
       "      <td>26-35</td>\n",
       "      <td>17</td>\n",
       "      <td>C</td>\n",
       "      <td>0</td>\n",
       "      <td>0</td>\n",
       "      <td>3</td>\n",
       "      <td>5.0</td>\n",
       "      <td>NaN</td>\n",
       "    </tr>\n",
       "    <tr>\n",
       "      <th>2</th>\n",
       "      <td>1000010</td>\n",
       "      <td>P00288442</td>\n",
       "      <td>F</td>\n",
       "      <td>36-45</td>\n",
       "      <td>1</td>\n",
       "      <td>B</td>\n",
       "      <td>4+</td>\n",
       "      <td>1</td>\n",
       "      <td>5</td>\n",
       "      <td>14.0</td>\n",
       "      <td>NaN</td>\n",
       "    </tr>\n",
       "    <tr>\n",
       "      <th>3</th>\n",
       "      <td>1000010</td>\n",
       "      <td>P00145342</td>\n",
       "      <td>F</td>\n",
       "      <td>36-45</td>\n",
       "      <td>1</td>\n",
       "      <td>B</td>\n",
       "      <td>4+</td>\n",
       "      <td>1</td>\n",
       "      <td>4</td>\n",
       "      <td>9.0</td>\n",
       "      <td>NaN</td>\n",
       "    </tr>\n",
       "    <tr>\n",
       "      <th>4</th>\n",
       "      <td>1000011</td>\n",
       "      <td>P00053842</td>\n",
       "      <td>F</td>\n",
       "      <td>26-35</td>\n",
       "      <td>1</td>\n",
       "      <td>C</td>\n",
       "      <td>1</td>\n",
       "      <td>0</td>\n",
       "      <td>4</td>\n",
       "      <td>5.0</td>\n",
       "      <td>12.0</td>\n",
       "    </tr>\n",
       "  </tbody>\n",
       "</table>\n",
       "</div>"
      ],
      "text/plain": [
       "   User_ID Product_ID Gender    Age  Occupation City_Category  \\\n",
       "0  1000004  P00128942      M  46-50           7             B   \n",
       "1  1000009  P00113442      M  26-35          17             C   \n",
       "2  1000010  P00288442      F  36-45           1             B   \n",
       "3  1000010  P00145342      F  36-45           1             B   \n",
       "4  1000011  P00053842      F  26-35           1             C   \n",
       "\n",
       "  Stay_In_Current_City_Years  Marital_Status  Product_Category_1  \\\n",
       "0                          2               1                   1   \n",
       "1                          0               0                   3   \n",
       "2                         4+               1                   5   \n",
       "3                         4+               1                   4   \n",
       "4                          1               0                   4   \n",
       "\n",
       "   Product_Category_2  Product_Category_3  \n",
       "0                11.0                 NaN  \n",
       "1                 5.0                 NaN  \n",
       "2                14.0                 NaN  \n",
       "3                 9.0                 NaN  \n",
       "4                 5.0                12.0  "
      ]
     },
     "execution_count": 5,
     "metadata": {},
     "output_type": "execute_result"
    }
   ],
   "source": [
    "print(test.shape)\n",
    "test.head()\n",
    "# Need to predict `Purchase`"
   ]
  },
  {
   "cell_type": "markdown",
   "id": "247e3f02",
   "metadata": {},
   "source": [
    "# Exploratory Data Analysis"
   ]
  },
  {
   "cell_type": "code",
   "execution_count": 114,
   "id": "cba46ba6",
   "metadata": {},
   "outputs": [],
   "source": [
    "data = train.copy()"
   ]
  },
  {
   "cell_type": "code",
   "execution_count": 7,
   "id": "2acf67f0",
   "metadata": {},
   "outputs": [
    {
     "name": "stdout",
     "output_type": "stream",
     "text": [
      "<class 'pandas.core.frame.DataFrame'>\n",
      "RangeIndex: 550068 entries, 0 to 550067\n",
      "Data columns (total 12 columns):\n",
      " #   Column                      Non-Null Count   Dtype  \n",
      "---  ------                      --------------   -----  \n",
      " 0   User_ID                     550068 non-null  int64  \n",
      " 1   Product_ID                  550068 non-null  object \n",
      " 2   Gender                      550068 non-null  object \n",
      " 3   Age                         550068 non-null  object \n",
      " 4   Occupation                  550068 non-null  int64  \n",
      " 5   City_Category               550068 non-null  object \n",
      " 6   Stay_In_Current_City_Years  550068 non-null  object \n",
      " 7   Marital_Status              550068 non-null  int64  \n",
      " 8   Product_Category_1          550068 non-null  int64  \n",
      " 9   Product_Category_2          376430 non-null  float64\n",
      " 10  Product_Category_3          166821 non-null  float64\n",
      " 11  Purchase                    550068 non-null  int64  \n",
      "dtypes: float64(2), int64(5), object(5)\n",
      "memory usage: 50.4+ MB\n"
     ]
    }
   ],
   "source": [
    "data.info()"
   ]
  },
  {
   "cell_type": "markdown",
   "id": "2d91d4bc",
   "metadata": {},
   "source": [
    "### `User_ID`"
   ]
  },
  {
   "cell_type": "code",
   "execution_count": 8,
   "id": "5a85a5c4",
   "metadata": {},
   "outputs": [
    {
     "data": {
      "text/plain": [
       "5891"
      ]
     },
     "execution_count": 8,
     "metadata": {},
     "output_type": "execute_result"
    }
   ],
   "source": [
    "data['User_ID'].nunique()"
   ]
  },
  {
   "cell_type": "code",
   "execution_count": 9,
   "id": "56ab0f64",
   "metadata": {},
   "outputs": [
    {
     "data": {
      "text/plain": [
       "array([1000001, 1000002, 1000003, ..., 1004113, 1005391, 1001529])"
      ]
     },
     "execution_count": 9,
     "metadata": {},
     "output_type": "execute_result"
    }
   ],
   "source": [
    "data['User_ID'].unique()"
   ]
  },
  {
   "cell_type": "markdown",
   "id": "3c8d3914",
   "metadata": {},
   "source": [
    "### `Product_ID`"
   ]
  },
  {
   "cell_type": "code",
   "execution_count": 10,
   "id": "4d71b9b1",
   "metadata": {},
   "outputs": [
    {
     "data": {
      "text/plain": [
       "3631"
      ]
     },
     "execution_count": 10,
     "metadata": {},
     "output_type": "execute_result"
    }
   ],
   "source": [
    "data['Product_ID'].nunique()"
   ]
  },
  {
   "cell_type": "code",
   "execution_count": 11,
   "id": "27eb8505",
   "metadata": {},
   "outputs": [
    {
     "data": {
      "text/plain": [
       "array(['P00069042', 'P00248942', 'P00087842', ..., 'P00370293',\n",
       "       'P00371644', 'P00370853'], dtype=object)"
      ]
     },
     "execution_count": 11,
     "metadata": {},
     "output_type": "execute_result"
    }
   ],
   "source": [
    "data['Product_ID'].unique()"
   ]
  },
  {
   "cell_type": "markdown",
   "id": "d0d11d8d",
   "metadata": {},
   "source": [
    "### `Gender`"
   ]
  },
  {
   "cell_type": "code",
   "execution_count": 12,
   "id": "e932c6b5",
   "metadata": {},
   "outputs": [
    {
     "data": {
      "text/plain": [
       "M    414259\n",
       "F    135809\n",
       "Name: Gender, dtype: int64"
      ]
     },
     "execution_count": 12,
     "metadata": {},
     "output_type": "execute_result"
    }
   ],
   "source": [
    "data['Gender'].value_counts()"
   ]
  },
  {
   "cell_type": "code",
   "execution_count": 13,
   "id": "a4d208f0",
   "metadata": {},
   "outputs": [
    {
     "data": {
      "text/plain": [
       "M    75.310507\n",
       "F    24.689493\n",
       "Name: Gender, dtype: float64"
      ]
     },
     "execution_count": 13,
     "metadata": {},
     "output_type": "execute_result"
    }
   ],
   "source": [
    "data['Gender'].value_counts()/len(data) * 100"
   ]
  },
  {
   "cell_type": "code",
   "execution_count": 14,
   "id": "caeae0d9",
   "metadata": {},
   "outputs": [
    {
     "data": {
      "text/html": [
       "\n",
       "<div id=\"altair-viz-e406ec49899440c1b8e681b9a5d6b218\"></div>\n",
       "<script type=\"text/javascript\">\n",
       "  (function(spec, embedOpt){\n",
       "    let outputDiv = document.currentScript.previousElementSibling;\n",
       "    if (outputDiv.id !== \"altair-viz-e406ec49899440c1b8e681b9a5d6b218\") {\n",
       "      outputDiv = document.getElementById(\"altair-viz-e406ec49899440c1b8e681b9a5d6b218\");\n",
       "    }\n",
       "    const paths = {\n",
       "      \"vega\": \"https://cdn.jsdelivr.net/npm//vega@5?noext\",\n",
       "      \"vega-lib\": \"https://cdn.jsdelivr.net/npm//vega-lib?noext\",\n",
       "      \"vega-lite\": \"https://cdn.jsdelivr.net/npm//vega-lite@4.8.1?noext\",\n",
       "      \"vega-embed\": \"https://cdn.jsdelivr.net/npm//vega-embed@6?noext\",\n",
       "    };\n",
       "\n",
       "    function loadScript(lib) {\n",
       "      return new Promise(function(resolve, reject) {\n",
       "        var s = document.createElement('script');\n",
       "        s.src = paths[lib];\n",
       "        s.async = true;\n",
       "        s.onload = () => resolve(paths[lib]);\n",
       "        s.onerror = () => reject(`Error loading script: ${paths[lib]}`);\n",
       "        document.getElementsByTagName(\"head\")[0].appendChild(s);\n",
       "      });\n",
       "    }\n",
       "\n",
       "    function showError(err) {\n",
       "      outputDiv.innerHTML = `<div class=\"error\" style=\"color:red;\">${err}</div>`;\n",
       "      throw err;\n",
       "    }\n",
       "\n",
       "    function displayChart(vegaEmbed) {\n",
       "      vegaEmbed(outputDiv, spec, embedOpt)\n",
       "        .catch(err => showError(`Javascript Error: ${err.message}<br>This usually means there's a typo in your chart specification. See the javascript console for the full traceback.`));\n",
       "    }\n",
       "\n",
       "    if(typeof define === \"function\" && define.amd) {\n",
       "      requirejs.config({paths});\n",
       "      require([\"vega-embed\"], displayChart, err => showError(`Error loading script: ${err.message}`));\n",
       "    } else if (typeof vegaEmbed === \"function\") {\n",
       "      displayChart(vegaEmbed);\n",
       "    } else {\n",
       "      loadScript(\"vega\")\n",
       "        .then(() => loadScript(\"vega-lite\"))\n",
       "        .then(() => loadScript(\"vega-embed\"))\n",
       "        .catch(showError)\n",
       "        .then(() => displayChart(vegaEmbed));\n",
       "    }\n",
       "  })({\"config\": {\"view\": {\"continuousWidth\": 400, \"continuousHeight\": 300}}, \"data\": {\"name\": \"data-4737023b0b47da9db3535c53da5c077b\"}, \"mark\": \"bar\", \"encoding\": {\"tooltip\": [{\"type\": \"nominal\", \"field\": \"Gender\"}, {\"type\": \"quantitative\", \"field\": \"Count\"}], \"x\": {\"type\": \"nominal\", \"field\": \"Gender\"}, \"y\": {\"type\": \"quantitative\", \"field\": \"Count\"}}, \"title\": \"Value Counts of Gender\", \"width\": 250, \"$schema\": \"https://vega.github.io/schema/vega-lite/v4.8.1.json\", \"datasets\": {\"data-4737023b0b47da9db3535c53da5c077b\": [{\"Gender\": \"Male\", \"Count\": 414259}, {\"Gender\": \"Female\", \"Count\": 135809}]}}, {\"mode\": \"vega-lite\"});\n",
       "</script>"
      ],
      "text/plain": [
       "alt.Chart(...)"
      ]
     },
     "execution_count": 14,
     "metadata": {},
     "output_type": "execute_result"
    }
   ],
   "source": [
    "df = pd.DataFrame(data['Gender'].value_counts()).reset_index()\n",
    "df.columns = ['Gender', 'Count']\n",
    "df['Gender'] = ['Male', 'Female']\n",
    "alt.Chart(df, title=\"Value Counts of Gender\").mark_bar().encode(\n",
    "    x=\"Gender:N\", \n",
    "    y=\"Count:Q\",\n",
    "    tooltip=[\"Gender\", \"Count\"]\n",
    ").properties(width=250)"
   ]
  },
  {
   "cell_type": "code",
   "execution_count": 15,
   "id": "932f3fd1",
   "metadata": {},
   "outputs": [
    {
     "data": {
      "image/png": "[encoded data removed]",
      "text/plain": [
       "<Figure size 360x360 with 1 Axes>"
      ]
     },
     "metadata": {
      "needs_background": "light"
     },
     "output_type": "display_data"
    }
   ],
   "source": [
    "sns.catplot(x=\"Gender\", y=\"Purchase\", kind=\"box\", data=data)\n",
    "g = plt.title(\"Distribution of Purchase for Female and Male\")"
   ]
  },
  {
   "cell_type": "markdown",
   "id": "f8a55290",
   "metadata": {},
   "source": [
    "### `Age`"
   ]
  },
  {
   "cell_type": "code",
   "execution_count": 16,
   "id": "df7c3b7d",
   "metadata": {},
   "outputs": [
    {
     "data": {
      "text/plain": [
       "0          0-17\n",
       "1          0-17\n",
       "2          0-17\n",
       "3          0-17\n",
       "4           55+\n",
       "          ...  \n",
       "550063    51-55\n",
       "550064    26-35\n",
       "550065    26-35\n",
       "550066      55+\n",
       "550067    46-50\n",
       "Name: Age, Length: 550068, dtype: object"
      ]
     },
     "execution_count": 16,
     "metadata": {},
     "output_type": "execute_result"
    }
   ],
   "source": [
    "data['Age']"
   ]
  },
  {
   "cell_type": "code",
   "execution_count": 17,
   "id": "3014fe47",
   "metadata": {},
   "outputs": [
    {
     "data": {
      "text/plain": [
       "array(['0-17', '55+', '26-35', '46-50', '51-55', '36-45', '18-25'],\n",
       "      dtype=object)"
      ]
     },
     "execution_count": 17,
     "metadata": {},
     "output_type": "execute_result"
    }
   ],
   "source": [
    "data['Age'].unique()"
   ]
  },
  {
   "cell_type": "code",
   "execution_count": 18,
   "id": "4eefe39a",
   "metadata": {},
   "outputs": [
    {
     "data": {
      "text/html": [
       "\n",
       "<div id=\"altair-viz-f91bdbb9228f4ec79037365196707aed\"></div>\n",
       "<script type=\"text/javascript\">\n",
       "  (function(spec, embedOpt){\n",
       "    let outputDiv = document.currentScript.previousElementSibling;\n",
       "    if (outputDiv.id !== \"altair-viz-f91bdbb9228f4ec79037365196707aed\") {\n",
       "      outputDiv = document.getElementById(\"altair-viz-f91bdbb9228f4ec79037365196707aed\");\n",
       "    }\n",
       "    const paths = {\n",
       "      \"vega\": \"https://cdn.jsdelivr.net/npm//vega@5?noext\",\n",
       "      \"vega-lib\": \"https://cdn.jsdelivr.net/npm//vega-lib?noext\",\n",
       "      \"vega-lite\": \"https://cdn.jsdelivr.net/npm//vega-lite@4.8.1?noext\",\n",
       "      \"vega-embed\": \"https://cdn.jsdelivr.net/npm//vega-embed@6?noext\",\n",
       "    };\n",
       "\n",
       "    function loadScript(lib) {\n",
       "      return new Promise(function(resolve, reject) {\n",
       "        var s = document.createElement('script');\n",
       "        s.src = paths[lib];\n",
       "        s.async = true;\n",
       "        s.onload = () => resolve(paths[lib]);\n",
       "        s.onerror = () => reject(`Error loading script: ${paths[lib]}`);\n",
       "        document.getElementsByTagName(\"head\")[0].appendChild(s);\n",
       "      });\n",
       "    }\n",
       "\n",
       "    function showError(err) {\n",
       "      outputDiv.innerHTML = `<div class=\"error\" style=\"color:red;\">${err}</div>`;\n",
       "      throw err;\n",
       "    }\n",
       "\n",
       "    function displayChart(vegaEmbed) {\n",
       "      vegaEmbed(outputDiv, spec, embedOpt)\n",
       "        .catch(err => showError(`Javascript Error: ${err.message}<br>This usually means there's a typo in your chart specification. See the javascript console for the full traceback.`));\n",
       "    }\n",
       "\n",
       "    if(typeof define === \"function\" && define.amd) {\n",
       "      requirejs.config({paths});\n",
       "      require([\"vega-embed\"], displayChart, err => showError(`Error loading script: ${err.message}`));\n",
       "    } else if (typeof vegaEmbed === \"function\") {\n",
       "      displayChart(vegaEmbed);\n",
       "    } else {\n",
       "      loadScript(\"vega\")\n",
       "        .then(() => loadScript(\"vega-lite\"))\n",
       "        .then(() => loadScript(\"vega-embed\"))\n",
       "        .catch(showError)\n",
       "        .then(() => displayChart(vegaEmbed));\n",
       "    }\n",
       "  })({\"config\": {\"view\": {\"continuousWidth\": 400, \"continuousHeight\": 300}}, \"data\": {\"name\": \"data-f18936316865c88373bbfd82a5e40ce8\"}, \"mark\": \"bar\", \"encoding\": {\"tooltip\": [{\"type\": \"nominal\", \"field\": \"Age\"}, {\"type\": \"quantitative\", \"field\": \"Count\"}], \"x\": {\"type\": \"ordinal\", \"field\": \"Age\"}, \"y\": {\"type\": \"quantitative\", \"field\": \"Count\", \"scale\": {\"domain\": [0, 240000]}}}, \"title\": \"Value Counts of Age\", \"width\": 300, \"$schema\": \"https://vega.github.io/schema/vega-lite/v4.8.1.json\", \"datasets\": {\"data-f18936316865c88373bbfd82a5e40ce8\": [{\"Age\": \"0-17\", \"Count\": 15102}, {\"Age\": \"18-25\", \"Count\": 99660}, {\"Age\": \"26-35\", \"Count\": 219587}, {\"Age\": \"36-45\", \"Count\": 110013}, {\"Age\": \"46-50\", \"Count\": 45701}, {\"Age\": \"51-55\", \"Count\": 38501}, {\"Age\": \"55+\", \"Count\": 21504}]}}, {\"mode\": \"vega-lite\"});\n",
       "</script>"
      ],
      "text/plain": [
       "alt.Chart(...)"
      ]
     },
     "execution_count": 18,
     "metadata": {},
     "output_type": "execute_result"
    }
   ],
   "source": [
    "df = pd.DataFrame(data['Age'].value_counts())\n",
    "df = df.reindex(['0-17', '18-25', '26-35', '36-45', '46-50', '51-55', '55+'])\n",
    "df.reset_index(inplace=True)\n",
    "df.columns=['Age', 'Count']\n",
    "alt.Chart(df, title=\"Value Counts of Age\").mark_bar().encode(\n",
    "    x=\"Age:O\", \n",
    "    y=alt.Y(\"Count:Q\",scale=alt.Scale(domain=(0, 240000))),\n",
    "    tooltip=[\"Age\", \"Count\"]\n",
    ").properties(width=300)"
   ]
  },
  {
   "cell_type": "code",
   "execution_count": 19,
   "id": "59c8673d",
   "metadata": {},
   "outputs": [
    {
     "data": {
      "image/png": "[encoded data removed]",
      "text/plain": [
       "<Figure size 360x360 with 1 Axes>"
      ]
     },
     "metadata": {
      "needs_background": "light"
     },
     "output_type": "display_data"
    }
   ],
   "source": [
    "sns.catplot(x=\"Age\", y=\"Purchase\", kind=\"box\", data=data)\n",
    "g = plt.title(\"Distribution of Purchase for Different Age Groups\")"
   ]
  },
  {
   "cell_type": "markdown",
   "id": "276929c1",
   "metadata": {},
   "source": [
    "### `Occupation`"
   ]
  },
  {
   "cell_type": "markdown",
   "id": "b1f8832d",
   "metadata": {},
   "source": [
    "Occupation (masked)"
   ]
  },
  {
   "cell_type": "code",
   "execution_count": 20,
   "id": "08a92948",
   "metadata": {},
   "outputs": [
    {
     "data": {
      "text/plain": [
       "array([ 0,  1,  2,  3,  4,  5,  6,  7,  8,  9, 10, 11, 12, 13, 14, 15, 16,\n",
       "       17, 18, 19, 20])"
      ]
     },
     "execution_count": 20,
     "metadata": {},
     "output_type": "execute_result"
    }
   ],
   "source": [
    "# Occupation code from 0 to 20\n",
    "np.sort(data['Occupation'].unique())"
   ]
  },
  {
   "cell_type": "code",
   "execution_count": 21,
   "id": "c49a50f0",
   "metadata": {},
   "outputs": [
    {
     "data": {
      "text/plain": [
       "<AxesSubplot:>"
      ]
     },
     "execution_count": 21,
     "metadata": {},
     "output_type": "execute_result"
    },
    {
     "data": {
      "image/png": "[encoded data removed]",
      "text/plain": [
       "<Figure size 576x360 with 1 Axes>"
      ]
     },
     "metadata": {
      "needs_background": "light"
     },
     "output_type": "display_data"
    }
   ],
   "source": [
    "plt.figure(figsize=(8, 5))\n",
    "data['Occupation'].value_counts().sort_index().plot(kind='bar')"
   ]
  },
  {
   "cell_type": "code",
   "execution_count": 22,
   "id": "74369830",
   "metadata": {},
   "outputs": [
    {
     "data": {
      "text/plain": [
       "<AxesSubplot:xlabel='Occupation'>"
      ]
     },
     "execution_count": 22,
     "metadata": {},
     "output_type": "execute_result"
    },
    {
     "data": {
      "image/png": "[encoded data removed]",
      "text/plain": [
       "<Figure size 576x360 with 1 Axes>"
      ]
     },
     "metadata": {
      "needs_background": "light"
     },
     "output_type": "display_data"
    }
   ],
   "source": [
    "plt.figure(figsize=(8, 5))\n",
    "data.groupby(['Occupation'])['Purchase'].mean().plot(kind='bar')"
   ]
  },
  {
   "cell_type": "code",
   "execution_count": 116,
   "id": "ddb96ea0",
   "metadata": {},
   "outputs": [
    {
     "data": {
      "image/png": "[encoded data removed]",
      "text/plain": [
       "<Figure size 720x468 with 1 Axes>"
      ]
     },
     "metadata": {
      "needs_background": "light"
     },
     "output_type": "display_data"
    }
   ],
   "source": [
    "g = sns.catplot(\n",
    "    x=\"Occupation\", y=\"Purchase\", kind=\"box\", data=data\n",
    ").set(title='Distribution of Purchase for Different Occupations')\n",
    "g.fig.set_size_inches(10, 6.5)"
   ]
  },
  {
   "cell_type": "markdown",
   "id": "01dfa8ee",
   "metadata": {},
   "source": [
    "### `City_Category`"
   ]
  },
  {
   "cell_type": "code",
   "execution_count": 23,
   "id": "02a415be",
   "metadata": {},
   "outputs": [
    {
     "data": {
      "text/plain": [
       "array(['A', 'C', 'B'], dtype=object)"
      ]
     },
     "execution_count": 23,
     "metadata": {},
     "output_type": "execute_result"
    }
   ],
   "source": [
    "data['City_Category'].unique()"
   ]
  },
  {
   "cell_type": "code",
   "execution_count": 24,
   "id": "5febeed3",
   "metadata": {},
   "outputs": [
    {
     "data": {
      "text/plain": [
       "<AxesSubplot:>"
      ]
     },
     "execution_count": 24,
     "metadata": {},
     "output_type": "execute_result"
    },
    {
     "data": {
      "image/png": "[encoded data removed]",
      "text/plain": [
       "<Figure size 432x288 with 1 Axes>"
      ]
     },
     "metadata": {
      "needs_background": "light"
     },
     "output_type": "display_data"
    }
   ],
   "source": [
    "# plt.figure(figsize=(8, 5))\n",
    "data['City_Category'].value_counts().sort_index().plot(kind='bar')"
   ]
  },
  {
   "cell_type": "code",
   "execution_count": 25,
   "id": "8e1c76bb",
   "metadata": {},
   "outputs": [
    {
     "data": {
      "text/plain": [
       "<AxesSubplot:xlabel='City_Category'>"
      ]
     },
     "execution_count": 25,
     "metadata": {},
     "output_type": "execute_result"
    },
    {
     "data": {
      "image/png": "[encoded data removed]",
      "text/plain": [
       "<Figure size 432x288 with 1 Axes>"
      ]
     },
     "metadata": {
      "needs_background": "light"
     },
     "output_type": "display_data"
    }
   ],
   "source": [
    "data.groupby(['City_Category'])['Purchase'].mean().plot(kind='bar')"
   ]
  },
  {
   "cell_type": "code",
   "execution_count": 26,
   "id": "f833c4b1",
   "metadata": {},
   "outputs": [
    {
     "data": {
      "image/png": "[encoded data removed]",
      "text/plain": [
       "<Figure size 360x360 with 1 Axes>"
      ]
     },
     "metadata": {
      "needs_background": "light"
     },
     "output_type": "display_data"
    }
   ],
   "source": [
    "sns.catplot(x=\"City_Category\", y=\"Purchase\", kind=\"box\", data=data, order=['A', 'B', 'C'])\n",
    "g = plt.title(\"Distribution of Purchase for Different City Categories\")"
   ]
  },
  {
   "cell_type": "markdown",
   "id": "bfee7df0",
   "metadata": {},
   "source": [
    "### `Stay_In_Current_City_Years`"
   ]
  },
  {
   "cell_type": "code",
   "execution_count": 27,
   "id": "48fe338c",
   "metadata": {},
   "outputs": [
    {
     "data": {
      "text/plain": [
       "array(['2', '4+', '3', '1', '0'], dtype=object)"
      ]
     },
     "execution_count": 27,
     "metadata": {},
     "output_type": "execute_result"
    }
   ],
   "source": [
    "data['Stay_In_Current_City_Years'].unique()"
   ]
  },
  {
   "cell_type": "code",
   "execution_count": 28,
   "id": "61a89b0c",
   "metadata": {},
   "outputs": [
    {
     "data": {
      "text/plain": [
       "0      74398\n",
       "1     193821\n",
       "2     101838\n",
       "3      95285\n",
       "4+     84726\n",
       "Name: Stay_In_Current_City_Years, dtype: int64"
      ]
     },
     "execution_count": 28,
     "metadata": {},
     "output_type": "execute_result"
    }
   ],
   "source": [
    "data['Stay_In_Current_City_Years'].value_counts().sort_index()"
   ]
  },
  {
   "cell_type": "code",
   "execution_count": 29,
   "id": "cf2f8427",
   "metadata": {},
   "outputs": [
    {
     "data": {
      "text/plain": [
       "<AxesSubplot:>"
      ]
     },
     "execution_count": 29,
     "metadata": {},
     "output_type": "execute_result"
    },
    {
     "data": {
      "image/png": "[encoded data removed]",
      "text/plain": [
       "<Figure size 432x288 with 1 Axes>"
      ]
     },
     "metadata": {
      "needs_background": "light"
     },
     "output_type": "display_data"
    }
   ],
   "source": [
    "data['Stay_In_Current_City_Years'].value_counts().sort_index().plot(kind='bar')"
   ]
  },
  {
   "cell_type": "code",
   "execution_count": 30,
   "id": "cc232017",
   "metadata": {},
   "outputs": [
    {
     "data": {
      "image/png": "[encoded data removed]",
      "text/plain": [
       "<Figure size 360x360 with 1 Axes>"
      ]
     },
     "metadata": {
      "needs_background": "light"
     },
     "output_type": "display_data"
    }
   ],
   "source": [
    "sns.catplot(x=\"Stay_In_Current_City_Years\", y=\"Purchase\", kind=\"box\", data=data)\n",
    "g = plt.title(\"Distribution of Purchase for Different Stay_In_Current_City_Years\")"
   ]
  },
  {
   "cell_type": "code",
   "execution_count": 31,
   "id": "7490f2c6",
   "metadata": {},
   "outputs": [
    {
     "data": {
      "text/plain": [
       "Stay_In_Current_City_Years\n",
       "0     9180.075123\n",
       "1     9250.145923\n",
       "2     9320.429810\n",
       "3     9286.904119\n",
       "4+    9275.598872\n",
       "Name: Purchase, dtype: float64"
      ]
     },
     "execution_count": 31,
     "metadata": {},
     "output_type": "execute_result"
    }
   ],
   "source": [
    "data.groupby(['Stay_In_Current_City_Years'])['Purchase'].mean()"
   ]
  },
  {
   "cell_type": "code",
   "execution_count": 32,
   "id": "dc584b5a",
   "metadata": {},
   "outputs": [
    {
     "data": {
      "text/plain": [
       "<AxesSubplot:xlabel='Stay_In_Current_City_Years'>"
      ]
     },
     "execution_count": 32,
     "metadata": {},
     "output_type": "execute_result"
    },
    {
     "data": {
      "image/png": "[encoded data removed]",
      "text/plain": [
       "<Figure size 432x288 with 1 Axes>"
      ]
     },
     "metadata": {
      "needs_background": "light"
     },
     "output_type": "display_data"
    }
   ],
   "source": [
    "data.groupby(['Stay_In_Current_City_Years'])['Purchase'].mean().plot(kind='bar')"
   ]
  },
  {
   "cell_type": "markdown",
   "id": "f91782cf",
   "metadata": {},
   "source": [
    "### `Marital_Status`"
   ]
  },
  {
   "cell_type": "code",
   "execution_count": 33,
   "id": "e837c950",
   "metadata": {},
   "outputs": [
    {
     "data": {
      "text/plain": [
       "0    324731\n",
       "1    225337\n",
       "Name: Marital_Status, dtype: int64"
      ]
     },
     "execution_count": 33,
     "metadata": {},
     "output_type": "execute_result"
    }
   ],
   "source": [
    "data['Marital_Status'].value_counts()"
   ]
  },
  {
   "cell_type": "code",
   "execution_count": 34,
   "id": "95195297",
   "metadata": {},
   "outputs": [
    {
     "data": {
      "text/plain": [
       "<AxesSubplot:>"
      ]
     },
     "execution_count": 34,
     "metadata": {},
     "output_type": "execute_result"
    },
    {
     "data": {
      "image/png": "[encoded data removed]",
      "text/plain": [
       "<Figure size 432x288 with 1 Axes>"
      ]
     },
     "metadata": {
      "needs_background": "light"
     },
     "output_type": "display_data"
    }
   ],
   "source": [
    "data['Marital_Status'].value_counts().plot(kind='bar')"
   ]
  },
  {
   "cell_type": "code",
   "execution_count": 35,
   "id": "a377637f",
   "metadata": {},
   "outputs": [
    {
     "data": {
      "image/png": "[encoded data removed]",
      "text/plain": [
       "<Figure size 360x360 with 1 Axes>"
      ]
     },
     "metadata": {
      "needs_background": "light"
     },
     "output_type": "display_data"
    }
   ],
   "source": [
    "sns.catplot(x=\"Marital_Status\", y=\"Purchase\", kind=\"box\", data=data)\n",
    "g = plt.title(\"Distribution of Purchase for Different Marital Status\")"
   ]
  },
  {
   "cell_type": "code",
   "execution_count": 36,
   "id": "db5e6436",
   "metadata": {
    "scrolled": true
   },
   "outputs": [
    {
     "data": {
      "text/plain": [
       "Marital_Status\n",
       "0    9265.907619\n",
       "1    9261.174574\n",
       "Name: Purchase, dtype: float64"
      ]
     },
     "execution_count": 36,
     "metadata": {},
     "output_type": "execute_result"
    }
   ],
   "source": [
    "data.groupby(['Marital_Status'])['Purchase'].mean()\n",
    "# Nearly no difference"
   ]
  },
  {
   "cell_type": "markdown",
   "id": "bb88c179",
   "metadata": {},
   "source": [
    "### `Product_Category_1`"
   ]
  },
  {
   "cell_type": "code",
   "execution_count": 37,
   "id": "062c39fe",
   "metadata": {},
   "outputs": [
    {
     "data": {
      "text/plain": [
       "0"
      ]
     },
     "execution_count": 37,
     "metadata": {},
     "output_type": "execute_result"
    }
   ],
   "source": [
    "sum(data['Product_Category_1'].isna())"
   ]
  },
  {
   "cell_type": "code",
   "execution_count": 38,
   "id": "f060fe1d",
   "metadata": {},
   "outputs": [
    {
     "data": {
      "text/plain": [
       "array([ 1,  2,  3,  4,  5,  6,  7,  8,  9, 10, 11, 12, 13, 14, 15, 16, 17,\n",
       "       18, 19, 20])"
      ]
     },
     "execution_count": 38,
     "metadata": {},
     "output_type": "execute_result"
    }
   ],
   "source": [
    "np.sort(data['Product_Category_1'].unique())"
   ]
  },
  {
   "cell_type": "code",
   "execution_count": 39,
   "id": "162d8630",
   "metadata": {},
   "outputs": [
    {
     "data": {
      "text/plain": [
       "<AxesSubplot:>"
      ]
     },
     "execution_count": 39,
     "metadata": {},
     "output_type": "execute_result"
    },
    {
     "data": {
      "image/png": "[encoded data removed]",
      "text/plain": [
       "<Figure size 576x360 with 1 Axes>"
      ]
     },
     "metadata": {
      "needs_background": "light"
     },
     "output_type": "display_data"
    }
   ],
   "source": [
    "plt.figure(figsize=(8, 5))\n",
    "data['Product_Category_1'].value_counts().sort_index().plot(kind='bar')"
   ]
  },
  {
   "cell_type": "code",
   "execution_count": 40,
   "id": "8694cf12",
   "metadata": {},
   "outputs": [
    {
     "data": {
      "image/png": "[encoded data removed]",
      "text/plain": [
       "<Figure size 720x468 with 1 Axes>"
      ]
     },
     "metadata": {
      "needs_background": "light"
     },
     "output_type": "display_data"
    }
   ],
   "source": [
    "g = sns.catplot(\n",
    "    x=\"Product_Category_1\", y=\"Purchase\", kind=\"box\", data=data\n",
    ").set(title='Distribution of Purchase for Different Product Category 1')\n",
    "g.fig.set_size_inches(10, 6.5)"
   ]
  },
  {
   "cell_type": "markdown",
   "id": "7836e7fc",
   "metadata": {},
   "source": [
    "### `Product_Category_2`"
   ]
  },
  {
   "cell_type": "code",
   "execution_count": 41,
   "id": "cffd6b66",
   "metadata": {},
   "outputs": [
    {
     "data": {
      "text/plain": [
       "173638"
      ]
     },
     "execution_count": 41,
     "metadata": {},
     "output_type": "execute_result"
    }
   ],
   "source": [
    "sum(data['Product_Category_2'].isna())"
   ]
  },
  {
   "cell_type": "code",
   "execution_count": 42,
   "id": "2969f839",
   "metadata": {},
   "outputs": [
    {
     "data": {
      "text/plain": [
       "0.3156664266963357"
      ]
     },
     "execution_count": 42,
     "metadata": {},
     "output_type": "execute_result"
    }
   ],
   "source": [
    "(data['Product_Category_2'].isna()).mean()"
   ]
  },
  {
   "cell_type": "code",
   "execution_count": 43,
   "id": "59204a24",
   "metadata": {},
   "outputs": [
    {
     "data": {
      "text/plain": [
       "2.0     49217\n",
       "3.0      2884\n",
       "4.0     25677\n",
       "5.0     26235\n",
       "6.0     16466\n",
       "7.0       626\n",
       "8.0     64088\n",
       "9.0      5693\n",
       "10.0     3043\n",
       "11.0    14134\n",
       "12.0     5528\n",
       "13.0    10531\n",
       "14.0    55108\n",
       "15.0    37855\n",
       "16.0    43255\n",
       "17.0    13320\n",
       "18.0     2770\n",
       "Name: Product_Category_2, dtype: int64"
      ]
     },
     "execution_count": 43,
     "metadata": {},
     "output_type": "execute_result"
    }
   ],
   "source": [
    "data['Product_Category_2'].value_counts().sort_index()"
   ]
  },
  {
   "cell_type": "code",
   "execution_count": 44,
   "id": "c45b5165",
   "metadata": {},
   "outputs": [
    {
     "data": {
      "text/plain": [
       "<AxesSubplot:>"
      ]
     },
     "execution_count": 44,
     "metadata": {},
     "output_type": "execute_result"
    },
    {
     "data": {
      "image/png": "[encoded data removed]",
      "text/plain": [
       "<Figure size 432x288 with 1 Axes>"
      ]
     },
     "metadata": {
      "needs_background": "light"
     },
     "output_type": "display_data"
    }
   ],
   "source": [
    "data['Product_Category_2'].value_counts().sort_index().plot(kind='bar')"
   ]
  },
  {
   "cell_type": "code",
   "execution_count": 45,
   "id": "14668fe9",
   "metadata": {},
   "outputs": [],
   "source": [
    "# Set NA value to be category \"-1\"\n",
    "data.loc[data['Product_Category_2'].isna(),'Product_Category_2'] = -1"
   ]
  },
  {
   "cell_type": "code",
   "execution_count": 46,
   "id": "23a358e4",
   "metadata": {},
   "outputs": [
    {
     "data": {
      "text/plain": [
       "<AxesSubplot:>"
      ]
     },
     "execution_count": 46,
     "metadata": {},
     "output_type": "execute_result"
    },
    {
     "data": {
      "image/png": "[encoded data removed]",
      "text/plain": [
       "<Figure size 432x288 with 1 Axes>"
      ]
     },
     "metadata": {
      "needs_background": "light"
     },
     "output_type": "display_data"
    }
   ],
   "source": [
    "data['Product_Category_2'].value_counts().sort_index().plot(kind='bar')"
   ]
  },
  {
   "cell_type": "code",
   "execution_count": 47,
   "id": "8a02a35a",
   "metadata": {},
   "outputs": [
    {
     "data": {
      "image/png": "[encoded data removed]",
      "text/plain": [
       "<Figure size 720x468 with 1 Axes>"
      ]
     },
     "metadata": {
      "needs_background": "light"
     },
     "output_type": "display_data"
    }
   ],
   "source": [
    "g = sns.catplot(\n",
    "    x=\"Product_Category_2\", y=\"Purchase\", kind=\"box\", data=data\n",
    ").set(title='Distribution of Purchase for Different Product Category 2')\n",
    "g.fig.set_size_inches(10, 6.5)"
   ]
  },
  {
   "cell_type": "markdown",
   "id": "b9da615e",
   "metadata": {},
   "source": [
    "### `Product_Category_3`"
   ]
  },
  {
   "cell_type": "code",
   "execution_count": 48,
   "id": "fd8082b9",
   "metadata": {},
   "outputs": [
    {
     "data": {
      "text/plain": [
       "0.6967265865311197"
      ]
     },
     "execution_count": 48,
     "metadata": {},
     "output_type": "execute_result"
    }
   ],
   "source": [
    "(data['Product_Category_3'].isna()).mean()"
   ]
  },
  {
   "cell_type": "code",
   "execution_count": 49,
   "id": "8102adf6",
   "metadata": {},
   "outputs": [
    {
     "data": {
      "text/plain": [
       "3.0       613\n",
       "4.0      1875\n",
       "5.0     16658\n",
       "6.0      4890\n",
       "8.0     12562\n",
       "9.0     11579\n",
       "10.0     1726\n",
       "11.0     1805\n",
       "12.0     9246\n",
       "13.0     5459\n",
       "14.0    18428\n",
       "15.0    28013\n",
       "16.0    32636\n",
       "17.0    16702\n",
       "18.0     4629\n",
       "Name: Product_Category_3, dtype: int64"
      ]
     },
     "execution_count": 49,
     "metadata": {},
     "output_type": "execute_result"
    }
   ],
   "source": [
    "data['Product_Category_3'].value_counts().sort_index()"
   ]
  },
  {
   "cell_type": "code",
   "execution_count": 50,
   "id": "58bc6012",
   "metadata": {},
   "outputs": [
    {
     "data": {
      "text/plain": [
       "<AxesSubplot:>"
      ]
     },
     "execution_count": 50,
     "metadata": {},
     "output_type": "execute_result"
    },
    {
     "data": {
      "image/png": "[encoded data removed]",
      "text/plain": [
       "<Figure size 432x288 with 1 Axes>"
      ]
     },
     "metadata": {
      "needs_background": "light"
     },
     "output_type": "display_data"
    }
   ],
   "source": [
    "data['Product_Category_3'].value_counts().sort_index().plot(kind='bar')"
   ]
  },
  {
   "cell_type": "code",
   "execution_count": 51,
   "id": "6671b42f",
   "metadata": {},
   "outputs": [],
   "source": [
    "# Set NA value to be category \"-1\"\n",
    "data.loc[data['Product_Category_3'].isna(),'Product_Category_3'] = -1"
   ]
  },
  {
   "cell_type": "code",
   "execution_count": 52,
   "id": "ebfb369c",
   "metadata": {},
   "outputs": [
    {
     "data": {
      "text/plain": [
       "<AxesSubplot:>"
      ]
     },
     "execution_count": 52,
     "metadata": {},
     "output_type": "execute_result"
    },
    {
     "data": {
      "image/png": "[encoded data removed]",
      "text/plain": [
       "<Figure size 432x288 with 1 Axes>"
      ]
     },
     "metadata": {
      "needs_background": "light"
     },
     "output_type": "display_data"
    }
   ],
   "source": [
    "data['Product_Category_3'].value_counts().sort_index().plot(kind='bar')"
   ]
  },
  {
   "cell_type": "code",
   "execution_count": 53,
   "id": "3d372773",
   "metadata": {},
   "outputs": [
    {
     "data": {
      "image/png": "[encoded data removed]",
      "text/plain": [
       "<Figure size 720x468 with 1 Axes>"
      ]
     },
     "metadata": {
      "needs_background": "light"
     },
     "output_type": "display_data"
    }
   ],
   "source": [
    "g = sns.catplot(\n",
    "    x=\"Product_Category_3\", y=\"Purchase\", kind=\"box\", data=data\n",
    ").set(title='Distribution of Purchase for Different Product Category 3')\n",
    "g.fig.set_size_inches(10, 6.5)"
   ]
  },
  {
   "cell_type": "markdown",
   "id": "c0c69433",
   "metadata": {},
   "source": [
    "### `Purchase`"
   ]
  },
  {
   "cell_type": "code",
   "execution_count": 54,
   "id": "a57facb7",
   "metadata": {},
   "outputs": [
    {
     "data": {
      "text/plain": [
       "count    550068.000000\n",
       "mean       9263.968713\n",
       "std        5023.065394\n",
       "min          12.000000\n",
       "25%        5823.000000\n",
       "50%        8047.000000\n",
       "75%       12054.000000\n",
       "max       23961.000000\n",
       "Name: Purchase, dtype: float64"
      ]
     },
     "execution_count": 54,
     "metadata": {},
     "output_type": "execute_result"
    }
   ],
   "source": [
    "data['Purchase'].describe()"
   ]
  },
  {
   "cell_type": "code",
   "execution_count": 55,
   "id": "8cdccaed",
   "metadata": {
    "scrolled": false
   },
   "outputs": [
    {
     "data": {
      "image/png": "[encoded data removed]",
      "text/plain": [
       "<Figure size 720x504 with 1 Axes>"
      ]
     },
     "metadata": {
      "needs_background": "light"
     },
     "output_type": "display_data"
    }
   ],
   "source": [
    "plt.figure(figsize=(10, 7))\n",
    "g = sns.histplot(data['Purchase'], kde=True).set(title='Distribution of Purchase')\n",
    "# Explanation of shape: the purchase amounts are pretty similar for the same product"
   ]
  },
  {
   "cell_type": "code",
   "execution_count": 56,
   "id": "71c2e345",
   "metadata": {},
   "outputs": [
    {
     "data": {
      "text/html": [
       "<div>\n",
       "<style scoped>\n",
       "    .dataframe tbody tr th:only-of-type {\n",
       "        vertical-align: middle;\n",
       "    }\n",
       "\n",
       "    .dataframe tbody tr th {\n",
       "        vertical-align: top;\n",
       "    }\n",
       "\n",
       "    .dataframe thead th {\n",
       "        text-align: right;\n",
       "    }\n",
       "</style>\n",
       "<table border=\"1\" class=\"dataframe\">\n",
       "  <thead>\n",
       "    <tr style=\"text-align: right;\">\n",
       "      <th></th>\n",
       "      <th>Gender</th>\n",
       "      <th>Age</th>\n",
       "      <th>Occupation</th>\n",
       "      <th>City_Category</th>\n",
       "      <th>Stay_In_Current_City_Years</th>\n",
       "      <th>Marital_Status</th>\n",
       "      <th>Product_Category_1</th>\n",
       "      <th>Product_Category_2</th>\n",
       "      <th>Product_Category_3</th>\n",
       "      <th>Purchase</th>\n",
       "    </tr>\n",
       "  </thead>\n",
       "  <tbody>\n",
       "    <tr>\n",
       "      <th>0</th>\n",
       "      <td>1</td>\n",
       "      <td>0</td>\n",
       "      <td>10</td>\n",
       "      <td>0</td>\n",
       "      <td>1</td>\n",
       "      <td>0</td>\n",
       "      <td>3</td>\n",
       "      <td>-1.0</td>\n",
       "      <td>-1.0</td>\n",
       "      <td>8370</td>\n",
       "    </tr>\n",
       "    <tr>\n",
       "      <th>1</th>\n",
       "      <td>1</td>\n",
       "      <td>0</td>\n",
       "      <td>10</td>\n",
       "      <td>0</td>\n",
       "      <td>1</td>\n",
       "      <td>0</td>\n",
       "      <td>1</td>\n",
       "      <td>6.0</td>\n",
       "      <td>14.0</td>\n",
       "      <td>15200</td>\n",
       "    </tr>\n",
       "    <tr>\n",
       "      <th>2</th>\n",
       "      <td>1</td>\n",
       "      <td>0</td>\n",
       "      <td>10</td>\n",
       "      <td>0</td>\n",
       "      <td>1</td>\n",
       "      <td>0</td>\n",
       "      <td>12</td>\n",
       "      <td>-1.0</td>\n",
       "      <td>-1.0</td>\n",
       "      <td>1422</td>\n",
       "    </tr>\n",
       "    <tr>\n",
       "      <th>3</th>\n",
       "      <td>1</td>\n",
       "      <td>0</td>\n",
       "      <td>10</td>\n",
       "      <td>0</td>\n",
       "      <td>1</td>\n",
       "      <td>0</td>\n",
       "      <td>12</td>\n",
       "      <td>14.0</td>\n",
       "      <td>-1.0</td>\n",
       "      <td>1057</td>\n",
       "    </tr>\n",
       "    <tr>\n",
       "      <th>4</th>\n",
       "      <td>0</td>\n",
       "      <td>6</td>\n",
       "      <td>16</td>\n",
       "      <td>2</td>\n",
       "      <td>3</td>\n",
       "      <td>0</td>\n",
       "      <td>8</td>\n",
       "      <td>-1.0</td>\n",
       "      <td>-1.0</td>\n",
       "      <td>7969</td>\n",
       "    </tr>\n",
       "  </tbody>\n",
       "</table>\n",
       "</div>"
      ],
      "text/plain": [
       "   Gender  Age  Occupation  City_Category Stay_In_Current_City_Years  \\\n",
       "0       1    0          10              0                          1   \n",
       "1       1    0          10              0                          1   \n",
       "2       1    0          10              0                          1   \n",
       "3       1    0          10              0                          1   \n",
       "4       0    6          16              2                          3   \n",
       "\n",
       "   Marital_Status  Product_Category_1  Product_Category_2  Product_Category_3  \\\n",
       "0               0                   3                -1.0                -1.0   \n",
       "1               0                   1                 6.0                14.0   \n",
       "2               0                  12                -1.0                -1.0   \n",
       "3               0                  12                14.0                -1.0   \n",
       "4               0                   8                -1.0                -1.0   \n",
       "\n",
       "   Purchase  \n",
       "0      8370  \n",
       "1     15200  \n",
       "2      1422  \n",
       "3      1057  \n",
       "4      7969  "
      ]
     },
     "execution_count": 56,
     "metadata": {},
     "output_type": "execute_result"
    }
   ],
   "source": [
    "corr_data = data.copy()\n",
    "corr_data['Gender'].replace({'F':1, 'M':0}, inplace=True)\n",
    "corr_data['Age'].replace({'0-17':0, '18-25':1, '26-35':2, '36-45':3, '46-50':4, '51-55':5, '55+':6}, inplace=True)\n",
    "corr_data['City_Category'].replace({'A':0, 'B':1, 'C':2}, inplace=True)\n",
    "corr_data['Stay_In_Current_City_Years'].replace({'1': 0, '2':1, '3':2, '4+':3}, inplace=True)\n",
    "corr_data.drop(['User_ID', 'Product_ID'], axis=1, inplace=True)\n",
    "corr_data.head()"
   ]
  },
  {
   "cell_type": "code",
   "execution_count": 57,
   "id": "9aa9cdc9",
   "metadata": {},
   "outputs": [
    {
     "data": {
      "image/png": "[encoded data removed]",
      "text/plain": [
       "<Figure size 720x576 with 2 Axes>"
      ]
     },
     "metadata": {
      "needs_background": "light"
     },
     "output_type": "display_data"
    }
   ],
   "source": [
    "# Regular heatmap\n",
    "plt.figure(figsize=(10, 8))\n",
    "g = sns.heatmap(corr_data.corr(), cmap='RdGy').set(title='Correlation Heatmap')"
   ]
  },
  {
   "cell_type": "code",
   "execution_count": 58,
   "id": "ce8de184",
   "metadata": {},
   "outputs": [
    {
     "data": {
      "text/html": [
       "<div>\n",
       "<style scoped>\n",
       "    .dataframe tbody tr th:only-of-type {\n",
       "        vertical-align: middle;\n",
       "    }\n",
       "\n",
       "    .dataframe tbody tr th {\n",
       "        vertical-align: top;\n",
       "    }\n",
       "\n",
       "    .dataframe thead th {\n",
       "        text-align: right;\n",
       "    }\n",
       "</style>\n",
       "<table border=\"1\" class=\"dataframe\">\n",
       "  <thead>\n",
       "    <tr style=\"text-align: right;\">\n",
       "      <th></th>\n",
       "      <th>First Variable</th>\n",
       "      <th>Second Variable</th>\n",
       "      <th>Correlation</th>\n",
       "    </tr>\n",
       "  </thead>\n",
       "  <tbody>\n",
       "    <tr>\n",
       "      <th>0</th>\n",
       "      <td>Gender</td>\n",
       "      <td>Gender</td>\n",
       "      <td>1.000000</td>\n",
       "    </tr>\n",
       "    <tr>\n",
       "      <th>1</th>\n",
       "      <td>Gender</td>\n",
       "      <td>Age</td>\n",
       "      <td>0.004262</td>\n",
       "    </tr>\n",
       "    <tr>\n",
       "      <th>2</th>\n",
       "      <td>Gender</td>\n",
       "      <td>Occupation</td>\n",
       "      <td>-0.117291</td>\n",
       "    </tr>\n",
       "    <tr>\n",
       "      <th>3</th>\n",
       "      <td>Gender</td>\n",
       "      <td>City_Category</td>\n",
       "      <td>0.004515</td>\n",
       "    </tr>\n",
       "    <tr>\n",
       "      <th>4</th>\n",
       "      <td>Gender</td>\n",
       "      <td>Marital_Status</td>\n",
       "      <td>0.011603</td>\n",
       "    </tr>\n",
       "  </tbody>\n",
       "</table>\n",
       "</div>"
      ],
      "text/plain": [
       "  First Variable Second Variable  Correlation\n",
       "0         Gender          Gender     1.000000\n",
       "1         Gender             Age     0.004262\n",
       "2         Gender      Occupation    -0.117291\n",
       "3         Gender   City_Category     0.004515\n",
       "4         Gender  Marital_Status     0.011603"
      ]
     },
     "execution_count": 58,
     "metadata": {},
     "output_type": "execute_result"
    }
   ],
   "source": [
    "corr_df = (corr_data.corr()).stack().reset_index()\n",
    "corr_df.columns = ['First Variable', 'Second Variable', 'Correlation']\n",
    "corr_df.head()"
   ]
  },
  {
   "cell_type": "code",
   "execution_count": 59,
   "id": "b0fddd58",
   "metadata": {},
   "outputs": [
    {
     "data": {
      "text/html": [
       "\n",
       "<div id=\"altair-viz-16a511a1cd684e6b97d22de04b92250c\"></div>\n",
       "<script type=\"text/javascript\">\n",
       "  (function(spec, embedOpt){\n",
       "    let outputDiv = document.currentScript.previousElementSibling;\n",
       "    if (outputDiv.id !== \"altair-viz-16a511a1cd684e6b97d22de04b92250c\") {\n",
       "      outputDiv = document.getElementById(\"altair-viz-16a511a1cd684e6b97d22de04b92250c\");\n",
       "    }\n",
       "    const paths = {\n",
       "      \"vega\": \"https://cdn.jsdelivr.net/npm//vega@5?noext\",\n",
       "      \"vega-lib\": \"https://cdn.jsdelivr.net/npm//vega-lib?noext\",\n",
       "      \"vega-lite\": \"https://cdn.jsdelivr.net/npm//vega-lite@4.8.1?noext\",\n",
       "      \"vega-embed\": \"https://cdn.jsdelivr.net/npm//vega-embed@6?noext\",\n",
       "    };\n",
       "\n",
       "    function loadScript(lib) {\n",
       "      return new Promise(function(resolve, reject) {\n",
       "        var s = document.createElement('script');\n",
       "        s.src = paths[lib];\n",
       "        s.async = true;\n",
       "        s.onload = () => resolve(paths[lib]);\n",
       "        s.onerror = () => reject(`Error loading script: ${paths[lib]}`);\n",
       "        document.getElementsByTagName(\"head\")[0].appendChild(s);\n",
       "      });\n",
       "    }\n",
       "\n",
       "    function showError(err) {\n",
       "      outputDiv.innerHTML = `<div class=\"error\" style=\"color:red;\">${err}</div>`;\n",
       "      throw err;\n",
       "    }\n",
       "\n",
       "    function displayChart(vegaEmbed) {\n",
       "      vegaEmbed(outputDiv, spec, embedOpt)\n",
       "        .catch(err => showError(`Javascript Error: ${err.message}<br>This usually means there's a typo in your chart specification. See the javascript console for the full traceback.`));\n",
       "    }\n",
       "\n",
       "    if(typeof define === \"function\" && define.amd) {\n",
       "      requirejs.config({paths});\n",
       "      require([\"vega-embed\"], displayChart, err => showError(`Error loading script: ${err.message}`));\n",
       "    } else if (typeof vegaEmbed === \"function\") {\n",
       "      displayChart(vegaEmbed);\n",
       "    } else {\n",
       "      loadScript(\"vega\")\n",
       "        .then(() => loadScript(\"vega-lite\"))\n",
       "        .then(() => loadScript(\"vega-embed\"))\n",
       "        .catch(showError)\n",
       "        .then(() => displayChart(vegaEmbed));\n",
       "    }\n",
       "  })({\"config\": {\"view\": {\"continuousWidth\": 400, \"continuousHeight\": 300}}, \"data\": {\"name\": \"data-b5ced7f052f3281c1bccef590172cfb2\"}, \"mark\": \"rect\", \"encoding\": {\"color\": {\"type\": \"quantitative\", \"field\": \"Correlation\"}, \"tooltip\": [{\"type\": \"nominal\", \"field\": \"First Variable\"}, {\"type\": \"nominal\", \"field\": \"Second Variable\"}, {\"type\": \"quantitative\", \"field\": \"Correlation\"}], \"x\": {\"type\": \"nominal\", \"field\": \"First Variable\"}, \"y\": {\"type\": \"nominal\", \"field\": \"Second Variable\"}}, \"height\": 400, \"width\": 400, \"$schema\": \"https://vega.github.io/schema/vega-lite/v4.8.1.json\", \"datasets\": {\"data-b5ced7f052f3281c1bccef590172cfb2\": [{\"First Variable\": \"Gender\", \"Second Variable\": \"Gender\", \"Correlation\": 1.0}, {\"First Variable\": \"Gender\", \"Second Variable\": \"Age\", \"Correlation\": 0.004261997943401611}, {\"First Variable\": \"Gender\", \"Second Variable\": \"Occupation\", \"Correlation\": -0.11729098019669704}, {\"First Variable\": \"Gender\", \"Second Variable\": \"City_Category\", \"Correlation\": 0.004514742215584961}, {\"First Variable\": \"Gender\", \"Second Variable\": \"Marital_Status\", \"Correlation\": 0.011603156298394859}, {\"First Variable\": \"Gender\", \"Second Variable\": \"Product_Category_1\", \"Correlation\": 0.045594242946463186}, {\"First Variable\": \"Gender\", \"Second Variable\": \"Product_Category_2\", \"Correlation\": -1.626632793105634e-06}, {\"First Variable\": \"Gender\", \"Second Variable\": \"Product_Category_3\", \"Correlation\": -0.036085628306774246}, {\"First Variable\": \"Gender\", \"Second Variable\": \"Purchase\", \"Correlation\": -0.060345684419582}, {\"First Variable\": \"Age\", \"Second Variable\": \"Gender\", \"Correlation\": 0.004261997943401611}, {\"First Variable\": \"Age\", \"Second Variable\": \"Age\", \"Correlation\": 1.0}, {\"First Variable\": \"Age\", \"Second Variable\": \"Occupation\", \"Correlation\": 0.09146315018013462}, {\"First Variable\": \"Age\", \"Second Variable\": \"City_Category\", \"Correlation\": 0.1230792441506682}, {\"First Variable\": \"Age\", \"Second Variable\": \"Marital_Status\", \"Correlation\": 0.31173839950069276}, {\"First Variable\": \"Age\", \"Second Variable\": \"Product_Category_1\", \"Correlation\": 0.06119713152231776}, {\"First Variable\": \"Age\", \"Second Variable\": \"Product_Category_2\", \"Correlation\": 0.016633468847504922}, {\"First Variable\": \"Age\", \"Second Variable\": \"Product_Category_3\", \"Correlation\": -0.008327828473182117}, {\"First Variable\": \"Age\", \"Second Variable\": \"Purchase\", \"Correlation\": 0.01583859049632766}, {\"First Variable\": \"Occupation\", \"Second Variable\": \"Gender\", \"Correlation\": -0.11729098019669704}, {\"First Variable\": \"Occupation\", \"Second Variable\": \"Age\", \"Correlation\": 0.09146315018013462}, {\"First Variable\": \"Occupation\", \"Second Variable\": \"Occupation\", \"Correlation\": 1.0}, {\"First Variable\": \"Occupation\", \"Second Variable\": \"City_Category\", \"Correlation\": 0.03447874143045108}, {\"First Variable\": \"Occupation\", \"Second Variable\": \"Marital_Status\", \"Correlation\": 0.024279961092982357}, {\"First Variable\": \"Occupation\", \"Second Variable\": \"Product_Category_1\", \"Correlation\": -0.007617559736872063}, {\"First Variable\": \"Occupation\", \"Second Variable\": \"Product_Category_2\", \"Correlation\": 0.007021078923259948}, {\"First Variable\": \"Occupation\", \"Second Variable\": \"Product_Category_3\", \"Correlation\": 0.012189729803233955}, {\"First Variable\": \"Occupation\", \"Second Variable\": \"Purchase\", \"Correlation\": 0.02083261692461265}, {\"First Variable\": \"City_Category\", \"Second Variable\": \"Gender\", \"Correlation\": 0.004514742215584961}, {\"First Variable\": \"City_Category\", \"Second Variable\": \"Age\", \"Correlation\": 0.1230792441506682}, {\"First Variable\": \"City_Category\", \"Second Variable\": \"Occupation\", \"Correlation\": 0.03447874143045108}, {\"First Variable\": \"City_Category\", \"Second Variable\": \"City_Category\", \"Correlation\": 1.0}, {\"First Variable\": \"City_Category\", \"Second Variable\": \"Marital_Status\", \"Correlation\": 0.03979046776428141}, {\"First Variable\": \"City_Category\", \"Second Variable\": \"Product_Category_1\", \"Correlation\": -0.014364067176999602}, {\"First Variable\": \"City_Category\", \"Second Variable\": \"Product_Category_2\", \"Correlation\": 0.017326742373646876}, {\"First Variable\": \"City_Category\", \"Second Variable\": \"Product_Category_3\", \"Correlation\": 0.035894979456837305}, {\"First Variable\": \"City_Category\", \"Second Variable\": \"Purchase\", \"Correlation\": 0.06191417045949804}, {\"First Variable\": \"Marital_Status\", \"Second Variable\": \"Gender\", \"Correlation\": 0.011603156298394859}, {\"First Variable\": \"Marital_Status\", \"Second Variable\": \"Age\", \"Correlation\": 0.31173839950069276}, {\"First Variable\": \"Marital_Status\", \"Second Variable\": \"Occupation\", \"Correlation\": 0.024279961092982357}, {\"First Variable\": \"Marital_Status\", \"Second Variable\": \"City_Category\", \"Correlation\": 0.03979046776428141}, {\"First Variable\": \"Marital_Status\", \"Second Variable\": \"Marital_Status\", \"Correlation\": 1.0}, {\"First Variable\": \"Marital_Status\", \"Second Variable\": \"Product_Category_1\", \"Correlation\": 0.019887854200058883}, {\"First Variable\": \"Marital_Status\", \"Second Variable\": \"Product_Category_2\", \"Correlation\": 0.0003318340149369853}, {\"First Variable\": \"Marital_Status\", \"Second Variable\": \"Product_Category_3\", \"Correlation\": -0.004960126839954943}, {\"First Variable\": \"Marital_Status\", \"Second Variable\": \"Purchase\", \"Correlation\": -0.0004633764197592723}, {\"First Variable\": \"Product_Category_1\", \"Second Variable\": \"Gender\", \"Correlation\": 0.045594242946463186}, {\"First Variable\": \"Product_Category_1\", \"Second Variable\": \"Age\", \"Correlation\": 0.06119713152231776}, {\"First Variable\": \"Product_Category_1\", \"Second Variable\": \"Occupation\", \"Correlation\": -0.007617559736872063}, {\"First Variable\": \"Product_Category_1\", \"Second Variable\": \"City_Category\", \"Correlation\": -0.014364067176999602}, {\"First Variable\": \"Product_Category_1\", \"Second Variable\": \"Marital_Status\", \"Correlation\": 0.019887854200058883}, {\"First Variable\": \"Product_Category_1\", \"Second Variable\": \"Product_Category_1\", \"Correlation\": 1.0}, {\"First Variable\": \"Product_Category_1\", \"Second Variable\": \"Product_Category_2\", \"Correlation\": -0.0951266687291376}, {\"First Variable\": \"Product_Category_1\", \"Second Variable\": \"Product_Category_3\", \"Correlation\": -0.391394834585691}, {\"First Variable\": \"Product_Category_1\", \"Second Variable\": \"Purchase\", \"Correlation\": -0.343703345919912}, {\"First Variable\": \"Product_Category_2\", \"Second Variable\": \"Gender\", \"Correlation\": -1.626632793105634e-06}, {\"First Variable\": \"Product_Category_2\", \"Second Variable\": \"Age\", \"Correlation\": 0.016633468847504922}, {\"First Variable\": \"Product_Category_2\", \"Second Variable\": \"Occupation\", \"Correlation\": 0.007021078923259948}, {\"First Variable\": \"Product_Category_2\", \"Second Variable\": \"City_Category\", \"Correlation\": 0.017326742373646876}, {\"First Variable\": \"Product_Category_2\", \"Second Variable\": \"Marital_Status\", \"Correlation\": 0.0003318340149369853}, {\"First Variable\": \"Product_Category_2\", \"Second Variable\": \"Product_Category_1\", \"Correlation\": -0.0951266687291376}, {\"First Variable\": \"Product_Category_2\", \"Second Variable\": \"Product_Category_2\", \"Correlation\": 1.0}, {\"First Variable\": \"Product_Category_2\", \"Second Variable\": \"Product_Category_3\", \"Correlation\": 0.114874652937109}, {\"First Variable\": \"Product_Category_2\", \"Second Variable\": \"Purchase\", \"Correlation\": 0.06620954589263595}, {\"First Variable\": \"Product_Category_3\", \"Second Variable\": \"Gender\", \"Correlation\": -0.036085628306774246}, {\"First Variable\": \"Product_Category_3\", \"Second Variable\": \"Age\", \"Correlation\": -0.008327828473182117}, {\"First Variable\": \"Product_Category_3\", \"Second Variable\": \"Occupation\", \"Correlation\": 0.012189729803233955}, {\"First Variable\": \"Product_Category_3\", \"Second Variable\": \"City_Category\", \"Correlation\": 0.035894979456837305}, {\"First Variable\": \"Product_Category_3\", \"Second Variable\": \"Marital_Status\", \"Correlation\": -0.004960126839954943}, {\"First Variable\": \"Product_Category_3\", \"Second Variable\": \"Product_Category_1\", \"Correlation\": -0.391394834585691}, {\"First Variable\": \"Product_Category_3\", \"Second Variable\": \"Product_Category_2\", \"Correlation\": 0.114874652937109}, {\"First Variable\": \"Product_Category_3\", \"Second Variable\": \"Product_Category_3\", \"Correlation\": 1.0}, {\"First Variable\": \"Product_Category_3\", \"Second Variable\": \"Purchase\", \"Correlation\": 0.2915539858464527}, {\"First Variable\": \"Purchase\", \"Second Variable\": \"Gender\", \"Correlation\": -0.060345684419582}, {\"First Variable\": \"Purchase\", \"Second Variable\": \"Age\", \"Correlation\": 0.01583859049632766}, {\"First Variable\": \"Purchase\", \"Second Variable\": \"Occupation\", \"Correlation\": 0.02083261692461265}, {\"First Variable\": \"Purchase\", \"Second Variable\": \"City_Category\", \"Correlation\": 0.06191417045949804}, {\"First Variable\": \"Purchase\", \"Second Variable\": \"Marital_Status\", \"Correlation\": -0.0004633764197592723}, {\"First Variable\": \"Purchase\", \"Second Variable\": \"Product_Category_1\", \"Correlation\": -0.343703345919912}, {\"First Variable\": \"Purchase\", \"Second Variable\": \"Product_Category_2\", \"Correlation\": 0.06620954589263595}, {\"First Variable\": \"Purchase\", \"Second Variable\": \"Product_Category_3\", \"Correlation\": 0.2915539858464527}, {\"First Variable\": \"Purchase\", \"Second Variable\": \"Purchase\", \"Correlation\": 1.0}]}}, {\"mode\": \"vega-lite\"});\n",
       "</script>"
      ],
      "text/plain": [
       "alt.Chart(...)"
      ]
     },
     "execution_count": 59,
     "metadata": {},
     "output_type": "execute_result"
    }
   ],
   "source": [
    "# Heatmap with tooltip\n",
    "alt.Chart(corr_df).mark_rect().encode(\n",
    "    x=\"First Variable\",\n",
    "    y=\"Second Variable\",\n",
    "    color=\"Correlation\",\n",
    "    tooltip = [\"First Variable\", \"Second Variable\", \"Correlation\"]\n",
    ").properties(width=400, height=400)"
   ]
  },
  {
   "cell_type": "markdown",
   "id": "44d0f75f",
   "metadata": {},
   "source": [
    "# Baseline Model"
   ]
  },
  {
   "cell_type": "code",
   "execution_count": null,
   "id": "f781c691",
   "metadata": {},
   "outputs": [],
   "source": [
    "# # Data preprocessing\n",
    "# data.drop(['User_ID', 'Product_ID'], axis=1, inplace=True)\n",
    "# data['Gender'].replace({'F':1, 'M':0}, inplace=True)\n",
    "# data.loc[data['Product_Category_2'].isna(),'Product_Category_2'] = -1\n",
    "# data.loc[data['Product_Category_3'].isna(),'Product_Category_3'] = -1\n",
    "# data = pd.get_dummies(data, columns=['Age', 'Occupation', 'City_Category', 'Stay_In_Current_City_Years', \n",
    "#                               'Product_Category_1', 'Product_Category_2', 'Product_Category_3'])\n",
    "# data"
   ]
  },
  {
   "cell_type": "code",
   "execution_count": null,
   "id": "189bc2a3",
   "metadata": {},
   "outputs": [],
   "source": [
    "# X = data.drop('Purchase', axis=1)\n",
    "# y = data['Purchase']"
   ]
  },
  {
   "cell_type": "code",
   "execution_count": null,
   "id": "ebfa5682",
   "metadata": {},
   "outputs": [],
   "source": [
    "# # Train the model\n",
    "# from sklearn.linear_model import LinearRegression\n",
    "# from sklearn.ensemble import RandomForestRegressor\n",
    "# model = RandomForestRegressor()\n",
    "# model.fit(X, y)"
   ]
  },
  {
   "cell_type": "code",
   "execution_count": null,
   "id": "81f3fc55",
   "metadata": {},
   "outputs": [],
   "source": [
    "# # Data preprocessing for test set\n",
    "# test_user_id = test['User_ID']\n",
    "# test_product_id = test['Product_ID']\n",
    "# #prediction_df = test[['User_ID', 'Product_ID']]\n",
    "# test.drop(['User_ID', 'Product_ID'], axis=1, inplace=True)\n",
    "# test['Gender'].replace({'F':1, 'M':0}, inplace=True)\n",
    "# test.loc[test['Product_Category_2'].isna(),'Product_Category_2'] = -1\n",
    "# test.loc[test['Product_Category_3'].isna(),'Product_Category_3'] = -1\n",
    "# test = pd.get_dummies(test, columns=['Age', 'Occupation', 'City_Category', 'Stay_In_Current_City_Years', \n",
    "#                               'Product_Category_1', 'Product_Category_2', 'Product_Category_3'])\n",
    "# test"
   ]
  },
  {
   "cell_type": "code",
   "execution_count": null,
   "id": "1c0b1e66",
   "metadata": {},
   "outputs": [],
   "source": [
    "# set(X.columns) - set(test.columns)"
   ]
  },
  {
   "cell_type": "code",
   "execution_count": null,
   "id": "f8b2dca1",
   "metadata": {},
   "outputs": [],
   "source": [
    "# test['Product_Category_1_19'] = 0\n",
    "# test['Product_Category_1_20'] = 0"
   ]
  },
  {
   "cell_type": "code",
   "execution_count": null,
   "id": "1c5d0398",
   "metadata": {},
   "outputs": [],
   "source": [
    "# # Make Prediction\n",
    "# prediction = model.predict(test)"
   ]
  },
  {
   "cell_type": "code",
   "execution_count": null,
   "id": "5efa914b",
   "metadata": {},
   "outputs": [],
   "source": [
    "# prediction_df = pd.DataFrame({\n",
    "#     'Purchase': prediction,\n",
    "#     'User_ID': test_user_id,\n",
    "#     'Product_ID': test_product_id\n",
    "# })\n",
    "# prediction_df.head()"
   ]
  },
  {
   "cell_type": "code",
   "execution_count": null,
   "id": "76a44ca1",
   "metadata": {},
   "outputs": [],
   "source": [
    "# prediction_df.to_csv('1.csv')"
   ]
  },
  {
   "cell_type": "markdown",
   "id": "edc3b1b9",
   "metadata": {},
   "source": [
    "# Data Preprocessing"
   ]
  },
  {
   "cell_type": "code",
   "execution_count": 94,
   "id": "9c34cfe0",
   "metadata": {},
   "outputs": [],
   "source": [
    "# Split into train and validation set\n",
    "from sklearn.model_selection import train_test_split\n",
    "train, validation = train_test_split(train, test_size = 0.25)"
   ]
  },
  {
   "cell_type": "markdown",
   "id": "b0f5c170",
   "metadata": {},
   "source": [
    "### Features to be added:\n",
    "1. **Median purchase amount of this product**; If product_ID not in train set, use the median purchase amount for all products in that cateogry\n",
    "    - 3491 products in test set, 62 products not in train set\n",
    "2. **Median purchase amount of this person**; \n",
    "    - `len(set(train['User_ID']).intersection(set(test['User_ID']))) == len(set(test['User_ID']))`\n",
    "3. **IQR purchase amount of this product** ??"
   ]
  },
  {
   "cell_type": "markdown",
   "id": "c87f9e24",
   "metadata": {},
   "source": [
    "### Original Features:\n",
    "1. `User_ID`, keeps to match the median purchase amount of this person\n",
    "2. `Product_ID`, keeps to identiy the median purchase amount of this product\n",
    "3. `Gender`, one-hot\n",
    "4. `Age`, ordinal encoding\n",
    "5. `Occupation`, one-hot\n",
    "6. `City_Category`, one-hot\n",
    "7. `Stay_In_Current_City_Years`, ordinal encoding\n",
    "8. `Marital_Status`, leave it like this\n",
    "9. `Product_Category_1`, one-hot\n",
    "10. `Product_Cateogry_2`, binary variable \n",
    "11. `Product_Category_3`, binary variable "
   ]
  },
  {
   "cell_type": "code",
   "execution_count": 141,
   "id": "afb99362",
   "metadata": {},
   "outputs": [],
   "source": [
    "# from collections import defaultdict\n",
    "# median_purchase = train['Purchase'].median()\n",
    "# product_purchase_dd = defaultdict(lambda: median_purchase) # default dict\n",
    "product_purchase_d = train.groupby(['Product_ID'])['Purchase'].mean().to_dict()\n",
    "purchase_1category_d = train.groupby(['Product_Category_1'])['Purchase'].mean().to_dict()\n",
    "user_purchase_d = train.groupby(['User_ID'])['Purchase'].mean().to_dict()\n",
    "\n",
    "def prepare_data(train):\n",
    "\n",
    "    # New Feature: Median_Product_Purchase\n",
    "    median_product_purchase = train['Product_ID'].map(product_purchase_d)\n",
    "    train['Median_Product_Purchase'] = median_product_purchase\n",
    "    \n",
    "    purchase_by_cat = train['Product_Category_1'].map(purchase_1category_d)\n",
    "    train['Median_Product_Purchase'].fillna(purchase_by_cat, inplace=True)\n",
    "    \n",
    "    # New Feature: Median_User_Purchase\n",
    "    median_user_purchase = train['User_ID'].map(user_purchase_d)\n",
    "    train['Median_User_Purchase'] = median_user_purchase\n",
    "    \n",
    "    # Process original features\n",
    "    train = pd.get_dummies(train, columns=['Occupation', 'City_Category', 'Product_Category_1'])\n",
    "    train['Gender'] = train['Gender'].replace({'F': 1, 'M': 0})\n",
    "    train['Age'] = train['Age'].replace({'0-17': 0, '18-25': 1, '26-35': 2, '36-45': 3, \n",
    "                                         '46-50': 4, '51-55': 5, '55+': 6})\n",
    "    train['Stay_In_Current_City_Years'] = train['Stay_In_Current_City_Years'].replace({'0': 0, '1': 1, '2': 2, \n",
    "                                                                                       '3': 3, '4+': 4})\n",
    "    train['Product_Category_2'] = train['Product_Category_2'].isna()\n",
    "    train['Product_Category_3'] = train['Product_Category_3'].isna()\n",
    "    \n",
    "    # 暂时 drop Product_Category_2\n",
    "    # train.drop(['Product_Category_2'], axis=1, inplace=True)\n",
    "    return train"
   ]
  },
  {
   "cell_type": "markdown",
   "id": "a4877cd5",
   "metadata": {},
   "source": [
    "# Model Selection"
   ]
  },
  {
   "cell_type": "code",
   "execution_count": 96,
   "id": "5bc80db8",
   "metadata": {},
   "outputs": [],
   "source": [
    "# train_: train set used in this section \n",
    "# validation: validation set used in this section "
   ]
  },
  {
   "cell_type": "code",
   "execution_count": 103,
   "id": "6f965e1b",
   "metadata": {},
   "outputs": [],
   "source": [
    "# Preprocess training set\n",
    "train_ = prepare_data(train)\n",
    "train_X = train_.drop(['Purchase', 'User_ID', 'Product_ID'], axis=1)\n",
    "train_y = train_['Purchase']\n",
    "\n",
    "# Preprocess validation set\n",
    "validation_ = prepare_data(validation)\n",
    "validation_X = validation_.drop(['Purchase', 'User_ID', 'Product_ID'], axis=1)\n",
    "validation_y = validation_['Purchase']"
   ]
  },
  {
   "cell_type": "code",
   "execution_count": 104,
   "id": "89d6724a",
   "metadata": {},
   "outputs": [
    {
     "data": {
      "text/html": [
       "<div>\n",
       "<style scoped>\n",
       "    .dataframe tbody tr th:only-of-type {\n",
       "        vertical-align: middle;\n",
       "    }\n",
       "\n",
       "    .dataframe tbody tr th {\n",
       "        vertical-align: top;\n",
       "    }\n",
       "\n",
       "    .dataframe thead th {\n",
       "        text-align: right;\n",
       "    }\n",
       "</style>\n",
       "<table border=\"1\" class=\"dataframe\">\n",
       "  <thead>\n",
       "    <tr style=\"text-align: right;\">\n",
       "      <th></th>\n",
       "      <th>Gender</th>\n",
       "      <th>Age</th>\n",
       "      <th>Stay_In_Current_City_Years</th>\n",
       "      <th>Marital_Status</th>\n",
       "      <th>Product_Category_3</th>\n",
       "      <th>Median_Product_Purchase</th>\n",
       "      <th>Median_User_Purchase</th>\n",
       "      <th>Occupation_0</th>\n",
       "      <th>Occupation_1</th>\n",
       "      <th>Occupation_2</th>\n",
       "      <th>...</th>\n",
       "      <th>Product_Category_1_11</th>\n",
       "      <th>Product_Category_1_12</th>\n",
       "      <th>Product_Category_1_13</th>\n",
       "      <th>Product_Category_1_14</th>\n",
       "      <th>Product_Category_1_15</th>\n",
       "      <th>Product_Category_1_16</th>\n",
       "      <th>Product_Category_1_17</th>\n",
       "      <th>Product_Category_1_18</th>\n",
       "      <th>Product_Category_1_19</th>\n",
       "      <th>Product_Category_1_20</th>\n",
       "    </tr>\n",
       "  </thead>\n",
       "  <tbody>\n",
       "    <tr>\n",
       "      <th>25152</th>\n",
       "      <td>0</td>\n",
       "      <td>5</td>\n",
       "      <td>0</td>\n",
       "      <td>1</td>\n",
       "      <td>True</td>\n",
       "      <td>6870.0</td>\n",
       "      <td>9889.5</td>\n",
       "      <td>0</td>\n",
       "      <td>0</td>\n",
       "      <td>0</td>\n",
       "      <td>...</td>\n",
       "      <td>0</td>\n",
       "      <td>0</td>\n",
       "      <td>0</td>\n",
       "      <td>0</td>\n",
       "      <td>0</td>\n",
       "      <td>0</td>\n",
       "      <td>0</td>\n",
       "      <td>0</td>\n",
       "      <td>0</td>\n",
       "      <td>0</td>\n",
       "    </tr>\n",
       "    <tr>\n",
       "      <th>381800</th>\n",
       "      <td>0</td>\n",
       "      <td>3</td>\n",
       "      <td>2</td>\n",
       "      <td>0</td>\n",
       "      <td>False</td>\n",
       "      <td>11764.0</td>\n",
       "      <td>8068.0</td>\n",
       "      <td>0</td>\n",
       "      <td>0</td>\n",
       "      <td>0</td>\n",
       "      <td>...</td>\n",
       "      <td>0</td>\n",
       "      <td>0</td>\n",
       "      <td>0</td>\n",
       "      <td>0</td>\n",
       "      <td>0</td>\n",
       "      <td>0</td>\n",
       "      <td>0</td>\n",
       "      <td>0</td>\n",
       "      <td>0</td>\n",
       "      <td>0</td>\n",
       "    </tr>\n",
       "    <tr>\n",
       "      <th>433582</th>\n",
       "      <td>0</td>\n",
       "      <td>1</td>\n",
       "      <td>4</td>\n",
       "      <td>0</td>\n",
       "      <td>False</td>\n",
       "      <td>15201.0</td>\n",
       "      <td>8039.0</td>\n",
       "      <td>0</td>\n",
       "      <td>0</td>\n",
       "      <td>0</td>\n",
       "      <td>...</td>\n",
       "      <td>0</td>\n",
       "      <td>0</td>\n",
       "      <td>0</td>\n",
       "      <td>0</td>\n",
       "      <td>0</td>\n",
       "      <td>0</td>\n",
       "      <td>0</td>\n",
       "      <td>0</td>\n",
       "      <td>0</td>\n",
       "      <td>0</td>\n",
       "    </tr>\n",
       "    <tr>\n",
       "      <th>126732</th>\n",
       "      <td>0</td>\n",
       "      <td>1</td>\n",
       "      <td>4</td>\n",
       "      <td>0</td>\n",
       "      <td>False</td>\n",
       "      <td>9974.0</td>\n",
       "      <td>11374.0</td>\n",
       "      <td>0</td>\n",
       "      <td>0</td>\n",
       "      <td>0</td>\n",
       "      <td>...</td>\n",
       "      <td>0</td>\n",
       "      <td>0</td>\n",
       "      <td>0</td>\n",
       "      <td>0</td>\n",
       "      <td>0</td>\n",
       "      <td>0</td>\n",
       "      <td>0</td>\n",
       "      <td>0</td>\n",
       "      <td>0</td>\n",
       "      <td>0</td>\n",
       "    </tr>\n",
       "    <tr>\n",
       "      <th>455644</th>\n",
       "      <td>0</td>\n",
       "      <td>4</td>\n",
       "      <td>3</td>\n",
       "      <td>1</td>\n",
       "      <td>True</td>\n",
       "      <td>6995.5</td>\n",
       "      <td>8653.0</td>\n",
       "      <td>0</td>\n",
       "      <td>0</td>\n",
       "      <td>0</td>\n",
       "      <td>...</td>\n",
       "      <td>0</td>\n",
       "      <td>0</td>\n",
       "      <td>0</td>\n",
       "      <td>0</td>\n",
       "      <td>0</td>\n",
       "      <td>0</td>\n",
       "      <td>0</td>\n",
       "      <td>0</td>\n",
       "      <td>0</td>\n",
       "      <td>0</td>\n",
       "    </tr>\n",
       "  </tbody>\n",
       "</table>\n",
       "<p>5 rows × 51 columns</p>\n",
       "</div>"
      ],
      "text/plain": [
       "        Gender  Age  Stay_In_Current_City_Years  Marital_Status  \\\n",
       "25152        0    5                           0               1   \n",
       "381800       0    3                           2               0   \n",
       "433582       0    1                           4               0   \n",
       "126732       0    1                           4               0   \n",
       "455644       0    4                           3               1   \n",
       "\n",
       "        Product_Category_3  Median_Product_Purchase  Median_User_Purchase  \\\n",
       "25152                 True                   6870.0                9889.5   \n",
       "381800               False                  11764.0                8068.0   \n",
       "433582               False                  15201.0                8039.0   \n",
       "126732               False                   9974.0               11374.0   \n",
       "455644                True                   6995.5                8653.0   \n",
       "\n",
       "        Occupation_0  Occupation_1  Occupation_2  ...  Product_Category_1_11  \\\n",
       "25152              0             0             0  ...                      0   \n",
       "381800             0             0             0  ...                      0   \n",
       "433582             0             0             0  ...                      0   \n",
       "126732             0             0             0  ...                      0   \n",
       "455644             0             0             0  ...                      0   \n",
       "\n",
       "        Product_Category_1_12  Product_Category_1_13  Product_Category_1_14  \\\n",
       "25152                       0                      0                      0   \n",
       "381800                      0                      0                      0   \n",
       "433582                      0                      0                      0   \n",
       "126732                      0                      0                      0   \n",
       "455644                      0                      0                      0   \n",
       "\n",
       "        Product_Category_1_15  Product_Category_1_16  Product_Category_1_17  \\\n",
       "25152                       0                      0                      0   \n",
       "381800                      0                      0                      0   \n",
       "433582                      0                      0                      0   \n",
       "126732                      0                      0                      0   \n",
       "455644                      0                      0                      0   \n",
       "\n",
       "        Product_Category_1_18  Product_Category_1_19  Product_Category_1_20  \n",
       "25152                       0                      0                      0  \n",
       "381800                      0                      0                      0  \n",
       "433582                      0                      0                      0  \n",
       "126732                      0                      0                      0  \n",
       "455644                      0                      0                      0  \n",
       "\n",
       "[5 rows x 51 columns]"
      ]
     },
     "execution_count": 104,
     "metadata": {},
     "output_type": "execute_result"
    }
   ],
   "source": [
    "train_X.head()"
   ]
  },
  {
   "cell_type": "code",
   "execution_count": 105,
   "id": "5a7281e4",
   "metadata": {},
   "outputs": [
    {
     "data": {
      "text/html": [
       "<div>\n",
       "<style scoped>\n",
       "    .dataframe tbody tr th:only-of-type {\n",
       "        vertical-align: middle;\n",
       "    }\n",
       "\n",
       "    .dataframe tbody tr th {\n",
       "        vertical-align: top;\n",
       "    }\n",
       "\n",
       "    .dataframe thead th {\n",
       "        text-align: right;\n",
       "    }\n",
       "</style>\n",
       "<table border=\"1\" class=\"dataframe\">\n",
       "  <thead>\n",
       "    <tr style=\"text-align: right;\">\n",
       "      <th></th>\n",
       "      <th>Gender</th>\n",
       "      <th>Age</th>\n",
       "      <th>Stay_In_Current_City_Years</th>\n",
       "      <th>Marital_Status</th>\n",
       "      <th>Product_Category_3</th>\n",
       "      <th>Median_Product_Purchase</th>\n",
       "      <th>Median_User_Purchase</th>\n",
       "      <th>Occupation_0</th>\n",
       "      <th>Occupation_1</th>\n",
       "      <th>Occupation_2</th>\n",
       "      <th>...</th>\n",
       "      <th>Product_Category_1_11</th>\n",
       "      <th>Product_Category_1_12</th>\n",
       "      <th>Product_Category_1_13</th>\n",
       "      <th>Product_Category_1_14</th>\n",
       "      <th>Product_Category_1_15</th>\n",
       "      <th>Product_Category_1_16</th>\n",
       "      <th>Product_Category_1_17</th>\n",
       "      <th>Product_Category_1_18</th>\n",
       "      <th>Product_Category_1_19</th>\n",
       "      <th>Product_Category_1_20</th>\n",
       "    </tr>\n",
       "  </thead>\n",
       "  <tbody>\n",
       "    <tr>\n",
       "      <th>317542</th>\n",
       "      <td>0</td>\n",
       "      <td>5</td>\n",
       "      <td>2</td>\n",
       "      <td>1</td>\n",
       "      <td>True</td>\n",
       "      <td>7900.5</td>\n",
       "      <td>7878.0</td>\n",
       "      <td>0</td>\n",
       "      <td>0</td>\n",
       "      <td>0</td>\n",
       "      <td>...</td>\n",
       "      <td>0</td>\n",
       "      <td>0</td>\n",
       "      <td>0</td>\n",
       "      <td>0</td>\n",
       "      <td>0</td>\n",
       "      <td>0</td>\n",
       "      <td>0</td>\n",
       "      <td>0</td>\n",
       "      <td>0</td>\n",
       "      <td>0</td>\n",
       "    </tr>\n",
       "    <tr>\n",
       "      <th>303034</th>\n",
       "      <td>0</td>\n",
       "      <td>2</td>\n",
       "      <td>1</td>\n",
       "      <td>0</td>\n",
       "      <td>True</td>\n",
       "      <td>6908.5</td>\n",
       "      <td>8324.0</td>\n",
       "      <td>0</td>\n",
       "      <td>0</td>\n",
       "      <td>0</td>\n",
       "      <td>...</td>\n",
       "      <td>0</td>\n",
       "      <td>0</td>\n",
       "      <td>0</td>\n",
       "      <td>0</td>\n",
       "      <td>0</td>\n",
       "      <td>0</td>\n",
       "      <td>0</td>\n",
       "      <td>0</td>\n",
       "      <td>0</td>\n",
       "      <td>0</td>\n",
       "    </tr>\n",
       "    <tr>\n",
       "      <th>53473</th>\n",
       "      <td>0</td>\n",
       "      <td>1</td>\n",
       "      <td>0</td>\n",
       "      <td>1</td>\n",
       "      <td>False</td>\n",
       "      <td>19093.5</td>\n",
       "      <td>6980.0</td>\n",
       "      <td>0</td>\n",
       "      <td>0</td>\n",
       "      <td>0</td>\n",
       "      <td>...</td>\n",
       "      <td>0</td>\n",
       "      <td>0</td>\n",
       "      <td>0</td>\n",
       "      <td>0</td>\n",
       "      <td>0</td>\n",
       "      <td>0</td>\n",
       "      <td>0</td>\n",
       "      <td>0</td>\n",
       "      <td>0</td>\n",
       "      <td>0</td>\n",
       "    </tr>\n",
       "    <tr>\n",
       "      <th>438582</th>\n",
       "      <td>0</td>\n",
       "      <td>2</td>\n",
       "      <td>2</td>\n",
       "      <td>0</td>\n",
       "      <td>True</td>\n",
       "      <td>15266.0</td>\n",
       "      <td>7915.0</td>\n",
       "      <td>0</td>\n",
       "      <td>0</td>\n",
       "      <td>0</td>\n",
       "      <td>...</td>\n",
       "      <td>0</td>\n",
       "      <td>0</td>\n",
       "      <td>0</td>\n",
       "      <td>0</td>\n",
       "      <td>0</td>\n",
       "      <td>0</td>\n",
       "      <td>0</td>\n",
       "      <td>0</td>\n",
       "      <td>0</td>\n",
       "      <td>0</td>\n",
       "    </tr>\n",
       "    <tr>\n",
       "      <th>152279</th>\n",
       "      <td>0</td>\n",
       "      <td>2</td>\n",
       "      <td>2</td>\n",
       "      <td>1</td>\n",
       "      <td>False</td>\n",
       "      <td>12103.0</td>\n",
       "      <td>6489.0</td>\n",
       "      <td>0</td>\n",
       "      <td>0</td>\n",
       "      <td>0</td>\n",
       "      <td>...</td>\n",
       "      <td>0</td>\n",
       "      <td>0</td>\n",
       "      <td>0</td>\n",
       "      <td>0</td>\n",
       "      <td>0</td>\n",
       "      <td>0</td>\n",
       "      <td>0</td>\n",
       "      <td>0</td>\n",
       "      <td>0</td>\n",
       "      <td>0</td>\n",
       "    </tr>\n",
       "  </tbody>\n",
       "</table>\n",
       "<p>5 rows × 51 columns</p>\n",
       "</div>"
      ],
      "text/plain": [
       "        Gender  Age  Stay_In_Current_City_Years  Marital_Status  \\\n",
       "317542       0    5                           2               1   \n",
       "303034       0    2                           1               0   \n",
       "53473        0    1                           0               1   \n",
       "438582       0    2                           2               0   \n",
       "152279       0    2                           2               1   \n",
       "\n",
       "        Product_Category_3  Median_Product_Purchase  Median_User_Purchase  \\\n",
       "317542                True                   7900.5                7878.0   \n",
       "303034                True                   6908.5                8324.0   \n",
       "53473                False                  19093.5                6980.0   \n",
       "438582                True                  15266.0                7915.0   \n",
       "152279               False                  12103.0                6489.0   \n",
       "\n",
       "        Occupation_0  Occupation_1  Occupation_2  ...  Product_Category_1_11  \\\n",
       "317542             0             0             0  ...                      0   \n",
       "303034             0             0             0  ...                      0   \n",
       "53473              0             0             0  ...                      0   \n",
       "438582             0             0             0  ...                      0   \n",
       "152279             0             0             0  ...                      0   \n",
       "\n",
       "        Product_Category_1_12  Product_Category_1_13  Product_Category_1_14  \\\n",
       "317542                      0                      0                      0   \n",
       "303034                      0                      0                      0   \n",
       "53473                       0                      0                      0   \n",
       "438582                      0                      0                      0   \n",
       "152279                      0                      0                      0   \n",
       "\n",
       "        Product_Category_1_15  Product_Category_1_16  Product_Category_1_17  \\\n",
       "317542                      0                      0                      0   \n",
       "303034                      0                      0                      0   \n",
       "53473                       0                      0                      0   \n",
       "438582                      0                      0                      0   \n",
       "152279                      0                      0                      0   \n",
       "\n",
       "        Product_Category_1_18  Product_Category_1_19  Product_Category_1_20  \n",
       "317542                      0                      0                      0  \n",
       "303034                      0                      0                      0  \n",
       "53473                       0                      0                      0  \n",
       "438582                      0                      0                      0  \n",
       "152279                      0                      0                      0  \n",
       "\n",
       "[5 rows x 51 columns]"
      ]
     },
     "execution_count": 105,
     "metadata": {},
     "output_type": "execute_result"
    }
   ],
   "source": [
    "validation_X.head()"
   ]
  },
  {
   "cell_type": "code",
   "execution_count": 106,
   "id": "3bdd881d",
   "metadata": {},
   "outputs": [
    {
     "data": {
      "text/html": [
       "<div>\n",
       "<style scoped>\n",
       "    .dataframe tbody tr th:only-of-type {\n",
       "        vertical-align: middle;\n",
       "    }\n",
       "\n",
       "    .dataframe tbody tr th {\n",
       "        vertical-align: top;\n",
       "    }\n",
       "\n",
       "    .dataframe thead th {\n",
       "        text-align: right;\n",
       "    }\n",
       "</style>\n",
       "<table border=\"1\" class=\"dataframe\">\n",
       "  <thead>\n",
       "    <tr style=\"text-align: right;\">\n",
       "      <th></th>\n",
       "      <th>Name</th>\n",
       "      <th>Parameters</th>\n",
       "      <th>CV score mean</th>\n",
       "    </tr>\n",
       "  </thead>\n",
       "  <tbody>\n",
       "    <tr>\n",
       "      <th>2</th>\n",
       "      <td>ElasticNet</td>\n",
       "      <td>{'alpha': 1.0, 'copy_X': True, 'fit_intercept'...</td>\n",
       "      <td>2678.007857</td>\n",
       "    </tr>\n",
       "    <tr>\n",
       "      <th>0</th>\n",
       "      <td>Lasso</td>\n",
       "      <td>{'alpha': 1.0, 'copy_X': True, 'fit_intercept'...</td>\n",
       "      <td>2654.126174</td>\n",
       "    </tr>\n",
       "    <tr>\n",
       "      <th>1</th>\n",
       "      <td>Ridge</td>\n",
       "      <td>{'alpha': 1.0, 'copy_X': True, 'fit_intercept'...</td>\n",
       "      <td>2651.351953</td>\n",
       "    </tr>\n",
       "    <tr>\n",
       "      <th>3</th>\n",
       "      <td>RandomForestRegressor</td>\n",
       "      <td>{'bootstrap': True, 'ccp_alpha': 0.0, 'criteri...</td>\n",
       "      <td>2609.954398</td>\n",
       "    </tr>\n",
       "    <tr>\n",
       "      <th>4</th>\n",
       "      <td>XGBRegressor</td>\n",
       "      <td>{'objective': 'reg:squarederror', 'base_score'...</td>\n",
       "      <td>2510.912847</td>\n",
       "    </tr>\n",
       "  </tbody>\n",
       "</table>\n",
       "</div>"
      ],
      "text/plain": [
       "                    Name                                         Parameters  \\\n",
       "2             ElasticNet  {'alpha': 1.0, 'copy_X': True, 'fit_intercept'...   \n",
       "0                  Lasso  {'alpha': 1.0, 'copy_X': True, 'fit_intercept'...   \n",
       "1                  Ridge  {'alpha': 1.0, 'copy_X': True, 'fit_intercept'...   \n",
       "3  RandomForestRegressor  {'bootstrap': True, 'ccp_alpha': 0.0, 'criteri...   \n",
       "4           XGBRegressor  {'objective': 'reg:squarederror', 'base_score'...   \n",
       "\n",
       "  CV score mean  \n",
       "2   2678.007857  \n",
       "0   2654.126174  \n",
       "1   2651.351953  \n",
       "3   2609.954398  \n",
       "4   2510.912847  "
      ]
     },
     "execution_count": 106,
     "metadata": {},
     "output_type": "execute_result"
    }
   ],
   "source": [
    "from sklearn import linear_model\n",
    "from sklearn import tree\n",
    "from sklearn import ensemble\n",
    "from sklearn.kernel_ridge import KernelRidge\n",
    "import xgboost\n",
    "from sklearn.metrics import mean_squared_error\n",
    "\n",
    "MLA = [\n",
    "    #Linear Model\n",
    "    linear_model.Lasso(),\n",
    "    linear_model.Ridge(),\n",
    "    linear_model.ElasticNet(),\n",
    "    \n",
    "    #Ensemble\n",
    "    ensemble.RandomForestRegressor(),\n",
    "    #ensemble.GradientBoostingRegressor(),\n",
    "    \n",
    "    #XGB\n",
    "    xgboost.XGBRegressor()\n",
    "]\n",
    "\n",
    "df = pd.DataFrame(columns = ['Name', 'Parameters', 'RMSE'])\n",
    "\n",
    "for i in np.arange(len(MLA)):\n",
    "    model = MLA[i]\n",
    "    model_name = model.__class__.__name__\n",
    "    model_parameters = str(model.get_params())\n",
    "    model.fit(train_X, train_y)\n",
    "    model_prediction = model.predict(validation_X)\n",
    "    rmse = (mean_squared_error(model_prediction, validation_y)) ** 0.5\n",
    "    df.loc[i,:] = [model_name, model_parameters, rmse]\n",
    "    \n",
    "\n",
    "df.sort_values('RMSE', ascending = False)"
   ]
  },
  {
   "cell_type": "markdown",
   "id": "a148114b",
   "metadata": {},
   "source": [
    "# Model Tuning"
   ]
  },
  {
   "cell_type": "code",
   "execution_count": 157,
   "id": "15a96b24",
   "metadata": {},
   "outputs": [],
   "source": [
    "from sklearn.metrics import make_scorer\n",
    "def neg_rmse(y_true, y_pred):\n",
    "    return (-1) * np.sqrt(np.mean((y_true - y_pred) ** 2))\n",
    "scorer = make_scorer(neg_rmse)"
   ]
  },
  {
   "cell_type": "code",
   "execution_count": null,
   "id": "b83fcbc2",
   "metadata": {},
   "outputs": [],
   "source": [
    "from sklearn.model_selection import GridSearchCV\n",
    "\n",
    "xgb_reg = xgboost.XGBRegressor(\n",
    ")\n",
    "parameters = {\n",
    "    'eta':[0.1, 0.2, 0.3]\n",
    "}\n",
    "cv = GridSearchCV(estimator = xgb_reg, param_grid=parameters, scoring=scorer, n_jobs = -1, cv = 5)\n",
    "\n",
    "cv.fit(X, y)\n",
    "\n",
    "cv.best_params_"
   ]
  },
  {
   "cell_type": "markdown",
   "id": "a65d3ff1",
   "metadata": {},
   "source": [
    "# Test Set Prediction"
   ]
  },
  {
   "cell_type": "code",
   "execution_count": 12,
   "id": "448a96b3",
   "metadata": {},
   "outputs": [],
   "source": [
    "# X: train X\n",
    "# y: train y\n",
    "# test_X: test X"
   ]
  },
  {
   "cell_type": "code",
   "execution_count": 142,
   "id": "1835a08e",
   "metadata": {},
   "outputs": [],
   "source": [
    "y = train['Purchase']\n",
    "X = train.drop(['Purchase'], axis=1)"
   ]
  },
  {
   "cell_type": "code",
   "execution_count": 143,
   "id": "447a5d7c",
   "metadata": {},
   "outputs": [
    {
     "data": {
      "text/html": [
       "<div>\n",
       "<style scoped>\n",
       "    .dataframe tbody tr th:only-of-type {\n",
       "        vertical-align: middle;\n",
       "    }\n",
       "\n",
       "    .dataframe tbody tr th {\n",
       "        vertical-align: top;\n",
       "    }\n",
       "\n",
       "    .dataframe thead th {\n",
       "        text-align: right;\n",
       "    }\n",
       "</style>\n",
       "<table border=\"1\" class=\"dataframe\">\n",
       "  <thead>\n",
       "    <tr style=\"text-align: right;\">\n",
       "      <th></th>\n",
       "      <th>User_ID</th>\n",
       "      <th>Product_ID</th>\n",
       "      <th>Gender</th>\n",
       "      <th>Age</th>\n",
       "      <th>Occupation</th>\n",
       "      <th>City_Category</th>\n",
       "      <th>Stay_In_Current_City_Years</th>\n",
       "      <th>Marital_Status</th>\n",
       "      <th>Product_Category_1</th>\n",
       "      <th>Product_Category_2</th>\n",
       "      <th>Product_Category_3</th>\n",
       "    </tr>\n",
       "  </thead>\n",
       "  <tbody>\n",
       "    <tr>\n",
       "      <th>0</th>\n",
       "      <td>1000001</td>\n",
       "      <td>P00069042</td>\n",
       "      <td>F</td>\n",
       "      <td>0-17</td>\n",
       "      <td>10</td>\n",
       "      <td>A</td>\n",
       "      <td>2</td>\n",
       "      <td>0</td>\n",
       "      <td>3</td>\n",
       "      <td>NaN</td>\n",
       "      <td>NaN</td>\n",
       "    </tr>\n",
       "    <tr>\n",
       "      <th>1</th>\n",
       "      <td>1000001</td>\n",
       "      <td>P00248942</td>\n",
       "      <td>F</td>\n",
       "      <td>0-17</td>\n",
       "      <td>10</td>\n",
       "      <td>A</td>\n",
       "      <td>2</td>\n",
       "      <td>0</td>\n",
       "      <td>1</td>\n",
       "      <td>6.0</td>\n",
       "      <td>14.0</td>\n",
       "    </tr>\n",
       "    <tr>\n",
       "      <th>2</th>\n",
       "      <td>1000001</td>\n",
       "      <td>P00087842</td>\n",
       "      <td>F</td>\n",
       "      <td>0-17</td>\n",
       "      <td>10</td>\n",
       "      <td>A</td>\n",
       "      <td>2</td>\n",
       "      <td>0</td>\n",
       "      <td>12</td>\n",
       "      <td>NaN</td>\n",
       "      <td>NaN</td>\n",
       "    </tr>\n",
       "    <tr>\n",
       "      <th>3</th>\n",
       "      <td>1000001</td>\n",
       "      <td>P00085442</td>\n",
       "      <td>F</td>\n",
       "      <td>0-17</td>\n",
       "      <td>10</td>\n",
       "      <td>A</td>\n",
       "      <td>2</td>\n",
       "      <td>0</td>\n",
       "      <td>12</td>\n",
       "      <td>14.0</td>\n",
       "      <td>NaN</td>\n",
       "    </tr>\n",
       "    <tr>\n",
       "      <th>4</th>\n",
       "      <td>1000002</td>\n",
       "      <td>P00285442</td>\n",
       "      <td>M</td>\n",
       "      <td>55+</td>\n",
       "      <td>16</td>\n",
       "      <td>C</td>\n",
       "      <td>4+</td>\n",
       "      <td>0</td>\n",
       "      <td>8</td>\n",
       "      <td>NaN</td>\n",
       "      <td>NaN</td>\n",
       "    </tr>\n",
       "  </tbody>\n",
       "</table>\n",
       "</div>"
      ],
      "text/plain": [
       "   User_ID Product_ID Gender   Age  Occupation City_Category  \\\n",
       "0  1000001  P00069042      F  0-17          10             A   \n",
       "1  1000001  P00248942      F  0-17          10             A   \n",
       "2  1000001  P00087842      F  0-17          10             A   \n",
       "3  1000001  P00085442      F  0-17          10             A   \n",
       "4  1000002  P00285442      M   55+          16             C   \n",
       "\n",
       "  Stay_In_Current_City_Years  Marital_Status  Product_Category_1  \\\n",
       "0                          2               0                   3   \n",
       "1                          2               0                   1   \n",
       "2                          2               0                  12   \n",
       "3                          2               0                  12   \n",
       "4                         4+               0                   8   \n",
       "\n",
       "   Product_Category_2  Product_Category_3  \n",
       "0                 NaN                 NaN  \n",
       "1                 6.0                14.0  \n",
       "2                 NaN                 NaN  \n",
       "3                14.0                 NaN  \n",
       "4                 NaN                 NaN  "
      ]
     },
     "execution_count": 143,
     "metadata": {},
     "output_type": "execute_result"
    }
   ],
   "source": [
    "train_and_test_X = X.append(test, ignore_index=True)\n",
    "train_and_test_X.head()"
   ]
  },
  {
   "cell_type": "code",
   "execution_count": 144,
   "id": "ed2cb7df",
   "metadata": {},
   "outputs": [
    {
     "data": {
      "text/html": [
       "<div>\n",
       "<style scoped>\n",
       "    .dataframe tbody tr th:only-of-type {\n",
       "        vertical-align: middle;\n",
       "    }\n",
       "\n",
       "    .dataframe tbody tr th {\n",
       "        vertical-align: top;\n",
       "    }\n",
       "\n",
       "    .dataframe thead th {\n",
       "        text-align: right;\n",
       "    }\n",
       "</style>\n",
       "<table border=\"1\" class=\"dataframe\">\n",
       "  <thead>\n",
       "    <tr style=\"text-align: right;\">\n",
       "      <th></th>\n",
       "      <th>User_ID</th>\n",
       "      <th>Product_ID</th>\n",
       "      <th>Gender</th>\n",
       "      <th>Age</th>\n",
       "      <th>Stay_In_Current_City_Years</th>\n",
       "      <th>Marital_Status</th>\n",
       "      <th>Product_Category_2</th>\n",
       "      <th>Product_Category_3</th>\n",
       "      <th>Median_Product_Purchase</th>\n",
       "      <th>Median_User_Purchase</th>\n",
       "      <th>...</th>\n",
       "      <th>Product_Category_1_11</th>\n",
       "      <th>Product_Category_1_12</th>\n",
       "      <th>Product_Category_1_13</th>\n",
       "      <th>Product_Category_1_14</th>\n",
       "      <th>Product_Category_1_15</th>\n",
       "      <th>Product_Category_1_16</th>\n",
       "      <th>Product_Category_1_17</th>\n",
       "      <th>Product_Category_1_18</th>\n",
       "      <th>Product_Category_1_19</th>\n",
       "      <th>Product_Category_1_20</th>\n",
       "    </tr>\n",
       "  </thead>\n",
       "  <tbody>\n",
       "    <tr>\n",
       "      <th>0</th>\n",
       "      <td>1000001</td>\n",
       "      <td>P00069042</td>\n",
       "      <td>1</td>\n",
       "      <td>0</td>\n",
       "      <td>2</td>\n",
       "      <td>0</td>\n",
       "      <td>True</td>\n",
       "      <td>True</td>\n",
       "      <td>11870.863436</td>\n",
       "      <td>9545.514286</td>\n",
       "      <td>...</td>\n",
       "      <td>0</td>\n",
       "      <td>0</td>\n",
       "      <td>0</td>\n",
       "      <td>0</td>\n",
       "      <td>0</td>\n",
       "      <td>0</td>\n",
       "      <td>0</td>\n",
       "      <td>0</td>\n",
       "      <td>0</td>\n",
       "      <td>0</td>\n",
       "    </tr>\n",
       "    <tr>\n",
       "      <th>1</th>\n",
       "      <td>1000001</td>\n",
       "      <td>P00248942</td>\n",
       "      <td>1</td>\n",
       "      <td>0</td>\n",
       "      <td>2</td>\n",
       "      <td>0</td>\n",
       "      <td>False</td>\n",
       "      <td>False</td>\n",
       "      <td>16304.030981</td>\n",
       "      <td>9545.514286</td>\n",
       "      <td>...</td>\n",
       "      <td>0</td>\n",
       "      <td>0</td>\n",
       "      <td>0</td>\n",
       "      <td>0</td>\n",
       "      <td>0</td>\n",
       "      <td>0</td>\n",
       "      <td>0</td>\n",
       "      <td>0</td>\n",
       "      <td>0</td>\n",
       "      <td>0</td>\n",
       "    </tr>\n",
       "    <tr>\n",
       "      <th>2</th>\n",
       "      <td>1000001</td>\n",
       "      <td>P00087842</td>\n",
       "      <td>1</td>\n",
       "      <td>0</td>\n",
       "      <td>2</td>\n",
       "      <td>0</td>\n",
       "      <td>True</td>\n",
       "      <td>True</td>\n",
       "      <td>1237.892157</td>\n",
       "      <td>9545.514286</td>\n",
       "      <td>...</td>\n",
       "      <td>0</td>\n",
       "      <td>1</td>\n",
       "      <td>0</td>\n",
       "      <td>0</td>\n",
       "      <td>0</td>\n",
       "      <td>0</td>\n",
       "      <td>0</td>\n",
       "      <td>0</td>\n",
       "      <td>0</td>\n",
       "      <td>0</td>\n",
       "    </tr>\n",
       "    <tr>\n",
       "      <th>3</th>\n",
       "      <td>1000001</td>\n",
       "      <td>P00085442</td>\n",
       "      <td>1</td>\n",
       "      <td>0</td>\n",
       "      <td>2</td>\n",
       "      <td>0</td>\n",
       "      <td>False</td>\n",
       "      <td>True</td>\n",
       "      <td>1455.140762</td>\n",
       "      <td>9545.514286</td>\n",
       "      <td>...</td>\n",
       "      <td>0</td>\n",
       "      <td>1</td>\n",
       "      <td>0</td>\n",
       "      <td>0</td>\n",
       "      <td>0</td>\n",
       "      <td>0</td>\n",
       "      <td>0</td>\n",
       "      <td>0</td>\n",
       "      <td>0</td>\n",
       "      <td>0</td>\n",
       "    </tr>\n",
       "    <tr>\n",
       "      <th>4</th>\n",
       "      <td>1000002</td>\n",
       "      <td>P00285442</td>\n",
       "      <td>0</td>\n",
       "      <td>6</td>\n",
       "      <td>4</td>\n",
       "      <td>0</td>\n",
       "      <td>True</td>\n",
       "      <td>True</td>\n",
       "      <td>7692.763547</td>\n",
       "      <td>10525.610390</td>\n",
       "      <td>...</td>\n",
       "      <td>0</td>\n",
       "      <td>0</td>\n",
       "      <td>0</td>\n",
       "      <td>0</td>\n",
       "      <td>0</td>\n",
       "      <td>0</td>\n",
       "      <td>0</td>\n",
       "      <td>0</td>\n",
       "      <td>0</td>\n",
       "      <td>0</td>\n",
       "    </tr>\n",
       "  </tbody>\n",
       "</table>\n",
       "<p>5 rows × 54 columns</p>\n",
       "</div>"
      ],
      "text/plain": [
       "   User_ID Product_ID  Gender  Age  Stay_In_Current_City_Years  \\\n",
       "0  1000001  P00069042       1    0                           2   \n",
       "1  1000001  P00248942       1    0                           2   \n",
       "2  1000001  P00087842       1    0                           2   \n",
       "3  1000001  P00085442       1    0                           2   \n",
       "4  1000002  P00285442       0    6                           4   \n",
       "\n",
       "   Marital_Status  Product_Category_2  Product_Category_3  \\\n",
       "0               0                True                True   \n",
       "1               0               False               False   \n",
       "2               0                True                True   \n",
       "3               0               False                True   \n",
       "4               0                True                True   \n",
       "\n",
       "   Median_Product_Purchase  Median_User_Purchase  ...  Product_Category_1_11  \\\n",
       "0             11870.863436           9545.514286  ...                      0   \n",
       "1             16304.030981           9545.514286  ...                      0   \n",
       "2              1237.892157           9545.514286  ...                      0   \n",
       "3              1455.140762           9545.514286  ...                      0   \n",
       "4              7692.763547          10525.610390  ...                      0   \n",
       "\n",
       "   Product_Category_1_12  Product_Category_1_13  Product_Category_1_14  \\\n",
       "0                      0                      0                      0   \n",
       "1                      0                      0                      0   \n",
       "2                      1                      0                      0   \n",
       "3                      1                      0                      0   \n",
       "4                      0                      0                      0   \n",
       "\n",
       "   Product_Category_1_15  Product_Category_1_16  Product_Category_1_17  \\\n",
       "0                      0                      0                      0   \n",
       "1                      0                      0                      0   \n",
       "2                      0                      0                      0   \n",
       "3                      0                      0                      0   \n",
       "4                      0                      0                      0   \n",
       "\n",
       "   Product_Category_1_18  Product_Category_1_19  Product_Category_1_20  \n",
       "0                      0                      0                      0  \n",
       "1                      0                      0                      0  \n",
       "2                      0                      0                      0  \n",
       "3                      0                      0                      0  \n",
       "4                      0                      0                      0  \n",
       "\n",
       "[5 rows x 54 columns]"
      ]
     },
     "execution_count": 144,
     "metadata": {},
     "output_type": "execute_result"
    }
   ],
   "source": [
    "# Prepare_data\n",
    "train_and_test_X = prepare_data(train_and_test_X)\n",
    "train_and_test_X.head()"
   ]
  },
  {
   "cell_type": "code",
   "execution_count": 145,
   "id": "6c9170c6",
   "metadata": {},
   "outputs": [],
   "source": [
    "train_and_test_X.drop(['User_ID', 'Product_ID'],axis=1, inplace=True)"
   ]
  },
  {
   "cell_type": "code",
   "execution_count": 146,
   "id": "ae4fd7ff",
   "metadata": {},
   "outputs": [
    {
     "data": {
      "text/html": [
       "<div>\n",
       "<style scoped>\n",
       "    .dataframe tbody tr th:only-of-type {\n",
       "        vertical-align: middle;\n",
       "    }\n",
       "\n",
       "    .dataframe tbody tr th {\n",
       "        vertical-align: top;\n",
       "    }\n",
       "\n",
       "    .dataframe thead th {\n",
       "        text-align: right;\n",
       "    }\n",
       "</style>\n",
       "<table border=\"1\" class=\"dataframe\">\n",
       "  <thead>\n",
       "    <tr style=\"text-align: right;\">\n",
       "      <th></th>\n",
       "      <th>Gender</th>\n",
       "      <th>Age</th>\n",
       "      <th>Stay_In_Current_City_Years</th>\n",
       "      <th>Marital_Status</th>\n",
       "      <th>Product_Category_2</th>\n",
       "      <th>Product_Category_3</th>\n",
       "      <th>Median_Product_Purchase</th>\n",
       "      <th>Median_User_Purchase</th>\n",
       "      <th>Occupation_0</th>\n",
       "      <th>Occupation_1</th>\n",
       "      <th>...</th>\n",
       "      <th>Product_Category_1_11</th>\n",
       "      <th>Product_Category_1_12</th>\n",
       "      <th>Product_Category_1_13</th>\n",
       "      <th>Product_Category_1_14</th>\n",
       "      <th>Product_Category_1_15</th>\n",
       "      <th>Product_Category_1_16</th>\n",
       "      <th>Product_Category_1_17</th>\n",
       "      <th>Product_Category_1_18</th>\n",
       "      <th>Product_Category_1_19</th>\n",
       "      <th>Product_Category_1_20</th>\n",
       "    </tr>\n",
       "  </thead>\n",
       "  <tbody>\n",
       "    <tr>\n",
       "      <th>0</th>\n",
       "      <td>1</td>\n",
       "      <td>0</td>\n",
       "      <td>2</td>\n",
       "      <td>0</td>\n",
       "      <td>True</td>\n",
       "      <td>True</td>\n",
       "      <td>11870.863436</td>\n",
       "      <td>9545.514286</td>\n",
       "      <td>0</td>\n",
       "      <td>0</td>\n",
       "      <td>...</td>\n",
       "      <td>0</td>\n",
       "      <td>0</td>\n",
       "      <td>0</td>\n",
       "      <td>0</td>\n",
       "      <td>0</td>\n",
       "      <td>0</td>\n",
       "      <td>0</td>\n",
       "      <td>0</td>\n",
       "      <td>0</td>\n",
       "      <td>0</td>\n",
       "    </tr>\n",
       "    <tr>\n",
       "      <th>1</th>\n",
       "      <td>1</td>\n",
       "      <td>0</td>\n",
       "      <td>2</td>\n",
       "      <td>0</td>\n",
       "      <td>False</td>\n",
       "      <td>False</td>\n",
       "      <td>16304.030981</td>\n",
       "      <td>9545.514286</td>\n",
       "      <td>0</td>\n",
       "      <td>0</td>\n",
       "      <td>...</td>\n",
       "      <td>0</td>\n",
       "      <td>0</td>\n",
       "      <td>0</td>\n",
       "      <td>0</td>\n",
       "      <td>0</td>\n",
       "      <td>0</td>\n",
       "      <td>0</td>\n",
       "      <td>0</td>\n",
       "      <td>0</td>\n",
       "      <td>0</td>\n",
       "    </tr>\n",
       "    <tr>\n",
       "      <th>2</th>\n",
       "      <td>1</td>\n",
       "      <td>0</td>\n",
       "      <td>2</td>\n",
       "      <td>0</td>\n",
       "      <td>True</td>\n",
       "      <td>True</td>\n",
       "      <td>1237.892157</td>\n",
       "      <td>9545.514286</td>\n",
       "      <td>0</td>\n",
       "      <td>0</td>\n",
       "      <td>...</td>\n",
       "      <td>0</td>\n",
       "      <td>1</td>\n",
       "      <td>0</td>\n",
       "      <td>0</td>\n",
       "      <td>0</td>\n",
       "      <td>0</td>\n",
       "      <td>0</td>\n",
       "      <td>0</td>\n",
       "      <td>0</td>\n",
       "      <td>0</td>\n",
       "    </tr>\n",
       "    <tr>\n",
       "      <th>3</th>\n",
       "      <td>1</td>\n",
       "      <td>0</td>\n",
       "      <td>2</td>\n",
       "      <td>0</td>\n",
       "      <td>False</td>\n",
       "      <td>True</td>\n",
       "      <td>1455.140762</td>\n",
       "      <td>9545.514286</td>\n",
       "      <td>0</td>\n",
       "      <td>0</td>\n",
       "      <td>...</td>\n",
       "      <td>0</td>\n",
       "      <td>1</td>\n",
       "      <td>0</td>\n",
       "      <td>0</td>\n",
       "      <td>0</td>\n",
       "      <td>0</td>\n",
       "      <td>0</td>\n",
       "      <td>0</td>\n",
       "      <td>0</td>\n",
       "      <td>0</td>\n",
       "    </tr>\n",
       "    <tr>\n",
       "      <th>4</th>\n",
       "      <td>0</td>\n",
       "      <td>6</td>\n",
       "      <td>4</td>\n",
       "      <td>0</td>\n",
       "      <td>True</td>\n",
       "      <td>True</td>\n",
       "      <td>7692.763547</td>\n",
       "      <td>10525.610390</td>\n",
       "      <td>0</td>\n",
       "      <td>0</td>\n",
       "      <td>...</td>\n",
       "      <td>0</td>\n",
       "      <td>0</td>\n",
       "      <td>0</td>\n",
       "      <td>0</td>\n",
       "      <td>0</td>\n",
       "      <td>0</td>\n",
       "      <td>0</td>\n",
       "      <td>0</td>\n",
       "      <td>0</td>\n",
       "      <td>0</td>\n",
       "    </tr>\n",
       "  </tbody>\n",
       "</table>\n",
       "<p>5 rows × 52 columns</p>\n",
       "</div>"
      ],
      "text/plain": [
       "   Gender  Age  Stay_In_Current_City_Years  Marital_Status  \\\n",
       "0       1    0                           2               0   \n",
       "1       1    0                           2               0   \n",
       "2       1    0                           2               0   \n",
       "3       1    0                           2               0   \n",
       "4       0    6                           4               0   \n",
       "\n",
       "   Product_Category_2  Product_Category_3  Median_Product_Purchase  \\\n",
       "0                True                True             11870.863436   \n",
       "1               False               False             16304.030981   \n",
       "2                True                True              1237.892157   \n",
       "3               False                True              1455.140762   \n",
       "4                True                True              7692.763547   \n",
       "\n",
       "   Median_User_Purchase  Occupation_0  Occupation_1  ...  \\\n",
       "0           9545.514286             0             0  ...   \n",
       "1           9545.514286             0             0  ...   \n",
       "2           9545.514286             0             0  ...   \n",
       "3           9545.514286             0             0  ...   \n",
       "4          10525.610390             0             0  ...   \n",
       "\n",
       "   Product_Category_1_11  Product_Category_1_12  Product_Category_1_13  \\\n",
       "0                      0                      0                      0   \n",
       "1                      0                      0                      0   \n",
       "2                      0                      1                      0   \n",
       "3                      0                      1                      0   \n",
       "4                      0                      0                      0   \n",
       "\n",
       "   Product_Category_1_14  Product_Category_1_15  Product_Category_1_16  \\\n",
       "0                      0                      0                      0   \n",
       "1                      0                      0                      0   \n",
       "2                      0                      0                      0   \n",
       "3                      0                      0                      0   \n",
       "4                      0                      0                      0   \n",
       "\n",
       "   Product_Category_1_17  Product_Category_1_18  Product_Category_1_19  \\\n",
       "0                      0                      0                      0   \n",
       "1                      0                      0                      0   \n",
       "2                      0                      0                      0   \n",
       "3                      0                      0                      0   \n",
       "4                      0                      0                      0   \n",
       "\n",
       "   Product_Category_1_20  \n",
       "0                      0  \n",
       "1                      0  \n",
       "2                      0  \n",
       "3                      0  \n",
       "4                      0  \n",
       "\n",
       "[5 rows x 52 columns]"
      ]
     },
     "execution_count": 146,
     "metadata": {},
     "output_type": "execute_result"
    }
   ],
   "source": [
    "X = train_and_test_X.loc[:550067]\n",
    "X.head()"
   ]
  },
  {
   "cell_type": "code",
   "execution_count": 147,
   "id": "aef7f736",
   "metadata": {},
   "outputs": [
    {
     "data": {
      "text/html": [
       "<div>\n",
       "<style scoped>\n",
       "    .dataframe tbody tr th:only-of-type {\n",
       "        vertical-align: middle;\n",
       "    }\n",
       "\n",
       "    .dataframe tbody tr th {\n",
       "        vertical-align: top;\n",
       "    }\n",
       "\n",
       "    .dataframe thead th {\n",
       "        text-align: right;\n",
       "    }\n",
       "</style>\n",
       "<table border=\"1\" class=\"dataframe\">\n",
       "  <thead>\n",
       "    <tr style=\"text-align: right;\">\n",
       "      <th></th>\n",
       "      <th>Gender</th>\n",
       "      <th>Age</th>\n",
       "      <th>Stay_In_Current_City_Years</th>\n",
       "      <th>Marital_Status</th>\n",
       "      <th>Product_Category_2</th>\n",
       "      <th>Product_Category_3</th>\n",
       "      <th>Median_Product_Purchase</th>\n",
       "      <th>Median_User_Purchase</th>\n",
       "      <th>Occupation_0</th>\n",
       "      <th>Occupation_1</th>\n",
       "      <th>...</th>\n",
       "      <th>Product_Category_1_11</th>\n",
       "      <th>Product_Category_1_12</th>\n",
       "      <th>Product_Category_1_13</th>\n",
       "      <th>Product_Category_1_14</th>\n",
       "      <th>Product_Category_1_15</th>\n",
       "      <th>Product_Category_1_16</th>\n",
       "      <th>Product_Category_1_17</th>\n",
       "      <th>Product_Category_1_18</th>\n",
       "      <th>Product_Category_1_19</th>\n",
       "      <th>Product_Category_1_20</th>\n",
       "    </tr>\n",
       "  </thead>\n",
       "  <tbody>\n",
       "    <tr>\n",
       "      <th>550068</th>\n",
       "      <td>0</td>\n",
       "      <td>4</td>\n",
       "      <td>2</td>\n",
       "      <td>1</td>\n",
       "      <td>False</td>\n",
       "      <td>True</td>\n",
       "      <td>15781.118590</td>\n",
       "      <td>14747.714286</td>\n",
       "      <td>0</td>\n",
       "      <td>0</td>\n",
       "      <td>...</td>\n",
       "      <td>0</td>\n",
       "      <td>0</td>\n",
       "      <td>0</td>\n",
       "      <td>0</td>\n",
       "      <td>0</td>\n",
       "      <td>0</td>\n",
       "      <td>0</td>\n",
       "      <td>0</td>\n",
       "      <td>0</td>\n",
       "      <td>0</td>\n",
       "    </tr>\n",
       "    <tr>\n",
       "      <th>550069</th>\n",
       "      <td>0</td>\n",
       "      <td>2</td>\n",
       "      <td>0</td>\n",
       "      <td>0</td>\n",
       "      <td>False</td>\n",
       "      <td>True</td>\n",
       "      <td>11746.665354</td>\n",
       "      <td>10243.086207</td>\n",
       "      <td>0</td>\n",
       "      <td>0</td>\n",
       "      <td>...</td>\n",
       "      <td>0</td>\n",
       "      <td>0</td>\n",
       "      <td>0</td>\n",
       "      <td>0</td>\n",
       "      <td>0</td>\n",
       "      <td>0</td>\n",
       "      <td>0</td>\n",
       "      <td>0</td>\n",
       "      <td>0</td>\n",
       "      <td>0</td>\n",
       "    </tr>\n",
       "    <tr>\n",
       "      <th>550070</th>\n",
       "      <td>1</td>\n",
       "      <td>3</td>\n",
       "      <td>4</td>\n",
       "      <td>1</td>\n",
       "      <td>False</td>\n",
       "      <td>True</td>\n",
       "      <td>5731.338028</td>\n",
       "      <td>9728.744395</td>\n",
       "      <td>0</td>\n",
       "      <td>1</td>\n",
       "      <td>...</td>\n",
       "      <td>0</td>\n",
       "      <td>0</td>\n",
       "      <td>0</td>\n",
       "      <td>0</td>\n",
       "      <td>0</td>\n",
       "      <td>0</td>\n",
       "      <td>0</td>\n",
       "      <td>0</td>\n",
       "      <td>0</td>\n",
       "      <td>0</td>\n",
       "    </tr>\n",
       "    <tr>\n",
       "      <th>550071</th>\n",
       "      <td>1</td>\n",
       "      <td>3</td>\n",
       "      <td>4</td>\n",
       "      <td>1</td>\n",
       "      <td>False</td>\n",
       "      <td>True</td>\n",
       "      <td>1943.266667</td>\n",
       "      <td>9728.744395</td>\n",
       "      <td>0</td>\n",
       "      <td>1</td>\n",
       "      <td>...</td>\n",
       "      <td>0</td>\n",
       "      <td>0</td>\n",
       "      <td>0</td>\n",
       "      <td>0</td>\n",
       "      <td>0</td>\n",
       "      <td>0</td>\n",
       "      <td>0</td>\n",
       "      <td>0</td>\n",
       "      <td>0</td>\n",
       "      <td>0</td>\n",
       "    </tr>\n",
       "    <tr>\n",
       "      <th>550072</th>\n",
       "      <td>1</td>\n",
       "      <td>2</td>\n",
       "      <td>1</td>\n",
       "      <td>0</td>\n",
       "      <td>False</td>\n",
       "      <td>False</td>\n",
       "      <td>2585.590829</td>\n",
       "      <td>7957.471429</td>\n",
       "      <td>0</td>\n",
       "      <td>1</td>\n",
       "      <td>...</td>\n",
       "      <td>0</td>\n",
       "      <td>0</td>\n",
       "      <td>0</td>\n",
       "      <td>0</td>\n",
       "      <td>0</td>\n",
       "      <td>0</td>\n",
       "      <td>0</td>\n",
       "      <td>0</td>\n",
       "      <td>0</td>\n",
       "      <td>0</td>\n",
       "    </tr>\n",
       "  </tbody>\n",
       "</table>\n",
       "<p>5 rows × 52 columns</p>\n",
       "</div>"
      ],
      "text/plain": [
       "        Gender  Age  Stay_In_Current_City_Years  Marital_Status  \\\n",
       "550068       0    4                           2               1   \n",
       "550069       0    2                           0               0   \n",
       "550070       1    3                           4               1   \n",
       "550071       1    3                           4               1   \n",
       "550072       1    2                           1               0   \n",
       "\n",
       "        Product_Category_2  Product_Category_3  Median_Product_Purchase  \\\n",
       "550068               False                True             15781.118590   \n",
       "550069               False                True             11746.665354   \n",
       "550070               False                True              5731.338028   \n",
       "550071               False                True              1943.266667   \n",
       "550072               False               False              2585.590829   \n",
       "\n",
       "        Median_User_Purchase  Occupation_0  Occupation_1  ...  \\\n",
       "550068          14747.714286             0             0  ...   \n",
       "550069          10243.086207             0             0  ...   \n",
       "550070           9728.744395             0             1  ...   \n",
       "550071           9728.744395             0             1  ...   \n",
       "550072           7957.471429             0             1  ...   \n",
       "\n",
       "        Product_Category_1_11  Product_Category_1_12  Product_Category_1_13  \\\n",
       "550068                      0                      0                      0   \n",
       "550069                      0                      0                      0   \n",
       "550070                      0                      0                      0   \n",
       "550071                      0                      0                      0   \n",
       "550072                      0                      0                      0   \n",
       "\n",
       "        Product_Category_1_14  Product_Category_1_15  Product_Category_1_16  \\\n",
       "550068                      0                      0                      0   \n",
       "550069                      0                      0                      0   \n",
       "550070                      0                      0                      0   \n",
       "550071                      0                      0                      0   \n",
       "550072                      0                      0                      0   \n",
       "\n",
       "        Product_Category_1_17  Product_Category_1_18  Product_Category_1_19  \\\n",
       "550068                      0                      0                      0   \n",
       "550069                      0                      0                      0   \n",
       "550070                      0                      0                      0   \n",
       "550071                      0                      0                      0   \n",
       "550072                      0                      0                      0   \n",
       "\n",
       "        Product_Category_1_20  \n",
       "550068                      0  \n",
       "550069                      0  \n",
       "550070                      0  \n",
       "550071                      0  \n",
       "550072                      0  \n",
       "\n",
       "[5 rows x 52 columns]"
      ]
     },
     "execution_count": 147,
     "metadata": {},
     "output_type": "execute_result"
    }
   ],
   "source": [
    "test_X = train_and_test_X.loc[550068:]\n",
    "test_X.head()"
   ]
  },
  {
   "cell_type": "code",
   "execution_count": 148,
   "id": "fa36b4f0",
   "metadata": {},
   "outputs": [
    {
     "data": {
      "text/plain": [
       "XGBRegressor(base_score=0.5, booster='gbtree', colsample_bylevel=1,\n",
       "             colsample_bynode=1, colsample_bytree=1, gamma=0, gpu_id=-1,\n",
       "             importance_type='gain', interaction_constraints='',\n",
       "             learning_rate=0.300000012, max_delta_step=0, max_depth=6,\n",
       "             min_child_weight=1, missing=nan, monotone_constraints='()',\n",
       "             n_estimators=100, n_jobs=8, num_parallel_tree=1, random_state=0,\n",
       "             reg_alpha=0, reg_lambda=1, scale_pos_weight=1, subsample=1,\n",
       "             tree_method='exact', validate_parameters=1, verbosity=None)"
      ]
     },
     "execution_count": 148,
     "metadata": {},
     "output_type": "execute_result"
    }
   ],
   "source": [
    "model = xgboost.XGBRegressor()\n",
    "model.fit(X, y)"
   ]
  },
  {
   "cell_type": "code",
   "execution_count": 149,
   "id": "708f1e34",
   "metadata": {},
   "outputs": [],
   "source": [
    "test_prediction = model.predict(test_X)"
   ]
  },
  {
   "cell_type": "code",
   "execution_count": 150,
   "id": "7c232e72",
   "metadata": {},
   "outputs": [
    {
     "data": {
      "text/html": [
       "<div>\n",
       "<style scoped>\n",
       "    .dataframe tbody tr th:only-of-type {\n",
       "        vertical-align: middle;\n",
       "    }\n",
       "\n",
       "    .dataframe tbody tr th {\n",
       "        vertical-align: top;\n",
       "    }\n",
       "\n",
       "    .dataframe thead th {\n",
       "        text-align: right;\n",
       "    }\n",
       "</style>\n",
       "<table border=\"1\" class=\"dataframe\">\n",
       "  <thead>\n",
       "    <tr style=\"text-align: right;\">\n",
       "      <th></th>\n",
       "      <th>Purchase</th>\n",
       "      <th>User_ID</th>\n",
       "      <th>Product_ID</th>\n",
       "    </tr>\n",
       "  </thead>\n",
       "  <tbody>\n",
       "    <tr>\n",
       "      <th>0</th>\n",
       "      <td>17666.253906</td>\n",
       "      <td>1000004</td>\n",
       "      <td>P00128942</td>\n",
       "    </tr>\n",
       "    <tr>\n",
       "      <th>1</th>\n",
       "      <td>11848.456055</td>\n",
       "      <td>1000009</td>\n",
       "      <td>P00113442</td>\n",
       "    </tr>\n",
       "    <tr>\n",
       "      <th>2</th>\n",
       "      <td>6537.612305</td>\n",
       "      <td>1000010</td>\n",
       "      <td>P00288442</td>\n",
       "    </tr>\n",
       "    <tr>\n",
       "      <th>3</th>\n",
       "      <td>2461.830811</td>\n",
       "      <td>1000010</td>\n",
       "      <td>P00145342</td>\n",
       "    </tr>\n",
       "    <tr>\n",
       "      <th>4</th>\n",
       "      <td>2480.418945</td>\n",
       "      <td>1000011</td>\n",
       "      <td>P00053842</td>\n",
       "    </tr>\n",
       "  </tbody>\n",
       "</table>\n",
       "</div>"
      ],
      "text/plain": [
       "       Purchase  User_ID Product_ID\n",
       "0  17666.253906  1000004  P00128942\n",
       "1  11848.456055  1000009  P00113442\n",
       "2   6537.612305  1000010  P00288442\n",
       "3   2461.830811  1000010  P00145342\n",
       "4   2480.418945  1000011  P00053842"
      ]
     },
     "execution_count": 150,
     "metadata": {},
     "output_type": "execute_result"
    }
   ],
   "source": [
    "prediction_df = pd.DataFrame({\n",
    "    'Purchase': test_prediction,\n",
    "    'User_ID': test['User_ID'],\n",
    "    'Product_ID': test['Product_ID']\n",
    "})\n",
    "prediction_df.head()"
   ]
  },
  {
   "cell_type": "code",
   "execution_count": 151,
   "id": "1160a658",
   "metadata": {},
   "outputs": [],
   "source": [
    "prediction_df.to_csv('4.csv')"
   ]
  },
  {
   "cell_type": "code",
   "execution_count": 155,
   "id": "71d70cb6",
   "metadata": {},
   "outputs": [
    {
     "data": {
      "text/html": [
       "<div>\n",
       "<style scoped>\n",
       "    .dataframe tbody tr th:only-of-type {\n",
       "        vertical-align: middle;\n",
       "    }\n",
       "\n",
       "    .dataframe tbody tr th {\n",
       "        vertical-align: top;\n",
       "    }\n",
       "\n",
       "    .dataframe thead th {\n",
       "        text-align: right;\n",
       "    }\n",
       "</style>\n",
       "<table border=\"1\" class=\"dataframe\">\n",
       "  <thead>\n",
       "    <tr style=\"text-align: right;\">\n",
       "      <th></th>\n",
       "      <th>features</th>\n",
       "      <th>feature importance</th>\n",
       "    </tr>\n",
       "  </thead>\n",
       "  <tbody>\n",
       "    <tr>\n",
       "      <th>6</th>\n",
       "      <td>Median_Product_Purchase</td>\n",
       "      <td>0.705678</td>\n",
       "    </tr>\n",
       "    <tr>\n",
       "      <th>7</th>\n",
       "      <td>Median_User_Purchase</td>\n",
       "      <td>0.027613</td>\n",
       "    </tr>\n",
       "    <tr>\n",
       "      <th>39</th>\n",
       "      <td>Product_Category_1_8</td>\n",
       "      <td>0.021570</td>\n",
       "    </tr>\n",
       "    <tr>\n",
       "      <th>31</th>\n",
       "      <td>City_Category_C</td>\n",
       "      <td>0.011810</td>\n",
       "    </tr>\n",
       "    <tr>\n",
       "      <th>0</th>\n",
       "      <td>Gender</td>\n",
       "      <td>0.011401</td>\n",
       "    </tr>\n",
       "    <tr>\n",
       "      <th>14</th>\n",
       "      <td>Occupation_6</td>\n",
       "      <td>0.009228</td>\n",
       "    </tr>\n",
       "    <tr>\n",
       "      <th>32</th>\n",
       "      <td>Product_Category_1_1</td>\n",
       "      <td>0.009188</td>\n",
       "    </tr>\n",
       "    <tr>\n",
       "      <th>34</th>\n",
       "      <td>Product_Category_1_3</td>\n",
       "      <td>0.008426</td>\n",
       "    </tr>\n",
       "    <tr>\n",
       "      <th>18</th>\n",
       "      <td>Occupation_10</td>\n",
       "      <td>0.007632</td>\n",
       "    </tr>\n",
       "    <tr>\n",
       "      <th>20</th>\n",
       "      <td>Occupation_12</td>\n",
       "      <td>0.007134</td>\n",
       "    </tr>\n",
       "  </tbody>\n",
       "</table>\n",
       "</div>"
      ],
      "text/plain": [
       "                   features  feature importance\n",
       "6   Median_Product_Purchase            0.705678\n",
       "7      Median_User_Purchase            0.027613\n",
       "39     Product_Category_1_8            0.021570\n",
       "31          City_Category_C            0.011810\n",
       "0                    Gender            0.011401\n",
       "14             Occupation_6            0.009228\n",
       "32     Product_Category_1_1            0.009188\n",
       "34     Product_Category_1_3            0.008426\n",
       "18            Occupation_10            0.007632\n",
       "20            Occupation_12            0.007134"
      ]
     },
     "execution_count": 155,
     "metadata": {},
     "output_type": "execute_result"
    }
   ],
   "source": [
    "# Feature Importance\n",
    "(pd.DataFrame({\"features\": X.columns, \"feature importance\":model.feature_importances_})).\\\n",
    "    sort_values(\"feature importance\", ascending=False).head(10)"
   ]
  },
  {
   "cell_type": "code",
   "execution_count": 159,
   "id": "335acc73",
   "metadata": {},
   "outputs": [
    {
     "data": {
      "text/html": [
       "<div>\n",
       "<style scoped>\n",
       "    .dataframe tbody tr th:only-of-type {\n",
       "        vertical-align: middle;\n",
       "    }\n",
       "\n",
       "    .dataframe tbody tr th {\n",
       "        vertical-align: top;\n",
       "    }\n",
       "\n",
       "    .dataframe thead th {\n",
       "        text-align: right;\n",
       "    }\n",
       "</style>\n",
       "<table border=\"1\" class=\"dataframe\">\n",
       "  <thead>\n",
       "    <tr style=\"text-align: right;\">\n",
       "      <th></th>\n",
       "      <th>User_ID</th>\n",
       "      <th>Product_ID</th>\n",
       "      <th>Gender</th>\n",
       "      <th>Age</th>\n",
       "      <th>Occupation</th>\n",
       "      <th>City_Category</th>\n",
       "      <th>Stay_In_Current_City_Years</th>\n",
       "      <th>Marital_Status</th>\n",
       "      <th>Product_Category_1</th>\n",
       "      <th>Product_Category_2</th>\n",
       "      <th>Product_Category_3</th>\n",
       "      <th>Purchase</th>\n",
       "      <th>Median_Product_Purchase</th>\n",
       "      <th>Median_User_Purchase</th>\n",
       "      <th>has_cat_3</th>\n",
       "      <th>has_cat_2</th>\n",
       "    </tr>\n",
       "  </thead>\n",
       "  <tbody>\n",
       "    <tr>\n",
       "      <th>25152</th>\n",
       "      <td>1003864</td>\n",
       "      <td>P00159442</td>\n",
       "      <td>M</td>\n",
       "      <td>51-55</td>\n",
       "      <td>20</td>\n",
       "      <td>C</td>\n",
       "      <td>0</td>\n",
       "      <td>1</td>\n",
       "      <td>5</td>\n",
       "      <td>8.0</td>\n",
       "      <td>NaN</td>\n",
       "      <td>7027</td>\n",
       "      <td>6870.0</td>\n",
       "      <td>9889.5</td>\n",
       "      <td>True</td>\n",
       "      <td>False</td>\n",
       "    </tr>\n",
       "    <tr>\n",
       "      <th>381800</th>\n",
       "      <td>1004725</td>\n",
       "      <td>P00071242</td>\n",
       "      <td>M</td>\n",
       "      <td>36-45</td>\n",
       "      <td>5</td>\n",
       "      <td>A</td>\n",
       "      <td>2</td>\n",
       "      <td>0</td>\n",
       "      <td>1</td>\n",
       "      <td>15.0</td>\n",
       "      <td>16.0</td>\n",
       "      <td>11563</td>\n",
       "      <td>11764.0</td>\n",
       "      <td>8068.0</td>\n",
       "      <td>False</td>\n",
       "      <td>False</td>\n",
       "    </tr>\n",
       "    <tr>\n",
       "      <th>433582</th>\n",
       "      <td>1000774</td>\n",
       "      <td>P00127442</td>\n",
       "      <td>M</td>\n",
       "      <td>18-25</td>\n",
       "      <td>4</td>\n",
       "      <td>A</td>\n",
       "      <td>4+</td>\n",
       "      <td>0</td>\n",
       "      <td>1</td>\n",
       "      <td>2.0</td>\n",
       "      <td>15.0</td>\n",
       "      <td>11466</td>\n",
       "      <td>15201.0</td>\n",
       "      <td>8039.0</td>\n",
       "      <td>False</td>\n",
       "      <td>False</td>\n",
       "    </tr>\n",
       "    <tr>\n",
       "      <th>126732</th>\n",
       "      <td>1001542</td>\n",
       "      <td>P00005942</td>\n",
       "      <td>M</td>\n",
       "      <td>18-25</td>\n",
       "      <td>17</td>\n",
       "      <td>C</td>\n",
       "      <td>4+</td>\n",
       "      <td>0</td>\n",
       "      <td>2</td>\n",
       "      <td>4.0</td>\n",
       "      <td>9.0</td>\n",
       "      <td>6616</td>\n",
       "      <td>9974.0</td>\n",
       "      <td>11374.0</td>\n",
       "      <td>False</td>\n",
       "      <td>False</td>\n",
       "    </tr>\n",
       "    <tr>\n",
       "      <th>455644</th>\n",
       "      <td>1004112</td>\n",
       "      <td>P00152742</td>\n",
       "      <td>M</td>\n",
       "      <td>46-50</td>\n",
       "      <td>18</td>\n",
       "      <td>B</td>\n",
       "      <td>3</td>\n",
       "      <td>1</td>\n",
       "      <td>5</td>\n",
       "      <td>NaN</td>\n",
       "      <td>NaN</td>\n",
       "      <td>7171</td>\n",
       "      <td>6995.5</td>\n",
       "      <td>8653.0</td>\n",
       "      <td>True</td>\n",
       "      <td>True</td>\n",
       "    </tr>\n",
       "    <tr>\n",
       "      <th>...</th>\n",
       "      <td>...</td>\n",
       "      <td>...</td>\n",
       "      <td>...</td>\n",
       "      <td>...</td>\n",
       "      <td>...</td>\n",
       "      <td>...</td>\n",
       "      <td>...</td>\n",
       "      <td>...</td>\n",
       "      <td>...</td>\n",
       "      <td>...</td>\n",
       "      <td>...</td>\n",
       "      <td>...</td>\n",
       "      <td>...</td>\n",
       "      <td>...</td>\n",
       "      <td>...</td>\n",
       "      <td>...</td>\n",
       "    </tr>\n",
       "    <tr>\n",
       "      <th>378753</th>\n",
       "      <td>1004277</td>\n",
       "      <td>P00050242</td>\n",
       "      <td>M</td>\n",
       "      <td>36-45</td>\n",
       "      <td>16</td>\n",
       "      <td>A</td>\n",
       "      <td>0</td>\n",
       "      <td>0</td>\n",
       "      <td>8</td>\n",
       "      <td>NaN</td>\n",
       "      <td>NaN</td>\n",
       "      <td>8085</td>\n",
       "      <td>7979.5</td>\n",
       "      <td>9747.0</td>\n",
       "      <td>True</td>\n",
       "      <td>True</td>\n",
       "    </tr>\n",
       "    <tr>\n",
       "      <th>87268</th>\n",
       "      <td>1001451</td>\n",
       "      <td>P00127842</td>\n",
       "      <td>M</td>\n",
       "      <td>36-45</td>\n",
       "      <td>20</td>\n",
       "      <td>B</td>\n",
       "      <td>0</td>\n",
       "      <td>0</td>\n",
       "      <td>1</td>\n",
       "      <td>2.0</td>\n",
       "      <td>15.0</td>\n",
       "      <td>19699</td>\n",
       "      <td>15399.0</td>\n",
       "      <td>8731.0</td>\n",
       "      <td>False</td>\n",
       "      <td>False</td>\n",
       "    </tr>\n",
       "    <tr>\n",
       "      <th>517432</th>\n",
       "      <td>1001680</td>\n",
       "      <td>P00165642</td>\n",
       "      <td>M</td>\n",
       "      <td>26-35</td>\n",
       "      <td>20</td>\n",
       "      <td>A</td>\n",
       "      <td>3</td>\n",
       "      <td>1</td>\n",
       "      <td>1</td>\n",
       "      <td>8.0</td>\n",
       "      <td>16.0</td>\n",
       "      <td>15444</td>\n",
       "      <td>11803.0</td>\n",
       "      <td>7617.5</td>\n",
       "      <td>False</td>\n",
       "      <td>False</td>\n",
       "    </tr>\n",
       "    <tr>\n",
       "      <th>549327</th>\n",
       "      <td>1004966</td>\n",
       "      <td>P00375436</td>\n",
       "      <td>M</td>\n",
       "      <td>51-55</td>\n",
       "      <td>14</td>\n",
       "      <td>B</td>\n",
       "      <td>1</td>\n",
       "      <td>1</td>\n",
       "      <td>20</td>\n",
       "      <td>NaN</td>\n",
       "      <td>NaN</td>\n",
       "      <td>373</td>\n",
       "      <td>373.0</td>\n",
       "      <td>15501.0</td>\n",
       "      <td>True</td>\n",
       "      <td>True</td>\n",
       "    </tr>\n",
       "    <tr>\n",
       "      <th>404369</th>\n",
       "      <td>1002153</td>\n",
       "      <td>P00161542</td>\n",
       "      <td>M</td>\n",
       "      <td>18-25</td>\n",
       "      <td>16</td>\n",
       "      <td>B</td>\n",
       "      <td>3</td>\n",
       "      <td>0</td>\n",
       "      <td>2</td>\n",
       "      <td>15.0</td>\n",
       "      <td>16.0</td>\n",
       "      <td>12758</td>\n",
       "      <td>9690.0</td>\n",
       "      <td>8754.0</td>\n",
       "      <td>False</td>\n",
       "      <td>False</td>\n",
       "    </tr>\n",
       "  </tbody>\n",
       "</table>\n",
       "<p>412551 rows × 16 columns</p>\n",
       "</div>"
      ],
      "text/plain": [
       "        User_ID Product_ID Gender    Age  Occupation City_Category  \\\n",
       "25152   1003864  P00159442      M  51-55          20             C   \n",
       "381800  1004725  P00071242      M  36-45           5             A   \n",
       "433582  1000774  P00127442      M  18-25           4             A   \n",
       "126732  1001542  P00005942      M  18-25          17             C   \n",
       "455644  1004112  P00152742      M  46-50          18             B   \n",
       "...         ...        ...    ...    ...         ...           ...   \n",
       "378753  1004277  P00050242      M  36-45          16             A   \n",
       "87268   1001451  P00127842      M  36-45          20             B   \n",
       "517432  1001680  P00165642      M  26-35          20             A   \n",
       "549327  1004966  P00375436      M  51-55          14             B   \n",
       "404369  1002153  P00161542      M  18-25          16             B   \n",
       "\n",
       "       Stay_In_Current_City_Years  Marital_Status  Product_Category_1  \\\n",
       "25152                           0               1                   5   \n",
       "381800                          2               0                   1   \n",
       "433582                         4+               0                   1   \n",
       "126732                         4+               0                   2   \n",
       "455644                          3               1                   5   \n",
       "...                           ...             ...                 ...   \n",
       "378753                          0               0                   8   \n",
       "87268                           0               0                   1   \n",
       "517432                          3               1                   1   \n",
       "549327                          1               1                  20   \n",
       "404369                          3               0                   2   \n",
       "\n",
       "        Product_Category_2  Product_Category_3  Purchase  \\\n",
       "25152                  8.0                 NaN      7027   \n",
       "381800                15.0                16.0     11563   \n",
       "433582                 2.0                15.0     11466   \n",
       "126732                 4.0                 9.0      6616   \n",
       "455644                 NaN                 NaN      7171   \n",
       "...                    ...                 ...       ...   \n",
       "378753                 NaN                 NaN      8085   \n",
       "87268                  2.0                15.0     19699   \n",
       "517432                 8.0                16.0     15444   \n",
       "549327                 NaN                 NaN       373   \n",
       "404369                15.0                16.0     12758   \n",
       "\n",
       "        Median_Product_Purchase  Median_User_Purchase  has_cat_3  has_cat_2  \n",
       "25152                    6870.0                9889.5       True      False  \n",
       "381800                  11764.0                8068.0      False      False  \n",
       "433582                  15201.0                8039.0      False      False  \n",
       "126732                   9974.0               11374.0      False      False  \n",
       "455644                   6995.5                8653.0       True       True  \n",
       "...                         ...                   ...        ...        ...  \n",
       "378753                   7979.5                9747.0       True       True  \n",
       "87268                   15399.0                8731.0      False      False  \n",
       "517432                  11803.0                7617.5      False      False  \n",
       "549327                    373.0               15501.0       True       True  \n",
       "404369                   9690.0                8754.0      False      False  \n",
       "\n",
       "[412551 rows x 16 columns]"
      ]
     },
     "execution_count": 159,
     "metadata": {},
     "output_type": "execute_result"
    }
   ],
   "source": [
    "data"
   ]
  },
  {
   "cell_type": "code",
   "execution_count": null,
   "id": "fa5d6771",
   "metadata": {},
   "outputs": [],
   "source": []
  }
 ],
 "metadata": {
  "kernelspec": {
   "display_name": "Python 3",
   "language": "python",
   "name": "python3"
  },
  "language_info": {
   "codemirror_mode": {
    "name": "ipython",
    "version": 3
   },
   "file_extension": ".py",
   "mimetype": "text/x-python",
   "name": "python",
   "nbconvert_exporter": "python",
   "pygments_lexer": "ipython3",
   "version": "3.9.5"
  }
 },
 "nbformat": 4,
 "nbformat_minor": 5
}
